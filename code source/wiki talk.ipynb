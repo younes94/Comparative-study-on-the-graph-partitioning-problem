{
 "cells": [
  {
   "cell_type": "code",
   "execution_count": 1,
   "metadata": {
    "collapsed": true
   },
   "outputs": [],
   "source": [
    "# Constants for you to change\n",
    "import os\n",
    "\n",
    "DATA_DIRECTORY = '/home/younes'\n",
    "LIVEJOURNAL_FILENAME = os.path.join(DATA_DIRECTORY, 'wiki-Talk.txt.gz')\n",
    "LIVEJOURNAL_URL = 'http://snap.stanford.edu/data/wiki-Talk.txt.gz'\n",
    "\n",
    "# Just have these hardcoded, though we don't really need to\n",
    "NUM_EDGES = 5021410\n",
    "NUM_NODES = 2394385"
   ]
  },
  {
   "cell_type": "code",
   "execution_count": 2,
   "metadata": {},
   "outputs": [
    {
     "name": "stdout",
     "output_type": "stream",
     "text": [
      "DOWNLOADING 250M FILE. WILL SAVE FOR FUTURE USE\n",
      "\n",
      "FILE STATS:\n",
      "-rw-rw-r-- 1 younes younes 17M ماي 19 04:05 /home/younes/wiki-Talk.txt.gz\n",
      "\n",
      "STARTING LINES\n",
      "# Directed graph (each unordered pair of nodes is saved once): WikiTalk.txt \n",
      "# Communication network of Wikipedia (till January 2008). Directed edge A->B means user A edited talk page of B.\n",
      "# Nodes: 2394385 Edges: 5021410\n",
      "# FromNodeId\tToNodeId\n",
      "0\t1\n",
      "2\t1\n",
      "2\t21\n",
      "2\t46\n",
      "2\t63\n",
      "2\t88\n",
      "2\t93\n",
      "2\t94\n",
      "2\t101\n",
      "2\t102\n",
      "2\t103\n",
      "2\t116\n",
      "2\t119\n",
      "2\t125\n",
      "2\t130\n",
      "2\t142\n",
      "2\t146\n",
      "2\t150\n",
      "2\t155\n",
      "2\t156\n",
      "2\t165\n",
      "2\t168\n",
      "2\t212\n",
      "2\t288\n",
      "2\t308\n",
      "2\t313\n",
      "\n",
      "gzip: stdout: Broken pipe\n"
     ]
    }
   ],
   "source": [
    "# Downloading the file\n",
    "\n",
    "import urllib.request\n",
    "\n",
    "assert os.path.exists(DATA_DIRECTORY)\n",
    "\n",
    "# Get your data. This file is ~250M so it will take a bit\n",
    "print('DOWNLOADING 250M FILE. WILL SAVE FOR FUTURE USE')\n",
    "if not os.path.exists(LIVEJOURNAL_FILENAME):\n",
    "    urllib.request.urlretrieve(LIVEJOURNAL_URL, LIVEJOURNAL_FILENAME)\n",
    "\n",
    "# Show a little bit of the file\n",
    "print('\\nFILE STATS:')\n",
    "!ls -lh $LIVEJOURNAL_FILENAME\n",
    "print('\\nSTARTING LINES')\n",
    "!zcat $LIVEJOURNAL_FILENAME | head -n 30"
   ]
  },
  {
   "cell_type": "code",
   "execution_count": 3,
   "metadata": {
    "collapsed": true
   },
   "outputs": [],
   "source": [
    "# Cleaning the data\n",
    "\n",
    "import numpy as np\n",
    "import gzip\n",
    "\n",
    "def row_generator():\n",
    "    \"\"\"This will generate all the edges in the graph.\"\"\"\n",
    "    with gzip.open(LIVEJOURNAL_FILENAME, 'rt') as f:\n",
    "        for line in f:\n",
    "            if line.startswith('#'):\n",
    "                continue\n",
    "            else:\n",
    "                (left_node, right_node) = line.split('\\t')\n",
    "                yield(int(left_node), int(right_node))\n",
    "\n",
    "def to_undirected(edge_iterable, num_edges, num_nodes, shuffle=True):\n",
    "    \"\"\"Takes an iterable of edges and produces the list of edges for the undirected graph.\n",
    "    \n",
    "    > to_undirected([[0,1],[1,2],[2,10]], 3, 11)\n",
    "    array([[ 0,  1],\n",
    "       [ 1,  0],\n",
    "       [ 1,  2],\n",
    "       [ 2,  1],\n",
    "       [ 2, 10],\n",
    "       [10,  2]])\n",
    "    \"\"\"\n",
    "    # need int64 to do gross bithacks\n",
    "    as_array = np.zeros((num_edges, 2), dtype=np.int64)\n",
    "    for (i, (n_0, n_1)) in enumerate(edge_iterable):\n",
    "            as_array[i,0] = n_0\n",
    "            as_array[i,1] = n_1\n",
    "    # The graph is directed, but we want to make it undirected,\n",
    "    # which means we will duplicate some rows.\n",
    "\n",
    "    left_nodes = as_array[:,0]\n",
    "    right_nodes = as_array[:,1]\n",
    "    \n",
    "    if shuffle:\n",
    "        the_shuffle = np.arange(num_nodes)\n",
    "        np.random.shuffle(the_shuffle)\n",
    "        left_nodes = the_shuffle.take(left_nodes)\n",
    "        right_nodes = the_shuffle.take(right_nodes)\n",
    "\n",
    "    \n",
    "    # numpy.unique will not unique whole rows, so this little bit-hacking\n",
    "    # is a quick way to get unique rows after making a flipped copy of\n",
    "    # each edge.\n",
    "    max_bits = int(np.ceil(np.log2(num_nodes + 1)))\n",
    "    \n",
    "    encoded_edges_forward = np.left_shift(left_nodes, max_bits) | right_nodes\n",
    "    \n",
    "    # Flip the columns and do it again:\n",
    "    encoded_edges_reverse = np.left_shift(right_nodes, max_bits) | left_nodes\n",
    "\n",
    "    unique_encoded_edges = np.unique(np.hstack((encoded_edges_forward, encoded_edges_reverse)))\n",
    "    \n",
    "    left_node_decoded = np.right_shift(unique_encoded_edges, max_bits)\n",
    "    \n",
    "    # Mask out the high order bits\n",
    "    right_node_decoded = (2 ** (max_bits) - 1) & unique_encoded_edges\n",
    "    \n",
    "    undirected_edges = np.vstack((left_node_decoded, right_node_decoded)).T.astype(np.int32)\n",
    "\n",
    "    # ascontiguousarray so that it's c-contiguous for cython code below\n",
    "    return np.ascontiguousarray(undirected_edges)\n",
    "\n",
    "\n",
    "def get_clean_data(shuffle=True):\n",
    "    if shuffle:\n",
    "        name = os.path.join(DATA_DIRECTORY, 'LJ-talk.npy')\n",
    "    else:\n",
    "        name = os.path.join(DATA_DIRECTORY, 'LJ-talked.npy')\n",
    "\n",
    "    if os.path.exists(name):\n",
    "        print('Loading from file {}'.format(name))\n",
    "        return np.load(name)\n",
    "    else:\n",
    "        print('Parsing from zip. Will write to file {}'.format(name), flush=True)\n",
    "        # Lets get the edges into one big array\n",
    "        edges = to_undirected(row_generator(), NUM_EDGES, NUM_NODES, shuffle=shuffle)\n",
    "        print('ORIGINAL DIST: {} MIN: {} MAX: {}'.format(np.abs(edges[:,0] - edges[:,1]).mean(), edges.min(), edges.max()))\n",
    "        np.save(name, edges)\n",
    "        return edges"
   ]
  },
  {
   "cell_type": "code",
   "execution_count": 4,
   "metadata": {},
   "outputs": [
    {
     "name": "stdout",
     "output_type": "stream",
     "text": [
      "Normalizing data (or loaded pre-computed)\n",
      "Loading from file /home/younes/LJ-talk.npy\n",
      "CPU times: user 12.5 ms, sys: 43.5 ms, total: 56 ms\n",
      "Wall time: 1.35 s\n",
      "Loading from file /home/younes/LJ-talked.npy\n",
      "CPU times: user 5.7 ms, sys: 66.3 ms, total: 72 ms\n",
      "Wall time: 1.19 s\n",
      "\n",
      "EDGES SHAPE: (9319130, 2)\n"
     ]
    }
   ],
   "source": [
    "print(\"Normalizing data (or loaded pre-computed)\")\n",
    "%time edges = get_clean_data(shuffle=True)\n",
    "%time unshuffled_edges = get_clean_data(shuffle=False)\n",
    "print('\\nEDGES SHAPE: {}'.format(edges.shape))"
   ]
  },
  {
   "cell_type": "code",
   "execution_count": 5,
   "metadata": {
    "collapsed": true
   },
   "outputs": [],
   "source": [
    "def score(assignment, edges):\n",
    "    \"\"\"Compute the score given an assignment of vertices.\n",
    "    \n",
    "    N nodes are assigned to clusters 0 to K-1.\n",
    "    \n",
    "    assignment: Vector where N[i] is the cluster node i is assigned to.\n",
    "    edges: The edges in the graph, assumed to have one in each direction\n",
    "    \n",
    "    Returns: (total wasted bin space, ratio of edges cut)\n",
    "    \"\"\"\n",
    "    balance = np.bincount(assignment) / len(assignment)\n",
    "    waste = (np.max(balance) - balance).sum()\n",
    "    \n",
    "    left_edge_assignment = assignment.take(edges[:,0])\n",
    "    right_edge_assignment = assignment.take(edges[:,1])\n",
    "    mismatch = (left_edge_assignment != right_edge_assignment).sum()\n",
    "    cut_ratio = mismatch / len(edges)\n",
    "    return (waste, cut_ratio)"
   ]
  },
  {
   "cell_type": "code",
   "execution_count": 6,
   "metadata": {},
   "outputs": [
    {
     "name": "stdout",
     "output_type": "stream",
     "text": [
      "Populating the interactive namespace from numpy and matplotlib\n"
     ]
    }
   ],
   "source": [
    "%load_ext cython\n",
    "%pylab inline"
   ]
  },
  {
   "cell_type": "code",
   "execution_count": 7,
   "metadata": {
    "collapsed": true
   },
   "outputs": [],
   "source": [
    "%%cython\n",
    "import numpy as np\n",
    "cimport cython\n",
    "\n",
    "cdef int UNMAPPED = -1\n",
    "\n",
    "def linear_deterministic_greedy(int[:,::] edges,\n",
    "                                int num_nodes,\n",
    "                                int num_partitions,\n",
    "                                int[::] partition):\n",
    "    \"\"\"\n",
    "    This algorithm favors a cluster if it has many neighbors of a node, but\n",
    "    penalizes the cluster if it is close to capacity.\n",
    "    \n",
    "    edges: An [:,2] array of edges.\n",
    "    num_nodes: The number of nodes in the graph.\n",
    "    num_partitions: How many partitions we are breaking the graph into.\n",
    "    partition: The partition from a previous run. Used for restreaming.\n",
    "\n",
    "    Returns: A new partition.\n",
    "    \"\"\"\n",
    "    # The output partition\n",
    "\n",
    "    if partition is None:\n",
    "        partition = np.repeat(np.int32(UNMAPPED), num_nodes)\n",
    "\n",
    "    cdef int[::] partition_sizes = np.zeros(num_partitions, dtype=np.int32)\n",
    "         \n",
    "    cdef int[::] partition_votes = np.zeros(num_partitions, dtype=np.int32)\n",
    "    \n",
    "    # Fine to be a little off, to stay integers\n",
    "    cdef int partition_capacity = num_nodes / num_partitions\n",
    "    \n",
    "    cdef int last_left = edges[0,0]\n",
    "    cdef int i = 0\n",
    "    cdef int left = 0\n",
    "    cdef int right = 0\n",
    "    cdef int arg = 0\n",
    "    cdef int max_arg = 0\n",
    "    cdef int max_val = 0\n",
    "    cdef int val = 0\n",
    "    cdef int len_edges = len(edges)\n",
    "    \n",
    "    for i in range(len_edges):\n",
    "        left = edges[i,0]\n",
    "        right = edges[i,1]\n",
    "    \n",
    "        if last_left != left:\n",
    "            # We have found a new node so assign last_left to a partition\n",
    "                \n",
    "            max_arg = 0\n",
    "            max_val = (partition_votes[0]) * (\n",
    "                       partition_capacity - partition_sizes[0])\n",
    "\n",
    "            for arg in range(1, num_partitions):\n",
    "                val = (partition_votes[arg]) * (\n",
    "                       partition_capacity - partition_sizes[arg])\n",
    "                if val > max_val:\n",
    "                    max_arg = arg\n",
    "                    max_val = val\n",
    "\n",
    "            if max_val == 0:\n",
    "                max_arg = arg\n",
    "                # No neighbors (or multiple maxed out) so \"randomly\" select\n",
    "                # the smallest partition\n",
    "                for arg in range(i % num_partitions, num_partitions):\n",
    "                    if partition_sizes[arg] < partition_capacity:\n",
    "                        max_arg = arg\n",
    "                        max_val = 1\n",
    "                        break\n",
    "                if max_val == 0:\n",
    "                    for arg in range(0, i % num_partitions):\n",
    "                        if partition_sizes[arg] < partition_capacity:\n",
    "                            max_arg = arg\n",
    "                            break\n",
    "\n",
    "\n",
    "            partition_sizes[max_arg] += 1\n",
    "            partition[last_left] = max_arg\n",
    "            partition_votes[:] = 0\n",
    "            last_left = left\n",
    "\n",
    "        if partition[right] != UNMAPPED:\n",
    "            partition_votes[partition[right]] += 1\n",
    "\n",
    "\n",
    "    # Clean up the last assignment\n",
    "    max_arg = 0\n",
    "    max_val = 0\n",
    "    for arg in range(0, num_partitions):\n",
    "        if partition_sizes[arg] < partition_capacity:\n",
    "            val = (partition_votes[arg]) * (\n",
    "                    1 - partition_sizes[arg] / partition_capacity)\n",
    "            if val > max_val:\n",
    "                max_arg = arg\n",
    "                max_val = val\n",
    "    partition[left] = max_arg\n",
    "\n",
    "    return np.asarray(partition)"
   ]
  },
  {
   "cell_type": "code",
   "execution_count": 8,
   "metadata": {},
   "outputs": [
    {
     "name": "stdout",
     "output_type": "stream",
     "text": [
      "CPU times: user 270 ms, sys: 3.92 ms, total: 274 ms\n",
      "Wall time: 273 ms\n",
      "edge score:0.40313054974015816 waste: 4.17643779115906e-07\n"
     ]
    }
   ],
   "source": [
    "assignments = None\n",
    "%time partition = linear_deterministic_greedy(edges, NUM_NODES, 2, assignments)\n",
    "(waste, edge_score) = score(partition, edges)\n",
    "print(\"edge score:\"+str(edge_score)+\" waste: \"+str(waste))"
   ]
  },
  {
   "cell_type": "code",
   "execution_count": 9,
   "metadata": {},
   "outputs": [
    {
     "name": "stdout",
     "output_type": "stream",
     "text": [
      "CPU times: user 314 ms, sys: 778 µs, total: 315 ms\n",
      "Wall time: 313 ms\n",
      "edge score:0.5923454228023431 waste: 1.252931337347718e-06\n"
     ]
    }
   ],
   "source": [
    "assignments = None\n",
    "%time partition = linear_deterministic_greedy(edges, NUM_NODES, 4, assignments)\n",
    "(waste, edge_score) = score(partition, edges)\n",
    "print(\"edge score:\"+str(edge_score)+\" waste: \"+str(waste))"
   ]
  },
  {
   "cell_type": "code",
   "execution_count": 10,
   "metadata": {},
   "outputs": [
    {
     "name": "stdout",
     "output_type": "stream",
     "text": [
      "CPU times: user 332 ms, sys: 81 µs, total: 332 ms\n",
      "Wall time: 330 ms\n",
      "edge score:0.697712340100417 waste: 2.923506453617053e-06\n"
     ]
    }
   ],
   "source": [
    "assignments = None\n",
    "%time partition = linear_deterministic_greedy(edges, NUM_NODES, 8, assignments)\n",
    "(waste, edge_score) = score(partition, edges)\n",
    "print(\"edge score:\"+str(edge_score)+\" waste: \"+str(waste))"
   ]
  },
  {
   "cell_type": "code",
   "execution_count": 11,
   "metadata": {},
   "outputs": [
    {
     "name": "stdout",
     "output_type": "stream",
     "text": [
      "CPU times: user 372 ms, sys: 0 ns, total: 372 ms\n",
      "Wall time: 370 ms\n",
      "edge score:0.7368808032509473 waste: 6.264656686322256e-06\n"
     ]
    }
   ],
   "source": [
    "assignments = None\n",
    "%time partition = linear_deterministic_greedy(edges, NUM_NODES, 16, assignments)\n",
    "(waste, edge_score) = score(partition, edges)\n",
    "print(\"edge score:\"+str(edge_score)+\" waste: \"+str(waste))"
   ]
  },
  {
   "cell_type": "code",
   "execution_count": 12,
   "metadata": {},
   "outputs": [
    {
     "name": "stdout",
     "output_type": "stream",
     "text": [
      "CPU times: user 461 ms, sys: 78 µs, total: 461 ms\n",
      "Wall time: 459 ms\n",
      "edge score:0.7641339910485206 waste: 0.0002067336706503553\n"
     ]
    }
   ],
   "source": [
    "assignments = None\n",
    "%time partition = linear_deterministic_greedy(edges, NUM_NODES, 32, assignments)\n",
    "(waste, edge_score) = score(partition, edges)\n",
    "print(\"edge score:\"+str(edge_score)+\" waste: \"+str(waste))"
   ]
  },
  {
   "cell_type": "code",
   "execution_count": 13,
   "metadata": {},
   "outputs": [
    {
     "name": "stdout",
     "output_type": "stream",
     "text": [
      "CPU times: user 515 ms, sys: 313 µs, total: 515 ms\n",
      "Wall time: 513 ms\n",
      "edge score:0.7751343741314908 waste: 0.00039049693345052927\n"
     ]
    }
   ],
   "source": [
    "assignments = None\n",
    "%time partition = linear_deterministic_greedy(edges, NUM_NODES, 40, assignments)\n",
    "(waste, edge_score) = score(partition, edges)\n",
    "print(\"edge score:\"+str(edge_score)+\" waste: \"+str(waste))"
   ]
  },
  {
   "cell_type": "code",
   "execution_count": 14,
   "metadata": {
    "collapsed": true
   },
   "outputs": [],
   "source": [
    "def draw_figures(waste_values, edge_score_values, num_partitions):\n",
    "    fig, axes = plt.subplots(nrows=1, ncols=2)\n",
    "    \n",
    "    (waste_axes, score_axes) = axes\n",
    "    waste_axes.plot(waste_values, 'r')\n",
    "    waste_axes.set_xlabel('Round')\n",
    "    waste_axes.set_ylabel('Number of wasted bins')\n",
    "    waste_axes.set_ylim(bottom=0)\n",
    "    waste_axes.set_title('Wasted Bins: {} partitions'.format(num_partitions))\n",
    "    \n",
    "    score_axes.plot(edge_score_values, 'r')\n",
    "    score_axes.set_xlabel('Round')\n",
    "    score_axes.set_ylabel('Edge cut')\n",
    "    score_axes.set_ylim(bottom=0)\n",
    "    score_axes.set_title('Score: {} partitions'.format(num_partitions))\n",
    "    \n",
    "    fig.tight_layout()"
   ]
  },
  {
   "cell_type": "code",
   "execution_count": 15,
   "metadata": {
    "collapsed": true
   },
   "outputs": [],
   "source": [
    "def run_restreaming_greedy(edges, num_nodes, num_partitions=10, num_iterations=10):\n",
    "    print('\\n{} PARTITIONS'.format(num_partitions))\n",
    "    assignments = None\n",
    "    print('ROUND\\tWASTE\\tSCORE')\n",
    "    waste_values = []\n",
    "    edge_score_values = []\n",
    "    flipped_edges = numpy.flipud(edges).copy()\n",
    "    for i in range(num_iterations):\n",
    "        assignments = linear_deterministic_greedy(edges, NUM_NODES, num_partitions, assignments)\n",
    "        (waste, edge_score) = score(assignments, edges)\n",
    "        waste_values.append(waste)\n",
    "        edge_score_values.append(edge_score)\n",
    "        print('{}\\t{:0.3f}\\t{:0.3f}'.format(i, waste, edge_score))\n",
    "    draw_figures(waste_values, edge_score_values, num_partitions)"
   ]
  },
  {
   "cell_type": "code",
   "execution_count": 16,
   "metadata": {},
   "outputs": [
    {
     "name": "stdout",
     "output_type": "stream",
     "text": [
      "\n",
      "2 PARTITIONS\n",
      "ROUND\tWASTE\tSCORE\n",
      "0\t0.000\t0.403\n",
      "1\t0.000\t0.274\n",
      "2\t0.000\t0.271\n",
      "3\t0.000\t0.216\n",
      "4\t0.000\t0.234\n",
      "5\t0.000\t0.222\n",
      "6\t0.000\t0.226\n",
      "7\t0.000\t0.223\n",
      "8\t0.000\t0.225\n",
      "9\t0.000\t0.223\n",
      "10\t0.000\t0.227\n",
      "11\t0.000\t0.223\n",
      "12\t0.000\t0.225\n",
      "13\t0.000\t0.223\n",
      "14\t0.000\t0.227\n",
      "15\t0.000\t0.223\n",
      "16\t0.000\t0.225\n",
      "17\t0.000\t0.223\n",
      "18\t0.000\t0.227\n",
      "19\t0.000\t0.223\n",
      "CPU times: user 10.3 s, sys: 1.38 s, total: 11.7 s\n",
      "Wall time: 11.5 s\n"
     ]
    },
    {
     "data": {
      "image/png": "[encoded data removed]",
      "text/plain": [
       "<matplotlib.figure.Figure at 0x7f89b9e7c390>"
      ]
     },
     "metadata": {},
     "output_type": "display_data"
    }
   ],
   "source": [
    "%time run_restreaming_greedy(edges, NUM_NODES, num_partitions=2, num_iterations=20)\n"
   ]
  },
  {
   "cell_type": "code",
   "execution_count": 17,
   "metadata": {},
   "outputs": [
    {
     "name": "stdout",
     "output_type": "stream",
     "text": [
      "\n",
      "4 PARTITIONS\n",
      "ROUND\tWASTE\tSCORE\n",
      "0\t0.000\t0.592\n",
      "1\t0.000\t0.465\n",
      "2\t0.000\t0.420\n",
      "3\t0.000\t0.380\n",
      "4\t0.000\t0.362\n",
      "5\t0.000\t0.341\n",
      "6\t0.000\t0.324\n",
      "7\t0.000\t0.351\n",
      "8\t0.000\t0.357\n",
      "9\t0.000\t0.375\n",
      "10\t0.000\t0.330\n",
      "11\t0.000\t0.330\n",
      "12\t0.000\t0.337\n",
      "13\t0.000\t0.345\n",
      "14\t0.000\t0.347\n",
      "15\t0.000\t0.362\n",
      "16\t0.000\t0.397\n",
      "17\t0.000\t0.422\n",
      "18\t0.000\t0.382\n",
      "19\t0.000\t0.390\n",
      "CPU times: user 10.6 s, sys: 1.47 s, total: 12 s\n",
      "Wall time: 11.8 s\n"
     ]
    },
    {
     "data": {
      "image/png": "[encoded data removed]",
      "text/plain": [
       "<matplotlib.figure.Figure at 0x7f89b349acf8>"
      ]
     },
     "metadata": {},
     "output_type": "display_data"
    }
   ],
   "source": [
    "%time run_restreaming_greedy(edges, NUM_NODES, num_partitions=4, num_iterations=20)\n"
   ]
  },
  {
   "cell_type": "code",
   "execution_count": 18,
   "metadata": {},
   "outputs": [
    {
     "name": "stdout",
     "output_type": "stream",
     "text": [
      "\n",
      "8 PARTITIONS\n",
      "ROUND\tWASTE\tSCORE\n",
      "0\t0.000\t0.698\n",
      "1\t0.000\t0.544\n",
      "2\t0.000\t0.532\n",
      "3\t0.000\t0.483\n",
      "4\t0.000\t0.504\n",
      "5\t0.000\t0.526\n",
      "6\t0.000\t0.517\n",
      "7\t0.000\t0.518\n",
      "8\t0.000\t0.516\n",
      "9\t0.000\t0.517\n",
      "10\t0.000\t0.516\n",
      "11\t0.000\t0.517\n",
      "12\t0.000\t0.516\n",
      "13\t0.000\t0.517\n",
      "14\t0.000\t0.516\n",
      "15\t0.000\t0.517\n",
      "16\t0.000\t0.516\n",
      "17\t0.000\t0.517\n",
      "18\t0.000\t0.516\n",
      "19\t0.000\t0.517\n",
      "CPU times: user 11.2 s, sys: 1.36 s, total: 12.6 s\n",
      "Wall time: 12.3 s\n"
     ]
    },
    {
     "data": {
      "image/png": "[encoded data removed]",
      "text/plain": [
       "<matplotlib.figure.Figure at 0x7f89b342a390>"
      ]
     },
     "metadata": {},
     "output_type": "display_data"
    }
   ],
   "source": [
    "%time run_restreaming_greedy(edges, NUM_NODES, num_partitions=8, num_iterations=20)\n"
   ]
  },
  {
   "cell_type": "code",
   "execution_count": 19,
   "metadata": {},
   "outputs": [
    {
     "name": "stdout",
     "output_type": "stream",
     "text": [
      "\n",
      "16 PARTITIONS\n",
      "ROUND\tWASTE\tSCORE\n",
      "0\t0.000\t0.737\n",
      "1\t0.000\t0.588\n",
      "2\t0.000\t0.534\n",
      "3\t0.000\t0.519\n",
      "4\t0.000\t0.503\n",
      "5\t0.000\t0.512\n",
      "6\t0.000\t0.501\n",
      "7\t0.000\t0.505\n",
      "8\t0.000\t0.506\n",
      "9\t0.000\t0.505\n",
      "10\t0.000\t0.506\n",
      "11\t0.000\t0.505\n",
      "12\t0.000\t0.506\n",
      "13\t0.000\t0.504\n",
      "14\t0.000\t0.506\n",
      "15\t0.000\t0.504\n",
      "16\t0.000\t0.506\n",
      "17\t0.000\t0.504\n",
      "18\t0.000\t0.506\n",
      "19\t0.000\t0.504\n",
      "CPU times: user 12.2 s, sys: 1.35 s, total: 13.6 s\n",
      "Wall time: 13.4 s\n"
     ]
    },
    {
     "data": {
      "image/png": "[encoded data removed]",
      "text/plain": [
       "<matplotlib.figure.Figure at 0x7f89b34e5898>"
      ]
     },
     "metadata": {},
     "output_type": "display_data"
    }
   ],
   "source": [
    "%time run_restreaming_greedy(edges, NUM_NODES, num_partitions=16, num_iterations=20)\n"
   ]
  },
  {
   "cell_type": "code",
   "execution_count": 20,
   "metadata": {},
   "outputs": [
    {
     "name": "stdout",
     "output_type": "stream",
     "text": [
      "\n",
      "32 PARTITIONS\n",
      "ROUND\tWASTE\tSCORE\n",
      "0\t0.000\t0.764\n",
      "1\t0.000\t0.595\n",
      "2\t0.000\t0.550\n",
      "3\t0.000\t0.534\n",
      "4\t0.000\t0.536\n",
      "5\t0.000\t0.533\n",
      "6\t0.000\t0.533\n",
      "7\t0.000\t0.540\n",
      "8\t0.000\t0.531\n",
      "9\t0.000\t0.538\n",
      "10\t0.000\t0.530\n",
      "11\t0.000\t0.537\n",
      "12\t0.000\t0.530\n",
      "13\t0.000\t0.537\n",
      "14\t0.000\t0.530\n",
      "15\t0.000\t0.537\n",
      "16\t0.000\t0.530\n",
      "17\t0.000\t0.537\n",
      "18\t0.000\t0.530\n",
      "19\t0.000\t0.537\n",
      "CPU times: user 14.6 s, sys: 1.54 s, total: 16.1 s\n",
      "Wall time: 21.6 s\n"
     ]
    },
    {
     "data": {
      "image/png": "[encoded data removed]",
      "text/plain": [
       "<matplotlib.figure.Figure at 0x7f89b9a172b0>"
      ]
     },
     "metadata": {},
     "output_type": "display_data"
    }
   ],
   "source": [
    "%time run_restreaming_greedy(edges, NUM_NODES, num_partitions=32, num_iterations=20)\n"
   ]
  },
  {
   "cell_type": "code",
   "execution_count": 21,
   "metadata": {},
   "outputs": [
    {
     "name": "stdout",
     "output_type": "stream",
     "text": [
      "\n",
      "40 PARTITIONS\n",
      "ROUND\tWASTE\tSCORE\n",
      "0\t0.000\t0.775\n",
      "1\t0.000\t0.592\n",
      "2\t0.000\t0.564\n",
      "3\t0.000\t0.544\n",
      "4\t0.000\t0.541\n",
      "5\t0.000\t0.542\n",
      "6\t0.000\t0.538\n",
      "7\t0.000\t0.538\n",
      "8\t0.000\t0.537\n",
      "9\t0.000\t0.538\n",
      "10\t0.000\t0.536\n",
      "11\t0.000\t0.538\n",
      "12\t0.000\t0.536\n",
      "13\t0.000\t0.538\n",
      "14\t0.000\t0.536\n",
      "15\t0.000\t0.538\n",
      "16\t0.000\t0.536\n",
      "17\t0.000\t0.538\n",
      "18\t0.000\t0.536\n",
      "19\t0.000\t0.538\n",
      "CPU times: user 16.3 s, sys: 1.42 s, total: 17.7 s\n",
      "Wall time: 17.4 s\n"
     ]
    },
    {
     "data": {
      "image/png": "[encoded data removed]",
      "text/plain": [
       "<matplotlib.figure.Figure at 0x7f89b9a17390>"
      ]
     },
     "metadata": {},
     "output_type": "display_data"
    }
   ],
   "source": [
    "%time run_restreaming_greedy(edges, NUM_NODES, num_partitions=40, num_iterations=20)\n"
   ]
  },
  {
   "cell_type": "code",
   "execution_count": 22,
   "metadata": {
    "collapsed": true
   },
   "outputs": [],
   "source": [
    "%%cython\n",
    "import numpy as np\n",
    "\n",
    "cdef int UNMAPPED = -1\n",
    "\n",
    "def fennel(int[:,::] edges,\n",
    "           int num_nodes,\n",
    "           int num_partitions,\n",
    "           int[::] partition,\n",
    "           float alpha):\n",
    "    \"\"\"\n",
    "    This algorithm favors a cluster if it has many neighbors of a node, but\n",
    "    penalizes the cluster if it is close to capacity.\n",
    "    \n",
    "    partition: A previous partition of the nodes. Set to -1's if a node has not been assigned.\n",
    "    \"\"\"\n",
    "    \n",
    "    cdef int[::] partition_sizes = None\n",
    "    # The output partition\n",
    "    if partition is None:\n",
    "        partition = np.repeat(np.int32(UNMAPPED), num_nodes)\n",
    "        partition_sizes = np.zeros(num_partitions, dtype=np.int32)\n",
    "    else:\n",
    "        partition_sizes = np.bincount(partition).astype(np.int32)\n",
    "    \n",
    "    cdef int[::] partition_votes = np.zeros(num_partitions, dtype=np.int32)\n",
    "    \n",
    "    cdef float partition_capacity = num_nodes / num_partitions\n",
    "    \n",
    "    cdef int last_left = edges[0,0]\n",
    "    cdef int i = 0\n",
    "    cdef int left = 0\n",
    "    cdef int right = 0\n",
    "    cdef int arg = 0\n",
    "    cdef int max_arg = 0\n",
    "    cdef float max_val = 0\n",
    "    cdef float val = 0\n",
    "    cdef int len_edges = len(edges)\n",
    "    cdef int previous_assignment = 0\n",
    "\n",
    "    for i in range(len_edges):\n",
    "        left = edges[i,0]\n",
    "        right = edges[i,1]\n",
    "    \n",
    "        if last_left != left:\n",
    "            # New left node, so we have to assign last left\n",
    "\n",
    "            # Remember placement of last_left in the previous assignment\n",
    "            previous_assignment = partition[last_left]\n",
    "            \n",
    "            max_arg = 0\n",
    "            max_val = partition_votes[0] - alpha * partition_sizes[0]\n",
    "            if previous_assignment == 0:\n",
    "                # We remove the node from its current partition before\n",
    "                # deciding to re-add it, so subtract alpha to give\n",
    "                # result of 1 lower partition size.\n",
    "                max_val += alpha\n",
    "\n",
    "            for arg in range(1, num_partitions):\n",
    "                val = partition_votes[arg] - alpha * partition_sizes[arg]\n",
    "                if previous_assignment == arg:\n",
    "                    # See comment above\n",
    "                    val += alpha\n",
    "                if val > max_val:\n",
    "                    max_arg = arg\n",
    "                    max_val = val\n",
    "\n",
    "            if max_arg != previous_assignment:\n",
    "                partition[last_left] = max_arg\n",
    "                partition_sizes[max_arg] += 1\n",
    "                if previous_assignment != UNMAPPED:\n",
    "                    partition_sizes[previous_assignment] -= 1\n",
    "\n",
    "            partition_votes[:] = 0\n",
    "            last_left = left\n",
    "\n",
    "        if partition[right] != -1:\n",
    "            partition_votes[partition[right]] += 1\n",
    "    \n",
    "    # TODO: finish off this fencepost....\n",
    "    partition[left] = 0\n",
    "    \n",
    "    return np.asarray(partition)"
   ]
  },
  {
   "cell_type": "code",
   "execution_count": 25,
   "metadata": {},
   "outputs": [
    {
     "name": "stdout",
     "output_type": "stream",
     "text": [
      "CPU times: user 417 ms, sys: 218 µs, total: 417 ms\n",
      "Wall time: 417 ms\n",
      "wast=1.0000004176437791 edge cut = 0.3287442068090047\n"
     ]
    }
   ],
   "source": [
    "assignment = None\n",
    "%time assignment = fennel(edges,NUM_NODES,2,assignment,1.)\n",
    "wast,edge_cut = score(assignment, edges)\n",
    "print('wast='+str(1+wast)+' edge cut = '+str(edge_cut))"
   ]
  },
  {
   "cell_type": "code",
   "execution_count": 26,
   "metadata": {},
   "outputs": [
    {
     "name": "stdout",
     "output_type": "stream",
     "text": [
      "CPU times: user 453 ms, sys: 199 µs, total: 453 ms\n",
      "Wall time: 465 ms\n",
      "wast=1.0000029235064536 edge cut = 0.5011600868321399\n"
     ]
    }
   ],
   "source": [
    "assignment = None\n",
    "%time assignment = fennel(edges,NUM_NODES,4,assignment,1.)\n",
    "wast,edge_cut = score(assignment, edges)\n",
    "print('wast='+str(1+wast)+' edge cut = '+str(edge_cut))"
   ]
  },
  {
   "cell_type": "code",
   "execution_count": 27,
   "metadata": {},
   "outputs": [
    {
     "name": "stdout",
     "output_type": "stream",
     "text": [
      "CPU times: user 477 ms, sys: 3.67 ms, total: 480 ms\n",
      "Wall time: 489 ms\n",
      "wast=1.0000029235064536 edge cut = 0.5739200976915227\n"
     ]
    }
   ],
   "source": [
    "assignment = None\n",
    "%time assignment = fennel(edges,NUM_NODES,8,assignment,1.)\n",
    "wast,edge_cut = score(assignment, edges)\n",
    "print('wast='+str(1+wast)+' edge cut = '+str(edge_cut))"
   ]
  },
  {
   "cell_type": "code",
   "execution_count": 28,
   "metadata": {},
   "outputs": [
    {
     "name": "stdout",
     "output_type": "stream",
     "text": [
      "CPU times: user 489 ms, sys: 3.68 ms, total: 492 ms\n",
      "Wall time: 498 ms\n",
      "wast=1.0000196292576173 edge cut = 0.6365624258916873\n"
     ]
    }
   ],
   "source": [
    "assignment = None\n",
    "%time assignment = fennel(edges,NUM_NODES,16,assignment,1.)\n",
    "wast,edge_cut = score(assignment, edges)\n",
    "print('wast='+str(1+wast)+' edge cut = '+str(edge_cut))"
   ]
  },
  {
   "cell_type": "code",
   "execution_count": 29,
   "metadata": {},
   "outputs": [
    {
     "name": "stdout",
     "output_type": "stream",
     "text": [
      "CPU times: user 713 ms, sys: 280 µs, total: 714 ms\n",
      "Wall time: 713 ms\n",
      "wast=1.0000864522622719 edge cut = 0.6967116029071383\n"
     ]
    }
   ],
   "source": [
    "assignment = None\n",
    "%time assignment = fennel(edges,NUM_NODES,32,assignment,1.)\n",
    "wast,edge_cut = score(assignment, edges)\n",
    "print('wast='+str(1+wast)+' edge cut = '+str(edge_cut))"
   ]
  },
  {
   "cell_type": "code",
   "execution_count": 30,
   "metadata": {},
   "outputs": [
    {
     "name": "stdout",
     "output_type": "stream",
     "text": [
      "CPU times: user 839 ms, sys: 549 µs, total: 840 ms\n",
      "Wall time: 844 ms\n",
      "wast=1.000123204914832 edge cut = 0.7022185547363327\n"
     ]
    }
   ],
   "source": [
    "assignment = None\n",
    "%time assignment = fennel(edges,NUM_NODES,40,assignment,1.)\n",
    "wast,edge_cut = score(assignment, edges)\n",
    "print('wast='+str(1+wast)+' edge cut = '+str(edge_cut))"
   ]
  },
  {
   "cell_type": "code",
   "execution_count": null,
   "metadata": {
    "collapsed": true
   },
   "outputs": [],
   "source": []
  },
  {
   "cell_type": "code",
   "execution_count": null,
   "metadata": {
    "collapsed": true
   },
   "outputs": [],
   "source": []
  },
  {
   "cell_type": "code",
   "execution_count": 32,
   "metadata": {
    "collapsed": true
   },
   "outputs": [],
   "source": [
    "def run_fennel_restreaming(edges, num_nodes, num_partitions, num_iterations):\n",
    "    print('{} PARTITIONS'.format(num_partitions))\n",
    "    assignments = None\n",
    "    # We will explore this parameter in a future post. This is sub-optimal\n",
    "    alphas = np.linspace(1.251608191745264e-04, 7.588951557309824e-02, num_iterations)\n",
    "    waste_scores, edge_score_values = [], []\n",
    "    print('ROUND\\tALPHA\\tWASTE\\tSCORE')\n",
    "    for i in range(num_iterations):\n",
    "        alpha = alphas[i]\n",
    "        assignments = fennel(edges, NUM_NODES, num_partitions, assignments, 1.)\n",
    "        (waste, edge_score) = score(assignments, edges)\n",
    "        print('{}\\t{:.1e}\\t{:0.3f}\\t{:0.3f}'.format(i, alpha, waste, edge_score))\n",
    "        waste_scores.append(waste)\n",
    "        edge_score_values.append(edge_score)\n",
    "    draw_figures(waste_scores, edge_score_values, num_partitions)"
   ]
  },
  {
   "cell_type": "markdown",
   "metadata": {},
   "source": [
    "# K = 2"
   ]
  },
  {
   "cell_type": "code",
   "execution_count": 40,
   "metadata": {},
   "outputs": [
    {
     "name": "stdout",
     "output_type": "stream",
     "text": [
      "2 PARTITIONS\n",
      "ROUND\tALPHA\tWASTE\tSCORE\n",
      "0\t1.3e-07\t0.000\t0.329\n",
      "1\t4.1e-06\t0.000\t0.215\n",
      "2\t8.1e-06\t0.000\t0.194\n",
      "3\t1.2e-05\t0.000\t0.186\n",
      "4\t1.6e-05\t0.000\t0.183\n",
      "5\t2.0e-05\t0.000\t0.181\n",
      "6\t2.4e-05\t0.000\t0.180\n",
      "7\t2.8e-05\t0.000\t0.180\n",
      "8\t3.2e-05\t0.000\t0.180\n",
      "9\t3.6e-05\t0.000\t0.180\n",
      "10\t4.0e-05\t0.000\t0.180\n",
      "11\t4.4e-05\t0.000\t0.180\n",
      "12\t4.8e-05\t0.000\t0.180\n",
      "13\t5.2e-05\t0.000\t0.180\n",
      "14\t5.6e-05\t0.000\t0.180\n",
      "15\t6.0e-05\t0.000\t0.180\n",
      "16\t6.4e-05\t0.000\t0.180\n",
      "17\t6.8e-05\t0.000\t0.180\n",
      "18\t7.2e-05\t0.000\t0.180\n",
      "19\t7.6e-05\t0.000\t0.180\n",
      "CPU times: user 12.8 s, sys: 1.46 s, total: 14.2 s\n",
      "Wall time: 14.1 s\n"
     ]
    },
    {
     "data": {
      "image/png": "[encoded data removed]",
      "text/plain": [
       "<matplotlib.figure.Figure at 0x7f66e58365c0>"
      ]
     },
     "metadata": {},
     "output_type": "display_data"
    }
   ],
   "source": [
    "%time run_fennel_restreaming(edges, NUM_NODES, 2, 20)\n"
   ]
  },
  {
   "cell_type": "code",
   "execution_count": 24,
   "metadata": {},
   "outputs": [
    {
     "name": "stdout",
     "output_type": "stream",
     "text": [
      "2 PARTITIONS\n",
      "ROUND\tALPHA\tWASTE\tSCORE\n",
      "0\t1.3e-07\t0.000\t0.329\n",
      "1\t4.0e-03\t0.000\t0.215\n",
      "2\t8.0e-03\t0.000\t0.194\n",
      "3\t1.2e-02\t0.000\t0.186\n",
      "4\t1.6e-02\t0.000\t0.183\n",
      "5\t2.0e-02\t0.000\t0.181\n",
      "6\t2.4e-02\t0.000\t0.180\n",
      "7\t2.8e-02\t0.000\t0.180\n",
      "8\t3.2e-02\t0.000\t0.180\n",
      "9\t3.6e-02\t0.000\t0.180\n",
      "10\t4.0e-02\t0.000\t0.180\n",
      "11\t4.4e-02\t0.000\t0.180\n",
      "12\t4.8e-02\t0.000\t0.180\n",
      "13\t5.2e-02\t0.000\t0.180\n",
      "14\t5.6e-02\t0.000\t0.180\n",
      "15\t6.0e-02\t0.000\t0.180\n",
      "16\t6.4e-02\t0.000\t0.180\n",
      "17\t6.8e-02\t0.000\t0.180\n",
      "18\t7.2e-02\t0.000\t0.180\n",
      "19\t7.6e-02\t0.000\t0.180\n",
      "CPU times: user 11.3 s, sys: 1.32 s, total: 12.6 s\n",
      "Wall time: 12.4 s\n"
     ]
    },
    {
     "data": {
      "image/png": "[encoded data removed]",
      "text/plain": [
       "<matplotlib.figure.Figure at 0x7f89b99097f0>"
      ]
     },
     "metadata": {},
     "output_type": "display_data"
    }
   ],
   "source": [
    "%time run_fennel_restreaming(edges, NUM_NODES, 2, 20)\n"
   ]
  },
  {
   "cell_type": "markdown",
   "metadata": {},
   "source": [
    "# k = 4"
   ]
  },
  {
   "cell_type": "code",
   "execution_count": 27,
   "metadata": {},
   "outputs": [
    {
     "name": "stdout",
     "output_type": "stream",
     "text": [
      "4 PARTITIONS\n",
      "ROUND\tALPHA\tWASTE\tSCORE\n",
      "0\t1.3e-04\t0.000\t0.501\n",
      "1\t4.1e-03\t0.000\t0.397\n",
      "2\t8.1e-03\t0.000\t0.384\n",
      "3\t1.2e-02\t0.000\t0.379\n",
      "4\t1.6e-02\t0.000\t0.376\n",
      "5\t2.0e-02\t0.000\t0.373\n",
      "6\t2.4e-02\t0.000\t0.371\n",
      "7\t2.8e-02\t0.000\t0.370\n",
      "8\t3.2e-02\t0.000\t0.370\n",
      "9\t3.6e-02\t0.000\t0.370\n",
      "10\t4.0e-02\t0.000\t0.369\n",
      "11\t4.4e-02\t0.000\t0.369\n",
      "12\t4.8e-02\t0.000\t0.369\n",
      "13\t5.2e-02\t0.000\t0.369\n",
      "14\t5.6e-02\t0.000\t0.369\n",
      "15\t6.0e-02\t0.000\t0.369\n",
      "16\t6.4e-02\t0.000\t0.369\n",
      "17\t6.8e-02\t0.000\t0.369\n",
      "18\t7.2e-02\t0.000\t0.369\n",
      "19\t7.6e-02\t0.000\t0.369\n",
      "CPU times: user 11.4 s, sys: 1.22 s, total: 12.6 s\n",
      "Wall time: 12.5 s\n"
     ]
    },
    {
     "data": {
      "image/png": "[encoded data removed]",
      "text/plain": [
       "<matplotlib.figure.Figure at 0x7f89b97a1550>"
      ]
     },
     "metadata": {},
     "output_type": "display_data"
    }
   ],
   "source": [
    "%time run_fennel_restreaming(edges, NUM_NODES, 4, 20)\n"
   ]
  },
  {
   "cell_type": "code",
   "execution_count": 30,
   "metadata": {},
   "outputs": [
    {
     "name": "stdout",
     "output_type": "stream",
     "text": [
      "8 PARTITIONS\n",
      "ROUND\tALPHA\tWASTE\tSCORE\n",
      "0\t1.3e-07\t0.000\t0.574\n",
      "1\t4.0e-03\t0.000\t0.469\n",
      "2\t8.0e-03\t0.000\t0.455\n",
      "3\t1.2e-02\t0.000\t0.450\n",
      "4\t1.6e-02\t0.000\t0.449\n",
      "5\t2.0e-02\t0.000\t0.448\n",
      "6\t2.4e-02\t0.000\t0.448\n",
      "7\t2.8e-02\t0.000\t0.448\n",
      "8\t3.2e-02\t0.000\t0.448\n",
      "9\t3.6e-02\t0.000\t0.448\n",
      "10\t4.0e-02\t0.000\t0.448\n",
      "11\t4.4e-02\t0.000\t0.448\n",
      "12\t4.8e-02\t0.000\t0.448\n",
      "13\t5.2e-02\t0.000\t0.448\n",
      "14\t5.6e-02\t0.000\t0.448\n",
      "15\t6.0e-02\t0.000\t0.448\n",
      "16\t6.4e-02\t0.000\t0.448\n",
      "17\t6.8e-02\t0.000\t0.448\n",
      "18\t7.2e-02\t0.000\t0.448\n",
      "19\t7.6e-02\t0.000\t0.448\n",
      "CPU times: user 12.3 s, sys: 1.31 s, total: 13.6 s\n",
      "Wall time: 13.4 s\n"
     ]
    },
    {
     "data": {
      "image/png": "[encoded data removed]",
      "text/plain": [
       "<matplotlib.figure.Figure at 0x7f89b97d2ac8>"
      ]
     },
     "metadata": {},
     "output_type": "display_data"
    }
   ],
   "source": [
    "%time run_fennel_restreaming(edges, NUM_NODES, 8, 20)\n"
   ]
  },
  {
   "cell_type": "code",
   "execution_count": 33,
   "metadata": {},
   "outputs": [
    {
     "name": "stdout",
     "output_type": "stream",
     "text": [
      "16 PARTITIONS\n",
      "ROUND\tALPHA\tWASTE\tSCORE\n",
      "0\t1.3e-04\t0.000\t0.637\n",
      "1\t4.1e-03\t0.000\t0.573\n",
      "2\t8.1e-03\t0.000\t0.569\n",
      "3\t1.2e-02\t0.000\t0.567\n",
      "4\t1.6e-02\t0.000\t0.567\n",
      "5\t2.0e-02\t0.000\t0.566\n",
      "6\t2.4e-02\t0.000\t0.566\n",
      "7\t2.8e-02\t0.000\t0.566\n",
      "8\t3.2e-02\t0.000\t0.566\n",
      "9\t3.6e-02\t0.000\t0.566\n",
      "10\t4.0e-02\t0.000\t0.566\n",
      "11\t4.4e-02\t0.000\t0.566\n",
      "12\t4.8e-02\t0.000\t0.566\n",
      "13\t5.2e-02\t0.000\t0.566\n",
      "14\t5.6e-02\t0.000\t0.566\n",
      "15\t6.0e-02\t0.000\t0.566\n",
      "16\t6.4e-02\t0.000\t0.566\n",
      "17\t6.8e-02\t0.000\t0.566\n",
      "18\t7.2e-02\t0.000\t0.566\n",
      "19\t7.6e-02\t0.000\t0.566\n",
      "CPU times: user 13.3 s, sys: 1.3 s, total: 14.6 s\n",
      "Wall time: 14.4 s\n"
     ]
    },
    {
     "data": {
      "image/png": "[encoded data removed]",
      "text/plain": [
       "<matplotlib.figure.Figure at 0x7f89b3538550>"
      ]
     },
     "metadata": {},
     "output_type": "display_data"
    }
   ],
   "source": [
    "%time run_fennel_restreaming(edges, NUM_NODES, 16, 20)\n"
   ]
  },
  {
   "cell_type": "code",
   "execution_count": 34,
   "metadata": {},
   "outputs": [
    {
     "name": "stdout",
     "output_type": "stream",
     "text": [
      "32 PARTITIONS\n",
      "ROUND\tALPHA\tWASTE\tSCORE\n",
      "0\t1.3e-04\t0.000\t0.697\n",
      "1\t4.1e-03\t0.000\t0.636\n",
      "2\t8.1e-03\t0.000\t0.631\n",
      "3\t1.2e-02\t0.000\t0.630\n",
      "4\t1.6e-02\t0.000\t0.630\n",
      "5\t2.0e-02\t0.000\t0.629\n",
      "6\t2.4e-02\t0.000\t0.629\n",
      "7\t2.8e-02\t0.000\t0.629\n",
      "8\t3.2e-02\t0.000\t0.629\n",
      "9\t3.6e-02\t0.000\t0.629\n",
      "10\t4.0e-02\t0.000\t0.629\n",
      "11\t4.4e-02\t0.000\t0.629\n",
      "12\t4.8e-02\t0.000\t0.629\n",
      "13\t5.2e-02\t0.000\t0.629\n",
      "14\t5.6e-02\t0.000\t0.629\n",
      "15\t6.0e-02\t0.000\t0.629\n",
      "16\t6.4e-02\t0.000\t0.629\n",
      "17\t6.8e-02\t0.000\t0.629\n",
      "18\t7.2e-02\t0.000\t0.629\n",
      "19\t7.6e-02\t0.000\t0.629\n",
      "CPU times: user 15.8 s, sys: 1.39 s, total: 17.2 s\n",
      "Wall time: 17 s\n"
     ]
    },
    {
     "data": {
      "image/png": "[encoded data removed]",
      "text/plain": [
       "<matplotlib.figure.Figure at 0x7f89b9c45390>"
      ]
     },
     "metadata": {},
     "output_type": "display_data"
    }
   ],
   "source": [
    "%time run_fennel_restreaming(edges, NUM_NODES, 32, 20)\n"
   ]
  },
  {
   "cell_type": "code",
   "execution_count": 45,
   "metadata": {},
   "outputs": [
    {
     "name": "stdout",
     "output_type": "stream",
     "text": [
      "40 PARTITIONS\n",
      "ROUND\tALPHA\tWASTE\tSCORE\n",
      "0\t1.3e-07\t0.000\t0.702\n",
      "1\t5.5e-06\t0.000\t0.651\n",
      "2\t1.1e-05\t0.000\t0.648\n",
      "3\t1.6e-05\t0.000\t0.647\n",
      "4\t2.2e-05\t0.000\t0.647\n",
      "5\t2.7e-05\t0.000\t0.647\n",
      "6\t3.3e-05\t0.000\t0.646\n",
      "7\t3.8e-05\t0.000\t0.646\n",
      "8\t4.3e-05\t0.000\t0.646\n",
      "9\t4.9e-05\t0.000\t0.646\n",
      "10\t5.4e-05\t0.000\t0.646\n",
      "11\t6.0e-05\t0.000\t0.646\n",
      "12\t6.5e-05\t0.000\t0.646\n",
      "13\t7.0e-05\t0.000\t0.646\n",
      "14\t7.6e-05\t0.000\t0.646\n",
      "CPU times: user 15.8 s, sys: 1.21 s, total: 17 s\n",
      "Wall time: 16.8 s\n"
     ]
    },
    {
     "data": {
      "image/png": "[encoded data removed]",
      "text/plain": [
       "<matplotlib.figure.Figure at 0x7f66e5452518>"
      ]
     },
     "metadata": {},
     "output_type": "display_data"
    }
   ],
   "source": [
    "%time run_fennel_restreaming(edges, NUM_NODES, 40, 15)\n"
   ]
  },
  {
   "cell_type": "code",
   "execution_count": null,
   "metadata": {
    "collapsed": true
   },
   "outputs": [],
   "source": []
  }
 ],
 "metadata": {
  "kernelspec": {
   "display_name": "Python 3",
   "language": "python",
   "name": "python3"
  },
  "language_info": {
   "codemirror_mode": {
    "name": "ipython",
    "version": 3
   },
   "file_extension": ".py",
   "mimetype": "text/x-python",
   "name": "python",
   "nbconvert_exporter": "python",
   "pygments_lexer": "ipython3",
   "version": "3.6.1"
  }
 },
 "nbformat": 4,
 "nbformat_minor": 2
}
