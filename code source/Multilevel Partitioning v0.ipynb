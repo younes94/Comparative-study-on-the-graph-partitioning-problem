{
 "cells": [
  {
   "cell_type": "code",
   "execution_count": 2,
   "metadata": {},
   "outputs": [],
   "source": [
    "import networkx as nx\n",
    "#import networkx as nx\n",
    "#import networkit\n",
    "#from scipy.sparse import csgraph\n",
    "#import networkx as nx\n",
    "#import metis"
   ]
  },
  {
   "cell_type": "code",
   "execution_count": null,
   "metadata": {
    "collapsed": true
   },
   "outputs": [],
   "source": []
  },
  {
   "cell_type": "markdown",
   "metadata": {},
   "source": [
    "# Facebook partioning"
   ]
  },
  {
   "cell_type": "code",
   "execution_count": 4,
   "metadata": {},
   "outputs": [
    {
     "name": "stdout",
     "output_type": "stream",
     "text": [
      "Name: \n",
      "Type: Graph\n",
      "Number of nodes: 4039\n",
      "Number of edges: 88234\n",
      "Average degree:  43.6910\n"
     ]
    }
   ],
   "source": [
    "facebook = nx.read_edgelist('facebook_combined.txt',create_using=nx.Graph())\n",
    "print(nx.info(facebook))"
   ]
  },
  {
   "cell_type": "code",
   "execution_count": 3,
   "metadata": {},
   "outputs": [
    {
     "name": "stdout",
     "output_type": "stream",
     "text": [
      "CPU times: user 403 ms, sys: 12.3 ms, total: 415 ms\n",
      "Wall time: 426 ms\n",
      "edge cut:0.004046059342203686\n"
     ]
    }
   ],
   "source": [
    "%time cuts , parts = metis.part_graph(facebook,2, tpwgts=None, ubvec=None, recursive=True, ctype='shem', iptype='grow',rtype='greedy')\n",
    "k = len(facebook.edges)\n",
    "print('edge cut:'+str(cuts/k))"
   ]
  },
  {
   "cell_type": "code",
   "execution_count": 4,
   "metadata": {},
   "outputs": [
    {
     "name": "stdout",
     "output_type": "stream",
     "text": [
      "CPU times: user 397 ms, sys: 27.6 ms, total: 424 ms\n",
      "Wall time: 439 ms\n"
     ]
    }
   ],
   "source": [
    "%time cuts , parts = metis.part_graph(facebook,4, tpwgts=None, ubvec=None, recursive=True, ctype='shem', iptype='grow',rtype='greedy')"
   ]
  },
  {
   "cell_type": "code",
   "execution_count": 6,
   "metadata": {},
   "outputs": [
    {
     "name": "stdout",
     "output_type": "stream",
     "text": [
      "edge cut:0.0164335743590906\n"
     ]
    }
   ],
   "source": [
    "k = len(facebook.edges)\n",
    "print('edge cut:'+str(cuts/k))"
   ]
  },
  {
   "cell_type": "code",
   "execution_count": 8,
   "metadata": {},
   "outputs": [
    {
     "name": "stdout",
     "output_type": "stream",
     "text": [
      "CPU times: user 366 ms, sys: 4.04 ms, total: 370 ms\n",
      "Wall time: 371 ms\n",
      "edge cut:0.03774055352811841\n"
     ]
    }
   ],
   "source": [
    "%time cuts , parts = metis.part_graph(facebook,8, tpwgts=None, ubvec=None, recursive=True, ctype='shem', iptype='grow',rtype='greedy')\n",
    "print('edge cut:'+str(cuts/k))"
   ]
  },
  {
   "cell_type": "code",
   "execution_count": 10,
   "metadata": {},
   "outputs": [
    {
     "name": "stdout",
     "output_type": "stream",
     "text": [
      "CPU times: user 376 ms, sys: 8.25 ms, total: 384 ms\n",
      "Wall time: 383 ms\n",
      "edge cut:0.10391685744724256\n"
     ]
    }
   ],
   "source": [
    "%time cuts , parts = metis.part_graph(facebook,16, tpwgts=None, ubvec=None, recursive=True, ctype='shem', iptype='grow',rtype='greedy')\n",
    "print('edge cut:'+str(cuts/k))"
   ]
  },
  {
   "cell_type": "code",
   "execution_count": 11,
   "metadata": {},
   "outputs": [
    {
     "name": "stdout",
     "output_type": "stream",
     "text": [
      "CPU times: user 386 ms, sys: 4 ms, total: 390 ms\n",
      "Wall time: 389 ms\n",
      "edge cut:0.3235714123807149\n"
     ]
    }
   ],
   "source": [
    "%time cuts , parts = metis.part_graph(facebook,32, tpwgts=None, ubvec=None, recursive=True, ctype='shem', iptype='grow',rtype='greedy')\n",
    "print('edge cut:'+str(cuts/k))"
   ]
  },
  {
   "cell_type": "markdown",
   "metadata": {},
   "source": [
    "# Email Partitioning"
   ]
  },
  {
   "cell_type": "code",
   "execution_count": 12,
   "metadata": {},
   "outputs": [
    {
     "name": "stdout",
     "output_type": "stream",
     "text": [
      "CPU times: user 2.05 s, sys: 52.8 ms, total: 2.1 s\n",
      "Wall time: 2.12 s\n"
     ]
    }
   ],
   "source": [
    "%time email = nx.read_edgelist('Email-Enron.txt',create_using=nx.Graph())"
   ]
  },
  {
   "cell_type": "code",
   "execution_count": 14,
   "metadata": {},
   "outputs": [
    {
     "name": "stdout",
     "output_type": "stream",
     "text": [
      "CPU times: user 1.02 s, sys: 27.9 ms, total: 1.05 s\n",
      "Wall time: 1.04 s\n",
      "edge cut:0.0682365868651098\n"
     ]
    }
   ],
   "source": [
    "%time cuts , parts = metis.part_graph(email,2, tpwgts=None, ubvec=None, recursive=True, ctype='shem', iptype='grow',rtype='greedy')\n",
    "k= len(email.edges)\n",
    "print('edge cut:'+str(cuts/k))"
   ]
  },
  {
   "cell_type": "code",
   "execution_count": 15,
   "metadata": {},
   "outputs": [
    {
     "name": "stdout",
     "output_type": "stream",
     "text": [
      "CPU times: user 1.34 s, sys: 35.7 ms, total: 1.37 s\n",
      "Wall time: 1.37 s\n",
      "edge cut:0.17977381399219935\n"
     ]
    }
   ],
   "source": [
    "%time cuts , parts = metis.part_graph(email,4, tpwgts=None, ubvec=None, recursive=True, ctype='shem', iptype='grow',rtype='greedy')\n",
    "print('edge cut:'+str(cuts/k))"
   ]
  },
  {
   "cell_type": "code",
   "execution_count": 16,
   "metadata": {},
   "outputs": [
    {
     "name": "stdout",
     "output_type": "stream",
     "text": [
      "CPU times: user 1.26 s, sys: 23.9 ms, total: 1.28 s\n",
      "Wall time: 1.28 s\n",
      "edge cut:0.2581011907676072\n"
     ]
    }
   ],
   "source": [
    "%time cuts , parts = metis.part_graph(email,8, tpwgts=None, ubvec=None, recursive=True, ctype='shem', iptype='grow',rtype='greedy')\n",
    "print('edge cut:'+str(cuts/k))"
   ]
  },
  {
   "cell_type": "code",
   "execution_count": 17,
   "metadata": {},
   "outputs": [
    {
     "name": "stdout",
     "output_type": "stream",
     "text": [
      "CPU times: user 1.12 s, sys: 28.1 ms, total: 1.15 s\n",
      "Wall time: 1.15 s\n",
      "edge cut:0.3337630758685967\n"
     ]
    }
   ],
   "source": [
    "%time cuts , parts = metis.part_graph(email,16, tpwgts=None, ubvec=None, recursive=True, ctype='shem', iptype='grow',rtype='greedy')\n",
    "print('edge cut:'+str(cuts/k))"
   ]
  },
  {
   "cell_type": "code",
   "execution_count": 18,
   "metadata": {},
   "outputs": [
    {
     "name": "stdout",
     "output_type": "stream",
     "text": [
      "CPU times: user 1.35 s, sys: 12.1 ms, total: 1.37 s\n",
      "Wall time: 1.37 s\n",
      "edge cut:0.3984529268730519\n"
     ]
    }
   ],
   "source": [
    "%time cuts , parts = metis.part_graph(email,32, tpwgts=None, ubvec=None, recursive=True, ctype='shem', iptype='grow',rtype='greedy')\n",
    "print('edge cut:'+str(cuts/k))"
   ]
  },
  {
   "cell_type": "markdown",
   "metadata": {},
   "source": [
    "# Google Partitioning"
   ]
  },
  {
   "cell_type": "code",
   "execution_count": 19,
   "metadata": {},
   "outputs": [
    {
     "name": "stdout",
     "output_type": "stream",
     "text": [
      "CPU times: user 29.1 s, sys: 744 ms, total: 29.9 s\n",
      "Wall time: 30 s\n"
     ]
    }
   ],
   "source": [
    "%time google = nx.read_edgelist('web-Google.txt',create_using=nx.Graph())"
   ]
  },
  {
   "cell_type": "code",
   "execution_count": 20,
   "metadata": {},
   "outputs": [
    {
     "name": "stdout",
     "output_type": "stream",
     "text": [
      "CPU times: user 31 s, sys: 652 ms, total: 31.6 s\n",
      "Wall time: 31.7 s\n",
      "edge cut:0.006312975020424331\n"
     ]
    }
   ],
   "source": [
    "%time cuts , parts = metis.part_graph(google,2, tpwgts=None, ubvec=None, recursive=True, ctype='shem', iptype='grow',rtype='greedy')\n",
    "k= len(google.edges)\n",
    "print('edge cut:'+str(cuts/k))"
   ]
  },
  {
   "cell_type": "code",
   "execution_count": 21,
   "metadata": {},
   "outputs": [
    {
     "name": "stdout",
     "output_type": "stream",
     "text": [
      "CPU times: user 34.8 s, sys: 716 ms, total: 35.5 s\n",
      "Wall time: 35.6 s\n",
      "edge cut:0.010147959845915747\n"
     ]
    }
   ],
   "source": [
    "%time cuts , parts = metis.part_graph(google,4, tpwgts=None, ubvec=None, recursive=True, ctype='shem', iptype='grow',rtype='greedy')\n",
    "print('edge cut:'+str(cuts/k))"
   ]
  },
  {
   "cell_type": "code",
   "execution_count": 22,
   "metadata": {},
   "outputs": [
    {
     "name": "stdout",
     "output_type": "stream",
     "text": [
      "CPU times: user 34.5 s, sys: 633 ms, total: 35.1 s\n",
      "Wall time: 35.3 s\n",
      "edge cut:0.012121791251422069\n"
     ]
    }
   ],
   "source": [
    "%time cuts , parts = metis.part_graph(google,8, tpwgts=None, ubvec=None, recursive=True, ctype='shem', iptype='grow',rtype='greedy')\n",
    "print('edge cut:'+str(cuts/k))"
   ]
  },
  {
   "cell_type": "code",
   "execution_count": 23,
   "metadata": {},
   "outputs": [
    {
     "name": "stdout",
     "output_type": "stream",
     "text": [
      "CPU times: user 36.2 s, sys: 756 ms, total: 37 s\n",
      "Wall time: 37 s\n",
      "edge cut:0.013355696172951221\n"
     ]
    }
   ],
   "source": [
    "%time cuts , parts = metis.part_graph(google,16, tpwgts=None, ubvec=None, recursive=True, ctype='shem', iptype='grow',rtype='greedy')\n",
    "print('edge cut:'+str(cuts/k))"
   ]
  },
  {
   "cell_type": "code",
   "execution_count": 24,
   "metadata": {},
   "outputs": [
    {
     "name": "stdout",
     "output_type": "stream",
     "text": [
      "CPU times: user 37.8 s, sys: 648 ms, total: 38.5 s\n",
      "Wall time: 38.5 s\n",
      "edge cut:0.015323743287619698\n"
     ]
    }
   ],
   "source": [
    "%time cuts , parts = metis.part_graph(google,32, tpwgts=None, ubvec=None, recursive=True, ctype='shem', iptype='grow',rtype='greedy')\n",
    "print('edge cut:'+str(cuts/k))"
   ]
  },
  {
   "cell_type": "code",
   "execution_count": 25,
   "metadata": {},
   "outputs": [
    {
     "name": "stdout",
     "output_type": "stream",
     "text": [
      "CPU times: user 36.4 s, sys: 608 ms, total: 37 s\n",
      "Wall time: 37.1 s\n",
      "edge cut:0.016728400474682045\n"
     ]
    }
   ],
   "source": [
    "%time cuts , parts = metis.part_graph(google,40, tpwgts=None, ubvec=None, recursive=True, ctype='shem', iptype='grow',rtype='greedy')\n",
    "print('edge cut:'+str(cuts/k))"
   ]
  },
  {
   "cell_type": "markdown",
   "metadata": {},
   "source": [
    "# Stanford Partitioning"
   ]
  },
  {
   "cell_type": "code",
   "execution_count": 26,
   "metadata": {},
   "outputs": [
    {
     "name": "stdout",
     "output_type": "stream",
     "text": [
      "CPU times: user 11.7 s, sys: 280 ms, total: 12 s\n",
      "Wall time: 12.1 s\n"
     ]
    }
   ],
   "source": [
    "%time stanford = nx.read_edgelist('web-Stanford.txt',create_using=nx.Graph())"
   ]
  },
  {
   "cell_type": "code",
   "execution_count": 27,
   "metadata": {},
   "outputs": [
    {
     "name": "stdout",
     "output_type": "stream",
     "text": [
      "CPU times: user 14.7 s, sys: 248 ms, total: 15 s\n",
      "Wall time: 15 s\n",
      "edge cut:0.0029167394345981906\n"
     ]
    }
   ],
   "source": [
    "%time cuts , parts = metis.part_graph(stanford,2, tpwgts=None, ubvec=None, recursive=True, ctype='shem', iptype='grow',rtype='greedy')\n",
    "k= len(stanford.edges)\n",
    "print('edge cut:'+str(cuts/k))"
   ]
  },
  {
   "cell_type": "code",
   "execution_count": 28,
   "metadata": {},
   "outputs": [
    {
     "name": "stdout",
     "output_type": "stream",
     "text": [
      "CPU times: user 13.6 s, sys: 200 ms, total: 13.8 s\n",
      "Wall time: 13.8 s\n",
      "edge cut:0.007324970541533928\n"
     ]
    }
   ],
   "source": [
    "%time cuts , parts = metis.part_graph(stanford,4, tpwgts=None, ubvec=None, recursive=True, ctype='shem', iptype='grow',rtype='greedy')\n",
    "print('edge cut:'+str(cuts/k))"
   ]
  },
  {
   "cell_type": "code",
   "execution_count": 29,
   "metadata": {},
   "outputs": [
    {
     "name": "stdout",
     "output_type": "stream",
     "text": [
      "CPU times: user 11.8 s, sys: 144 ms, total: 12 s\n",
      "Wall time: 12 s\n",
      "edge cut:0.015565813324661403\n"
     ]
    }
   ],
   "source": [
    "%time cuts , parts = metis.part_graph(stanford,8, tpwgts=None, ubvec=None, recursive=True, ctype='shem', iptype='grow',rtype='greedy')\n",
    "print('edge cut:'+str(cuts/k))"
   ]
  },
  {
   "cell_type": "code",
   "execution_count": 30,
   "metadata": {},
   "outputs": [
    {
     "name": "stdout",
     "output_type": "stream",
     "text": [
      "CPU times: user 14.5 s, sys: 333 ms, total: 14.9 s\n",
      "Wall time: 15 s\n",
      "edge cut:0.03439715030743196\n"
     ]
    }
   ],
   "source": [
    "%time cuts , parts = metis.part_graph(stanford,16, tpwgts=None, ubvec=None, recursive=True, ctype='shem', iptype='grow',rtype='greedy')\n",
    "print('edge cut:'+str(cuts/k))"
   ]
  },
  {
   "cell_type": "code",
   "execution_count": 31,
   "metadata": {},
   "outputs": [
    {
     "name": "stdout",
     "output_type": "stream",
     "text": [
      "CPU times: user 14.6 s, sys: 240 ms, total: 14.9 s\n",
      "Wall time: 14.9 s\n",
      "edge cut:0.09036171182293204\n"
     ]
    }
   ],
   "source": [
    "%time cuts , parts = metis.part_graph(stanford,32, tpwgts=None, ubvec=None, recursive=True, ctype='shem', iptype='grow',rtype='greedy')\n",
    "print('edge cut:'+str(cuts/k))"
   ]
  },
  {
   "cell_type": "code",
   "execution_count": 32,
   "metadata": {},
   "outputs": [
    {
     "name": "stdout",
     "output_type": "stream",
     "text": [
      "CPU times: user 13.9 s, sys: 248 ms, total: 14.2 s\n",
      "Wall time: 14.2 s\n",
      "edge cut:0.1157737790544786\n"
     ]
    }
   ],
   "source": [
    "%time cuts , parts = metis.part_graph(stanford,40, tpwgts=None, ubvec=None, recursive=True, ctype='shem', iptype='grow',rtype='greedy')\n",
    "print('edge cut:'+str(cuts/k))"
   ]
  },
  {
   "cell_type": "markdown",
   "metadata": {},
   "source": [
    "# Reseaux routier"
   ]
  },
  {
   "cell_type": "code",
   "execution_count": 33,
   "metadata": {},
   "outputs": [
    {
     "name": "stdout",
     "output_type": "stream",
     "text": [
      "CPU times: user 38.7 s, sys: 812 ms, total: 39.5 s\n",
      "Wall time: 39.5 s\n"
     ]
    }
   ],
   "source": [
    "%time californi = nx.read_edgelist('roadNet-CA.txt',create_using=nx.Graph())"
   ]
  },
  {
   "cell_type": "code",
   "execution_count": 56,
   "metadata": {},
   "outputs": [
    {
     "name": "stdout",
     "output_type": "stream",
     "text": [
      "Name: \n",
      "Type: Graph\n",
      "Number of nodes: 1965206\n",
      "Number of edges: 2766607\n",
      "Average degree:   2.8156\n"
     ]
    }
   ],
   "source": [
    "print(nx.info(californi))"
   ]
  },
  {
   "cell_type": "code",
   "execution_count": 34,
   "metadata": {},
   "outputs": [
    {
     "name": "stdout",
     "output_type": "stream",
     "text": [
      "CPU times: user 34.6 s, sys: 592 ms, total: 35.2 s\n",
      "Wall time: 35.2 s\n",
      "edge cut:7.771251934228461e-05\n"
     ]
    }
   ],
   "source": [
    "%time cuts , parts = metis.part_graph(californi,2, tpwgts=None, ubvec=None, recursive=True, ctype='shem', iptype='grow',rtype='greedy')\n",
    "k= len(californi.edges)\n",
    "print('edge cut:'+str(cuts/k))"
   ]
  },
  {
   "cell_type": "code",
   "execution_count": 35,
   "metadata": {},
   "outputs": [
    {
     "name": "stdout",
     "output_type": "stream",
     "text": [
      "CPU times: user 32.7 s, sys: 584 ms, total: 33.2 s\n",
      "Wall time: 33.2 s\n",
      "edge cut:0.0002454269796902849\n"
     ]
    }
   ],
   "source": [
    "%time cuts , parts = metis.part_graph(californi,4, tpwgts=None, ubvec=None, recursive=True, ctype='shem', iptype='grow',rtype='greedy')\n",
    "print('edge cut:'+str(cuts/k))"
   ]
  },
  {
   "cell_type": "code",
   "execution_count": 36,
   "metadata": {},
   "outputs": [
    {
     "name": "stdout",
     "output_type": "stream",
     "text": [
      "CPU times: user 37 s, sys: 704 ms, total: 37.7 s\n",
      "Wall time: 37.8 s\n",
      "edge cut:0.0004474795299802249\n"
     ]
    }
   ],
   "source": [
    "%time cuts , parts = metis.part_graph(californi,8, tpwgts=None, ubvec=None, recursive=True, ctype='shem', iptype='grow',rtype='greedy')\n",
    "print('edge cut:'+str(cuts/k))"
   ]
  },
  {
   "cell_type": "code",
   "execution_count": 37,
   "metadata": {},
   "outputs": [
    {
     "name": "stdout",
     "output_type": "stream",
     "text": [
      "CPU times: user 37.7 s, sys: 721 ms, total: 38.4 s\n",
      "Wall time: 38.6 s\n",
      "edge cut:0.0007937520580263116\n"
     ]
    }
   ],
   "source": [
    "%time cuts , parts = metis.part_graph(californi,16, tpwgts=None, ubvec=None, recursive=True, ctype='shem', iptype='grow',rtype='greedy')\n",
    "print('edge cut:'+str(cuts/k))"
   ]
  },
  {
   "cell_type": "code",
   "execution_count": 38,
   "metadata": {},
   "outputs": [
    {
     "name": "stdout",
     "output_type": "stream",
     "text": [
      "CPU times: user 37.8 s, sys: 744 ms, total: 38.6 s\n",
      "Wall time: 38.6 s\n",
      "edge cut:0.0012918350889736055\n"
     ]
    }
   ],
   "source": [
    "%time cuts , parts = metis.part_graph(californi,32, tpwgts=None, ubvec=None, recursive=True, ctype='shem', iptype='grow',rtype='greedy')\n",
    "print('edge cut:'+str(cuts/k))"
   ]
  },
  {
   "cell_type": "markdown",
   "metadata": {},
   "source": [
    "# Web ND"
   ]
  },
  {
   "cell_type": "code",
   "execution_count": 39,
   "metadata": {},
   "outputs": [
    {
     "name": "stdout",
     "output_type": "stream",
     "text": [
      "CPU times: user 7.79 s, sys: 204 ms, total: 8 s\n",
      "Wall time: 8.01 s\n"
     ]
    }
   ],
   "source": [
    "%time web_nd = nx.read_edgelist('web-NotreDame.txt',create_using=nx.Graph())"
   ]
  },
  {
   "cell_type": "code",
   "execution_count": 40,
   "metadata": {},
   "outputs": [
    {
     "name": "stdout",
     "output_type": "stream",
     "text": [
      "CPU times: user 10.7 s, sys: 276 ms, total: 11 s\n",
      "Wall time: 11 s\n",
      "edge cut:0.004881156588040227\n"
     ]
    }
   ],
   "source": [
    "%time cuts , parts = metis.part_graph(web_nd,2, tpwgts=None, ubvec=None, recursive=True, ctype='shem', iptype='grow',rtype='greedy')\n",
    "k= len(web_nd.edges)\n",
    "print('edge cut:'+str(cuts/k))"
   ]
  },
  {
   "cell_type": "code",
   "execution_count": 41,
   "metadata": {},
   "outputs": [
    {
     "name": "stdout",
     "output_type": "stream",
     "text": [
      "CPU times: user 7.06 s, sys: 160 ms, total: 7.22 s\n",
      "Wall time: 7.22 s\n",
      "edge cut:0.013700346199722074\n"
     ]
    }
   ],
   "source": [
    "%time cuts , parts = metis.part_graph(web_nd,4, tpwgts=None, ubvec=None, recursive=True, ctype='shem', iptype='grow',rtype='greedy')\n",
    "print('edge cut:'+str(cuts/k))"
   ]
  },
  {
   "cell_type": "code",
   "execution_count": 42,
   "metadata": {},
   "outputs": [
    {
     "name": "stdout",
     "output_type": "stream",
     "text": [
      "CPU times: user 10.1 s, sys: 160 ms, total: 10.3 s\n",
      "Wall time: 10.3 s\n",
      "edge cut:0.01989149604988712\n"
     ]
    }
   ],
   "source": [
    "%time cuts , parts = metis.part_graph(web_nd,8, tpwgts=None, ubvec=None, recursive=True, ctype='shem', iptype='grow',rtype='greedy')\n",
    "print('edge cut:'+str(cuts/k))"
   ]
  },
  {
   "cell_type": "code",
   "execution_count": 43,
   "metadata": {},
   "outputs": [
    {
     "name": "stdout",
     "output_type": "stream",
     "text": [
      "CPU times: user 7.38 s, sys: 95.9 ms, total: 7.47 s\n",
      "Wall time: 7.47 s\n",
      "edge cut:0.025134153510808787\n"
     ]
    }
   ],
   "source": [
    "%time cuts , parts = metis.part_graph(web_nd,16, tpwgts=None, ubvec=None, recursive=True, ctype='shem', iptype='grow',rtype='greedy')\n",
    "print('edge cut:'+str(cuts/k))"
   ]
  },
  {
   "cell_type": "code",
   "execution_count": 44,
   "metadata": {},
   "outputs": [
    {
     "name": "stdout",
     "output_type": "stream",
     "text": [
      "CPU times: user 7.35 s, sys: 124 ms, total: 7.48 s\n",
      "Wall time: 7.48 s\n",
      "edge cut:0.033298346491428224\n"
     ]
    }
   ],
   "source": [
    "%time cuts , parts = metis.part_graph(web_nd,32, tpwgts=None, ubvec=None, recursive=True, ctype='shem', iptype='grow',rtype='greedy')\n",
    "print('edge cut:'+str(cuts/k))"
   ]
  },
  {
   "cell_type": "code",
   "execution_count": 45,
   "metadata": {},
   "outputs": [
    {
     "name": "stdout",
     "output_type": "stream",
     "text": [
      "CPU times: user 11.9 s, sys: 236 ms, total: 12.1 s\n",
      "Wall time: 12.2 s\n",
      "edge cut:0.033833439367624014\n"
     ]
    }
   ],
   "source": [
    "%time cuts , parts = metis.part_graph(web_nd,40, tpwgts=None, ubvec=None, recursive=True, ctype='shem', iptype='grow',rtype='greedy')\n",
    "print('edge cut:'+str(cuts/k))"
   ]
  },
  {
   "cell_type": "markdown",
   "metadata": {},
   "source": [
    "# Amazon"
   ]
  },
  {
   "cell_type": "code",
   "execution_count": 49,
   "metadata": {},
   "outputs": [
    {
     "name": "stdout",
     "output_type": "stream",
     "text": [
      "CPU times: user 6.49 s, sys: 188 ms, total: 6.68 s\n",
      "Wall time: 6.67 s\n"
     ]
    }
   ],
   "source": [
    "%time amazon = nx.read_edgelist('Amazon0302.txt',create_using=nx.Graph())"
   ]
  },
  {
   "cell_type": "code",
   "execution_count": 50,
   "metadata": {},
   "outputs": [
    {
     "data": {
      "text/plain": [
       "'Name: \\nType: Graph\\nNumber of nodes: 262111\\nNumber of edges: 899792\\nAverage degree:   6.8657'"
      ]
     },
     "execution_count": 50,
     "metadata": {},
     "output_type": "execute_result"
    }
   ],
   "source": [
    "nx.info(amazon)"
   ]
  },
  {
   "cell_type": "code",
   "execution_count": 51,
   "metadata": {},
   "outputs": [
    {
     "name": "stdout",
     "output_type": "stream",
     "text": [
      "CPU times: user 6.78 s, sys: 184 ms, total: 6.96 s\n",
      "Wall time: 6.96 s\n",
      "edge cut:0.015540258193004605\n"
     ]
    }
   ],
   "source": [
    "%time cuts , parts = metis.part_graph(amazon,2, tpwgts=None, ubvec=None, recursive=True, ctype='shem', iptype='grow',rtype='greedy')\n",
    "k= len(amazon.edges)\n",
    "print('edge cut:'+str(cuts/k))"
   ]
  },
  {
   "cell_type": "code",
   "execution_count": 52,
   "metadata": {},
   "outputs": [
    {
     "name": "stdout",
     "output_type": "stream",
     "text": [
      "CPU times: user 10.8 s, sys: 180 ms, total: 10.9 s\n",
      "Wall time: 10.9 s\n",
      "edge cut:0.032370814588260396\n"
     ]
    }
   ],
   "source": [
    "%time cuts , parts = metis.part_graph(amazon,4, tpwgts=None, ubvec=None, recursive=True, ctype='shem', iptype='grow',rtype='greedy')\n",
    "print('edge cut:'+str(cuts/k))"
   ]
  },
  {
   "cell_type": "code",
   "execution_count": 53,
   "metadata": {},
   "outputs": [
    {
     "name": "stdout",
     "output_type": "stream",
     "text": [
      "CPU times: user 7.11 s, sys: 104 ms, total: 7.22 s\n",
      "Wall time: 7.22 s\n",
      "edge cut:0.05097066877678397\n"
     ]
    }
   ],
   "source": [
    "%time cuts , parts = metis.part_graph(amazon,8, tpwgts=None, ubvec=None, recursive=True, ctype='shem', iptype='grow',rtype='greedy')\n",
    "print('edge cut:'+str(cuts/k))"
   ]
  },
  {
   "cell_type": "code",
   "execution_count": 54,
   "metadata": {},
   "outputs": [
    {
     "name": "stdout",
     "output_type": "stream",
     "text": [
      "CPU times: user 7.01 s, sys: 132 ms, total: 7.14 s\n",
      "Wall time: 7.15 s\n",
      "edge cut:0.06471384497750592\n"
     ]
    }
   ],
   "source": [
    "%time cuts , parts = metis.part_graph(amazon,16, tpwgts=None, ubvec=None, recursive=True, ctype='shem', iptype='grow',rtype='greedy')\n",
    "print('edge cut:'+str(cuts/k))"
   ]
  },
  {
   "cell_type": "code",
   "execution_count": 55,
   "metadata": {},
   "outputs": [
    {
     "name": "stdout",
     "output_type": "stream",
     "text": [
      "CPU times: user 7.61 s, sys: 100 ms, total: 7.71 s\n",
      "Wall time: 7.71 s\n",
      "edge cut:0.08224122908405498\n"
     ]
    }
   ],
   "source": [
    "%time cuts , parts = metis.part_graph(amazon,32, tpwgts=None, ubvec=None, recursive=True, ctype='shem', iptype='grow',rtype='greedy')\n",
    "print('edge cut:'+str(cuts/k))"
   ]
  },
  {
   "cell_type": "markdown",
   "metadata": {},
   "source": [
    "# wiki Talk partioning"
   ]
  },
  {
   "cell_type": "code",
   "execution_count": 4,
   "metadata": {},
   "outputs": [
    {
     "name": "stdout",
     "output_type": "stream",
     "text": [
      "CPU times: user 36.7 s, sys: 1.26 s, total: 38 s\n",
      "Wall time: 38 s\n"
     ]
    }
   ],
   "source": [
    "%time wiki_talk = nx.read_edgelist('WikiTalk.txt',create_using=nx.Graph())"
   ]
  },
  {
   "cell_type": "code",
   "execution_count": 5,
   "metadata": {},
   "outputs": [
    {
     "name": "stdout",
     "output_type": "stream",
     "text": [
      "Name: \n",
      "Type: Graph\n",
      "Number of nodes: 2394385\n",
      "Number of edges: 4659565\n",
      "Average degree:   3.8921\n"
     ]
    }
   ],
   "source": [
    "print(nx.info(wiki_talk))"
   ]
  },
  {
   "cell_type": "code",
   "execution_count": 6,
   "metadata": {},
   "outputs": [
    {
     "name": "stdout",
     "output_type": "stream",
     "text": [
      "CPU times: user 51.3 s, sys: 1.26 s, total: 52.5 s\n",
      "Wall time: 1min 48s\n",
      "edge cut:0.12250027631334685\n"
     ]
    }
   ],
   "source": [
    "%time cuts , parts = metis.part_graph(wiki_talk,2, tpwgts=None, ubvec=None, recursive=True, ctype='shem', iptype='grow',rtype='greedy')\n",
    "k= len(wiki_talk.edges)\n",
    "print('edge cut:'+str(cuts/k))"
   ]
  },
  {
   "cell_type": "code",
   "execution_count": 7,
   "metadata": {},
   "outputs": [
    {
     "name": "stdout",
     "output_type": "stream",
     "text": [
      "CPU times: user 53 s, sys: 4.41 s, total: 57.4 s\n",
      "Wall time: 4min 41s\n",
      "edge cut:0.23125892653069546\n"
     ]
    }
   ],
   "source": [
    "%time cuts , parts = metis.part_graph(wiki_talk,4, tpwgts=None, ubvec=None, recursive=True, ctype='shem', iptype='grow',rtype='greedy')\n",
    "print('edge cut:'+str(cuts/k))"
   ]
  },
  {
   "cell_type": "code",
   "execution_count": 8,
   "metadata": {},
   "outputs": [
    {
     "name": "stdout",
     "output_type": "stream",
     "text": [
      "CPU times: user 55 s, sys: 1.2 s, total: 56.2 s\n",
      "Wall time: 56.4 s\n",
      "edge cut:0.31886946528270343\n"
     ]
    }
   ],
   "source": [
    "%time cuts , parts = metis.part_graph(wiki_talk,8, tpwgts=None, ubvec=None, recursive=True, ctype='shem', iptype='grow',rtype='greedy')\n",
    "print('edge cut:'+str(cuts/k))"
   ]
  },
  {
   "cell_type": "code",
   "execution_count": 9,
   "metadata": {},
   "outputs": [
    {
     "name": "stdout",
     "output_type": "stream",
     "text": [
      "CPU times: user 56.7 s, sys: 1.14 s, total: 57.8 s\n",
      "Wall time: 57.9 s\n",
      "edge cut:0.37397417999319676\n"
     ]
    }
   ],
   "source": [
    "%time cuts , parts = metis.part_graph(wiki_talk,16, tpwgts=None, ubvec=None, recursive=True, ctype='shem', iptype='grow',rtype='greedy')\n",
    "print('edge cut:'+str(cuts/k))"
   ]
  },
  {
   "cell_type": "code",
   "execution_count": 10,
   "metadata": {},
   "outputs": [
    {
     "name": "stdout",
     "output_type": "stream",
     "text": [
      "CPU times: user 55.4 s, sys: 1.09 s, total: 56.5 s\n",
      "Wall time: 59.4 s\n",
      "edge cut:0.4129784647279306\n"
     ]
    }
   ],
   "source": [
    "%time cuts , parts = metis.part_graph(wiki_talk,32, tpwgts=None, ubvec=None, recursive=True, ctype='shem', iptype='grow',rtype='greedy')\n",
    "print('edge cut:'+str(cuts/k))"
   ]
  },
  {
   "cell_type": "code",
   "execution_count": null,
   "metadata": {
    "collapsed": true
   },
   "outputs": [],
   "source": []
  },
  {
   "cell_type": "code",
   "execution_count": 2,
   "metadata": {},
   "outputs": [
    {
     "name": "stdout",
     "output_type": "stream",
     "text": [
      "CPU times: user 23.3 s, sys: 583 ms, total: 23.9 s\n",
      "Wall time: 24 s\n"
     ]
    }
   ],
   "source": [
    "%time amazon2 = nx.read_edgelist('Amazon0505.txt',create_using=nx.Graph())"
   ]
  },
  {
   "cell_type": "code",
   "execution_count": 5,
   "metadata": {},
   "outputs": [
    {
     "name": "stdout",
     "output_type": "stream",
     "text": [
      "CPU times: user 19.3 s, sys: 252 ms, total: 19.5 s\n",
      "Wall time: 19.5 s\n",
      "edge cut:0.019942306360033073\n"
     ]
    }
   ],
   "source": [
    "%time cuts , parts = metis.part_graph(amazon2,2, tpwgts=None, ubvec=None, recursive=True, ctype='shem', iptype='grow',rtype='greedy')\n",
    "k= len(amazon2.edges)\n",
    "print('edge cut:'+str(cuts/k))"
   ]
  },
  {
   "cell_type": "code",
   "execution_count": 6,
   "metadata": {},
   "outputs": [
    {
     "name": "stdout",
     "output_type": "stream",
     "text": [
      "CPU times: user 18 s, sys: 300 ms, total: 18.3 s\n",
      "Wall time: 18.3 s\n",
      "edge cut:0.04213185255450336\n"
     ]
    }
   ],
   "source": [
    "%time cuts , parts = metis.part_graph(amazon2,4, tpwgts=None, ubvec=None, recursive=True, ctype='shem', iptype='grow',rtype='greedy')\n",
    "print('edge cut:'+str(cuts/k))"
   ]
  },
  {
   "cell_type": "code",
   "execution_count": 4,
   "metadata": {},
   "outputs": [
    {
     "name": "stdout",
     "output_type": "stream",
     "text": [
      "CPU times: user 22.6 s, sys: 352 ms, total: 23 s\n",
      "Wall time: 23 s\n",
      "edge cut:0.08358404008793832\n"
     ]
    }
   ],
   "source": [
    "%time cuts , parts = metis.part_graph(amazon2,16, tpwgts=None, ubvec=None, recursive=True, ctype='shem', iptype='grow',rtype='greedy')\n",
    "k= len(amazon2.edges)\n",
    "\n",
    "print('edge cut:'+str(cuts/k))"
   ]
  },
  {
   "cell_type": "code",
   "execution_count": 5,
   "metadata": {},
   "outputs": [
    {
     "name": "stdout",
     "output_type": "stream",
     "text": [
      "CPU times: user 23.3 s, sys: 396 ms, total: 23.7 s\n",
      "Wall time: 23.7 s\n",
      "edge cut:0.10593099965278874\n"
     ]
    }
   ],
   "source": [
    "%time cuts , parts = metis.part_graph(amazon2,32, tpwgts=None, ubvec=None, recursive=True, ctype='shem', iptype='grow',rtype='greedy')\n",
    "print('edge cut:'+str(cuts/k))"
   ]
  },
  {
   "cell_type": "code",
   "execution_count": 6,
   "metadata": {},
   "outputs": [
    {
     "name": "stdout",
     "output_type": "stream",
     "text": [
      "CPU times: user 21.2 s, sys: 308 ms, total: 21.5 s\n",
      "Wall time: 21.5 s\n",
      "edge cut:0.11394268431609425\n"
     ]
    }
   ],
   "source": [
    "%time cuts , parts = metis.part_graph(amazon2,40, tpwgts=None, ubvec=None, recursive=True, ctype='shem', iptype='grow',rtype='greedy')\n",
    "print('edge cut:'+str(cuts/k))"
   ]
  },
  {
   "cell_type": "code",
   "execution_count": null,
   "metadata": {
    "collapsed": true
   },
   "outputs": [],
   "source": []
  }
 ],
 "metadata": {
  "kernelspec": {
   "display_name": "Python 3",
   "language": "python",
   "name": "python3"
  },
  "language_info": {
   "codemirror_mode": {
    "name": "ipython",
    "version": 3
   },
   "file_extension": ".py",
   "mimetype": "text/x-python",
   "name": "python",
   "nbconvert_exporter": "python",
   "pygments_lexer": "ipython3",
   "version": "3.6.1"
  }
 },
 "nbformat": 4,
 "nbformat_minor": 2
}
