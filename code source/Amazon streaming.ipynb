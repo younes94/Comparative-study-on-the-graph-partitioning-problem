{
 "cells": [
  {
   "cell_type": "code",
   "execution_count": 1,
   "metadata": {
    "collapsed": true
   },
   "outputs": [],
   "source": [
    "# Constants for you to change\n",
    "import os\n",
    "\n",
    "DATA_DIRECTORY = '/home/younes'\n",
    "LIVEJOURNAL_FILENAME = os.path.join(DATA_DIRECTORY, 'amazon0302.txt.gz')\n",
    "LIVEJOURNAL_URL = 'http://snap.stanford.edu/data/amazon0302.txt.gz'\n",
    "\n",
    "# Just have these hardcoded, though we don't really need to\n",
    "NUM_EDGES = 1234877\n",
    "NUM_NODES = 262111"
   ]
  },
  {
   "cell_type": "code",
   "execution_count": 2,
   "metadata": {},
   "outputs": [
    {
     "name": "stdout",
     "output_type": "stream",
     "text": [
      "DOWNLOADING 250M FILE. WILL SAVE FOR FUTURE USE\n",
      "\n",
      "FILE STATS:\n",
      "-rw-rw-r-- 1 younes younes 4.5M ماي 19 01:53 /home/younes/amazon0302.txt.gz\n",
      "\n",
      "STARTING LINES\n",
      "# Directed graph (each unordered pair of nodes is saved once): Amazon0302.txt \n",
      "# Amazon product co-purchaisng network from March 02 2003\n",
      "# Nodes: 262111 Edges: 1234877\n",
      "# FromNodeId\tToNodeId\n",
      "0\t1\n",
      "0\t2\n",
      "0\t3\n",
      "0\t4\n",
      "0\t5\n",
      "1\t0\n",
      "1\t2\n",
      "1\t4\n",
      "1\t5\n",
      "1\t15\n",
      "2\t0\n",
      "2\t11\n",
      "2\t12\n",
      "2\t13\n",
      "2\t14\n",
      "3\t63\n",
      "3\t64\n",
      "3\t65\n",
      "3\t66\n",
      "3\t67\n",
      "4\t7\n",
      "4\t16\n",
      "4\t17\n",
      "4\t18\n",
      "4\t19\n",
      "5\t6\n",
      "\n",
      "gzip: stdout: Broken pipe\n"
     ]
    }
   ],
   "source": [
    "# Downloading the file\n",
    "\n",
    "import urllib.request\n",
    "\n",
    "assert os.path.exists(DATA_DIRECTORY)\n",
    "\n",
    "# Get your data. This file is ~250M so it will take a bit\n",
    "print('DOWNLOADING 250M FILE. WILL SAVE FOR FUTURE USE')\n",
    "if not os.path.exists(LIVEJOURNAL_FILENAME):\n",
    "    urllib.request.urlretrieve(LIVEJOURNAL_URL, LIVEJOURNAL_FILENAME)\n",
    "\n",
    "# Show a little bit of the file\n",
    "print('\\nFILE STATS:')\n",
    "!ls -lh $LIVEJOURNAL_FILENAME\n",
    "print('\\nSTARTING LINES')\n",
    "!zcat $LIVEJOURNAL_FILENAME | head -n 30"
   ]
  },
  {
   "cell_type": "code",
   "execution_count": 3,
   "metadata": {
    "collapsed": true
   },
   "outputs": [],
   "source": [
    "# Cleaning the data\n",
    "\n",
    "import numpy as np\n",
    "import gzip\n",
    "\n",
    "def row_generator():\n",
    "    \"\"\"This will generate all the edges in the graph.\"\"\"\n",
    "    with gzip.open(LIVEJOURNAL_FILENAME, 'rt') as f:\n",
    "        for line in f:\n",
    "            if line.startswith('#'):\n",
    "                continue\n",
    "            else:\n",
    "                (left_node, right_node) = line.split('\\t')\n",
    "                yield(int(left_node), int(right_node))\n",
    "\n",
    "def to_undirected(edge_iterable, num_edges, num_nodes, shuffle=True):\n",
    "    \"\"\"Takes an iterable of edges and produces the list of edges for the undirected graph.\n",
    "    \n",
    "    > to_undirected([[0,1],[1,2],[2,10]], 3, 11)\n",
    "    array([[ 0,  1],\n",
    "       [ 1,  0],\n",
    "       [ 1,  2],\n",
    "       [ 2,  1],\n",
    "       [ 2, 10],\n",
    "       [10,  2]])\n",
    "    \"\"\"\n",
    "    # need int64 to do gross bithacks\n",
    "    as_array = np.zeros((num_edges, 2), dtype=np.int64)\n",
    "    for (i, (n_0, n_1)) in enumerate(edge_iterable):\n",
    "            as_array[i,0] = n_0\n",
    "            as_array[i,1] = n_1\n",
    "    # The graph is directed, but we want to make it undirected,\n",
    "    # which means we will duplicate some rows.\n",
    "\n",
    "    left_nodes = as_array[:,0]\n",
    "    right_nodes = as_array[:,1]\n",
    "    \n",
    "    if shuffle:\n",
    "        the_shuffle = np.arange(num_nodes)\n",
    "        np.random.shuffle(the_shuffle)\n",
    "        left_nodes = the_shuffle.take(left_nodes)\n",
    "        right_nodes = the_shuffle.take(right_nodes)\n",
    "\n",
    "    \n",
    "    # numpy.unique will not unique whole rows, so this little bit-hacking\n",
    "    # is a quick way to get unique rows after making a flipped copy of\n",
    "    # each edge.\n",
    "    max_bits = int(np.ceil(np.log2(num_nodes + 1)))\n",
    "    \n",
    "    encoded_edges_forward = np.left_shift(left_nodes, max_bits) | right_nodes\n",
    "    \n",
    "    # Flip the columns and do it again:\n",
    "    encoded_edges_reverse = np.left_shift(right_nodes, max_bits) | left_nodes\n",
    "\n",
    "    unique_encoded_edges = np.unique(np.hstack((encoded_edges_forward, encoded_edges_reverse)))\n",
    "    \n",
    "    left_node_decoded = np.right_shift(unique_encoded_edges, max_bits)\n",
    "    \n",
    "    # Mask out the high order bits\n",
    "    right_node_decoded = (2 ** (max_bits) - 1) & unique_encoded_edges\n",
    "    \n",
    "    undirected_edges = np.vstack((left_node_decoded, right_node_decoded)).T.astype(np.int32)\n",
    "\n",
    "    # ascontiguousarray so that it's c-contiguous for cython code below\n",
    "    return np.ascontiguousarray(undirected_edges)\n",
    "\n",
    "\n",
    "def get_clean_data(shuffle=True):\n",
    "    if shuffle:\n",
    "        name = os.path.join(DATA_DIRECTORY, 'LJ-cleaned-shuffled.npy')\n",
    "    else:\n",
    "        name = os.path.join(DATA_DIRECTORY, 'LJ-cleaned.npy')\n",
    "\n",
    "    if os.path.exists(name):\n",
    "        print('Loading from file {}'.format(name))\n",
    "        return np.load(name)\n",
    "    else:\n",
    "        print('Parsing from zip. Will write to file {}'.format(name), flush=True)\n",
    "        # Lets get the edges into one big array\n",
    "        edges = to_undirected(row_generator(), NUM_EDGES, NUM_NODES, shuffle=shuffle)\n",
    "        print('ORIGINAL DIST: {} MIN: {} MAX: {}'.format(np.abs(edges[:,0] - edges[:,1]).mean(), edges.min(), edges.max()))\n",
    "        np.save(name, edges)\n",
    "        return edges"
   ]
  },
  {
   "cell_type": "code",
   "execution_count": 4,
   "metadata": {},
   "outputs": [
    {
     "name": "stdout",
     "output_type": "stream",
     "text": [
      "Normalizing data (or loaded pre-computed)\n",
      "Loading from file /home/younes/LJ-cleaned-shuffled.npy\n",
      "CPU times: user 9.33 ms, sys: 6.63 ms, total: 16 ms\n",
      "Wall time: 354 ms\n",
      "Loading from file /home/younes/LJ-cleaned.npy\n",
      "CPU times: user 14.1 ms, sys: 35.8 ms, total: 49.9 ms\n",
      "Wall time: 1.11 s\n",
      "\n",
      "EDGES SHAPE: (1799584, 2)\n"
     ]
    }
   ],
   "source": [
    "print(\"Normalizing data (or loaded pre-computed)\")\n",
    "%time edges = get_clean_data(shuffle=True)\n",
    "%time unshuffled_edges = get_clean_data(shuffle=False)\n",
    "print('\\nEDGES SHAPE: {}'.format(edges.shape))"
   ]
  },
  {
   "cell_type": "code",
   "execution_count": 5,
   "metadata": {
    "collapsed": true
   },
   "outputs": [],
   "source": [
    "def score(assignment, edges):\n",
    "    \"\"\"Compute the score given an assignment of vertices.\n",
    "    \n",
    "    N nodes are assigned to clusters 0 to K-1.\n",
    "    \n",
    "    assignment: Vector where N[i] is the cluster node i is assigned to.\n",
    "    edges: The edges in the graph, assumed to have one in each direction\n",
    "    \n",
    "    Returns: (total wasted bin space, ratio of edges cut)\n",
    "    \"\"\"\n",
    "    balance = np.bincount(assignment) / len(assignment)\n",
    "    waste = (np.max(balance) - balance).sum()\n",
    "    \n",
    "    left_edge_assignment = assignment.take(edges[:,0])\n",
    "    right_edge_assignment = assignment.take(edges[:,1])\n",
    "    mismatch = (left_edge_assignment != right_edge_assignment).sum()\n",
    "    cut_ratio = mismatch / len(edges)\n",
    "    return (waste, cut_ratio)"
   ]
  },
  {
   "cell_type": "code",
   "execution_count": 6,
   "metadata": {},
   "outputs": [
    {
     "name": "stdout",
     "output_type": "stream",
     "text": [
      "Populating the interactive namespace from numpy and matplotlib\n"
     ]
    }
   ],
   "source": [
    "%load_ext cython\n",
    "%pylab inline"
   ]
  },
  {
   "cell_type": "code",
   "execution_count": 7,
   "metadata": {
    "collapsed": true
   },
   "outputs": [],
   "source": [
    "%%cython\n",
    "import numpy as np\n",
    "cimport cython\n",
    "\n",
    "cdef int UNMAPPED = -1\n",
    "\n",
    "def linear_deterministic_greedy(int[:,::] edges,\n",
    "                                int num_nodes,\n",
    "                                int num_partitions,\n",
    "                                int[::] partition):\n",
    "    \"\"\"\n",
    "    This algorithm favors a cluster if it has many neighbors of a node, but\n",
    "    penalizes the cluster if it is close to capacity.\n",
    "    \n",
    "    edges: An [:,2] array of edges.\n",
    "    num_nodes: The number of nodes in the graph.\n",
    "    num_partitions: How many partitions we are breaking the graph into.\n",
    "    partition: The partition from a previous run. Used for restreaming.\n",
    "\n",
    "    Returns: A new partition.\n",
    "    \"\"\"\n",
    "    # The output partition\n",
    "\n",
    "    if partition is None:\n",
    "        partition = np.repeat(np.int32(UNMAPPED), num_nodes)\n",
    "\n",
    "    cdef int[::] partition_sizes = np.zeros(num_partitions, dtype=np.int32)\n",
    "         \n",
    "    cdef int[::] partition_votes = np.zeros(num_partitions, dtype=np.int32)\n",
    "    \n",
    "    # Fine to be a little off, to stay integers\n",
    "    cdef int partition_capacity = num_nodes / num_partitions\n",
    "    \n",
    "    cdef int last_left = edges[0,0]\n",
    "    cdef int i = 0\n",
    "    cdef int left = 0\n",
    "    cdef int right = 0\n",
    "    cdef int arg = 0\n",
    "    cdef int max_arg = 0\n",
    "    cdef int max_val = 0\n",
    "    cdef int val = 0\n",
    "    cdef int len_edges = len(edges)\n",
    "    \n",
    "    for i in range(len_edges):\n",
    "        left = edges[i,0]\n",
    "        right = edges[i,1]\n",
    "    \n",
    "        if last_left != left:\n",
    "            # We have found a new node so assign last_left to a partition\n",
    "                \n",
    "            max_arg = 0\n",
    "            max_val = (partition_votes[0]) * (\n",
    "                       partition_capacity - partition_sizes[0])\n",
    "\n",
    "            for arg in range(1, num_partitions):\n",
    "                val = (partition_votes[arg]) * (\n",
    "                       partition_capacity - partition_sizes[arg])\n",
    "                if val > max_val:\n",
    "                    max_arg = arg\n",
    "                    max_val = val\n",
    "\n",
    "            if max_val == 0:\n",
    "                max_arg = arg\n",
    "                # No neighbors (or multiple maxed out) so \"randomly\" select\n",
    "                # the smallest partition\n",
    "                for arg in range(i % num_partitions, num_partitions):\n",
    "                    if partition_sizes[arg] < partition_capacity:\n",
    "                        max_arg = arg\n",
    "                        max_val = 1\n",
    "                        break\n",
    "                if max_val == 0:\n",
    "                    for arg in range(0, i % num_partitions):\n",
    "                        if partition_sizes[arg] < partition_capacity:\n",
    "                            max_arg = arg\n",
    "                            break\n",
    "\n",
    "\n",
    "            partition_sizes[max_arg] += 1\n",
    "            partition[last_left] = max_arg\n",
    "            partition_votes[:] = 0\n",
    "            last_left = left\n",
    "\n",
    "        if partition[right] != UNMAPPED:\n",
    "            partition_votes[partition[right]] += 1\n",
    "\n",
    "\n",
    "    # Clean up the last assignment\n",
    "    max_arg = 0\n",
    "    max_val = 0\n",
    "    for arg in range(0, num_partitions):\n",
    "        if partition_sizes[arg] < partition_capacity:\n",
    "            val = (partition_votes[arg]) * (\n",
    "                    1 - partition_sizes[arg] / partition_capacity)\n",
    "            if val > max_val:\n",
    "                max_arg = arg\n",
    "                max_val = val\n",
    "    partition[left] = max_arg\n",
    "\n",
    "    return np.asarray(partition)"
   ]
  },
  {
   "cell_type": "code",
   "execution_count": 10,
   "metadata": {},
   "outputs": [
    {
     "name": "stdout",
     "output_type": "stream",
     "text": [
      "CPU times: user 23.3 ms, sys: 615 µs, total: 23.9 ms\n",
      "Wall time: 25.1 ms\n"
     ]
    }
   ],
   "source": [
    "assignments = None\n",
    "%time partition = linear_deterministic_greedy(edges, NUM_NODES, 2, assignments)"
   ]
  },
  {
   "cell_type": "code",
   "execution_count": 9,
   "metadata": {},
   "outputs": [
    {
     "name": "stdout",
     "output_type": "stream",
     "text": [
      "edge score:0.18962826964454008 waste: 3.81517753927918e-06\n"
     ]
    }
   ],
   "source": [
    "(waste, edge_score) = score(partition, edges)\n",
    "print(\"edge score:\"+str(edge_score)+\" waste: \"+str(waste))\n"
   ]
  },
  {
   "cell_type": "code",
   "execution_count": 11,
   "metadata": {},
   "outputs": [
    {
     "name": "stdout",
     "output_type": "stream",
     "text": [
      "CPU times: user 23.8 ms, sys: 0 ns, total: 23.8 ms\n",
      "Wall time: 23.7 ms\n",
      "edge score:0.29644962391308216 waste: 1.90758876963959e-05\n"
     ]
    }
   ],
   "source": [
    "assignments = None\n",
    "%time partition = linear_deterministic_greedy(edges, NUM_NODES, 4, assignments)\n",
    "(waste, edge_score) = score(partition, edges)\n",
    "print(\"edge score:\"+str(edge_score)+\" waste: \"+str(waste))"
   ]
  },
  {
   "cell_type": "code",
   "execution_count": 12,
   "metadata": {},
   "outputs": [
    {
     "name": "stdout",
     "output_type": "stream",
     "text": [
      "CPU times: user 33.2 ms, sys: 96 µs, total: 33.3 ms\n",
      "Wall time: 32.9 ms\n",
      "edge score:0.3553543485605562 waste: 0.00015642227911083495\n"
     ]
    }
   ],
   "source": [
    "assignments = None\n",
    "%time partition = linear_deterministic_greedy(edges, NUM_NODES, 8, assignments)\n",
    "(waste, edge_score) = score(partition, edges)\n",
    "print(\"edge score:\"+str(edge_score)+\" waste: \"+str(waste))"
   ]
  },
  {
   "cell_type": "code",
   "execution_count": 13,
   "metadata": {},
   "outputs": [
    {
     "name": "stdout",
     "output_type": "stream",
     "text": [
      "CPU times: user 35.8 ms, sys: 620 µs, total: 36.4 ms\n",
      "Wall time: 36.9 ms\n",
      "edge score:0.3875640147945303 waste: 0.0007973721057109029\n"
     ]
    }
   ],
   "source": [
    "assignments = None\n",
    "%time partition = linear_deterministic_greedy(edges, NUM_NODES, 16, assignments)\n",
    "(waste, edge_score) = score(partition, edges)\n",
    "print(\"edge score:\"+str(edge_score)+\" waste: \"+str(waste))"
   ]
  },
  {
   "cell_type": "code",
   "execution_count": 14,
   "metadata": {},
   "outputs": [
    {
     "name": "stdout",
     "output_type": "stream",
     "text": [
      "CPU times: user 65.7 ms, sys: 0 ns, total: 65.7 ms\n",
      "Wall time: 66.4 ms\n",
      "edge score:0.405413695609652 waste: 0.0035442999339974496\n"
     ]
    }
   ],
   "source": [
    "assignments = None\n",
    "%time partition = linear_deterministic_greedy(edges, NUM_NODES, 32, assignments)\n",
    "(waste, edge_score) = score(partition, edges)\n",
    "print(\"edge score:\"+str(edge_score)+\" waste: \"+str(waste))"
   ]
  },
  {
   "cell_type": "code",
   "execution_count": 15,
   "metadata": {},
   "outputs": [
    {
     "name": "stdout",
     "output_type": "stream",
     "text": [
      "CPU times: user 62.9 ms, sys: 316 µs, total: 63.2 ms\n",
      "Wall time: 62.7 ms\n",
      "edge score:0.4085622010420186 waste: 0.004459942543426285\n"
     ]
    }
   ],
   "source": [
    "assignments = None\n",
    "%time partition = linear_deterministic_greedy(edges, NUM_NODES, 40, assignments)\n",
    "(waste, edge_score) = score(partition, edges)\n",
    "print(\"edge score:\"+str(edge_score)+\" waste: \"+str(waste))"
   ]
  },
  {
   "cell_type": "code",
   "execution_count": 8,
   "metadata": {
    "collapsed": true
   },
   "outputs": [],
   "source": [
    "def draw_figures(waste_values, edge_score_values, num_partitions):\n",
    "    fig, axes = plt.subplots(nrows=1, ncols=2)\n",
    "    \n",
    "    (waste_axes, score_axes) = axes\n",
    "    waste_axes.plot(waste_values, 'r')\n",
    "    waste_axes.set_xlabel('Round')\n",
    "    waste_axes.set_ylabel('Number of wasted bins')\n",
    "    waste_axes.set_ylim(bottom=0)\n",
    "    waste_axes.set_title('balance: {} partitions'.format(num_partitions))\n",
    "    \n",
    "    score_axes.plot(edge_score_values, 'r')\n",
    "    score_axes.set_xlabel('Round')\n",
    "    score_axes.set_ylabel('Edge cut')\n",
    "    score_axes.set_ylim(bottom=0)\n",
    "    score_axes.set_title('score: {} partitions'.format(num_partitions))\n",
    "    \n",
    "    fig.tight_layout()"
   ]
  },
  {
   "cell_type": "code",
   "execution_count": 29,
   "metadata": {
    "collapsed": true
   },
   "outputs": [],
   "source": [
    "def run_restreaming_greedy(edges, num_nodes, num_partitions=10, num_iterations=10):\n",
    "    print('\\n{} PARTITIONS'.format(num_partitions))\n",
    "    assignments = None\n",
    "    print('ROUND\\tWASTE\\tSCORE')\n",
    "    waste_values = []\n",
    "    edge_score_values = []\n",
    "    flipped_edges = numpy.flipud(edges).copy()\n",
    "    for i in range(num_iterations):\n",
    "        assignments = linear_deterministic_greedy(edges, NUM_NODES, num_partitions, assignments)\n",
    "        (waste, edge_score) = score(assignments, edges)\n",
    "        waste_values.append(waste)\n",
    "        edge_score_values.append(edge_score)\n",
    "        print('{}\\t{:0.3f}\\t{:0.3f}'.format(i, waste, edge_score))\n",
    "    draw_figures(waste_values, edge_score_values, num_partitions)"
   ]
  },
  {
   "cell_type": "code",
   "execution_count": 30,
   "metadata": {},
   "outputs": [
    {
     "name": "stdout",
     "output_type": "stream",
     "text": [
      "\n",
      "4 PARTITIONS\n",
      "ROUND\tWASTE\tSCORE\n",
      "0\t0.000\t0.296\n",
      "1\t0.000\t0.216\n",
      "2\t0.000\t0.197\n",
      "3\t0.000\t0.190\n",
      "4\t0.000\t0.187\n",
      "5\t0.000\t0.185\n",
      "6\t0.000\t0.184\n",
      "7\t0.000\t0.183\n",
      "8\t0.000\t0.183\n",
      "9\t0.000\t0.183\n",
      "10\t0.000\t0.183\n",
      "11\t0.000\t0.183\n",
      "12\t0.000\t0.183\n",
      "13\t0.000\t0.182\n",
      "14\t0.000\t0.182\n",
      "15\t0.000\t0.182\n",
      "16\t0.000\t0.182\n",
      "17\t0.000\t0.182\n",
      "18\t0.000\t0.182\n",
      "19\t0.000\t0.182\n",
      "CPU times: user 1.03 s, sys: 222 ms, total: 1.25 s\n",
      "Wall time: 1.14 s\n"
     ]
    },
    {
     "data": {
      "image/png": "[encoded data removed]",
      "text/plain": [
       "<matplotlib.figure.Figure at 0x7fc5d7ad9048>"
      ]
     },
     "metadata": {},
     "output_type": "display_data"
    }
   ],
   "source": [
    "%time run_restreaming_greedy(edges, NUM_NODES, num_partitions=4, num_iterations=20)\n"
   ]
  },
  {
   "cell_type": "code",
   "execution_count": 31,
   "metadata": {},
   "outputs": [
    {
     "name": "stdout",
     "output_type": "stream",
     "text": [
      "\n",
      "8 PARTITIONS\n",
      "ROUND\tWASTE\tSCORE\n",
      "0\t0.000\t0.355\n",
      "1\t0.000\t0.262\n",
      "2\t0.000\t0.241\n",
      "3\t0.000\t0.232\n",
      "4\t0.000\t0.228\n",
      "5\t0.000\t0.226\n",
      "6\t0.000\t0.225\n",
      "7\t0.000\t0.224\n",
      "8\t0.000\t0.224\n",
      "9\t0.000\t0.223\n",
      "10\t0.000\t0.223\n",
      "11\t0.000\t0.223\n",
      "12\t0.000\t0.223\n",
      "13\t0.000\t0.223\n",
      "14\t0.000\t0.223\n",
      "15\t0.000\t0.223\n",
      "16\t0.000\t0.223\n",
      "17\t0.000\t0.223\n",
      "18\t0.000\t0.223\n",
      "19\t0.000\t0.223\n",
      "CPU times: user 1.17 s, sys: 394 ms, total: 1.57 s\n",
      "Wall time: 1.29 s\n"
     ]
    },
    {
     "data": {
      "image/png": "[encoded data removed]",
      "text/plain": [
       "<matplotlib.figure.Figure at 0x7fc5d7ad9080>"
      ]
     },
     "metadata": {},
     "output_type": "display_data"
    }
   ],
   "source": [
    "%time run_restreaming_greedy(edges, NUM_NODES, num_partitions=8, num_iterations=20)\n"
   ]
  },
  {
   "cell_type": "code",
   "execution_count": 32,
   "metadata": {},
   "outputs": [
    {
     "name": "stdout",
     "output_type": "stream",
     "text": [
      "\n",
      "16 PARTITIONS\n",
      "ROUND\tWASTE\tSCORE\n",
      "0\t0.001\t0.388\n",
      "1\t0.001\t0.288\n",
      "2\t0.001\t0.265\n",
      "3\t0.001\t0.257\n",
      "4\t0.001\t0.253\n",
      "5\t0.001\t0.251\n",
      "6\t0.001\t0.250\n",
      "7\t0.001\t0.249\n",
      "8\t0.001\t0.248\n",
      "9\t0.001\t0.248\n",
      "10\t0.001\t0.248\n",
      "11\t0.001\t0.248\n",
      "12\t0.001\t0.248\n",
      "13\t0.001\t0.247\n",
      "14\t0.001\t0.247\n",
      "15\t0.001\t0.247\n",
      "16\t0.001\t0.247\n",
      "17\t0.001\t0.247\n",
      "18\t0.001\t0.247\n",
      "19\t0.001\t0.247\n",
      "CPU times: user 1.21 s, sys: 221 ms, total: 1.43 s\n",
      "Wall time: 1.32 s\n"
     ]
    },
    {
     "data": {
      "image/png": "[encoded data removed]",
      "text/plain": [
       "<matplotlib.figure.Figure at 0x7fc5d79e8710>"
      ]
     },
     "metadata": {},
     "output_type": "display_data"
    }
   ],
   "source": [
    "%time run_restreaming_greedy(edges, NUM_NODES, num_partitions=16, num_iterations=20)\n"
   ]
  },
  {
   "cell_type": "code",
   "execution_count": 33,
   "metadata": {},
   "outputs": [
    {
     "name": "stdout",
     "output_type": "stream",
     "text": [
      "\n",
      "32 PARTITIONS\n",
      "ROUND\tWASTE\tSCORE\n",
      "0\t0.004\t0.405\n",
      "1\t0.004\t0.303\n",
      "2\t0.004\t0.280\n",
      "3\t0.004\t0.272\n",
      "4\t0.004\t0.267\n",
      "5\t0.004\t0.265\n",
      "6\t0.004\t0.264\n",
      "7\t0.004\t0.263\n",
      "8\t0.004\t0.262\n",
      "9\t0.004\t0.262\n",
      "10\t0.004\t0.262\n",
      "11\t0.004\t0.262\n",
      "12\t0.004\t0.261\n",
      "13\t0.004\t0.261\n",
      "14\t0.004\t0.261\n",
      "15\t0.004\t0.261\n",
      "16\t0.004\t0.261\n",
      "17\t0.004\t0.261\n",
      "18\t0.004\t0.261\n",
      "19\t0.004\t0.261\n",
      "CPU times: user 1.52 s, sys: 258 ms, total: 1.77 s\n",
      "Wall time: 1.63 s\n"
     ]
    },
    {
     "data": {
      "image/png": "[encoded data removed]",
      "text/plain": [
       "<matplotlib.figure.Figure at 0x7fc5d75d6f98>"
      ]
     },
     "metadata": {},
     "output_type": "display_data"
    }
   ],
   "source": [
    "%time run_restreaming_greedy(edges, NUM_NODES, num_partitions=32, num_iterations=20)\n"
   ]
  },
  {
   "cell_type": "code",
   "execution_count": 34,
   "metadata": {},
   "outputs": [
    {
     "name": "stdout",
     "output_type": "stream",
     "text": [
      "\n",
      "40 PARTITIONS\n",
      "ROUND\tWASTE\tSCORE\n",
      "0\t0.004\t0.409\n",
      "1\t0.004\t0.306\n",
      "2\t0.004\t0.283\n",
      "3\t0.004\t0.274\n",
      "4\t0.004\t0.270\n",
      "5\t0.004\t0.268\n",
      "6\t0.004\t0.267\n",
      "7\t0.004\t0.266\n",
      "8\t0.004\t0.265\n",
      "9\t0.004\t0.265\n",
      "10\t0.004\t0.265\n",
      "11\t0.004\t0.265\n",
      "12\t0.004\t0.265\n",
      "13\t0.004\t0.264\n",
      "14\t0.004\t0.264\n",
      "15\t0.004\t0.264\n",
      "16\t0.004\t0.264\n",
      "17\t0.004\t0.264\n",
      "18\t0.004\t0.264\n",
      "19\t0.004\t0.264\n",
      "CPU times: user 1.64 s, sys: 236 ms, total: 1.87 s\n",
      "Wall time: 1.75 s\n"
     ]
    },
    {
     "data": {
      "image/png": "[encoded data removed]",
      "text/plain": [
       "<matplotlib.figure.Figure at 0x7fc5d7aacac8>"
      ]
     },
     "metadata": {},
     "output_type": "display_data"
    }
   ],
   "source": [
    "%time run_restreaming_greedy(edges, NUM_NODES, num_partitions=40, num_iterations=20)\n"
   ]
  },
  {
   "cell_type": "code",
   "execution_count": 9,
   "metadata": {
    "collapsed": true
   },
   "outputs": [],
   "source": [
    "%%cython\n",
    "import numpy as np\n",
    "\n",
    "cdef int UNMAPPED = -1\n",
    "\n",
    "def fennel(int[:,::] edges,\n",
    "           int num_nodes,\n",
    "           int num_partitions,\n",
    "           int[::] partition,\n",
    "           float alpha):\n",
    "    \"\"\"\n",
    "    This algorithm favors a cluster if it has many neighbors of a node, but\n",
    "    penalizes the cluster if it is close to capacity.\n",
    "    \n",
    "    partition: A previous partition of the nodes. Set to -1's if a node has not been assigned.\n",
    "    \"\"\"\n",
    "    \n",
    "    cdef int[::] partition_sizes = None\n",
    "    # The output partition\n",
    "    if partition is None:\n",
    "        partition = np.repeat(np.int32(UNMAPPED), num_nodes)\n",
    "        partition_sizes = np.zeros(num_partitions, dtype=np.int32)\n",
    "    else:\n",
    "        partition_sizes = np.bincount(partition).astype(np.int32)\n",
    "    \n",
    "    cdef int[::] partition_votes = np.zeros(num_partitions, dtype=np.int32)\n",
    "    \n",
    "    cdef float partition_capacity = num_nodes / num_partitions\n",
    "    \n",
    "    cdef int last_left = edges[0,0]\n",
    "    cdef int i = 0\n",
    "    cdef int left = 0\n",
    "    cdef int right = 0\n",
    "    cdef int arg = 0\n",
    "    cdef int max_arg = 0\n",
    "    cdef float max_val = 0\n",
    "    cdef float val = 0\n",
    "    cdef int len_edges = len(edges)\n",
    "    cdef int previous_assignment = 0\n",
    "\n",
    "    for i in range(len_edges):\n",
    "        left = edges[i,0]\n",
    "        right = edges[i,1]\n",
    "    \n",
    "        if last_left != left:\n",
    "            # New left node, so we have to assign last left\n",
    "\n",
    "            # Remember placement of last_left in the previous assignment\n",
    "            previous_assignment = partition[last_left]\n",
    "            \n",
    "            max_arg = 0\n",
    "            max_val = partition_votes[0] - alpha * partition_sizes[0]\n",
    "            if previous_assignment == 0:\n",
    "                # We remove the node from its current partition before\n",
    "                # deciding to re-add it, so subtract alpha to give\n",
    "                # result of 1 lower partition size.\n",
    "                max_val += alpha\n",
    "\n",
    "            for arg in range(1, num_partitions):\n",
    "                val = partition_votes[arg] - alpha * partition_sizes[arg]\n",
    "                if previous_assignment == arg:\n",
    "                    # See comment above\n",
    "                    val += alpha\n",
    "                if val > max_val:\n",
    "                    max_arg = arg\n",
    "                    max_val = val\n",
    "\n",
    "            if max_arg != previous_assignment:\n",
    "                partition[last_left] = max_arg\n",
    "                partition_sizes[max_arg] += 1\n",
    "                if previous_assignment != UNMAPPED:\n",
    "                    partition_sizes[previous_assignment] -= 1\n",
    "\n",
    "            partition_votes[:] = 0\n",
    "            last_left = left\n",
    "\n",
    "        if partition[right] != -1:\n",
    "            partition_votes[partition[right]] += 1\n",
    "    \n",
    "    # TODO: finish off this fencepost....\n",
    "    partition[left] = 0\n",
    "    \n",
    "    return np.asarray(partition)"
   ]
  },
  {
   "cell_type": "code",
   "execution_count": 25,
   "metadata": {},
   "outputs": [
    {
     "name": "stdout",
     "output_type": "stream",
     "text": [
      "CPU times: user 30 ms, sys: 0 ns, total: 30 ms\n",
      "Wall time: 29.8 ms\n",
      "CPU times: user 25.8 ms, sys: 8.23 ms, total: 34.1 ms\n",
      "Wall time: 32.2 ms\n",
      "wast=1.0000038151775392 edge cut = 0.2401121592545833\n"
     ]
    }
   ],
   "source": [
    "assignment = None\n",
    "%time assignment = fennel(edges,NUM_NODES,2,assignment,1.)\n",
    "%time wast,edge_cut = score(assignment, edges)\n",
    "print('wast='+str(1+wast)+' edge cut = '+str(edge_cut))"
   ]
  },
  {
   "cell_type": "code",
   "execution_count": 30,
   "metadata": {},
   "outputs": [
    {
     "name": "stdout",
     "output_type": "stream",
     "text": [
      "CPU times: user 33.5 ms, sys: 0 ns, total: 33.5 ms\n",
      "Wall time: 33 ms\n",
      "CPU times: user 29 ms, sys: 0 ns, total: 29 ms\n",
      "Wall time: 27 ms\n",
      "wast=1.0000038151775392 edge cut = 0.2401066024147803\n"
     ]
    }
   ],
   "source": [
    "assignment = None\n",
    "%time assignment = fennel(edges,NUM_NODES,2,assignment,1.00000015)\n",
    "%time wast,edge_cut = score(assignment, edges)\n",
    "print('wast='+str(1+wast)+' edge cut = '+str(edge_cut))"
   ]
  },
  {
   "cell_type": "code",
   "execution_count": 31,
   "metadata": {},
   "outputs": [
    {
     "name": "stdout",
     "output_type": "stream",
     "text": [
      "CPU times: user 32.2 ms, sys: 29 µs, total: 32.2 ms\n",
      "Wall time: 32 ms\n",
      "CPU times: user 30.6 ms, sys: 706 µs, total: 31.3 ms\n",
      "Wall time: 27.3 ms\n",
      "wast=1.0000190758876963 edge cut = 0.37336851183384606\n"
     ]
    }
   ],
   "source": [
    "assignment = None\n",
    "%time assignment = fennel(edges,NUM_NODES,4,assignment,1.00000015)\n",
    "%time wast,edge_cut = score(assignment, edges)\n",
    "print('wast='+str(1+wast)+' edge cut = '+str(edge_cut))"
   ]
  },
  {
   "cell_type": "code",
   "execution_count": 36,
   "metadata": {},
   "outputs": [
    {
     "name": "stdout",
     "output_type": "stream",
     "text": [
      "CPU times: user 36 ms, sys: 2.87 ms, total: 38.9 ms\n",
      "Wall time: 38.7 ms\n",
      "CPU times: user 30.4 ms, sys: 0 ns, total: 30.4 ms\n",
      "Wall time: 30.3 ms\n",
      "wast=1.0000190758876963 edge cut = 0.373187358856269\n"
     ]
    }
   ],
   "source": [
    "assignment = None\n",
    "%time assignment = fennel(edges,NUM_NODES,4,assignment,1.000000000000854521)\n",
    "%time wast,edge_cut = score(assignment, edges)\n",
    "print('wast='+str(1+wast)+' edge cut = '+str(edge_cut))"
   ]
  },
  {
   "cell_type": "code",
   "execution_count": 37,
   "metadata": {},
   "outputs": [
    {
     "name": "stdout",
     "output_type": "stream",
     "text": [
      "CPU times: user 48.1 ms, sys: 3 µs, total: 48.1 ms\n",
      "Wall time: 47.9 ms\n",
      "wast=1.0000953794384821 edge cut = 0.4498250706830023\n"
     ]
    }
   ],
   "source": [
    "assignment = None\n",
    "%time assignment = fennel(edges,NUM_NODES,8,assignment,1.000000000000854521)\n",
    "wast,edge_cut = score(assignment, edges)\n",
    "print('wast='+str(1+wast)+' edge cut = '+str(edge_cut))"
   ]
  },
  {
   "cell_type": "code",
   "execution_count": 39,
   "metadata": {},
   "outputs": [
    {
     "name": "stdout",
     "output_type": "stream",
     "text": [
      "CPU times: user 41.9 ms, sys: 0 ns, total: 41.9 ms\n",
      "Wall time: 44.6 ms\n",
      "CPU times: user 29.7 ms, sys: 0 ns, total: 29.7 ms\n",
      "Wall time: 27 ms\n",
      "wast=1.0000343365978537 edge cut = 0.5159792485374398\n"
     ]
    }
   ],
   "source": [
    "assignment = None\n",
    "%time assignment = fennel(edges,NUM_NODES,8,assignment,1.20)\n",
    "%time wast,edge_cut = score(assignment, edges)\n",
    "print('wast='+str(1+wast)+' edge cut = '+str(edge_cut))"
   ]
  },
  {
   "cell_type": "code",
   "execution_count": 40,
   "metadata": {},
   "outputs": [
    {
     "name": "stdout",
     "output_type": "stream",
     "text": [
      "CPU times: user 64.9 ms, sys: 182 µs, total: 65 ms\n",
      "Wall time: 65.2 ms\n",
      "wast=1.0001259008587964 edge cut = 0.493005050056013\n"
     ]
    }
   ],
   "source": [
    "assignment = None\n",
    "%time assignment = fennel(edges,NUM_NODES,16,assignment,1.000000000000854521)\n",
    "wast,edge_cut = score(assignment, edges)\n",
    "print('wast='+str(1+wast)+' edge cut = '+str(edge_cut))"
   ]
  },
  {
   "cell_type": "code",
   "execution_count": 41,
   "metadata": {},
   "outputs": [
    {
     "name": "stdout",
     "output_type": "stream",
     "text": [
      "CPU times: user 51.7 ms, sys: 0 ns, total: 51.7 ms\n",
      "Wall time: 51.6 ms\n",
      "wast=1.000064858018168 edge cut = 0.5673577893557622\n"
     ]
    }
   ],
   "source": [
    "assignment = None\n",
    "%time assignment = fennel(edges,NUM_NODES,16,assignment,1.10)\n",
    "wast,edge_cut = score(assignment, edges)\n",
    "print('wast='+str(1+wast)+' edge cut = '+str(edge_cut))"
   ]
  },
  {
   "cell_type": "code",
   "execution_count": 42,
   "metadata": {},
   "outputs": [
    {
     "name": "stdout",
     "output_type": "stream",
     "text": [
      "CPU times: user 91.2 ms, sys: 0 ns, total: 91.2 ms\n",
      "Wall time: 90.8 ms\n",
      "wast=1.0002479865400535 edge cut = 0.5154524601241176\n"
     ]
    }
   ],
   "source": [
    "assignment = None\n",
    "%time assignment = fennel(edges,NUM_NODES,32,assignment,1.000000000000854521)\n",
    "wast,edge_cut = score(assignment, edges)\n",
    "print('wast='+str(1+wast)+' edge cut = '+str(edge_cut))"
   ]
  },
  {
   "cell_type": "code",
   "execution_count": 43,
   "metadata": {},
   "outputs": [
    {
     "name": "stdout",
     "output_type": "stream",
     "text": [
      "CPU times: user 87.6 ms, sys: 901 µs, total: 88.5 ms\n",
      "Wall time: 88.2 ms\n",
      "wast=1.000492157902568 edge cut = 0.5201368760780269\n"
     ]
    }
   ],
   "source": [
    "assignment = None\n",
    "%time assignment = fennel(edges,NUM_NODES,40,assignment,1.000000000000854521)\n",
    "wast,edge_cut = score(assignment, edges)\n",
    "print('wast='+str(1+wast)+' edge cut = '+str(edge_cut))"
   ]
  },
  {
   "cell_type": "code",
   "execution_count": 26,
   "metadata": {
    "collapsed": true
   },
   "outputs": [],
   "source": [
    "def run_fennel_restreaming(edges, num_nodes, num_partitions, num_iterations):\n",
    "    print('{} PARTITIONS'.format(num_partitions))\n",
    "    assignments = None\n",
    "    # We will explore this parameter in a future post. This is sub-optimal\n",
    "    alphas = np.linspace(4.251608191745264e-05, 2.588951557309824e-02, num_iterations)\n",
    "    waste_scores, edge_score_values = [], []\n",
    "    print('ROUND\\tALPHA\\tWASTE\\tSCORE')\n",
    "    for i in range(num_iterations):\n",
    "        alpha = alphas[i]\n",
    "        assignments = fennel(edges, NUM_NODES, num_partitions, assignments, 1.000001245)\n",
    "        (waste, edge_score) = score(assignments, edges)\n",
    "        print('{}\\t{:.1e}\\t{:0.3f}\\t{:0.3f}'.format(i, alpha, waste, edge_score))\n",
    "        waste_scores.append(waste)\n",
    "        edge_score_values.append(edge_score)\n",
    "    draw_figures(waste_scores, edge_score_values, num_partitions)"
   ]
  },
  {
   "cell_type": "markdown",
   "metadata": {},
   "source": [
    "# K = 2"
   ]
  },
  {
   "cell_type": "code",
   "execution_count": 13,
   "metadata": {},
   "outputs": [
    {
     "name": "stdout",
     "output_type": "stream",
     "text": [
      "2 PARTITIONS\n",
      "ROUND\tALPHA\tWASTE\tSCORE\n",
      "0\t1.1e-06\t0.000\t0.240\n",
      "1\t5.1e-06\t0.000\t0.168\n",
      "2\t9.0e-06\t0.000\t0.145\n",
      "3\t1.3e-05\t0.000\t0.135\n",
      "4\t1.7e-05\t0.000\t0.129\n",
      "5\t2.1e-05\t0.000\t0.126\n",
      "6\t2.5e-05\t0.000\t0.123\n",
      "7\t2.9e-05\t0.000\t0.121\n",
      "8\t3.3e-05\t0.000\t0.120\n",
      "9\t3.7e-05\t0.000\t0.119\n",
      "10\t4.0e-05\t0.000\t0.119\n",
      "11\t4.4e-05\t0.000\t0.118\n",
      "12\t4.8e-05\t0.000\t0.118\n",
      "13\t5.2e-05\t0.000\t0.117\n",
      "14\t5.6e-05\t0.000\t0.117\n",
      "15\t6.0e-05\t0.000\t0.117\n",
      "16\t6.4e-05\t0.000\t0.117\n",
      "17\t6.8e-05\t0.000\t0.117\n",
      "18\t7.2e-05\t0.000\t0.117\n",
      "19\t7.6e-05\t0.000\t0.116\n",
      "CPU times: user 1.38 s, sys: 249 ms, total: 1.63 s\n",
      "Wall time: 1.49 s\n"
     ]
    },
    {
     "data": {
      "image/png": "[encoded data removed]",
      "text/plain": [
       "<matplotlib.figure.Figure at 0x7fc5d7ade1d0>"
      ]
     },
     "metadata": {},
     "output_type": "display_data"
    }
   ],
   "source": [
    "%time run_fennel_restreaming(edges, NUM_NODES, 2, 20)\n"
   ]
  },
  {
   "cell_type": "code",
   "execution_count": 16,
   "metadata": {},
   "outputs": [
    {
     "name": "stdout",
     "output_type": "stream",
     "text": [
      "2 PARTITIONS\n",
      "ROUND\tALPHA\tWASTE\tSCORE\n",
      "0\t1.1e-04\t0.000\t0.240\n",
      "1\t5.1e-04\t0.000\t0.168\n",
      "2\t9.0e-04\t0.000\t0.145\n",
      "3\t1.3e-03\t0.000\t0.135\n",
      "4\t1.7e-03\t0.000\t0.129\n",
      "5\t2.1e-03\t0.000\t0.126\n",
      "6\t2.5e-03\t0.000\t0.123\n",
      "7\t2.9e-03\t0.000\t0.121\n",
      "8\t3.3e-03\t0.000\t0.120\n",
      "9\t3.7e-03\t0.000\t0.119\n",
      "10\t4.0e-03\t0.000\t0.119\n",
      "11\t4.4e-03\t0.000\t0.118\n",
      "12\t4.8e-03\t0.000\t0.118\n",
      "13\t5.2e-03\t0.000\t0.117\n",
      "14\t5.6e-03\t0.000\t0.117\n",
      "15\t6.0e-03\t0.000\t0.117\n",
      "16\t6.4e-03\t0.000\t0.117\n",
      "17\t6.8e-03\t0.000\t0.117\n",
      "18\t7.2e-03\t0.000\t0.117\n",
      "19\t7.6e-03\t0.000\t0.116\n",
      "CPU times: user 1.32 s, sys: 275 ms, total: 1.6 s\n",
      "Wall time: 1.46 s\n"
     ]
    },
    {
     "data": {
      "image/png": "[encoded data removed]",
      "text/plain": [
       "<matplotlib.figure.Figure at 0x7fc5d7c12908>"
      ]
     },
     "metadata": {},
     "output_type": "display_data"
    }
   ],
   "source": [
    "%time run_fennel_restreaming(edges, NUM_NODES, 2, 20)\n"
   ]
  },
  {
   "cell_type": "markdown",
   "metadata": {},
   "source": [
    "# K = 8"
   ]
  },
  {
   "cell_type": "code",
   "execution_count": 52,
   "metadata": {},
   "outputs": [
    {
     "name": "stdout",
     "output_type": "stream",
     "text": [
      "8 PARTITIONS\n",
      "ROUND\tALPHA\tWASTE\tSCORE\n",
      "0\t1.3e+00\t0.000\t0.451\n",
      "1\t1.7e+00\t0.000\t0.323\n",
      "2\t2.2e+00\t0.000\t0.282\n",
      "3\t2.6e+00\t0.000\t0.262\n",
      "4\t3.1e+00\t0.000\t0.251\n",
      "5\t3.5e+00\t0.000\t0.244\n",
      "6\t4.0e+00\t0.000\t0.239\n",
      "7\t4.4e+00\t0.000\t0.235\n",
      "8\t4.9e+00\t0.000\t0.232\n",
      "9\t5.3e+00\t0.000\t0.229\n",
      "10\t5.8e+00\t0.000\t0.228\n",
      "11\t6.2e+00\t0.000\t0.226\n",
      "12\t6.7e+00\t0.000\t0.225\n",
      "13\t7.1e+00\t0.000\t0.224\n",
      "14\t7.6e+00\t0.000\t0.223\n",
      "CPU times: user 1.17 s, sys: 62.4 ms, total: 1.23 s\n",
      "Wall time: 1.13 s\n"
     ]
    },
    {
     "data": {
      "image/png": "[encoded data removed]",
      "text/plain": [
       "<matplotlib.figure.Figure at 0x7f833a790630>"
      ]
     },
     "metadata": {},
     "output_type": "display_data"
    }
   ],
   "source": [
    "%time run_fennel_restreaming(edges, NUM_NODES, 8, 15)\n"
   ]
  },
  {
   "cell_type": "code",
   "execution_count": 17,
   "metadata": {},
   "outputs": [
    {
     "name": "stdout",
     "output_type": "stream",
     "text": [
      "8 PARTITIONS\n",
      "ROUND\tALPHA\tWASTE\tSCORE\n",
      "0\t1.1e-04\t0.000\t0.451\n",
      "1\t6.5e-04\t0.000\t0.323\n",
      "2\t1.2e-03\t0.000\t0.282\n",
      "3\t1.7e-03\t0.000\t0.262\n",
      "4\t2.2e-03\t0.000\t0.251\n",
      "5\t2.8e-03\t0.000\t0.244\n",
      "6\t3.3e-03\t0.000\t0.239\n",
      "7\t3.9e-03\t0.000\t0.235\n",
      "8\t4.4e-03\t0.000\t0.232\n",
      "9\t4.9e-03\t0.000\t0.229\n",
      "10\t5.5e-03\t0.000\t0.228\n",
      "11\t6.0e-03\t0.000\t0.226\n",
      "12\t6.5e-03\t0.000\t0.225\n",
      "13\t7.1e-03\t0.000\t0.224\n",
      "14\t7.6e-03\t0.000\t0.223\n",
      "CPU times: user 1.17 s, sys: 201 ms, total: 1.37 s\n",
      "Wall time: 1.26 s\n"
     ]
    },
    {
     "data": {
      "image/png": "[encoded data removed]",
      "text/plain": [
       "<matplotlib.figure.Figure at 0x7fc5d78af470>"
      ]
     },
     "metadata": {},
     "output_type": "display_data"
    }
   ],
   "source": [
    "%time run_fennel_restreaming(edges, NUM_NODES, 8, 15)\n"
   ]
  },
  {
   "cell_type": "markdown",
   "metadata": {},
   "source": [
    "# K= 16"
   ]
  },
  {
   "cell_type": "code",
   "execution_count": 53,
   "metadata": {},
   "outputs": [
    {
     "name": "stdout",
     "output_type": "stream",
     "text": [
      "16 PARTITIONS\n",
      "ROUND\tALPHA\tWASTE\tSCORE\n",
      "0\t1.3e+00\t0.000\t0.493\n",
      "1\t1.7e+00\t0.000\t0.356\n",
      "2\t2.2e+00\t0.000\t0.313\n",
      "3\t2.6e+00\t0.000\t0.293\n",
      "4\t3.1e+00\t0.000\t0.281\n",
      "5\t3.5e+00\t0.000\t0.273\n",
      "6\t4.0e+00\t0.000\t0.267\n",
      "7\t4.4e+00\t0.000\t0.263\n",
      "8\t4.9e+00\t0.000\t0.260\n",
      "9\t5.3e+00\t0.000\t0.257\n",
      "10\t5.8e+00\t0.000\t0.255\n",
      "11\t6.2e+00\t0.000\t0.253\n",
      "12\t6.7e+00\t0.000\t0.252\n",
      "13\t7.1e+00\t0.000\t0.251\n",
      "14\t7.6e+00\t0.000\t0.250\n",
      "CPU times: user 1.26 s, sys: 83.5 ms, total: 1.34 s\n",
      "Wall time: 1.24 s\n"
     ]
    },
    {
     "data": {
      "image/png": "[encoded data removed]",
      "text/plain": [
       "<matplotlib.figure.Figure at 0x7f833a7bd780>"
      ]
     },
     "metadata": {},
     "output_type": "display_data"
    }
   ],
   "source": [
    "%time run_fennel_restreaming(edges, NUM_NODES, 16, 15)\n"
   ]
  },
  {
   "cell_type": "code",
   "execution_count": 22,
   "metadata": {},
   "outputs": [
    {
     "name": "stdout",
     "output_type": "stream",
     "text": [
      "16 PARTITIONS\n",
      "ROUND\tALPHA\tWASTE\tSCORE\n",
      "0\t1.1e-06\t0.000\t0.493\n",
      "1\t4.0e-02\t0.000\t0.356\n",
      "2\t8.0e-02\t0.000\t0.313\n",
      "3\t1.2e-01\t0.000\t0.293\n",
      "4\t1.6e-01\t0.000\t0.281\n",
      "5\t2.0e-01\t0.000\t0.273\n",
      "6\t2.4e-01\t0.000\t0.267\n",
      "7\t2.8e-01\t0.000\t0.263\n",
      "8\t3.2e-01\t0.000\t0.260\n",
      "9\t3.6e-01\t0.000\t0.257\n",
      "10\t4.0e-01\t0.000\t0.255\n",
      "11\t4.4e-01\t0.000\t0.253\n",
      "12\t4.8e-01\t0.000\t0.252\n",
      "13\t5.2e-01\t0.000\t0.251\n",
      "14\t5.6e-01\t0.000\t0.250\n",
      "15\t6.0e-01\t0.000\t0.249\n",
      "16\t6.4e-01\t0.000\t0.248\n",
      "17\t6.8e-01\t0.000\t0.247\n",
      "18\t7.2e-01\t0.000\t0.247\n",
      "19\t7.6e-01\t0.000\t0.246\n",
      "CPU times: user 1.8 s, sys: 210 ms, total: 2.01 s\n",
      "Wall time: 1.89 s\n"
     ]
    },
    {
     "data": {
      "image/png": "[encoded data removed]",
      "text/plain": [
       "<matplotlib.figure.Figure at 0x7fc5d7af4cf8>"
      ]
     },
     "metadata": {},
     "output_type": "display_data"
    }
   ],
   "source": [
    "%time run_fennel_restreaming(edges, NUM_NODES, 16, 20)\n"
   ]
  },
  {
   "cell_type": "markdown",
   "metadata": {},
   "source": [
    "# K=32"
   ]
  },
  {
   "cell_type": "code",
   "execution_count": 54,
   "metadata": {},
   "outputs": [
    {
     "name": "stdout",
     "output_type": "stream",
     "text": [
      "32 PARTITIONS\n",
      "ROUND\tALPHA\tWASTE\tSCORE\n",
      "0\t1.3e+00\t0.000\t0.517\n",
      "1\t1.7e+00\t0.000\t0.374\n",
      "2\t2.2e+00\t0.000\t0.329\n",
      "3\t2.6e+00\t0.000\t0.308\n",
      "4\t3.1e+00\t0.000\t0.296\n",
      "5\t3.5e+00\t0.000\t0.288\n",
      "6\t4.0e+00\t0.000\t0.282\n",
      "7\t4.4e+00\t0.000\t0.278\n",
      "8\t4.9e+00\t0.000\t0.275\n",
      "9\t5.3e+00\t0.000\t0.273\n",
      "10\t5.8e+00\t0.000\t0.271\n",
      "11\t6.2e+00\t0.000\t0.269\n",
      "12\t6.7e+00\t0.000\t0.268\n",
      "13\t7.1e+00\t0.000\t0.266\n",
      "14\t7.6e+00\t0.000\t0.265\n",
      "CPU times: user 1.59 s, sys: 100 ms, total: 1.69 s\n",
      "Wall time: 1.55 s\n"
     ]
    },
    {
     "data": {
      "image/png": "[encoded data removed]",
      "text/plain": [
       "<matplotlib.figure.Figure at 0x7f833a9457b8>"
      ]
     },
     "metadata": {},
     "output_type": "display_data"
    }
   ],
   "source": [
    "%time run_fennel_restreaming(edges, NUM_NODES, 32, 15)\n"
   ]
  },
  {
   "cell_type": "code",
   "execution_count": 27,
   "metadata": {},
   "outputs": [
    {
     "name": "stdout",
     "output_type": "stream",
     "text": [
      "32 PARTITIONS\n",
      "ROUND\tALPHA\tWASTE\tSCORE\n",
      "0\t4.3e-05\t0.000\t0.517\n",
      "1\t1.4e-03\t0.000\t0.374\n",
      "2\t2.8e-03\t0.000\t0.329\n",
      "3\t4.1e-03\t0.000\t0.308\n",
      "4\t5.5e-03\t0.000\t0.296\n",
      "5\t6.8e-03\t0.000\t0.288\n",
      "6\t8.2e-03\t0.000\t0.282\n",
      "7\t9.6e-03\t0.000\t0.278\n",
      "8\t1.1e-02\t0.000\t0.275\n",
      "9\t1.2e-02\t0.000\t0.273\n",
      "10\t1.4e-02\t0.000\t0.271\n",
      "11\t1.5e-02\t0.000\t0.269\n",
      "12\t1.6e-02\t0.000\t0.268\n",
      "13\t1.8e-02\t0.000\t0.266\n",
      "14\t1.9e-02\t0.000\t0.265\n",
      "15\t2.0e-02\t0.000\t0.265\n",
      "16\t2.2e-02\t0.000\t0.264\n",
      "17\t2.3e-02\t0.000\t0.263\n",
      "18\t2.5e-02\t0.000\t0.263\n",
      "19\t2.6e-02\t0.000\t0.262\n",
      "CPU times: user 1.82 s, sys: 277 ms, total: 2.1 s\n",
      "Wall time: 1.98 s\n"
     ]
    },
    {
     "data": {
      "image/png": "[encoded data removed]",
      "text/plain": [
       "<matplotlib.figure.Figure at 0x7fc5d7795c50>"
      ]
     },
     "metadata": {},
     "output_type": "display_data"
    }
   ],
   "source": [
    "%time run_fennel_restreaming(edges, NUM_NODES, 32, 20)\n"
   ]
  },
  {
   "cell_type": "code",
   "execution_count": null,
   "metadata": {
    "collapsed": true
   },
   "outputs": [],
   "source": []
  }
 ],
 "metadata": {
  "kernelspec": {
   "display_name": "Python 3",
   "language": "python",
   "name": "python3"
  },
  "language_info": {
   "codemirror_mode": {
    "name": "ipython",
    "version": 3
   },
   "file_extension": ".py",
   "mimetype": "text/x-python",
   "name": "python",
   "nbconvert_exporter": "python",
   "pygments_lexer": "ipython3",
   "version": "3.6.1"
  }
 },
 "nbformat": 4,
 "nbformat_minor": 2
}
