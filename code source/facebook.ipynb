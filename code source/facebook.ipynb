{
 "cells": [
  {
   "cell_type": "code",
   "execution_count": 1,
   "metadata": {
    "collapsed": true
   },
   "outputs": [],
   "source": [
    "import networkx as nx\n"
   ]
  },
  {
   "cell_type": "code",
   "execution_count": 2,
   "metadata": {
    "collapsed": true
   },
   "outputs": [],
   "source": [
    "ka = nx.read_edgelist('facebook_combined.txt')"
   ]
  },
  {
   "cell_type": "code",
   "execution_count": 3,
   "metadata": {},
   "outputs": [
    {
     "name": "stdout",
     "output_type": "stream",
     "text": [
      "Name: \n",
      "Type: Graph\n",
      "Number of nodes: 4039\n",
      "Number of edges: 88234\n",
      "Average degree:  43.6910\n"
     ]
    }
   ],
   "source": [
    "print(nx.info(ka))"
   ]
  },
  {
   "cell_type": "code",
   "execution_count": 2,
   "metadata": {
    "collapsed": true
   },
   "outputs": [],
   "source": [
    "import os\n",
    "\n",
    "DATA_DIRECTORY = '/home/younes'\n",
    "LIVEJOURNAL_FILENAME = os.path.join(DATA_DIRECTORY, 'facebook_combined.txt.gz')\n",
    "LIVEJOURNAL_URL = 'http://snap.stanford.edu/data/facebook_combined.txt.gz'\n",
    "\n",
    "# Constants for you to change\n",
    "\n",
    "\n",
    "\n",
    "# Just have these hardcoded, though we don't really need to\n",
    "NUM_EDGES = 88234\n",
    "NUM_NODES = 4039\n"
   ]
  },
  {
   "cell_type": "code",
   "execution_count": 3,
   "metadata": {},
   "outputs": [
    {
     "name": "stdout",
     "output_type": "stream",
     "text": [
      "DOWNLOADING 250M FILE. WILL SAVE FOR FUTURE USE\n",
      "\n",
      "FILE STATS:\n",
      "-rw-rw-r-- 1 younes younes 214K أبر 22 14:10 /home/younes/facebook_combined.txt.gz\n",
      "\n",
      "STARTING LINES\n",
      "0 1\n",
      "0 2\n",
      "0 3\n",
      "0 4\n",
      "0 5\n",
      "0 6\n",
      "0 7\n",
      "0 8\n",
      "0 9\n",
      "0 10\n",
      "0 11\n",
      "0 12\n",
      "0 13\n",
      "0 14\n",
      "0 15\n",
      "0 16\n",
      "0 17\n",
      "0 18\n",
      "0 19\n",
      "0 20\n",
      "0 21\n",
      "0 22\n",
      "0 23\n",
      "0 24\n",
      "0 25\n",
      "0 26\n",
      "0 27\n",
      "0 28\n",
      "0 29\n",
      "0 30\n",
      "\n",
      "gzip: stdout: Broken pipe\n"
     ]
    }
   ],
   "source": [
    "# Downloading the file\n",
    "import urllib.request\n",
    "\n",
    "assert os.path.exists(DATA_DIRECTORY)\n",
    "\n",
    "# Get your data. This file is ~250M so it will take a bit\n",
    "print('DOWNLOADING 250M FILE. WILL SAVE FOR FUTURE USE')\n",
    "if not os.path.exists(LIVEJOURNAL_FILENAME):\n",
    "    urllib.request.urlretrieve(LIVEJOURNAL_URL, LIVEJOURNAL_FILENAME)\n",
    "\n",
    "# Show a little bit of the file\n",
    "print('\\nFILE STATS:')\n",
    "!ls -lh $LIVEJOURNAL_FILENAME\n",
    "print('\\nSTARTING LINES')\n",
    "!zcat $LIVEJOURNAL_FILENAME | head -n 30"
   ]
  },
  {
   "cell_type": "code",
   "execution_count": 4,
   "metadata": {
    "collapsed": true
   },
   "outputs": [],
   "source": [
    "# Cleaning the data\n",
    "\n",
    "import numpy as np\n",
    "import gzip\n",
    "\n",
    "def row_generator():\n",
    "    \"\"\"This will generate all the edges in the graph.\"\"\"\n",
    "    with gzip.open(LIVEJOURNAL_FILENAME, 'rt') as f:\n",
    "        for line in f:\n",
    "            if line.startswith('#'):\n",
    "                continue\n",
    "            else:\n",
    "                (left_node, right_node) = line.split(' ')\n",
    "                yield(int(left_node), int(right_node))\n",
    "\n",
    "def to_undirected(edge_iterable, num_edges, num_nodes, shuffle=True):\n",
    "    \"\"\"Takes an iterable of edges and produces the list of edges for the undirected graph.\n",
    "    \n",
    "    > to_undirected([[0,1],[1,2],[2,10]], 3, 11)\n",
    "    array([[ 0,  1],\n",
    "       [ 1,  0],\n",
    "       [ 1,  2],\n",
    "       [ 2,  1],\n",
    "       [ 2, 10],\n",
    "       [10,  2]])\n",
    "    \"\"\"\n",
    "    # need int64 to do gross bithacks\n",
    "    as_array = np.zeros((num_edges, 2), dtype=np.int64)\n",
    "    for (i, (n_0, n_1)) in enumerate(edge_iterable):\n",
    "            as_array[i,0] = n_0\n",
    "            as_array[i,1] = n_1\n",
    "    # The graph is directed, but we want to make it undirected,\n",
    "    # which means we will duplicate some rows.\n",
    "\n",
    "    left_nodes = as_array[:,0]\n",
    "    right_nodes = as_array[:,1]\n",
    "    \n",
    "    if shuffle:\n",
    "        the_shuffle = np.arange(num_nodes)\n",
    "        np.random.shuffle(the_shuffle)\n",
    "        left_nodes = the_shuffle.take(left_nodes)\n",
    "        right_nodes = the_shuffle.take(right_nodes)\n",
    "\n",
    "    \n",
    "    # numpy.unique will not unique whole rows, so this little bit-hacking\n",
    "    # is a quick way to get unique rows after making a flipped copy of\n",
    "    # each edge.\n",
    "    max_bits = int(np.ceil(np.log2(num_nodes + 1)))\n",
    "    \n",
    "    encoded_edges_forward = np.left_shift(left_nodes, max_bits) | right_nodes\n",
    "    \n",
    "    # Flip the columns and do it again:\n",
    "    encoded_edges_reverse = np.left_shift(right_nodes, max_bits) | left_nodes\n",
    "\n",
    "    unique_encoded_edges = np.unique(np.hstack((encoded_edges_forward, encoded_edges_reverse)))\n",
    "    \n",
    "    left_node_decoded = np.right_shift(unique_encoded_edges, max_bits)\n",
    "    \n",
    "    # Mask out the high order bits\n",
    "    right_node_decoded = (2 ** (max_bits) - 1) & unique_encoded_edges\n",
    "    \n",
    "    undirected_edges = np.vstack((left_node_decoded, right_node_decoded)).T.astype(np.int32)\n",
    "\n",
    "    # ascontiguousarray so that it's c-contiguous for cython code below\n",
    "    return np.ascontiguousarray(undirected_edges)\n",
    "\n",
    "\n",
    "def get_clean_data(shuffle=True):\n",
    "    if shuffle:\n",
    "        name = os.path.join(DATA_DIRECTORY, 'LJ-face-shuffled.npy')\n",
    "    else:\n",
    "        name = os.path.join(DATA_DIRECTORY, 'LJ-face.npy')\n",
    "\n",
    "    if os.path.exists(name):\n",
    "        print('Loading from file {}'.format(name))\n",
    "        return np.load(name)\n",
    "    else:\n",
    "        print('Parsing from zip. Will write to file {}'.format(name), flush=True)\n",
    "        # Lets get the edges into one big array\n",
    "        edges = to_undirected(row_generator(), NUM_EDGES, NUM_NODES, shuffle=shuffle)\n",
    "        print('ORIGINAL DIST: {} MIN: {} MAX: {}'.format(np.abs(edges[:,0] - edges[:,1]).mean(), edges.min(), edges.max()))\n",
    "        np.save(name, edges)\n",
    "        return edges"
   ]
  },
  {
   "cell_type": "code",
   "execution_count": 5,
   "metadata": {},
   "outputs": [
    {
     "name": "stdout",
     "output_type": "stream",
     "text": [
      "Normalizing data (or loaded pre-computed)\n",
      "Loading from file /home/younes/LJ-face-shuffled.npy\n",
      "CPU times: user 3.78 ms, sys: 0 ns, total: 3.78 ms\n",
      "Wall time: 122 ms\n",
      "Loading from file /home/younes/LJ-face.npy\n",
      "CPU times: user 2.95 ms, sys: 3.78 ms, total: 6.73 ms\n",
      "Wall time: 115 ms\n",
      "\n",
      "EDGES SHAPE: (176468, 2)\n"
     ]
    }
   ],
   "source": [
    "print(\"Normalizing data (or loaded pre-computed)\")\n",
    "%time edges = get_clean_data(shuffle=True)\n",
    "%time unshuffled_edges = get_clean_data(shuffle=False)\n",
    "print('\\nEDGES SHAPE: {}'.format(edges.shape))"
   ]
  },
  {
   "cell_type": "code",
   "execution_count": 6,
   "metadata": {
    "collapsed": true
   },
   "outputs": [],
   "source": [
    "\n",
    "def score(assignment, edges):\n",
    "    \"\"\"Compute the score given an assignment of vertices.\n",
    "    \n",
    "    N nodes are assigned to clusters 0 to K-1.\n",
    "    \n",
    "    assignment: Vector where N[i] is the cluster node i is assigned to.\n",
    "    edges: The edges in the graph, assumed to have one in each direction\n",
    "    \n",
    "    Returns: (total wasted bin space, ratio of edges cut)\n",
    "    \"\"\"\n",
    "    balance = np.bincount(assignment) / len(assignment)\n",
    "    waste = (np.max(balance) - balance).sum()\n",
    "    \n",
    "    left_edge_assignment = assignment.take(edges[:,0])\n",
    "    right_edge_assignment = assignment.take(edges[:,1])\n",
    "    mismatch = (left_edge_assignment != right_edge_assignment).sum()\n",
    "    cut_ratio = mismatch / len(edges)\n",
    "    return (waste, cut_ratio)"
   ]
  },
  {
   "cell_type": "code",
   "execution_count": 7,
   "metadata": {},
   "outputs": [
    {
     "name": "stdout",
     "output_type": "stream",
     "text": [
      "Populating the interactive namespace from numpy and matplotlib\n"
     ]
    }
   ],
   "source": [
    "%load_ext cython\n",
    "%pylab inline\n",
    "\n"
   ]
  },
  {
   "cell_type": "code",
   "execution_count": 8,
   "metadata": {
    "collapsed": true
   },
   "outputs": [],
   "source": [
    "%%cython\n",
    "import numpy as np\n",
    "cimport cython\n",
    "\n",
    "cdef int UNMAPPED = -1\n",
    "\n",
    "def linear_deterministic_greedy(int[:,::] edges,\n",
    "                                int num_nodes,\n",
    "                                int num_partitions,\n",
    "                                int[::] partition):\n",
    "    \"\"\"\n",
    "    This algorithm favors a cluster if it has many neighbors of a node, but\n",
    "    penalizes the cluster if it is close to capacity.\n",
    "    \n",
    "    edges: An [:,2] array of edges.\n",
    "    num_nodes: The number of nodes in the graph.\n",
    "    num_partitions: How many partitions we are breaking the graph into.\n",
    "    partition: The partition from a previous run. Used for restreaming.\n",
    "\n",
    "    Returns: A new partition.\n",
    "    \"\"\"\n",
    "    # The output partition\n",
    "\n",
    "    if partition is None:\n",
    "        partition = np.repeat(np.int32(UNMAPPED), num_nodes)\n",
    "\n",
    "    cdef int[::] partition_sizes = np.zeros(num_partitions, dtype=np.int32)\n",
    "         \n",
    "    cdef int[::] partition_votes = np.zeros(num_partitions, dtype=np.int32)\n",
    "    \n",
    "    # Fine to be a little off, to stay integers\n",
    "    cdef int partition_capacity = num_nodes / num_partitions\n",
    "    \n",
    "    cdef int last_left = edges[0,0]\n",
    "    cdef int i = 0\n",
    "    cdef int left = 0\n",
    "    cdef int right = 0\n",
    "    cdef int arg = 0\n",
    "    cdef int max_arg = 0\n",
    "    cdef int max_val = 0\n",
    "    cdef int val = 0\n",
    "    cdef int len_edges = len(edges)\n",
    "    \n",
    "    for i in range(len_edges):\n",
    "        left = edges[i,0]\n",
    "        right = edges[i,1]\n",
    "    \n",
    "        if last_left != left:\n",
    "            # We have found a new node so assign last_left to a partition\n",
    "                \n",
    "            max_arg = 0\n",
    "            max_val = (partition_votes[0]) * (\n",
    "                       partition_capacity - partition_sizes[0])\n",
    "\n",
    "            for arg in range(1, num_partitions):\n",
    "                val = (partition_votes[arg]) * (\n",
    "                       partition_capacity - partition_sizes[arg])\n",
    "                if val > max_val:\n",
    "                    max_arg = arg\n",
    "                    max_val = val\n",
    "\n",
    "            if max_val == 0:\n",
    "                max_arg = arg\n",
    "                # No neighbors (or multiple maxed out) so \"randomly\" select\n",
    "                # the smallest partition\n",
    "                for arg in range(i % num_partitions, num_partitions):\n",
    "                    if partition_sizes[arg] < partition_capacity:\n",
    "                        max_arg = arg\n",
    "                        max_val = 1\n",
    "                        break\n",
    "                if max_val == 0:\n",
    "                    for arg in range(0, i % num_partitions):\n",
    "                        if partition_sizes[arg] < partition_capacity:\n",
    "                            max_arg = arg\n",
    "                            break\n",
    "\n",
    "\n",
    "            partition_sizes[max_arg] += 1\n",
    "            partition[last_left] = max_arg\n",
    "            partition_votes[:] = 0\n",
    "            last_left = left\n",
    "\n",
    "        if partition[right] != UNMAPPED:\n",
    "            partition_votes[partition[right]] += 1\n",
    "\n",
    "\n",
    "    # Clean up the last assignment\n",
    "    max_arg = 0\n",
    "    max_val = 0\n",
    "    for arg in range(0, num_partitions):\n",
    "        if partition_sizes[arg] < partition_capacity:\n",
    "            val = (partition_votes[arg]) * (\n",
    "                    1 - partition_sizes[arg] / partition_capacity)\n",
    "            if val > max_val:\n",
    "                max_arg = arg\n",
    "                max_val = val\n",
    "    partition[left] = max_arg\n",
    "\n",
    "    return np.asarray(partition)"
   ]
  },
  {
   "cell_type": "code",
   "execution_count": 8,
   "metadata": {},
   "outputs": [
    {
     "name": "stdout",
     "output_type": "stream",
     "text": [
      "CPU times: user 730 µs, sys: 135 µs, total: 865 µs\n",
      "Wall time: 874 µs\n",
      "edge score:0.10726023981685065 waste: 0.00024758603614755126\n"
     ]
    }
   ],
   "source": [
    "assignments = None\n",
    "%time partition = linear_deterministic_greedy(edges, NUM_NODES, 2, assignments)\n",
    "(waste, edge_score) = score(partition, edges)\n",
    "print(\"edge score:\"+str(edge_score)+\" waste: \"+str(waste))"
   ]
  },
  {
   "cell_type": "code",
   "execution_count": 9,
   "metadata": {},
   "outputs": [
    {
     "name": "stdout",
     "output_type": "stream",
     "text": [
      "CPU times: user 1.18 ms, sys: 0 ns, total: 1.18 ms\n",
      "Wall time: 1.19 ms\n",
      "edge score:0.18711607770247296 waste: 0.0012379301807377563\n"
     ]
    }
   ],
   "source": [
    "assignments = None\n",
    "%time partition = linear_deterministic_greedy(edges, NUM_NODES, 4, assignments)\n",
    "(waste, edge_score) = score(partition, edges)\n",
    "print(\"edge score:\"+str(edge_score)+\" waste: \"+str(waste))"
   ]
  },
  {
   "cell_type": "code",
   "execution_count": 10,
   "metadata": {},
   "outputs": [
    {
     "name": "stdout",
     "output_type": "stream",
     "text": [
      "CPU times: user 907 µs, sys: 24 µs, total: 931 µs\n",
      "Wall time: 942 µs\n",
      "edge score:0.3754108393589773 waste: 0.01015102748204999\n"
     ]
    }
   ],
   "source": [
    "assignments = None\n",
    "%time partition = linear_deterministic_greedy(edges, NUM_NODES, 8, assignments)\n",
    "(waste, edge_score) = score(partition, edges)\n",
    "print(\"edge score:\"+str(edge_score)+\" waste: \"+str(waste))"
   ]
  },
  {
   "cell_type": "code",
   "execution_count": 11,
   "metadata": {},
   "outputs": [
    {
     "name": "stdout",
     "output_type": "stream",
     "text": [
      "CPU times: user 1.64 ms, sys: 0 ns, total: 1.64 ms\n",
      "Wall time: 1.6 ms\n",
      "edge score:0.6059795543667974 waste: 0.02203515721713288\n"
     ]
    }
   ],
   "source": [
    "assignments = None\n",
    "%time partition = linear_deterministic_greedy(edges, NUM_NODES, 16, assignments)\n",
    "(waste, edge_score) = score(partition, edges)\n",
    "print(\"edge score:\"+str(edge_score)+\" waste: \"+str(waste))"
   ]
  },
  {
   "cell_type": "code",
   "execution_count": 12,
   "metadata": {},
   "outputs": [
    {
     "name": "stdout",
     "output_type": "stream",
     "text": [
      "CPU times: user 1.22 ms, sys: 0 ns, total: 1.22 ms\n",
      "Wall time: 1.23 ms\n",
      "edge score:0.7023936351066482 waste: 0.04580341668729891\n"
     ]
    }
   ],
   "source": [
    "assignments = None\n",
    "%time partition = linear_deterministic_greedy(edges, NUM_NODES, 32, assignments)\n",
    "(waste, edge_score) = score(partition, edges)\n",
    "print(\"edge score:\"+str(edge_score)+\" waste: \"+str(waste))"
   ]
  },
  {
   "cell_type": "code",
   "execution_count": 13,
   "metadata": {},
   "outputs": [
    {
     "name": "stdout",
     "output_type": "stream",
     "text": [
      "CPU times: user 2.1 ms, sys: 0 ns, total: 2.1 ms\n",
      "Wall time: 2.04 ms\n",
      "edge score:0.701010948160573 waste: 0.3666749195345381\n"
     ]
    }
   ],
   "source": [
    "assignments = None\n",
    "%time partition = linear_deterministic_greedy(edges, NUM_NODES, 40, assignments)\n",
    "(waste, edge_score) = score(partition, edges)\n",
    "print(\"edge score:\"+str(edge_score)+\" waste: \"+str(waste))"
   ]
  },
  {
   "cell_type": "code",
   "execution_count": 9,
   "metadata": {
    "collapsed": true
   },
   "outputs": [],
   "source": [
    "def draw_figures(waste_values, edge_score_values, num_partitions):\n",
    "    fig, axes = plt.subplots(nrows=1, ncols=2)\n",
    "    \n",
    "    (waste_axes, score_axes) = axes\n",
    "    waste_axes.plot(waste_values, 'r')\n",
    "    waste_axes.set_xlabel('Round')\n",
    "    waste_axes.set_ylabel('Number of wasted bins')\n",
    "    waste_axes.set_ylim(bottom=0)\n",
    "    waste_axes.set_title('Wasted Bins: {} partitions'.format(num_partitions))\n",
    "    \n",
    "    score_axes.plot(edge_score_values, 'r')\n",
    "    score_axes.set_xlabel('Round')\n",
    "    score_axes.set_ylabel(' λ')\n",
    "    score_axes.set_ylim(bottom=0)\n",
    "    score_axes.set_title(' λ: {} partitions'.format(num_partitions))\n",
    "    \n",
    "    fig.tight_layout()"
   ]
  },
  {
   "cell_type": "code",
   "execution_count": 10,
   "metadata": {
    "collapsed": true
   },
   "outputs": [],
   "source": [
    "def run_restreaming_greedy(edges, num_nodes, num_partitions=10, num_iterations=10):\n",
    "    print('\\n{} PARTITIONS'.format(num_partitions))\n",
    "    assignments = None\n",
    "    print('ROUND\\tWASTE\\tSCORE')\n",
    "    waste_values = []\n",
    "    edge_score_values = []\n",
    "    flipped_edges = numpy.flipud(edges).copy()\n",
    "    for i in range(num_iterations):\n",
    "        assignments = linear_deterministic_greedy(edges, NUM_NODES, num_partitions, assignments)\n",
    "        (waste, edge_score) = score(assignments, edges)\n",
    "        waste_values.append(waste)\n",
    "        edge_score_values.append(edge_score)\n",
    "        print('{}\\t{:0.3f}\\t{:0.3f}'.format(i, waste, edge_score))\n",
    "    draw_figures(waste_values, edge_score_values, num_partitions)"
   ]
  },
  {
   "cell_type": "code",
   "execution_count": 11,
   "metadata": {},
   "outputs": [
    {
     "name": "stdout",
     "output_type": "stream",
     "text": [
      "\n",
      "2 PARTITIONS\n",
      "ROUND\tWASTE\tSCORE\n",
      "0\t0.000\t0.107\n",
      "1\t0.000\t0.054\n",
      "2\t0.000\t0.056\n",
      "3\t0.000\t0.058\n",
      "4\t0.000\t0.058\n",
      "5\t0.000\t0.056\n",
      "6\t0.000\t0.055\n",
      "7\t0.000\t0.055\n",
      "8\t0.000\t0.055\n",
      "9\t0.000\t0.055\n",
      "10\t0.000\t0.055\n",
      "11\t0.000\t0.055\n",
      "12\t0.000\t0.055\n",
      "13\t0.000\t0.055\n",
      "14\t0.000\t0.055\n",
      "15\t0.000\t0.055\n",
      "16\t0.000\t0.055\n",
      "17\t0.000\t0.055\n",
      "18\t0.000\t0.055\n",
      "19\t0.000\t0.055\n",
      "CPU times: user 237 ms, sys: 163 ms, total: 400 ms\n",
      "Wall time: 352 ms\n"
     ]
    },
    {
     "data": {
      "image/png": "[encoded data removed]",
      "text/plain": [
       "<matplotlib.figure.Figure at 0x7f2502269d68>"
      ]
     },
     "metadata": {},
     "output_type": "display_data"
    }
   ],
   "source": [
    "%time run_restreaming_greedy(edges, NUM_NODES, num_partitions=2, num_iterations=20)\n"
   ]
  },
  {
   "cell_type": "code",
   "execution_count": 12,
   "metadata": {},
   "outputs": [
    {
     "name": "stdout",
     "output_type": "stream",
     "text": [
      "\n",
      "4 PARTITIONS\n",
      "ROUND\tWASTE\tSCORE\n",
      "0\t0.001\t0.187\n",
      "1\t0.001\t0.108\n",
      "2\t0.001\t0.105\n",
      "3\t0.001\t0.086\n",
      "4\t0.001\t0.070\n",
      "5\t0.001\t0.056\n",
      "6\t0.001\t0.050\n",
      "7\t0.001\t0.045\n",
      "8\t0.001\t0.045\n",
      "9\t0.001\t0.045\n",
      "10\t0.001\t0.045\n",
      "11\t0.001\t0.045\n",
      "12\t0.001\t0.045\n",
      "13\t0.001\t0.045\n",
      "14\t0.001\t0.045\n",
      "15\t0.001\t0.045\n",
      "16\t0.001\t0.045\n",
      "17\t0.001\t0.045\n",
      "18\t0.001\t0.045\n",
      "19\t0.001\t0.045\n",
      "CPU times: user 202 ms, sys: 82 ms, total: 284 ms\n",
      "Wall time: 203 ms\n"
     ]
    },
    {
     "data": {
      "image/png": "[encoded data removed]",
      "text/plain": [
       "<matplotlib.figure.Figure at 0x7f2501b5a9b0>"
      ]
     },
     "metadata": {},
     "output_type": "display_data"
    }
   ],
   "source": [
    "%time run_restreaming_greedy(edges, NUM_NODES, num_partitions=4, num_iterations=20)\n"
   ]
  },
  {
   "cell_type": "code",
   "execution_count": 13,
   "metadata": {},
   "outputs": [
    {
     "name": "stdout",
     "output_type": "stream",
     "text": [
      "\n",
      "8 PARTITIONS\n",
      "ROUND\tWASTE\tSCORE\n",
      "0\t0.010\t0.375\n",
      "1\t0.010\t0.197\n",
      "2\t0.010\t0.151\n",
      "3\t0.010\t0.161\n",
      "4\t0.010\t0.171\n",
      "5\t0.010\t0.154\n",
      "6\t0.010\t0.172\n",
      "7\t0.010\t0.154\n",
      "8\t0.010\t0.173\n",
      "9\t0.010\t0.162\n",
      "10\t0.010\t0.165\n",
      "11\t0.010\t0.165\n",
      "12\t0.010\t0.166\n",
      "13\t0.010\t0.165\n",
      "14\t0.010\t0.163\n",
      "15\t0.010\t0.164\n",
      "16\t0.010\t0.165\n",
      "17\t0.010\t0.163\n",
      "18\t0.010\t0.164\n",
      "19\t0.010\t0.165\n",
      "CPU times: user 238 ms, sys: 70 ms, total: 308 ms\n",
      "Wall time: 210 ms\n"
     ]
    },
    {
     "data": {
      "image/png": "[encoded data removed]",
      "text/plain": [
       "<matplotlib.figure.Figure at 0x7f2501c15b38>"
      ]
     },
     "metadata": {},
     "output_type": "display_data"
    }
   ],
   "source": [
    "%time run_restreaming_greedy(edges, NUM_NODES, num_partitions=8, num_iterations=20)\n"
   ]
  },
  {
   "cell_type": "code",
   "execution_count": 14,
   "metadata": {},
   "outputs": [
    {
     "name": "stdout",
     "output_type": "stream",
     "text": [
      "\n",
      "16 PARTITIONS\n",
      "ROUND\tWASTE\tSCORE\n",
      "0\t0.022\t0.606\n",
      "1\t0.022\t0.419\n",
      "2\t0.022\t0.260\n",
      "3\t0.022\t0.214\n",
      "4\t0.022\t0.198\n",
      "5\t0.022\t0.196\n",
      "6\t0.022\t0.195\n",
      "7\t0.022\t0.200\n",
      "8\t0.022\t0.198\n",
      "9\t0.022\t0.204\n",
      "10\t0.022\t0.203\n",
      "11\t0.022\t0.195\n",
      "12\t0.022\t0.199\n",
      "13\t0.022\t0.196\n",
      "14\t0.022\t0.205\n",
      "15\t0.022\t0.201\n",
      "16\t0.022\t0.197\n",
      "17\t0.022\t0.202\n",
      "18\t0.022\t0.201\n",
      "19\t0.022\t0.202\n",
      "CPU times: user 253 ms, sys: 110 ms, total: 363 ms\n",
      "Wall time: 237 ms\n"
     ]
    },
    {
     "data": {
      "image/png": "[encoded data removed]",
      "text/plain": [
       "<matplotlib.figure.Figure at 0x7f2501cc33c8>"
      ]
     },
     "metadata": {},
     "output_type": "display_data"
    }
   ],
   "source": [
    "%time run_restreaming_greedy(edges, NUM_NODES, num_partitions=16, num_iterations=20)\n"
   ]
  },
  {
   "cell_type": "code",
   "execution_count": 15,
   "metadata": {},
   "outputs": [
    {
     "name": "stdout",
     "output_type": "stream",
     "text": [
      "\n",
      "32 PARTITIONS\n",
      "ROUND\tWASTE\tSCORE\n",
      "0\t0.046\t0.702\n",
      "1\t0.046\t0.557\n",
      "2\t0.046\t0.495\n",
      "3\t0.046\t0.429\n",
      "4\t0.046\t0.422\n",
      "5\t0.046\t0.406\n",
      "6\t0.046\t0.403\n",
      "7\t0.046\t0.405\n",
      "8\t0.046\t0.400\n",
      "9\t0.046\t0.404\n",
      "10\t0.046\t0.400\n",
      "11\t0.046\t0.399\n",
      "12\t0.046\t0.405\n",
      "13\t0.046\t0.399\n",
      "14\t0.046\t0.398\n",
      "15\t0.046\t0.403\n",
      "16\t0.046\t0.401\n",
      "17\t0.046\t0.398\n",
      "18\t0.046\t0.403\n",
      "19\t0.046\t0.400\n",
      "CPU times: user 248 ms, sys: 107 ms, total: 355 ms\n",
      "Wall time: 235 ms\n"
     ]
    },
    {
     "data": {
      "image/png": "[encoded data removed]",
      "text/plain": [
       "<matplotlib.figure.Figure at 0x7f24ff900160>"
      ]
     },
     "metadata": {},
     "output_type": "display_data"
    }
   ],
   "source": [
    "%time run_restreaming_greedy(edges, NUM_NODES, num_partitions=32, num_iterations=20)\n"
   ]
  },
  {
   "cell_type": "code",
   "execution_count": 16,
   "metadata": {},
   "outputs": [
    {
     "name": "stdout",
     "output_type": "stream",
     "text": [
      "\n",
      "40 PARTITIONS\n",
      "ROUND\tWASTE\tSCORE\n",
      "0\t0.367\t0.701\n",
      "1\t0.367\t0.590\n",
      "2\t0.367\t0.536\n",
      "3\t0.367\t0.504\n",
      "4\t0.367\t0.487\n",
      "5\t0.367\t0.478\n",
      "6\t0.367\t0.477\n",
      "7\t0.367\t0.485\n",
      "8\t0.367\t0.486\n",
      "9\t0.367\t0.480\n",
      "10\t0.367\t0.481\n",
      "11\t0.367\t0.482\n",
      "12\t0.367\t0.472\n",
      "13\t0.367\t0.480\n",
      "14\t0.367\t0.469\n",
      "15\t0.367\t0.475\n",
      "16\t0.367\t0.472\n",
      "17\t0.367\t0.473\n",
      "18\t0.367\t0.471\n",
      "19\t0.367\t0.472\n",
      "CPU times: user 303 ms, sys: 143 ms, total: 446 ms\n",
      "Wall time: 313 ms\n"
     ]
    },
    {
     "data": {
      "image/png": "[encoded data removed]",
      "text/plain": [
       "<matplotlib.figure.Figure at 0x7f24ff9767b8>"
      ]
     },
     "metadata": {},
     "output_type": "display_data"
    }
   ],
   "source": [
    "%time run_restreaming_greedy(edges, NUM_NODES, num_partitions=40, num_iterations=20)\n"
   ]
  },
  {
   "cell_type": "code",
   "execution_count": 17,
   "metadata": {
    "collapsed": true
   },
   "outputs": [],
   "source": [
    "%%cython\n",
    "import numpy as np\n",
    "\n",
    "cdef int UNMAPPED = -1\n",
    "\n",
    "def fennel(int[:,::] edges,\n",
    "           int num_nodes,\n",
    "           int num_partitions,\n",
    "           int[::] partition,\n",
    "           float alpha):\n",
    "    \"\"\"\n",
    "    This algorithm favors a cluster if it has many neighbors of a node, but\n",
    "    penalizes the cluster if it is close to capacity.\n",
    "    \n",
    "    partition: A previous partition of the nodes. Set to -1's if a node has not been assigned.\n",
    "    \"\"\"\n",
    "    \n",
    "    cdef int[::] partition_sizes = None\n",
    "    # The output partition\n",
    "    if partition is None:\n",
    "        partition = np.repeat(np.int32(UNMAPPED), num_nodes)\n",
    "        partition_sizes = np.zeros(num_partitions, dtype=np.int32)\n",
    "    else:\n",
    "        partition_sizes = np.bincount(partition).astype(np.int32)\n",
    "    \n",
    "    cdef int[::] partition_votes = np.zeros(num_partitions, dtype=np.int32)\n",
    "    \n",
    "    cdef float partition_capacity = num_nodes / num_partitions\n",
    "    \n",
    "    cdef int last_left = edges[0,0]\n",
    "    cdef int i = 0\n",
    "    cdef int left = 0\n",
    "    cdef int right = 0\n",
    "    cdef int arg = 0\n",
    "    cdef int max_arg = 0\n",
    "    cdef float max_val = 0\n",
    "    cdef float val = 0\n",
    "    cdef int len_edges = len(edges)\n",
    "    cdef int previous_assignment = 0\n",
    "\n",
    "    for i in range(len_edges):\n",
    "        left = edges[i,0]\n",
    "        right = edges[i,1]\n",
    "    \n",
    "        if last_left != left:\n",
    "            # New left node, so we have to assign last left\n",
    "\n",
    "            # Remember placement of last_left in the previous assignment\n",
    "            previous_assignment = partition[last_left]\n",
    "            \n",
    "            max_arg = 0\n",
    "            max_val = partition_votes[0] - alpha * partition_sizes[0]\n",
    "            if previous_assignment == 0:\n",
    "                # We remove the node from its current partition before\n",
    "                # deciding to re-add it, so subtract alpha to give\n",
    "                # result of 1 lower partition size.\n",
    "                max_val += alpha\n",
    "\n",
    "            for arg in range(1, num_partitions):\n",
    "                val = partition_votes[arg] - alpha * partition_sizes[arg]\n",
    "                if previous_assignment == arg:\n",
    "                    # See comment above\n",
    "                    val += alpha\n",
    "                if val > max_val:\n",
    "                    max_arg = arg\n",
    "                    max_val = val\n",
    "\n",
    "            if max_arg != previous_assignment:\n",
    "                partition[last_left] = max_arg\n",
    "                partition_sizes[max_arg] += 1\n",
    "                if previous_assignment != UNMAPPED:\n",
    "                    partition_sizes[previous_assignment] -= 1\n",
    "\n",
    "            partition_votes[:] = 0\n",
    "            last_left = left\n",
    "\n",
    "        if partition[right] != -1:\n",
    "            partition_votes[partition[right]] += 1\n",
    "    \n",
    "    # TODO: finish off this fencepost....\n",
    "    partition[left] = 0\n",
    "    \n",
    "    return np.asarray(partition)"
   ]
  },
  {
   "cell_type": "code",
   "execution_count": 24,
   "metadata": {},
   "outputs": [
    {
     "name": "stdout",
     "output_type": "stream",
     "text": [
      "CPU times: user 710 µs, sys: 376 µs, total: 1.09 ms\n",
      "Wall time: 1.1 ms\n",
      "wast=1.0002475860361475 edge cut = 0.11621370446766553\n"
     ]
    }
   ],
   "source": [
    "assignment = None\n",
    "%time assignment = fennel(edges,NUM_NODES,2,assignment,1.)\n",
    "wast,edge_cut = score(assignment, edges)\n",
    "print('wast='+str(1+wast)+' edge cut = '+str(edge_cut))"
   ]
  },
  {
   "cell_type": "code",
   "execution_count": 25,
   "metadata": {},
   "outputs": [
    {
     "name": "stdout",
     "output_type": "stream",
     "text": [
      "CPU times: user 973 µs, sys: 514 µs, total: 1.49 ms\n",
      "Wall time: 1.26 ms\n",
      "wast=1.0002475860361475 edge cut = 0.11154430264977219\n"
     ]
    }
   ],
   "source": [
    "assignment = None\n",
    "%time assignment = fennel(edges,NUM_NODES,2,assignment,2.)\n",
    "wast,edge_cut = score(assignment, edges)\n",
    "print('wast='+str(1+wast)+' edge cut = '+str(edge_cut))"
   ]
  },
  {
   "cell_type": "code",
   "execution_count": 26,
   "metadata": {},
   "outputs": [
    {
     "name": "stdout",
     "output_type": "stream",
     "text": [
      "CPU times: user 1.43 ms, sys: 235 µs, total: 1.66 ms\n",
      "Wall time: 1.63 ms\n",
      "wast=1.0002475860361475 edge cut = 0.11154430264977219\n"
     ]
    }
   ],
   "source": [
    "assignment = None\n",
    "%time assignment = fennel(edges,NUM_NODES,2,assignment,2.000001547)\n",
    "wast,edge_cut = score(assignment, edges)\n",
    "print('wast='+str(1+wast)+' edge cut = '+str(edge_cut))"
   ]
  },
  {
   "cell_type": "code",
   "execution_count": 27,
   "metadata": {},
   "outputs": [
    {
     "name": "stdout",
     "output_type": "stream",
     "text": [
      "CPU times: user 1.16 ms, sys: 0 ns, total: 1.16 ms\n",
      "Wall time: 1.17 ms\n",
      "wast=1.0012379301807377 edge cut = 0.14101140150055533\n"
     ]
    }
   ],
   "source": [
    "assignment = None\n",
    "%time assignment = fennel(edges,NUM_NODES,4,assignment,1.)\n",
    "wast,edge_cut = score(assignment, edges)\n",
    "print('wast='+str(1+wast)+' edge cut = '+str(edge_cut))"
   ]
  },
  {
   "cell_type": "code",
   "execution_count": 28,
   "metadata": {},
   "outputs": [
    {
     "name": "stdout",
     "output_type": "stream",
     "text": [
      "CPU times: user 1.23 ms, sys: 0 ns, total: 1.23 ms\n",
      "Wall time: 1.24 ms\n",
      "wast=1.0160930923495914 edge cut = 0.18572205725683977\n"
     ]
    }
   ],
   "source": [
    "assignment = None\n",
    "%time assignment = fennel(edges,NUM_NODES,8,assignment,1.)\n",
    "wast,edge_cut = score(assignment, edges)\n",
    "print('wast='+str(1+wast)+' edge cut = '+str(edge_cut))"
   ]
  },
  {
   "cell_type": "code",
   "execution_count": 29,
   "metadata": {},
   "outputs": [
    {
     "name": "stdout",
     "output_type": "stream",
     "text": [
      "CPU times: user 2.43 ms, sys: 0 ns, total: 2.43 ms\n",
      "Wall time: 2.27 ms\n",
      "wast=1.1250309482545184 edge cut = 0.21566516308905864\n"
     ]
    }
   ],
   "source": [
    "assignment = None\n",
    "%time assignment = fennel(edges,NUM_NODES,16,assignment,1.)\n",
    "wast,edge_cut = score(assignment, edges)\n",
    "print('wast='+str(1+wast)+' edge cut = '+str(edge_cut))"
   ]
  },
  {
   "cell_type": "code",
   "execution_count": 30,
   "metadata": {},
   "outputs": [
    {
     "name": "stdout",
     "output_type": "stream",
     "text": [
      "CPU times: user 2.44 ms, sys: 0 ns, total: 2.44 ms\n",
      "Wall time: 2.4 ms\n",
      "wast=1.5370141124040604 edge cut = 0.30963120792438287\n"
     ]
    }
   ],
   "source": [
    "assignment = None\n",
    "%time assignment = fennel(edges,NUM_NODES,32,assignment,1.)\n",
    "wast,edge_cut = score(assignment, edges)\n",
    "print('wast='+str(1+wast)+' edge cut = '+str(edge_cut))"
   ]
  },
  {
   "cell_type": "code",
   "execution_count": 31,
   "metadata": {},
   "outputs": [
    {
     "name": "stdout",
     "output_type": "stream",
     "text": [
      "CPU times: user 3.91 ms, sys: 0 ns, total: 3.91 ms\n",
      "Wall time: 3.84 ms\n",
      "wast=1.822233226046051 edge cut = 0.3587052610104948\n"
     ]
    }
   ],
   "source": [
    "assignment = None\n",
    "%time assignment = fennel(edges,NUM_NODES,40,assignment,1.)\n",
    "wast,edge_cut = score(assignment, edges)\n",
    "print('wast='+str(1+wast)+' edge cut = '+str(edge_cut))"
   ]
  },
  {
   "cell_type": "code",
   "execution_count": 46,
   "metadata": {
    "collapsed": true
   },
   "outputs": [],
   "source": [
    "def run_fennel_restreaming(edges, num_nodes, num_partitions, num_iterations):\n",
    "    print('{} PARTITIONS'.format(num_partitions))\n",
    "    assignments = None\n",
    "    # We will explore this parameter in a future post. This is sub-optimal\n",
    "    alphas = np.linspace(1.251608191745264e-07, 7.588951557309824e-05, num_iterations)\n",
    "    waste_scores, edge_score_values = [], []\n",
    "    print('ROUND\\tALPHA\\tWASTE\\tSCORE')\n",
    "    for i in range(num_iterations):\n",
    "        alpha = alphas[i]\n",
    "        assignments = fennel(edges, NUM_NODES, num_partitions, assignments, alpha)\n",
    "        (waste, edge_score) = score(assignments, edges)\n",
    "        print('{}\\t{:.1e}\\t{:0.3f}\\t{:0.3f}'.format(i, alpha, waste, edge_score))\n",
    "        waste_scores.append(waste)\n",
    "        edge_score_values.append(edge_score)\n",
    "    draw_figures(waste_scores, edge_score_values, num_partitions)"
   ]
  },
  {
   "cell_type": "markdown",
   "metadata": {},
   "source": [
    "# K = 2"
   ]
  },
  {
   "cell_type": "code",
   "execution_count": 22,
   "metadata": {},
   "outputs": [
    {
     "name": "stdout",
     "output_type": "stream",
     "text": [
      "2 PARTITIONS\n",
      "ROUND\tALPHA\tWASTE\tSCORE\n",
      "0\t1.3e-07\t0.000\t0.116\n",
      "1\t4.1e-06\t0.000\t0.063\n",
      "2\t8.1e-06\t0.000\t0.058\n",
      "3\t1.2e-05\t0.000\t0.057\n",
      "4\t1.6e-05\t0.000\t0.056\n",
      "5\t2.0e-05\t0.000\t0.056\n",
      "6\t2.4e-05\t0.000\t0.056\n",
      "7\t2.8e-05\t0.000\t0.056\n",
      "8\t3.2e-05\t0.000\t0.056\n",
      "9\t3.6e-05\t0.000\t0.055\n",
      "10\t4.0e-05\t0.000\t0.055\n",
      "11\t4.4e-05\t0.000\t0.055\n",
      "12\t4.8e-05\t0.000\t0.055\n",
      "13\t5.2e-05\t0.000\t0.055\n",
      "14\t5.6e-05\t0.000\t0.055\n",
      "15\t6.0e-05\t0.000\t0.055\n",
      "16\t6.4e-05\t0.000\t0.055\n",
      "17\t6.8e-05\t0.000\t0.055\n",
      "18\t7.2e-05\t0.000\t0.055\n",
      "19\t7.6e-05\t0.000\t0.055\n",
      "CPU times: user 224 ms, sys: 81.4 ms, total: 305 ms\n",
      "Wall time: 216 ms\n"
     ]
    },
    {
     "data": {
      "image/png": "[encoded data removed]",
      "text/plain": [
       "<matplotlib.figure.Figure at 0x7f24ff7dfe48>"
      ]
     },
     "metadata": {},
     "output_type": "display_data"
    }
   ],
   "source": [
    "#alpha = 1.\n",
    "%time run_fennel_restreaming(edges, NUM_NODES, 2, 20)\n"
   ]
  },
  {
   "cell_type": "code",
   "execution_count": 26,
   "metadata": {},
   "outputs": [
    {
     "name": "stdout",
     "output_type": "stream",
     "text": [
      "2 PARTITIONS\n",
      "ROUND\tALPHA\tWASTE\tSCORE\n",
      "0\t1.3e-07\t0.015\t0.070\n",
      "1\t4.1e-06\t0.048\t0.037\n",
      "2\t8.1e-06\t0.053\t0.034\n",
      "3\t1.2e-05\t0.054\t0.034\n",
      "4\t1.6e-05\t0.055\t0.034\n",
      "5\t2.0e-05\t0.056\t0.034\n",
      "6\t2.4e-05\t0.056\t0.034\n",
      "7\t2.8e-05\t0.056\t0.034\n",
      "8\t3.2e-05\t0.056\t0.034\n",
      "9\t3.6e-05\t0.056\t0.034\n",
      "10\t4.0e-05\t0.056\t0.034\n",
      "11\t4.4e-05\t0.056\t0.034\n",
      "12\t4.8e-05\t0.056\t0.034\n",
      "13\t5.2e-05\t0.056\t0.034\n",
      "14\t5.6e-05\t0.056\t0.034\n",
      "15\t6.0e-05\t0.056\t0.034\n",
      "16\t6.4e-05\t0.056\t0.034\n",
      "17\t6.8e-05\t0.056\t0.034\n",
      "18\t7.2e-05\t0.056\t0.034\n",
      "19\t7.6e-05\t0.056\t0.034\n",
      "CPU times: user 289 ms, sys: 108 ms, total: 397 ms\n",
      "Wall time: 268 ms\n"
     ]
    },
    {
     "data": {
      "image/png": "[encoded data removed]",
      "text/plain": [
       "<matplotlib.figure.Figure at 0x7f24ff846898>"
      ]
     },
     "metadata": {},
     "output_type": "display_data"
    }
   ],
   "source": [
    "#utilisation de alpha\n",
    "%time run_fennel_restreaming(edges, NUM_NODES, 2, 20)\n"
   ]
  },
  {
   "cell_type": "markdown",
   "metadata": {},
   "source": [
    "# k = 4"
   ]
  },
  {
   "cell_type": "code",
   "execution_count": 34,
   "metadata": {},
   "outputs": [
    {
     "name": "stdout",
     "output_type": "stream",
     "text": [
      "4 PARTITIONS\n",
      "ROUND\tALPHA\tWASTE\tSCORE\n",
      "0\t1.3e-07\t0.001\t0.141\n",
      "1\t4.1e-06\t0.001\t0.076\n",
      "2\t8.1e-06\t0.003\t0.068\n",
      "3\t1.2e-05\t0.003\t0.062\n",
      "4\t1.6e-05\t0.002\t0.057\n",
      "5\t2.0e-05\t0.003\t0.053\n",
      "6\t2.4e-05\t0.001\t0.052\n",
      "7\t2.8e-05\t0.001\t0.051\n",
      "8\t3.2e-05\t0.001\t0.051\n",
      "9\t3.6e-05\t0.001\t0.051\n",
      "10\t4.0e-05\t0.002\t0.051\n",
      "11\t4.4e-05\t0.001\t0.051\n",
      "12\t4.8e-05\t0.001\t0.051\n",
      "13\t5.2e-05\t0.001\t0.051\n",
      "14\t5.6e-05\t0.001\t0.051\n",
      "15\t6.0e-05\t0.001\t0.051\n",
      "16\t6.4e-05\t0.001\t0.051\n",
      "17\t6.8e-05\t0.001\t0.051\n",
      "18\t7.2e-05\t0.001\t0.051\n",
      "19\t7.6e-05\t0.001\t0.051\n",
      "CPU times: user 318 ms, sys: 72.2 ms, total: 390 ms\n",
      "Wall time: 297 ms\n"
     ]
    },
    {
     "data": {
      "image/png": "[encoded data removed]",
      "text/plain": [
       "<matplotlib.figure.Figure at 0x7f00a7176cf8>"
      ]
     },
     "metadata": {},
     "output_type": "display_data"
    }
   ],
   "source": [
    "#sans alpha\n",
    "%time run_fennel_restreaming(edges, NUM_NODES, 4, 20)\n"
   ]
  },
  {
   "cell_type": "code",
   "execution_count": 27,
   "metadata": {},
   "outputs": [
    {
     "name": "stdout",
     "output_type": "stream",
     "text": [
      "4 PARTITIONS\n",
      "ROUND\tALPHA\tWASTE\tSCORE\n",
      "0\t1.3e-07\t0.031\t0.107\n",
      "1\t4.1e-06\t0.014\t0.066\n",
      "2\t8.1e-06\t0.005\t0.059\n",
      "3\t1.2e-05\t0.011\t0.053\n",
      "4\t1.6e-05\t0.013\t0.050\n",
      "5\t2.0e-05\t0.013\t0.050\n",
      "6\t2.4e-05\t0.012\t0.050\n",
      "7\t2.8e-05\t0.011\t0.050\n",
      "8\t3.2e-05\t0.011\t0.050\n",
      "9\t3.6e-05\t0.011\t0.050\n",
      "10\t4.0e-05\t0.011\t0.050\n",
      "11\t4.4e-05\t0.011\t0.050\n",
      "12\t4.8e-05\t0.011\t0.050\n",
      "13\t5.2e-05\t0.011\t0.050\n",
      "14\t5.6e-05\t0.011\t0.050\n",
      "15\t6.0e-05\t0.011\t0.050\n",
      "16\t6.4e-05\t0.011\t0.050\n",
      "17\t6.8e-05\t0.011\t0.050\n",
      "18\t7.2e-05\t0.011\t0.050\n",
      "19\t7.6e-05\t0.011\t0.050\n",
      "CPU times: user 294 ms, sys: 126 ms, total: 419 ms\n",
      "Wall time: 292 ms\n"
     ]
    },
    {
     "data": {
      "image/png": "[encoded data removed]",
      "text/plain": [
       "<matplotlib.figure.Figure at 0x7f24ff88f208>"
      ]
     },
     "metadata": {},
     "output_type": "display_data"
    }
   ],
   "source": [
    "%time run_fennel_restreaming(edges, NUM_NODES, 4, 20)\n"
   ]
  },
  {
   "cell_type": "markdown",
   "metadata": {},
   "source": [
    "# K=8"
   ]
  },
  {
   "cell_type": "code",
   "execution_count": 35,
   "metadata": {},
   "outputs": [
    {
     "name": "stdout",
     "output_type": "stream",
     "text": [
      "8 PARTITIONS\n",
      "ROUND\tALPHA\tWASTE\tSCORE\n",
      "0\t1.3e-07\t0.016\t0.186\n",
      "1\t4.1e-06\t0.018\t0.115\n",
      "2\t8.1e-06\t0.016\t0.107\n",
      "3\t1.2e-05\t0.014\t0.103\n",
      "4\t1.6e-05\t0.014\t0.098\n",
      "5\t2.0e-05\t0.014\t0.096\n",
      "6\t2.4e-05\t0.012\t0.096\n",
      "7\t2.8e-05\t0.012\t0.095\n",
      "8\t3.2e-05\t0.012\t0.095\n",
      "9\t3.6e-05\t0.012\t0.094\n",
      "10\t4.0e-05\t0.012\t0.093\n",
      "11\t4.4e-05\t0.012\t0.093\n",
      "12\t4.8e-05\t0.012\t0.092\n",
      "13\t5.2e-05\t0.012\t0.090\n",
      "14\t5.6e-05\t0.010\t0.090\n",
      "15\t6.0e-05\t0.012\t0.090\n",
      "16\t6.4e-05\t0.012\t0.090\n",
      "17\t6.8e-05\t0.012\t0.090\n",
      "18\t7.2e-05\t0.012\t0.090\n",
      "19\t7.6e-05\t0.012\t0.090\n",
      "CPU times: user 223 ms, sys: 43.2 ms, total: 267 ms\n",
      "Wall time: 200 ms\n"
     ]
    },
    {
     "data": {
      "image/png": "[encoded data removed]",
      "text/plain": [
       "<matplotlib.figure.Figure at 0x7f00a70d40b8>"
      ]
     },
     "metadata": {},
     "output_type": "display_data"
    }
   ],
   "source": [
    "%time run_fennel_restreaming(edges, NUM_NODES, 8, 20)\n"
   ]
  },
  {
   "cell_type": "code",
   "execution_count": 28,
   "metadata": {},
   "outputs": [
    {
     "name": "stdout",
     "output_type": "stream",
     "text": [
      "8 PARTITIONS\n",
      "ROUND\tALPHA\tWASTE\tSCORE\n",
      "0\t1.3e-07\t0.424\t0.135\n",
      "1\t4.1e-06\t0.832\t0.084\n",
      "2\t8.1e-06\t1.012\t0.075\n",
      "3\t1.2e-05\t1.094\t0.069\n",
      "4\t1.6e-05\t1.107\t0.068\n",
      "5\t2.0e-05\t1.107\t0.068\n",
      "6\t2.4e-05\t1.107\t0.068\n",
      "7\t2.8e-05\t1.107\t0.068\n",
      "8\t3.2e-05\t1.107\t0.068\n",
      "9\t3.6e-05\t1.107\t0.068\n",
      "10\t4.0e-05\t1.107\t0.068\n",
      "11\t4.4e-05\t1.107\t0.068\n",
      "12\t4.8e-05\t1.107\t0.068\n",
      "13\t5.2e-05\t1.107\t0.068\n",
      "14\t5.6e-05\t1.107\t0.068\n",
      "15\t6.0e-05\t1.107\t0.068\n",
      "16\t6.4e-05\t1.107\t0.068\n",
      "17\t6.8e-05\t1.107\t0.068\n",
      "18\t7.2e-05\t1.107\t0.068\n",
      "19\t7.6e-05\t1.107\t0.068\n",
      "CPU times: user 278 ms, sys: 133 ms, total: 411 ms\n",
      "Wall time: 277 ms\n"
     ]
    },
    {
     "data": {
      "image/png": "[encoded data removed]",
      "text/plain": [
       "<matplotlib.figure.Figure at 0x7f24ff8466d8>"
      ]
     },
     "metadata": {},
     "output_type": "display_data"
    }
   ],
   "source": [
    "#avec alphas\n",
    "%time run_fennel_restreaming(edges, NUM_NODES, 8, 20)\n"
   ]
  },
  {
   "cell_type": "markdown",
   "metadata": {},
   "source": [
    "# k = 16"
   ]
  },
  {
   "cell_type": "code",
   "execution_count": 36,
   "metadata": {},
   "outputs": [
    {
     "name": "stdout",
     "output_type": "stream",
     "text": [
      "16 PARTITIONS\n",
      "ROUND\tALPHA\tWASTE\tSCORE\n",
      "0\t1.3e-07\t0.125\t0.216\n",
      "1\t4.1e-06\t0.117\t0.130\n",
      "2\t8.1e-06\t0.121\t0.120\n",
      "3\t1.2e-05\t0.117\t0.112\n",
      "4\t1.6e-05\t0.117\t0.110\n",
      "5\t2.0e-05\t0.117\t0.108\n",
      "6\t2.4e-05\t0.117\t0.107\n",
      "7\t2.8e-05\t0.117\t0.107\n",
      "8\t3.2e-05\t0.117\t0.107\n",
      "9\t3.6e-05\t0.117\t0.107\n",
      "10\t4.0e-05\t0.117\t0.107\n",
      "11\t4.4e-05\t0.117\t0.107\n",
      "12\t4.8e-05\t0.117\t0.107\n",
      "13\t5.2e-05\t0.117\t0.107\n",
      "14\t5.6e-05\t0.117\t0.107\n",
      "15\t6.0e-05\t0.117\t0.107\n",
      "16\t6.4e-05\t0.117\t0.107\n",
      "17\t6.8e-05\t0.117\t0.107\n",
      "18\t7.2e-05\t0.117\t0.107\n",
      "19\t7.6e-05\t0.117\t0.107\n",
      "CPU times: user 266 ms, sys: 64.6 ms, total: 331 ms\n",
      "Wall time: 223 ms\n"
     ]
    },
    {
     "data": {
      "image/png": "[encoded data removed]",
      "text/plain": [
       "<matplotlib.figure.Figure at 0x7f00a70bae80>"
      ]
     },
     "metadata": {},
     "output_type": "display_data"
    }
   ],
   "source": [
    "%time run_fennel_restreaming(edges, NUM_NODES, 16, 20)\n"
   ]
  },
  {
   "cell_type": "code",
   "execution_count": 30,
   "metadata": {},
   "outputs": [
    {
     "name": "stdout",
     "output_type": "stream",
     "text": [
      "16 PARTITIONS\n",
      "ROUND\tALPHA\tWASTE\tSCORE\n",
      "0\t1.3e-07\t0.692\t0.141\n",
      "1\t4.1e-06\t0.957\t0.088\n",
      "2\t8.1e-06\t1.040\t0.078\n",
      "3\t1.2e-05\t1.076\t0.073\n",
      "4\t1.6e-05\t1.084\t0.071\n",
      "5\t2.0e-05\t1.111\t0.071\n",
      "6\t2.4e-05\t1.135\t0.070\n",
      "7\t2.8e-05\t1.139\t0.070\n",
      "8\t3.2e-05\t1.139\t0.070\n",
      "9\t3.6e-05\t1.139\t0.070\n",
      "10\t4.0e-05\t1.139\t0.070\n",
      "11\t4.4e-05\t1.139\t0.070\n",
      "12\t4.8e-05\t1.139\t0.070\n",
      "13\t5.2e-05\t1.139\t0.070\n",
      "14\t5.6e-05\t1.139\t0.070\n",
      "15\t6.0e-05\t1.139\t0.070\n",
      "16\t6.4e-05\t1.139\t0.070\n",
      "17\t6.8e-05\t1.139\t0.070\n",
      "18\t7.2e-05\t1.139\t0.070\n",
      "19\t7.6e-05\t1.139\t0.070\n",
      "CPU times: user 316 ms, sys: 90.8 ms, total: 407 ms\n",
      "Wall time: 316 ms\n"
     ]
    },
    {
     "data": {
      "image/png": "[encoded data removed]",
      "text/plain": [
       "<matplotlib.figure.Figure at 0x7f2501cc37f0>"
      ]
     },
     "metadata": {},
     "output_type": "display_data"
    }
   ],
   "source": [
    "%time run_fennel_restreaming(edges, NUM_NODES, 16, 20)\n"
   ]
  },
  {
   "cell_type": "code",
   "execution_count": 39,
   "metadata": {},
   "outputs": [
    {
     "name": "stdout",
     "output_type": "stream",
     "text": [
      "16 PARTITIONS\n",
      "ROUND\tALPHA\tWASTE\tSCORE\n",
      "0\t2.5e-08\t0.695\t0.141\n",
      "1\t3.3e-07\t0.957\t0.091\n",
      "2\t6.4e-07\t1.064\t0.083\n",
      "3\t9.5e-07\t1.080\t0.080\n",
      "4\t1.3e-06\t1.088\t0.078\n",
      "5\t1.6e-06\t1.092\t0.073\n",
      "6\t1.9e-06\t1.115\t0.069\n",
      "7\t2.2e-06\t1.139\t0.069\n",
      "8\t2.5e-06\t1.143\t0.069\n",
      "9\t2.8e-06\t1.143\t0.069\n",
      "10\t3.1e-06\t1.143\t0.069\n",
      "11\t3.4e-06\t1.143\t0.069\n",
      "12\t3.7e-06\t1.143\t0.069\n",
      "13\t4.0e-06\t1.143\t0.069\n",
      "14\t4.3e-06\t1.143\t0.069\n",
      "15\t4.7e-06\t1.143\t0.069\n",
      "16\t5.0e-06\t1.143\t0.069\n",
      "17\t5.3e-06\t1.143\t0.069\n",
      "18\t5.6e-06\t1.143\t0.069\n",
      "19\t5.9e-06\t1.143\t0.069\n",
      "CPU times: user 333 ms, sys: 121 ms, total: 454 ms\n",
      "Wall time: 320 ms\n"
     ]
    },
    {
     "data": {
      "image/png": "[encoded data removed]",
      "text/plain": [
       "<matplotlib.figure.Figure at 0x7f2501bf6710>"
      ]
     },
     "metadata": {},
     "output_type": "display_data"
    }
   ],
   "source": [
    "%time run_fennel_restreaming(edges, NUM_NODES, 16, 20)\n"
   ]
  },
  {
   "cell_type": "markdown",
   "metadata": {},
   "source": [
    "# K = 32"
   ]
  },
  {
   "cell_type": "code",
   "execution_count": 37,
   "metadata": {},
   "outputs": [
    {
     "name": "stdout",
     "output_type": "stream",
     "text": [
      "32 PARTITIONS\n",
      "ROUND\tALPHA\tWASTE\tSCORE\n",
      "0\t1.3e-07\t0.537\t0.310\n",
      "1\t4.1e-06\t0.561\t0.253\n",
      "2\t8.1e-06\t0.561\t0.248\n",
      "3\t1.2e-05\t0.561\t0.244\n",
      "4\t1.6e-05\t0.561\t0.245\n",
      "5\t2.0e-05\t0.561\t0.244\n",
      "6\t2.4e-05\t0.561\t0.244\n",
      "7\t2.8e-05\t0.561\t0.243\n",
      "8\t3.2e-05\t0.561\t0.243\n",
      "9\t3.6e-05\t0.561\t0.243\n",
      "10\t4.0e-05\t0.561\t0.243\n",
      "11\t4.4e-05\t0.561\t0.243\n",
      "12\t4.8e-05\t0.561\t0.243\n",
      "13\t5.2e-05\t0.561\t0.243\n",
      "14\t5.6e-05\t0.561\t0.243\n",
      "15\t6.0e-05\t0.561\t0.243\n",
      "16\t6.4e-05\t0.561\t0.243\n",
      "17\t6.8e-05\t0.561\t0.243\n",
      "18\t7.2e-05\t0.561\t0.243\n",
      "19\t7.6e-05\t0.561\t0.243\n",
      "CPU times: user 269 ms, sys: 86.6 ms, total: 356 ms\n",
      "Wall time: 237 ms\n"
     ]
    },
    {
     "data": {
      "image/png": "[encoded data removed]",
      "text/plain": [
       "<matplotlib.figure.Figure at 0x7f00a6cd87f0>"
      ]
     },
     "metadata": {},
     "output_type": "display_data"
    }
   ],
   "source": [
    "%time run_fennel_restreaming(edges, NUM_NODES, 32, 20)\n"
   ]
  },
  {
   "cell_type": "code",
   "execution_count": 31,
   "metadata": {},
   "outputs": [
    {
     "name": "stdout",
     "output_type": "stream",
     "text": [
      "32 PARTITIONS\n",
      "ROUND\tALPHA\tWASTE\tSCORE\n",
      "0\t1.3e-07\t1.622\t0.144\n",
      "1\t4.1e-06\t2.169\t0.088\n",
      "2\t8.1e-06\t2.438\t0.081\n",
      "3\t1.2e-05\t2.486\t0.077\n",
      "4\t1.6e-05\t2.510\t0.074\n",
      "5\t2.0e-05\t2.740\t0.070\n",
      "6\t2.4e-05\t2.890\t0.067\n",
      "7\t2.8e-05\t2.890\t0.067\n",
      "8\t3.2e-05\t2.890\t0.067\n",
      "9\t3.6e-05\t2.890\t0.067\n",
      "10\t4.0e-05\t2.890\t0.067\n",
      "11\t4.4e-05\t2.890\t0.067\n",
      "12\t4.8e-05\t2.890\t0.067\n",
      "13\t5.2e-05\t2.890\t0.067\n",
      "14\t5.6e-05\t2.890\t0.067\n",
      "15\t6.0e-05\t2.890\t0.067\n",
      "16\t6.4e-05\t2.890\t0.067\n",
      "17\t6.8e-05\t2.890\t0.067\n",
      "18\t7.2e-05\t2.890\t0.067\n",
      "19\t7.6e-05\t2.890\t0.067\n",
      "CPU times: user 276 ms, sys: 101 ms, total: 377 ms\n",
      "Wall time: 244 ms\n"
     ]
    },
    {
     "data": {
      "image/png": "[encoded data removed]",
      "text/plain": [
       "<matplotlib.figure.Figure at 0x7f24ff3cf2e8>"
      ]
     },
     "metadata": {},
     "output_type": "display_data"
    }
   ],
   "source": [
    "%time run_fennel_restreaming(edges, NUM_NODES, 32, 20)\n"
   ]
  },
  {
   "cell_type": "code",
   "execution_count": 44,
   "metadata": {},
   "outputs": [
    {
     "name": "stdout",
     "output_type": "stream",
     "text": [
      "32 PARTITIONS\n",
      "ROUND\tALPHA\tWASTE\tSCORE\n",
      "0\t5.3e-07\t1.622\t0.144\n",
      "1\t4.5e-06\t2.169\t0.088\n",
      "2\t8.5e-06\t2.438\t0.081\n",
      "3\t1.2e-05\t2.486\t0.077\n",
      "4\t1.6e-05\t2.510\t0.074\n",
      "5\t2.0e-05\t2.740\t0.070\n",
      "6\t2.4e-05\t2.890\t0.067\n",
      "7\t2.8e-05\t2.890\t0.067\n",
      "8\t3.2e-05\t2.890\t0.067\n",
      "9\t3.6e-05\t2.890\t0.067\n",
      "10\t4.0e-05\t2.890\t0.067\n",
      "11\t4.4e-05\t2.890\t0.067\n",
      "12\t4.8e-05\t2.890\t0.067\n",
      "13\t5.2e-05\t2.890\t0.067\n",
      "14\t5.6e-05\t2.890\t0.067\n",
      "15\t6.0e-05\t2.890\t0.067\n",
      "16\t6.4e-05\t2.890\t0.067\n",
      "17\t6.8e-05\t2.890\t0.067\n",
      "18\t7.2e-05\t2.890\t0.067\n",
      "19\t7.6e-05\t2.890\t0.067\n",
      "CPU times: user 307 ms, sys: 78.8 ms, total: 386 ms\n",
      "Wall time: 259 ms\n"
     ]
    },
    {
     "data": {
      "image/png": "[encoded data removed]",
      "text/plain": [
       "<matplotlib.figure.Figure at 0x7f24ff9e8cc0>"
      ]
     },
     "metadata": {},
     "output_type": "display_data"
    }
   ],
   "source": [
    "%time run_fennel_restreaming(edges, NUM_NODES, 32, 20)\n"
   ]
  },
  {
   "cell_type": "code",
   "execution_count": null,
   "metadata": {
    "collapsed": true
   },
   "outputs": [],
   "source": []
  }
 ],
 "metadata": {
  "kernelspec": {
   "display_name": "Python 3",
   "language": "python",
   "name": "python3"
  },
  "language_info": {
   "codemirror_mode": {
    "name": "ipython",
    "version": 3
   },
   "file_extension": ".py",
   "mimetype": "text/x-python",
   "name": "python",
   "nbconvert_exporter": "python",
   "pygments_lexer": "ipython3",
   "version": "3.6.1"
  }
 },
 "nbformat": 4,
 "nbformat_minor": 2
}
