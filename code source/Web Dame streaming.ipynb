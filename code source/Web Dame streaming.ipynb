{
 "cells": [
  {
   "cell_type": "code",
   "execution_count": 1,
   "metadata": {
    "collapsed": true
   },
   "outputs": [],
   "source": [
    "# Constants for you to change\n",
    "import os\n",
    "\n",
    "DATA_DIRECTORY = '/home/younes'\n",
    "LIVEJOURNAL_FILENAME = os.path.join(DATA_DIRECTORY, 'web-NotreDame.txt.gz')\n",
    "LIVEJOURNAL_URL = 'http://snap.stanford.edu/data/web-NotreDame.txt.gz'\n",
    "\n",
    "# Just have these hardcoded, though we don't really need to\n",
    "NUM_EDGES = 1497134\n",
    "NUM_NODES = 325729"
   ]
  },
  {
   "cell_type": "code",
   "execution_count": 2,
   "metadata": {},
   "outputs": [
    {
     "name": "stdout",
     "output_type": "stream",
     "text": [
      "DOWNLOADING 250M FILE. WILL SAVE FOR FUTURE USE\n",
      "\n",
      "FILE STATS:\n",
      "-rw-rw-r-- 1 younes younes 3.6M ماي 19 00:13 /home/younes/web-NotreDame.txt.gz\n",
      "\n",
      "STARTING LINES\n",
      "# Directed graph (each unordered pair of nodes is saved once): web-NotreDame.txt \n",
      "# University of Notre Dame web graph from 1999 by Albert, Jeong and Barabasi\n",
      "# Nodes: 325729 Edges: 1497134\n",
      "# FromNodeId\tToNodeId\n",
      "0\t0\n",
      "0\t1\n",
      "0\t2\n",
      "0\t3\n",
      "0\t4\n",
      "0\t5\n",
      "0\t6\n",
      "0\t7\n",
      "0\t8\n",
      "0\t9\n",
      "0\t10\n",
      "0\t11\n",
      "0\t12\n",
      "0\t13\n",
      "0\t14\n",
      "0\t15\n",
      "0\t16\n",
      "1\t0\n",
      "1\t7\n",
      "1\t17\n",
      "1\t18\n",
      "1\t19\n",
      "1\t20\n",
      "1\t21\n",
      "1\t22\n",
      "1\t23\n",
      "\n",
      "gzip: stdout: Broken pipe\n"
     ]
    }
   ],
   "source": [
    "# Downloading the file\n",
    "\n",
    "import urllib.request\n",
    "\n",
    "assert os.path.exists(DATA_DIRECTORY)\n",
    "\n",
    "# Get your data. This file is ~250M so it will take a bit\n",
    "print('DOWNLOADING 250M FILE. WILL SAVE FOR FUTURE USE')\n",
    "if not os.path.exists(LIVEJOURNAL_FILENAME):\n",
    "    urllib.request.urlretrieve(LIVEJOURNAL_URL, LIVEJOURNAL_FILENAME)\n",
    "\n",
    "# Show a little bit of the file\n",
    "print('\\nFILE STATS:')\n",
    "!ls -lh $LIVEJOURNAL_FILENAME\n",
    "print('\\nSTARTING LINES')\n",
    "!zcat $LIVEJOURNAL_FILENAME | head -n 30"
   ]
  },
  {
   "cell_type": "code",
   "execution_count": 3,
   "metadata": {
    "collapsed": true
   },
   "outputs": [],
   "source": [
    "# Cleaning the data\n",
    "\n",
    "import numpy as np\n",
    "import gzip\n",
    "\n",
    "def row_generator():\n",
    "    \"\"\"This will generate all the edges in the graph.\"\"\"\n",
    "    with gzip.open(LIVEJOURNAL_FILENAME, 'rt') as f:\n",
    "        for line in f:\n",
    "            if line.startswith('#'):\n",
    "                continue\n",
    "            else:\n",
    "                (left_node, right_node) = line.split('\\t')\n",
    "                yield(int(left_node), int(right_node))\n",
    "\n",
    "def to_undirected(edge_iterable, num_edges, num_nodes, shuffle=True):\n",
    "    \"\"\"Takes an iterable of edges and produces the list of edges for the undirected graph.\n",
    "    \n",
    "    > to_undirected([[0,1],[1,2],[2,10]], 3, 11)\n",
    "    array([[ 0,  1],\n",
    "       [ 1,  0],\n",
    "       [ 1,  2],\n",
    "       [ 2,  1],\n",
    "       [ 2, 10],\n",
    "       [10,  2]])\n",
    "    \"\"\"\n",
    "    # need int64 to do gross bithacks\n",
    "    as_array = np.zeros((num_edges, 2), dtype=np.int64)\n",
    "    for (i, (n_0, n_1)) in enumerate(edge_iterable):\n",
    "            as_array[i,0] = n_0\n",
    "            as_array[i,1] = n_1\n",
    "    # The graph is directed, but we want to make it undirected,\n",
    "    # which means we will duplicate some rows.\n",
    "\n",
    "    left_nodes = as_array[:,0]\n",
    "    right_nodes = as_array[:,1]\n",
    "    \n",
    "    if shuffle:\n",
    "        the_shuffle = np.arange(num_nodes)\n",
    "        np.random.shuffle(the_shuffle)\n",
    "        left_nodes = the_shuffle.take(left_nodes)\n",
    "        right_nodes = the_shuffle.take(right_nodes)\n",
    "\n",
    "    \n",
    "    # numpy.unique will not unique whole rows, so this little bit-hacking\n",
    "    # is a quick way to get unique rows after making a flipped copy of\n",
    "    # each edge.\n",
    "    max_bits = int(np.ceil(np.log2(num_nodes + 1)))\n",
    "    \n",
    "    encoded_edges_forward = np.left_shift(left_nodes, max_bits) | right_nodes\n",
    "    \n",
    "    # Flip the columns and do it again:\n",
    "    encoded_edges_reverse = np.left_shift(right_nodes, max_bits) | left_nodes\n",
    "\n",
    "    unique_encoded_edges = np.unique(np.hstack((encoded_edges_forward, encoded_edges_reverse)))\n",
    "    \n",
    "    left_node_decoded = np.right_shift(unique_encoded_edges, max_bits)\n",
    "    \n",
    "    # Mask out the high order bits\n",
    "    right_node_decoded = (2 ** (max_bits) - 1) & unique_encoded_edges\n",
    "    \n",
    "    undirected_edges = np.vstack((left_node_decoded, right_node_decoded)).T.astype(np.int32)\n",
    "\n",
    "    # ascontiguousarray so that it's c-contiguous for cython code below\n",
    "    return np.ascontiguousarray(undirected_edges)\n",
    "\n",
    "\n",
    "def get_clean_data(shuffle=True):\n",
    "    if shuffle:\n",
    "        name = os.path.join(DATA_DIRECTORY, 'LJ-dame-shuffled.npy')\n",
    "    else:\n",
    "        name = os.path.join(DATA_DIRECTORY, 'LJ-dame.npy')\n",
    "\n",
    "    if os.path.exists(name):\n",
    "        print('Loading from file {}'.format(name))\n",
    "        return np.load(name)\n",
    "    else:\n",
    "        print('Parsing from zip. Will write to file {}'.format(name), flush=True)\n",
    "        # Lets get the edges into one big array\n",
    "        edges = to_undirected(row_generator(), NUM_EDGES, NUM_NODES, shuffle=shuffle)\n",
    "        print('ORIGINAL DIST: {} MIN: {} MAX: {}'.format(np.abs(edges[:,0] - edges[:,1]).mean(), edges.min(), edges.max()))\n",
    "        np.save(name, edges)\n",
    "        return edges"
   ]
  },
  {
   "cell_type": "code",
   "execution_count": 4,
   "metadata": {},
   "outputs": [
    {
     "name": "stdout",
     "output_type": "stream",
     "text": [
      "Normalizing data (or loaded pre-computed)\n",
      "Loading from file /home/younes/LJ-dame-shuffled.npy\n",
      "CPU times: user 11.1 ms, sys: 3.11 ms, total: 14.2 ms\n",
      "Wall time: 360 ms\n",
      "Loading from file /home/younes/LJ-dame.npy\n",
      "CPU times: user 3.76 ms, sys: 11 ms, total: 14.8 ms\n",
      "Wall time: 467 ms\n",
      "\n",
      "EDGES SHAPE: (2207671, 2)\n"
     ]
    }
   ],
   "source": [
    "print(\"Normalizing data (or loaded pre-computed)\")\n",
    "%time edges = get_clean_data(shuffle=True)\n",
    "%time unshuffled_edges = get_clean_data(shuffle=False)\n",
    "print('\\nEDGES SHAPE: {}'.format(edges.shape))"
   ]
  },
  {
   "cell_type": "code",
   "execution_count": 5,
   "metadata": {
    "collapsed": true
   },
   "outputs": [],
   "source": [
    "def score(assignment, edges):\n",
    "    \"\"\"Compute the score given an assignment of vertices.\n",
    "    \n",
    "    N nodes are assigned to clusters 0 to K-1.\n",
    "    \n",
    "    assignment: Vector where N[i] is the cluster node i is assigned to.\n",
    "    edges: The edges in the graph, assumed to have one in each direction\n",
    "    \n",
    "    Returns: (total wasted bin space, ratio of edges cut)\n",
    "    \"\"\"\n",
    "    balance = np.bincount(assignment) / len(assignment)\n",
    "    waste = (np.max(balance) - balance).sum()\n",
    "    \n",
    "    left_edge_assignment = assignment.take(edges[:,0])\n",
    "    right_edge_assignment = assignment.take(edges[:,1])\n",
    "    mismatch = (left_edge_assignment != right_edge_assignment).sum()\n",
    "    cut_ratio = mismatch / len(edges)\n",
    "    return (waste, cut_ratio)"
   ]
  },
  {
   "cell_type": "code",
   "execution_count": 6,
   "metadata": {},
   "outputs": [
    {
     "name": "stdout",
     "output_type": "stream",
     "text": [
      "Populating the interactive namespace from numpy and matplotlib\n"
     ]
    }
   ],
   "source": [
    "%load_ext cython\n",
    "%pylab inline"
   ]
  },
  {
   "cell_type": "code",
   "execution_count": 7,
   "metadata": {
    "collapsed": true
   },
   "outputs": [],
   "source": [
    "%%cython\n",
    "import numpy as np\n",
    "cimport cython\n",
    "\n",
    "cdef int UNMAPPED = -1\n",
    "\n",
    "def linear_deterministic_greedy(int[:,::] edges,\n",
    "                                int num_nodes,\n",
    "                                int num_partitions,\n",
    "                                int[::] partition):\n",
    "    \"\"\"\n",
    "    This algorithm favors a cluster if it has many neighbors of a node, but\n",
    "    penalizes the cluster if it is close to capacity.\n",
    "    \n",
    "    edges: An [:,2] array of edges.\n",
    "    num_nodes: The number of nodes in the graph.\n",
    "    num_partitions: How many partitions we are breaking the graph into.\n",
    "    partition: The partition from a previous run. Used for restreaming.\n",
    "\n",
    "    Returns: A new partition.\n",
    "    \"\"\"\n",
    "    # The output partition\n",
    "\n",
    "    if partition is None:\n",
    "        partition = np.repeat(np.int32(UNMAPPED), num_nodes)\n",
    "\n",
    "    cdef int[::] partition_sizes = np.zeros(num_partitions, dtype=np.int32)\n",
    "         \n",
    "    cdef int[::] partition_votes = np.zeros(num_partitions, dtype=np.int32)\n",
    "    \n",
    "    # Fine to be a little off, to stay integers\n",
    "    cdef int partition_capacity = num_nodes / num_partitions\n",
    "    \n",
    "    cdef int last_left = edges[0,0]\n",
    "    cdef int i = 0\n",
    "    cdef int left = 0\n",
    "    cdef int right = 0\n",
    "    cdef int arg = 0\n",
    "    cdef int max_arg = 0\n",
    "    cdef int max_val = 0\n",
    "    cdef int val = 0\n",
    "    cdef int len_edges = len(edges)\n",
    "    \n",
    "    for i in range(len_edges):\n",
    "        left = edges[i,0]\n",
    "        right = edges[i,1]\n",
    "    \n",
    "        if last_left != left:\n",
    "            # We have found a new node so assign last_left to a partition\n",
    "                \n",
    "            max_arg = 0\n",
    "            max_val = (partition_votes[0]) * (\n",
    "                       partition_capacity - partition_sizes[0])\n",
    "\n",
    "            for arg in range(1, num_partitions):\n",
    "                val = (partition_votes[arg]) * (\n",
    "                       partition_capacity - partition_sizes[arg])\n",
    "                if val > max_val:\n",
    "                    max_arg = arg\n",
    "                    max_val = val\n",
    "\n",
    "            if max_val == 0:\n",
    "                max_arg = arg\n",
    "                # No neighbors (or multiple maxed out) so \"randomly\" select\n",
    "                # the smallest partition\n",
    "                for arg in range(i % num_partitions, num_partitions):\n",
    "                    if partition_sizes[arg] < partition_capacity:\n",
    "                        max_arg = arg\n",
    "                        max_val = 1\n",
    "                        break\n",
    "                if max_val == 0:\n",
    "                    for arg in range(0, i % num_partitions):\n",
    "                        if partition_sizes[arg] < partition_capacity:\n",
    "                            max_arg = arg\n",
    "                            break\n",
    "\n",
    "\n",
    "            partition_sizes[max_arg] += 1\n",
    "            partition[last_left] = max_arg\n",
    "            partition_votes[:] = 0\n",
    "            last_left = left\n",
    "\n",
    "        if partition[right] != UNMAPPED:\n",
    "            partition_votes[partition[right]] += 1\n",
    "\n",
    "\n",
    "    # Clean up the last assignment\n",
    "    max_arg = 0\n",
    "    max_val = 0\n",
    "    for arg in range(0, num_partitions):\n",
    "        if partition_sizes[arg] < partition_capacity:\n",
    "            val = (partition_votes[arg]) * (\n",
    "                    1 - partition_sizes[arg] / partition_capacity)\n",
    "            if val > max_val:\n",
    "                max_arg = arg\n",
    "                max_val = val\n",
    "    partition[left] = max_arg\n",
    "\n",
    "    return np.asarray(partition)"
   ]
  },
  {
   "cell_type": "code",
   "execution_count": 8,
   "metadata": {},
   "outputs": [
    {
     "name": "stdout",
     "output_type": "stream",
     "text": [
      "CPU times: user 33.3 ms, sys: 185 µs, total: 33.5 ms\n",
      "Wall time: 33 ms\n",
      "edge score:0.13223437731437337 waste: 3.070036748376026e-06\n"
     ]
    }
   ],
   "source": [
    "assignments = None\n",
    "%time partition = linear_deterministic_greedy(edges, NUM_NODES, 2, assignments)\n",
    "(waste, edge_score) = score(partition, edges)\n",
    "print(\"edge score:\"+str(edge_score)+\" waste: \"+str(waste))"
   ]
  },
  {
   "cell_type": "code",
   "execution_count": 9,
   "metadata": {},
   "outputs": [
    {
     "name": "stdout",
     "output_type": "stream",
     "text": [
      "CPU times: user 30.4 ms, sys: 430 µs, total: 30.9 ms\n",
      "Wall time: 30.7 ms\n",
      "edge score:0.20402677754067522 waste: 9.210110245128078e-06\n"
     ]
    }
   ],
   "source": [
    "assignments = None\n",
    "%time partition = linear_deterministic_greedy(edges, NUM_NODES, 4, assignments)\n",
    "(waste, edge_score) = score(partition, edges)\n",
    "print(\"edge score:\"+str(edge_score)+\" waste: \"+str(waste))"
   ]
  },
  {
   "cell_type": "code",
   "execution_count": 10,
   "metadata": {},
   "outputs": [
    {
     "name": "stdout",
     "output_type": "stream",
     "text": [
      "CPU times: user 41 ms, sys: 62 µs, total: 41 ms\n",
      "Wall time: 43.9 ms\n",
      "edge score:0.24822811007618437 waste: 2.1490257238437893e-05\n"
     ]
    }
   ],
   "source": [
    "assignments = None\n",
    "%time partition = linear_deterministic_greedy(edges, NUM_NODES, 8, assignments)\n",
    "(waste, edge_score) = score(partition, edges)\n",
    "print(\"edge score:\"+str(edge_score)+\" waste: \"+str(waste))"
   ]
  },
  {
   "cell_type": "code",
   "execution_count": 11,
   "metadata": {},
   "outputs": [
    {
     "name": "stdout",
     "output_type": "stream",
     "text": [
      "CPU times: user 65 ms, sys: 0 ns, total: 65 ms\n",
      "Wall time: 64.8 ms\n",
      "edge score:0.27315030183392364 waste: 4.605055122522406e-05\n"
     ]
    }
   ],
   "source": [
    "assignments = None\n",
    "%time partition = linear_deterministic_greedy(edges, NUM_NODES, 16, assignments)\n",
    "(waste, edge_score) = score(partition, edges)\n",
    "print(\"edge score:\"+str(edge_score)+\" waste: \"+str(waste))"
   ]
  },
  {
   "cell_type": "code",
   "execution_count": 12,
   "metadata": {},
   "outputs": [
    {
     "name": "stdout",
     "output_type": "stream",
     "text": [
      "CPU times: user 75.5 ms, sys: 0 ns, total: 75.5 ms\n",
      "Wall time: 75.4 ms\n",
      "edge score:0.30241281422820704 waste: 9.517113919858128e-05\n"
     ]
    }
   ],
   "source": [
    "assignments = None\n",
    "%time partition = linear_deterministic_greedy(edges, NUM_NODES, 32, assignments)\n",
    "(waste, edge_score) = score(partition, edges)\n",
    "print(\"edge score:\"+str(edge_score)+\" waste: \"+str(waste))"
   ]
  },
  {
   "cell_type": "code",
   "execution_count": 13,
   "metadata": {},
   "outputs": [
    {
     "name": "stdout",
     "output_type": "stream",
     "text": [
      "CPU times: user 72.9 ms, sys: 0 ns, total: 72.9 ms\n",
      "Wall time: 72.5 ms\n",
      "edge score:0.3458359510995977 waste: 0.0009547814287336163\n"
     ]
    }
   ],
   "source": [
    "assignments = None\n",
    "%time partition = linear_deterministic_greedy(edges, NUM_NODES, 40, assignments)\n",
    "(waste, edge_score) = score(partition, edges)\n",
    "print(\"edge score:\"+str(edge_score)+\" waste: \"+str(waste))"
   ]
  },
  {
   "cell_type": "code",
   "execution_count": 14,
   "metadata": {
    "collapsed": true
   },
   "outputs": [],
   "source": [
    "def draw_figures(waste_values, edge_score_values, num_partitions):\n",
    "    fig, axes = plt.subplots(nrows=1, ncols=2)\n",
    "    \n",
    "    (waste_axes, score_axes) = axes\n",
    "    waste_axes.plot(waste_values, 'r')\n",
    "    waste_axes.set_xlabel('Round')\n",
    "    waste_axes.set_ylabel('Number of wasted bins')\n",
    "    waste_axes.set_ylim(bottom=0)\n",
    "    waste_axes.set_title('Wasted Bins: {} partitions'.format(num_partitions))\n",
    "    \n",
    "    score_axes.plot(edge_score_values, 'r')\n",
    "    score_axes.set_xlabel('Round')\n",
    "    score_axes.set_ylabel(' edges cut')\n",
    "    score_axes.set_ylim(bottom=0)\n",
    "    score_axes.set_title('Score: {} partitions'.format(num_partitions))\n",
    "    \n",
    "    fig.tight_layout()"
   ]
  },
  {
   "cell_type": "code",
   "execution_count": 15,
   "metadata": {
    "collapsed": true
   },
   "outputs": [],
   "source": [
    "def run_restreaming_greedy(edges, num_nodes, num_partitions=10, num_iterations=10):\n",
    "    print('\\n{} PARTITIONS'.format(num_partitions))\n",
    "    assignments = None\n",
    "    print('ROUND\\tWASTE\\tSCORE')\n",
    "    waste_values = []\n",
    "    edge_score_values = []\n",
    "    flipped_edges = numpy.flipud(edges).copy()\n",
    "    for i in range(num_iterations):\n",
    "        assignments = linear_deterministic_greedy(edges, NUM_NODES, num_partitions, assignments)\n",
    "        (waste, edge_score) = score(assignments, edges)\n",
    "        waste_values.append(waste)\n",
    "        edge_score_values.append(edge_score)\n",
    "        print('{}\\t{:0.3f}\\t{:0.3f}'.format(i, waste, edge_score))\n",
    "    draw_figures(waste_values, edge_score_values, num_partitions)"
   ]
  },
  {
   "cell_type": "code",
   "execution_count": 16,
   "metadata": {},
   "outputs": [
    {
     "name": "stdout",
     "output_type": "stream",
     "text": [
      "\n",
      "2 PARTITIONS\n",
      "ROUND\tWASTE\tSCORE\n",
      "0\t0.000\t0.132\n",
      "1\t0.000\t0.055\n",
      "2\t0.000\t0.048\n",
      "3\t0.000\t0.048\n",
      "4\t0.000\t0.047\n",
      "5\t0.000\t0.046\n",
      "6\t0.000\t0.045\n",
      "7\t0.000\t0.045\n",
      "8\t0.000\t0.045\n",
      "9\t0.000\t0.045\n",
      "10\t0.000\t0.045\n",
      "11\t0.000\t0.045\n",
      "12\t0.000\t0.045\n",
      "13\t0.000\t0.045\n",
      "14\t0.000\t0.045\n",
      "15\t0.000\t0.045\n",
      "16\t0.000\t0.045\n",
      "17\t0.000\t0.045\n",
      "18\t0.000\t0.045\n",
      "19\t0.000\t0.045\n",
      "CPU times: user 1.19 s, sys: 284 ms, total: 1.47 s\n",
      "Wall time: 1.38 s\n"
     ]
    },
    {
     "data": {
      "image/png": "[encoded data removed]",
      "text/plain": [
       "<matplotlib.figure.Figure at 0x7fc8951c4e80>"
      ]
     },
     "metadata": {},
     "output_type": "display_data"
    }
   ],
   "source": [
    "%time run_restreaming_greedy(edges, NUM_NODES, num_partitions=2, num_iterations=20)\n"
   ]
  },
  {
   "cell_type": "code",
   "execution_count": 17,
   "metadata": {},
   "outputs": [
    {
     "name": "stdout",
     "output_type": "stream",
     "text": [
      "\n",
      "4 PARTITIONS\n",
      "ROUND\tWASTE\tSCORE\n",
      "0\t0.000\t0.204\n",
      "1\t0.000\t0.091\n",
      "2\t0.000\t0.083\n",
      "3\t0.000\t0.080\n",
      "4\t0.000\t0.079\n",
      "5\t0.000\t0.078\n",
      "6\t0.000\t0.078\n",
      "7\t0.000\t0.078\n",
      "8\t0.000\t0.078\n",
      "9\t0.000\t0.078\n",
      "10\t0.000\t0.078\n",
      "11\t0.000\t0.077\n",
      "12\t0.000\t0.077\n",
      "13\t0.000\t0.077\n",
      "14\t0.000\t0.077\n",
      "15\t0.000\t0.077\n",
      "16\t0.000\t0.077\n",
      "17\t0.000\t0.077\n",
      "18\t0.000\t0.077\n",
      "19\t0.000\t0.077\n",
      "CPU times: user 1.25 s, sys: 258 ms, total: 1.51 s\n",
      "Wall time: 1.43 s\n"
     ]
    },
    {
     "data": {
      "image/png": "[encoded data removed]",
      "text/plain": [
       "<matplotlib.figure.Figure at 0x7fc892e4c9e8>"
      ]
     },
     "metadata": {},
     "output_type": "display_data"
    }
   ],
   "source": [
    "%time run_restreaming_greedy(edges, NUM_NODES, num_partitions=4, num_iterations=20)\n"
   ]
  },
  {
   "cell_type": "code",
   "execution_count": 18,
   "metadata": {},
   "outputs": [
    {
     "name": "stdout",
     "output_type": "stream",
     "text": [
      "\n",
      "8 PARTITIONS\n",
      "ROUND\tWASTE\tSCORE\n",
      "0\t0.000\t0.248\n",
      "1\t0.000\t0.109\n",
      "2\t0.000\t0.097\n",
      "3\t0.000\t0.094\n",
      "4\t0.000\t0.093\n",
      "5\t0.000\t0.092\n",
      "6\t0.000\t0.092\n",
      "7\t0.000\t0.092\n",
      "8\t0.000\t0.092\n",
      "9\t0.000\t0.092\n",
      "10\t0.000\t0.092\n",
      "11\t0.000\t0.092\n",
      "12\t0.000\t0.092\n",
      "13\t0.000\t0.092\n",
      "14\t0.000\t0.092\n",
      "15\t0.000\t0.092\n",
      "16\t0.000\t0.092\n",
      "17\t0.000\t0.092\n",
      "18\t0.000\t0.092\n",
      "19\t0.000\t0.092\n",
      "CPU times: user 1.36 s, sys: 239 ms, total: 1.6 s\n",
      "Wall time: 1.49 s\n"
     ]
    },
    {
     "data": {
      "image/png": "[encoded data removed]",
      "text/plain": [
       "<matplotlib.figure.Figure at 0x7fc892da8240>"
      ]
     },
     "metadata": {},
     "output_type": "display_data"
    }
   ],
   "source": [
    "%time run_restreaming_greedy(edges, NUM_NODES, num_partitions=8, num_iterations=20)\n"
   ]
  },
  {
   "cell_type": "code",
   "execution_count": 19,
   "metadata": {},
   "outputs": [
    {
     "name": "stdout",
     "output_type": "stream",
     "text": [
      "\n",
      "16 PARTITIONS\n",
      "ROUND\tWASTE\tSCORE\n",
      "0\t0.000\t0.273\n",
      "1\t0.000\t0.140\n",
      "2\t0.000\t0.112\n",
      "3\t0.000\t0.109\n",
      "4\t0.000\t0.105\n",
      "5\t0.000\t0.104\n",
      "6\t0.000\t0.103\n",
      "7\t0.000\t0.102\n",
      "8\t0.000\t0.101\n",
      "9\t0.000\t0.101\n",
      "10\t0.000\t0.101\n",
      "11\t0.000\t0.101\n",
      "12\t0.000\t0.101\n",
      "13\t0.000\t0.101\n",
      "14\t0.000\t0.101\n",
      "15\t0.000\t0.101\n",
      "16\t0.000\t0.101\n",
      "17\t0.000\t0.101\n",
      "18\t0.000\t0.101\n",
      "19\t0.000\t0.101\n",
      "CPU times: user 1.51 s, sys: 95.8 ms, total: 1.6 s\n",
      "Wall time: 1.51 s\n"
     ]
    },
    {
     "data": {
      "image/png": "[encoded data removed]",
      "text/plain": [
       "<matplotlib.figure.Figure at 0x7fc892d79940>"
      ]
     },
     "metadata": {},
     "output_type": "display_data"
    }
   ],
   "source": [
    "%time run_restreaming_greedy(edges, NUM_NODES, num_partitions=16, num_iterations=20)\n"
   ]
  },
  {
   "cell_type": "code",
   "execution_count": 20,
   "metadata": {},
   "outputs": [
    {
     "name": "stdout",
     "output_type": "stream",
     "text": [
      "\n",
      "32 PARTITIONS\n",
      "ROUND\tWASTE\tSCORE\n",
      "0\t0.000\t0.302\n",
      "1\t0.000\t0.158\n",
      "2\t0.000\t0.124\n",
      "3\t0.000\t0.121\n",
      "4\t0.000\t0.117\n",
      "5\t0.000\t0.116\n",
      "6\t0.000\t0.115\n",
      "7\t0.000\t0.115\n",
      "8\t0.000\t0.115\n",
      "9\t0.000\t0.115\n",
      "10\t0.000\t0.115\n",
      "11\t0.000\t0.115\n",
      "12\t0.000\t0.115\n",
      "13\t0.000\t0.115\n",
      "14\t0.000\t0.115\n",
      "15\t0.000\t0.115\n",
      "16\t0.000\t0.115\n",
      "17\t0.000\t0.115\n",
      "18\t0.000\t0.115\n",
      "19\t0.000\t0.115\n",
      "CPU times: user 1.8 s, sys: 122 ms, total: 1.92 s\n",
      "Wall time: 1.79 s\n"
     ]
    },
    {
     "data": {
      "image/png": "[encoded data removed]",
      "text/plain": [
       "<matplotlib.figure.Figure at 0x7fc8951dd400>"
      ]
     },
     "metadata": {},
     "output_type": "display_data"
    }
   ],
   "source": [
    "%time run_restreaming_greedy(edges, NUM_NODES, num_partitions=32, num_iterations=20)\n"
   ]
  },
  {
   "cell_type": "code",
   "execution_count": 21,
   "metadata": {},
   "outputs": [
    {
     "name": "stdout",
     "output_type": "stream",
     "text": [
      "\n",
      "40 PARTITIONS\n",
      "ROUND\tWASTE\tSCORE\n",
      "0\t0.001\t0.346\n",
      "1\t0.001\t0.159\n",
      "2\t0.001\t0.132\n",
      "3\t0.001\t0.130\n",
      "4\t0.001\t0.126\n",
      "5\t0.001\t0.128\n",
      "6\t0.001\t0.124\n",
      "7\t0.001\t0.126\n",
      "8\t0.001\t0.122\n",
      "9\t0.001\t0.124\n",
      "10\t0.001\t0.122\n",
      "11\t0.001\t0.124\n",
      "12\t0.001\t0.122\n",
      "13\t0.001\t0.124\n",
      "14\t0.001\t0.122\n",
      "15\t0.001\t0.124\n",
      "16\t0.001\t0.122\n",
      "17\t0.001\t0.124\n",
      "18\t0.001\t0.122\n",
      "19\t0.001\t0.124\n",
      "CPU times: user 2.03 s, sys: 103 ms, total: 2.14 s\n",
      "Wall time: 2 s\n"
     ]
    },
    {
     "data": {
      "image/png": "[encoded data removed]",
      "text/plain": [
       "<matplotlib.figure.Figure at 0x7fc892ac5160>"
      ]
     },
     "metadata": {},
     "output_type": "display_data"
    }
   ],
   "source": [
    "%time run_restreaming_greedy(edges, NUM_NODES, num_partitions=40, num_iterations=20)\n"
   ]
  },
  {
   "cell_type": "code",
   "execution_count": 22,
   "metadata": {
    "collapsed": true
   },
   "outputs": [],
   "source": [
    "%%cython\n",
    "import numpy as np\n",
    "\n",
    "cdef int UNMAPPED = -1\n",
    "\n",
    "def fennel(int[:,::] edges,\n",
    "           int num_nodes,\n",
    "           int num_partitions,\n",
    "           int[::] partition,\n",
    "           float alpha):\n",
    "    \"\"\"\n",
    "    This algorithm favors a cluster if it has many neighbors of a node, but\n",
    "    penalizes the cluster if it is close to capacity.\n",
    "    \n",
    "    partition: A previous partition of the nodes. Set to -1's if a node has not been assigned.\n",
    "    \"\"\"\n",
    "    \n",
    "    cdef int[::] partition_sizes = None\n",
    "    # The output partition\n",
    "    if partition is None:\n",
    "        partition = np.repeat(np.int32(UNMAPPED), num_nodes)\n",
    "        partition_sizes = np.zeros(num_partitions, dtype=np.int32)\n",
    "    else:\n",
    "        partition_sizes = np.bincount(partition).astype(np.int32)\n",
    "    \n",
    "    cdef int[::] partition_votes = np.zeros(num_partitions, dtype=np.int32)\n",
    "    \n",
    "    cdef float partition_capacity = num_nodes / num_partitions\n",
    "    \n",
    "    cdef int last_left = edges[0,0]\n",
    "    cdef int i = 0\n",
    "    cdef int left = 0\n",
    "    cdef int right = 0\n",
    "    cdef int arg = 0\n",
    "    cdef int max_arg = 0\n",
    "    cdef float max_val = 0\n",
    "    cdef float val = 0\n",
    "    cdef int len_edges = len(edges)\n",
    "    cdef int previous_assignment = 0\n",
    "\n",
    "    for i in range(len_edges):\n",
    "        left = edges[i,0]\n",
    "        right = edges[i,1]\n",
    "    \n",
    "        if last_left != left:\n",
    "            # New left node, so we have to assign last left\n",
    "\n",
    "            # Remember placement of last_left in the previous assignment\n",
    "            previous_assignment = partition[last_left]\n",
    "            \n",
    "            max_arg = 0\n",
    "            max_val = partition_votes[0] - alpha * partition_sizes[0]\n",
    "            if previous_assignment == 0:\n",
    "                # We remove the node from its current partition before\n",
    "                # deciding to re-add it, so subtract alpha to give\n",
    "                # result of 1 lower partition size.\n",
    "                max_val += alpha\n",
    "\n",
    "            for arg in range(1, num_partitions):\n",
    "                val = partition_votes[arg] - alpha * partition_sizes[arg]\n",
    "                if previous_assignment == arg:\n",
    "                    # See comment above\n",
    "                    val += alpha\n",
    "                if val > max_val:\n",
    "                    max_arg = arg\n",
    "                    max_val = val\n",
    "\n",
    "            if max_arg != previous_assignment:\n",
    "                partition[last_left] = max_arg\n",
    "                partition_sizes[max_arg] += 1\n",
    "                if previous_assignment != UNMAPPED:\n",
    "                    partition_sizes[previous_assignment] -= 1\n",
    "\n",
    "            partition_votes[:] = 0\n",
    "            last_left = left\n",
    "\n",
    "        if partition[right] != -1:\n",
    "            partition_votes[partition[right]] += 1\n",
    "    \n",
    "    # TODO: finish off this fencepost....\n",
    "    partition[left] = 0\n",
    "    \n",
    "    return np.asarray(partition)"
   ]
  },
  {
   "cell_type": "code",
   "execution_count": 24,
   "metadata": {},
   "outputs": [
    {
     "name": "stdout",
     "output_type": "stream",
     "text": [
      "CPU times: user 44.8 ms, sys: 196 µs, total: 45 ms\n",
      "Wall time: 44.6 ms\n",
      "wast=1.0000030700367484 edge cut = 0.1555720938491288\n"
     ]
    }
   ],
   "source": [
    "assignment = None\n",
    "%time assignment = fennel(edges,NUM_NODES,2,assignment,1.)\n",
    "wast,edge_cut = score(assignment, edges)\n",
    "print('wast='+str(1+wast)+' edge cut = '+str(edge_cut))"
   ]
  },
  {
   "cell_type": "code",
   "execution_count": 26,
   "metadata": {},
   "outputs": [
    {
     "name": "stdout",
     "output_type": "stream",
     "text": [
      "CPU times: user 48.5 ms, sys: 71 µs, total: 48.5 ms\n",
      "Wall time: 48.3 ms\n",
      "wast=1.0000092101102451 edge cut = 0.24511442148762203\n"
     ]
    }
   ],
   "source": [
    "assignment = None\n",
    "%time assignment = fennel(edges,NUM_NODES,4,assignment,1.000000015)\n",
    "wast,edge_cut = score(assignment, edges)\n",
    "print('wast='+str(1+wast)+' edge cut = '+str(edge_cut))"
   ]
  },
  {
   "cell_type": "code",
   "execution_count": 27,
   "metadata": {},
   "outputs": [
    {
     "name": "stdout",
     "output_type": "stream",
     "text": [
      "CPU times: user 54.3 ms, sys: 0 ns, total: 54.3 ms\n",
      "Wall time: 54.1 ms\n",
      "wast=1.0000214902572384 edge cut = 0.2927682612128347\n"
     ]
    }
   ],
   "source": [
    "assignment = None\n",
    "%time assignment = fennel(edges,NUM_NODES,8,assignment,1.)\n",
    "wast,edge_cut = score(assignment, edges)\n",
    "print('wast='+str(1+wast)+' edge cut = '+str(edge_cut))"
   ]
  },
  {
   "cell_type": "code",
   "execution_count": 28,
   "metadata": {},
   "outputs": [
    {
     "name": "stdout",
     "output_type": "stream",
     "text": [
      "CPU times: user 63.8 ms, sys: 0 ns, total: 63.8 ms\n",
      "Wall time: 63.3 ms\n",
      "wast=1.0000951711391985 edge cut = 0.3185519943868448\n"
     ]
    }
   ],
   "source": [
    "assignment = None\n",
    "%time assignment = fennel(edges,NUM_NODES,16,assignment,1.)\n",
    "wast,edge_cut = score(assignment, edges)\n",
    "print('wast='+str(1+wast)+' edge cut = '+str(edge_cut))"
   ]
  },
  {
   "cell_type": "code",
   "execution_count": 29,
   "metadata": {},
   "outputs": [
    {
     "name": "stdout",
     "output_type": "stream",
     "text": [
      "CPU times: user 82.2 ms, sys: 570 µs, total: 82.7 ms\n",
      "Wall time: 82.2 ms\n",
      "wast=1.0000951711391985 edge cut = 0.33770339874012023\n"
     ]
    }
   ],
   "source": [
    "assignment = None\n",
    "%time assignment = fennel(edges,NUM_NODES,32,assignment,1.)\n",
    "wast,edge_cut = score(assignment, edges)\n",
    "print('wast='+str(1+wast)+' edge cut = '+str(edge_cut))"
   ]
  },
  {
   "cell_type": "code",
   "execution_count": 30,
   "metadata": {},
   "outputs": [
    {
     "name": "stdout",
     "output_type": "stream",
     "text": [
      "CPU times: user 108 ms, sys: 0 ns, total: 108 ms\n",
      "Wall time: 108 ms\n",
      "wast=1.0000951711391985 edge cut = 0.340804404279442\n"
     ]
    }
   ],
   "source": [
    "assignment = None\n",
    "%time assignment = fennel(edges,NUM_NODES,40,assignment,1.)\n",
    "wast,edge_cut = score(assignment, edges)\n",
    "print('wast='+str(1+wast)+' edge cut = '+str(edge_cut))"
   ]
  },
  {
   "cell_type": "code",
   "execution_count": 27,
   "metadata": {
    "collapsed": true
   },
   "outputs": [],
   "source": [
    "def run_fennel_restreaming(edges, num_nodes, num_partitions, num_iterations):\n",
    "    print('{} PARTITIONS'.format(num_partitions))\n",
    "    assignments = None\n",
    "    # We will explore this parameter in a future post. This is sub-optimal\n",
    "    alphas = np.linspace(1.251608191745264e-10, 7.588951557309824e-2, num_iterations)\n",
    "    waste_scores, edge_score_values = [], []\n",
    "    print('ROUND\\tALPHA\\tWASTE\\tSCORE')\n",
    "    for i in range(num_iterations):\n",
    "        alpha = alphas[i]\n",
    "        assignments = fennel(edges, NUM_NODES, num_partitions, assignments, 1.)\n",
    "        (waste, edge_score) = score(assignments, edges)\n",
    "        print('{}\\t{:.1e}\\t{:0.3f}\\t{:0.3f}'.format(i, alpha, waste, edge_score))\n",
    "        waste_scores.append(waste)\n",
    "        edge_score_values.append(edge_score)\n",
    "    draw_figures(waste_scores, edge_score_values, num_partitions)"
   ]
  },
  {
   "cell_type": "markdown",
   "metadata": {},
   "source": [
    "# K = 2"
   ]
  },
  {
   "cell_type": "code",
   "execution_count": 36,
   "metadata": {},
   "outputs": [
    {
     "name": "stdout",
     "output_type": "stream",
     "text": [
      "2 PARTITIONS\n",
      "ROUND\tALPHA\tWASTE\tSCORE\n",
      "0\t1.3e-07\t0.000\t0.156\n",
      "1\t5.5e-06\t0.000\t0.087\n",
      "2\t1.1e-05\t0.000\t0.072\n",
      "3\t1.6e-05\t0.000\t0.066\n",
      "4\t2.2e-05\t0.000\t0.063\n",
      "5\t2.7e-05\t0.000\t0.060\n",
      "6\t3.3e-05\t0.000\t0.059\n",
      "7\t3.8e-05\t0.000\t0.058\n",
      "8\t4.3e-05\t0.000\t0.057\n",
      "9\t4.9e-05\t0.000\t0.056\n",
      "10\t5.4e-05\t0.000\t0.056\n",
      "11\t6.0e-05\t0.000\t0.056\n",
      "12\t6.5e-05\t0.000\t0.056\n",
      "13\t7.0e-05\t0.000\t0.055\n",
      "14\t7.6e-05\t0.000\t0.055\n",
      "CPU times: user 1.24 s, sys: 78 ms, total: 1.32 s\n",
      "Wall time: 1.17 s\n"
     ]
    },
    {
     "data": {
      "image/png": "[encoded data removed]",
      "text/plain": [
       "<matplotlib.figure.Figure at 0x7f439d08c198>"
      ]
     },
     "metadata": {},
     "output_type": "display_data"
    }
   ],
   "source": [
    "%time run_fennel_restreaming(edges, NUM_NODES, 2, 15)\n"
   ]
  },
  {
   "cell_type": "code",
   "execution_count": 28,
   "metadata": {},
   "outputs": [
    {
     "name": "stdout",
     "output_type": "stream",
     "text": [
      "2 PARTITIONS\n",
      "ROUND\tALPHA\tWASTE\tSCORE\n",
      "0\t1.3e-10\t0.000\t0.156\n",
      "1\t4.0e-03\t0.000\t0.087\n",
      "2\t8.0e-03\t0.000\t0.072\n",
      "3\t1.2e-02\t0.000\t0.066\n",
      "4\t1.6e-02\t0.000\t0.063\n",
      "5\t2.0e-02\t0.000\t0.060\n",
      "6\t2.4e-02\t0.000\t0.059\n",
      "7\t2.8e-02\t0.000\t0.058\n",
      "8\t3.2e-02\t0.000\t0.057\n",
      "9\t3.6e-02\t0.000\t0.056\n",
      "10\t4.0e-02\t0.000\t0.056\n",
      "11\t4.4e-02\t0.000\t0.056\n",
      "12\t4.8e-02\t0.000\t0.056\n",
      "13\t5.2e-02\t0.000\t0.055\n",
      "14\t5.6e-02\t0.000\t0.055\n",
      "15\t6.0e-02\t0.000\t0.055\n",
      "16\t6.4e-02\t0.000\t0.055\n",
      "17\t6.8e-02\t0.000\t0.055\n",
      "18\t7.2e-02\t0.000\t0.055\n",
      "19\t7.6e-02\t0.000\t0.055\n",
      "CPU times: user 1.69 s, sys: 92 ms, total: 1.78 s\n",
      "Wall time: 1.64 s\n"
     ]
    },
    {
     "data": {
      "image/png": "[encoded data removed]",
      "text/plain": [
       "<matplotlib.figure.Figure at 0x7fc892b88b38>"
      ]
     },
     "metadata": {},
     "output_type": "display_data"
    }
   ],
   "source": [
    "%time run_fennel_restreaming(edges, NUM_NODES, 2, 20)\n"
   ]
  },
  {
   "cell_type": "markdown",
   "metadata": {},
   "source": [
    "# K =4"
   ]
  },
  {
   "cell_type": "code",
   "execution_count": 37,
   "metadata": {},
   "outputs": [
    {
     "name": "stdout",
     "output_type": "stream",
     "text": [
      "4 PARTITIONS\n",
      "ROUND\tALPHA\tWASTE\tSCORE\n",
      "0\t1.3e-07\t0.000\t0.245\n",
      "1\t5.5e-06\t0.000\t0.144\n",
      "2\t1.1e-05\t0.000\t0.120\n",
      "3\t1.6e-05\t0.000\t0.109\n",
      "4\t2.2e-05\t0.000\t0.103\n",
      "5\t2.7e-05\t0.000\t0.099\n",
      "6\t3.3e-05\t0.000\t0.095\n",
      "7\t3.8e-05\t0.000\t0.093\n",
      "8\t4.3e-05\t0.000\t0.091\n",
      "9\t4.9e-05\t0.000\t0.090\n",
      "10\t5.4e-05\t0.000\t0.088\n",
      "11\t6.0e-05\t0.000\t0.087\n",
      "12\t6.5e-05\t0.000\t0.087\n",
      "13\t7.0e-05\t0.000\t0.086\n",
      "14\t7.6e-05\t0.000\t0.085\n",
      "CPU times: user 1.27 s, sys: 140 ms, total: 1.41 s\n",
      "Wall time: 1.2 s\n"
     ]
    },
    {
     "data": {
      "image/png": "[encoded data removed]",
      "text/plain": [
       "<matplotlib.figure.Figure at 0x7f439d08cb38>"
      ]
     },
     "metadata": {},
     "output_type": "display_data"
    }
   ],
   "source": [
    "%time run_fennel_restreaming(edges, NUM_NODES, 4, 15)\n"
   ]
  },
  {
   "cell_type": "code",
   "execution_count": 29,
   "metadata": {},
   "outputs": [
    {
     "name": "stdout",
     "output_type": "stream",
     "text": [
      "4 PARTITIONS\n",
      "ROUND\tALPHA\tWASTE\tSCORE\n",
      "0\t1.3e-10\t0.000\t0.245\n",
      "1\t4.0e-03\t0.000\t0.144\n",
      "2\t8.0e-03\t0.000\t0.120\n",
      "3\t1.2e-02\t0.000\t0.109\n",
      "4\t1.6e-02\t0.000\t0.103\n",
      "5\t2.0e-02\t0.000\t0.099\n",
      "6\t2.4e-02\t0.000\t0.095\n",
      "7\t2.8e-02\t0.000\t0.093\n",
      "8\t3.2e-02\t0.000\t0.091\n",
      "9\t3.6e-02\t0.000\t0.090\n",
      "10\t4.0e-02\t0.000\t0.088\n",
      "11\t4.4e-02\t0.000\t0.087\n",
      "12\t4.8e-02\t0.000\t0.087\n",
      "13\t5.2e-02\t0.000\t0.086\n",
      "14\t5.6e-02\t0.000\t0.085\n",
      "15\t6.0e-02\t0.000\t0.084\n",
      "16\t6.4e-02\t0.000\t0.084\n",
      "17\t6.8e-02\t0.000\t0.083\n",
      "18\t7.2e-02\t0.000\t0.083\n",
      "19\t7.6e-02\t0.000\t0.082\n",
      "CPU times: user 1.71 s, sys: 78.1 ms, total: 1.79 s\n",
      "Wall time: 1.66 s\n"
     ]
    },
    {
     "data": {
      "image/png": "[encoded data removed]",
      "text/plain": [
       "<matplotlib.figure.Figure at 0x7fc8929abf28>"
      ]
     },
     "metadata": {},
     "output_type": "display_data"
    }
   ],
   "source": [
    "%time run_fennel_restreaming(edges, NUM_NODES, 4, 20)\n"
   ]
  },
  {
   "cell_type": "markdown",
   "metadata": {},
   "source": [
    "# K =8"
   ]
  },
  {
   "cell_type": "code",
   "execution_count": 30,
   "metadata": {},
   "outputs": [
    {
     "name": "stdout",
     "output_type": "stream",
     "text": [
      "8 PARTITIONS\n",
      "ROUND\tALPHA\tWASTE\tSCORE\n",
      "0\t1.3e-10\t0.000\t0.293\n",
      "1\t4.0e-03\t0.000\t0.174\n",
      "2\t8.0e-03\t0.000\t0.147\n",
      "3\t1.2e-02\t0.000\t0.134\n",
      "4\t1.6e-02\t0.000\t0.126\n",
      "5\t2.0e-02\t0.000\t0.121\n",
      "6\t2.4e-02\t0.000\t0.117\n",
      "7\t2.8e-02\t0.000\t0.115\n",
      "8\t3.2e-02\t0.000\t0.112\n",
      "9\t3.6e-02\t0.000\t0.111\n",
      "10\t4.0e-02\t0.000\t0.109\n",
      "11\t4.4e-02\t0.000\t0.108\n",
      "12\t4.8e-02\t0.000\t0.107\n",
      "13\t5.2e-02\t0.000\t0.106\n",
      "14\t5.6e-02\t0.000\t0.106\n",
      "15\t6.0e-02\t0.000\t0.105\n",
      "16\t6.4e-02\t0.000\t0.105\n",
      "17\t6.8e-02\t0.000\t0.104\n",
      "18\t7.2e-02\t0.000\t0.104\n",
      "19\t7.6e-02\t0.000\t0.103\n",
      "CPU times: user 1.87 s, sys: 87.1 ms, total: 1.96 s\n",
      "Wall time: 1.84 s\n"
     ]
    },
    {
     "data": {
      "image/png": "[encoded data removed]",
      "text/plain": [
       "<matplotlib.figure.Figure at 0x7fc892e0e710>"
      ]
     },
     "metadata": {},
     "output_type": "display_data"
    }
   ],
   "source": [
    "%time run_fennel_restreaming(edges, NUM_NODES, 8, 20)\n"
   ]
  },
  {
   "cell_type": "markdown",
   "metadata": {},
   "source": [
    "# K =16"
   ]
  },
  {
   "cell_type": "code",
   "execution_count": 31,
   "metadata": {},
   "outputs": [
    {
     "name": "stdout",
     "output_type": "stream",
     "text": [
      "16 PARTITIONS\n",
      "ROUND\tALPHA\tWASTE\tSCORE\n",
      "0\t1.3e-10\t0.000\t0.319\n",
      "1\t4.0e-03\t0.000\t0.192\n",
      "2\t8.0e-03\t0.000\t0.163\n",
      "3\t1.2e-02\t0.000\t0.150\n",
      "4\t1.6e-02\t0.000\t0.142\n",
      "5\t2.0e-02\t0.000\t0.137\n",
      "6\t2.4e-02\t0.000\t0.133\n",
      "7\t2.8e-02\t0.000\t0.130\n",
      "8\t3.2e-02\t0.000\t0.128\n",
      "9\t3.6e-02\t0.000\t0.126\n",
      "10\t4.0e-02\t0.000\t0.124\n",
      "11\t4.4e-02\t0.000\t0.123\n",
      "12\t4.8e-02\t0.000\t0.121\n",
      "13\t5.2e-02\t0.000\t0.120\n",
      "14\t5.6e-02\t0.000\t0.119\n",
      "15\t6.0e-02\t0.000\t0.119\n",
      "16\t6.4e-02\t0.000\t0.118\n",
      "17\t6.8e-02\t0.000\t0.118\n",
      "18\t7.2e-02\t0.000\t0.117\n",
      "19\t7.6e-02\t0.000\t0.117\n",
      "CPU times: user 2.01 s, sys: 56.7 ms, total: 2.07 s\n",
      "Wall time: 1.98 s\n"
     ]
    },
    {
     "data": {
      "image/png": "[encoded data removed]",
      "text/plain": [
       "<matplotlib.figure.Figure at 0x7fc892d37cf8>"
      ]
     },
     "metadata": {},
     "output_type": "display_data"
    }
   ],
   "source": [
    "%time run_fennel_restreaming(edges, NUM_NODES, 16, 20)\n"
   ]
  },
  {
   "cell_type": "markdown",
   "metadata": {},
   "source": [
    "# K =32"
   ]
  },
  {
   "cell_type": "code",
   "execution_count": 32,
   "metadata": {},
   "outputs": [
    {
     "name": "stdout",
     "output_type": "stream",
     "text": [
      "32 PARTITIONS\n",
      "ROUND\tALPHA\tWASTE\tSCORE\n",
      "0\t1.3e-10\t0.000\t0.338\n",
      "1\t4.0e-03\t0.000\t0.207\n",
      "2\t8.0e-03\t0.000\t0.177\n",
      "3\t1.2e-02\t0.000\t0.162\n",
      "4\t1.6e-02\t0.000\t0.154\n",
      "5\t2.0e-02\t0.000\t0.148\n",
      "6\t2.4e-02\t0.000\t0.144\n",
      "7\t2.8e-02\t0.000\t0.141\n",
      "8\t3.2e-02\t0.000\t0.138\n",
      "9\t3.6e-02\t0.000\t0.136\n",
      "10\t4.0e-02\t0.000\t0.134\n",
      "11\t4.4e-02\t0.000\t0.133\n",
      "12\t4.8e-02\t0.000\t0.131\n",
      "13\t5.2e-02\t0.000\t0.130\n",
      "14\t5.6e-02\t0.000\t0.130\n",
      "15\t6.0e-02\t0.000\t0.129\n",
      "16\t6.4e-02\t0.000\t0.129\n",
      "17\t6.8e-02\t0.000\t0.128\n",
      "18\t7.2e-02\t0.000\t0.128\n",
      "19\t7.6e-02\t0.000\t0.127\n",
      "CPU times: user 2.5 s, sys: 98 ms, total: 2.6 s\n",
      "Wall time: 2.45 s\n"
     ]
    },
    {
     "data": {
      "image/png": "[encoded data removed]",
      "text/plain": [
       "<matplotlib.figure.Figure at 0x7fc892671ac8>"
      ]
     },
     "metadata": {},
     "output_type": "display_data"
    }
   ],
   "source": [
    "%time run_fennel_restreaming(edges, NUM_NODES, 32, 20)\n"
   ]
  },
  {
   "cell_type": "markdown",
   "metadata": {},
   "source": [
    "# K =40"
   ]
  },
  {
   "cell_type": "code",
   "execution_count": 33,
   "metadata": {},
   "outputs": [
    {
     "name": "stdout",
     "output_type": "stream",
     "text": [
      "40 PARTITIONS\n",
      "ROUND\tALPHA\tWASTE\tSCORE\n",
      "0\t1.3e-10\t0.000\t0.341\n",
      "1\t4.0e-03\t0.000\t0.210\n",
      "2\t8.0e-03\t0.000\t0.180\n",
      "3\t1.2e-02\t0.000\t0.166\n",
      "4\t1.6e-02\t0.000\t0.157\n",
      "5\t2.0e-02\t0.000\t0.151\n",
      "6\t2.4e-02\t0.000\t0.147\n",
      "7\t2.8e-02\t0.000\t0.144\n",
      "8\t3.2e-02\t0.000\t0.141\n",
      "9\t3.6e-02\t0.000\t0.140\n",
      "10\t4.0e-02\t0.000\t0.138\n",
      "11\t4.4e-02\t0.000\t0.137\n",
      "12\t4.8e-02\t0.000\t0.136\n",
      "13\t5.2e-02\t0.000\t0.135\n",
      "14\t5.6e-02\t0.000\t0.134\n",
      "15\t6.0e-02\t0.000\t0.134\n",
      "16\t6.4e-02\t0.000\t0.133\n",
      "17\t6.8e-02\t0.000\t0.133\n",
      "18\t7.2e-02\t0.000\t0.132\n",
      "19\t7.6e-02\t0.000\t0.132\n",
      "CPU times: user 2.45 s, sys: 85.4 ms, total: 2.54 s\n",
      "Wall time: 2.42 s\n"
     ]
    },
    {
     "data": {
      "image/png": "[encoded data removed]",
      "text/plain": [
       "<matplotlib.figure.Figure at 0x7fc892a8bd68>"
      ]
     },
     "metadata": {},
     "output_type": "display_data"
    }
   ],
   "source": [
    "%time run_fennel_restreaming(edges, NUM_NODES, 40, 20)\n"
   ]
  },
  {
   "cell_type": "code",
   "execution_count": null,
   "metadata": {
    "collapsed": true
   },
   "outputs": [],
   "source": []
  }
 ],
 "metadata": {
  "kernelspec": {
   "display_name": "Python 3",
   "language": "python",
   "name": "python3"
  },
  "language_info": {
   "codemirror_mode": {
    "name": "ipython",
    "version": 3
   },
   "file_extension": ".py",
   "mimetype": "text/x-python",
   "name": "python",
   "nbconvert_exporter": "python",
   "pygments_lexer": "ipython3",
   "version": "3.6.1"
  }
 },
 "nbformat": 4,
 "nbformat_minor": 2
}
