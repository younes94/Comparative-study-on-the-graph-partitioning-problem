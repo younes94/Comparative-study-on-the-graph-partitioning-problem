{
 "cells": [
  {
   "cell_type": "code",
   "execution_count": 1,
   "metadata": {
    "collapsed": true
   },
   "outputs": [],
   "source": [
    "import os\n",
    "\n",
    "DATA_DIRECTORY = '/home/younes'\n",
    "LIVEJOURNAL_FILENAME = os.path.join(DATA_DIRECTORY, 'soc-LiveJournal1.txt.gz')\n",
    "LIVEJOURNAL_URL = 'http://snap.stanford.edu/data/soc-LiveJournal1.txt.gz'\n",
    "\n",
    "# Constants for you to change\n",
    "\n",
    "\n",
    "\n",
    "# Just have these hardcoded, though we don't really need to\n",
    "NUM_EDGES = 68993773\n",
    "NUM_NODES = 4847571\n"
   ]
  },
  {
   "cell_type": "code",
   "execution_count": 2,
   "metadata": {},
   "outputs": [
    {
     "name": "stdout",
     "output_type": "stream",
     "text": [
      "DOWNLOADING 250M FILE. WILL SAVE FOR FUTURE USE\n",
      "\n",
      "FILE STATS:\n",
      "-rw-rw-r-- 1 younes younes 248M ماي 14 02:59 /home/younes/soc-LiveJournal1.txt.gz\n",
      "\n",
      "STARTING LINES\n",
      "# Directed graph (each unordered pair of nodes is saved once): soc-LiveJournal1.txt \n",
      "# Directed LiveJournal friednship social network\n",
      "# Nodes: 4847571 Edges: 68993773\n",
      "# FromNodeId\tToNodeId\n",
      "0\t1\n",
      "0\t2\n",
      "0\t3\n",
      "0\t4\n",
      "0\t5\n",
      "0\t6\n",
      "0\t7\n",
      "0\t8\n",
      "0\t9\n",
      "0\t10\n",
      "0\t11\n",
      "0\t12\n",
      "0\t13\n",
      "0\t14\n",
      "0\t15\n",
      "0\t16\n",
      "0\t17\n",
      "0\t18\n",
      "0\t19\n",
      "0\t20\n",
      "0\t21\n",
      "0\t22\n",
      "0\t23\n",
      "0\t24\n",
      "0\t25\n",
      "0\t26\n",
      "\n",
      "gzip: stdout: Broken pipe\n"
     ]
    }
   ],
   "source": [
    "# Downloading the file\n",
    "import urllib.request\n",
    "\n",
    "assert os.path.exists(DATA_DIRECTORY)\n",
    "\n",
    "# Get your data. This file is ~250M so it will take a bit\n",
    "print('DOWNLOADING 250M FILE. WILL SAVE FOR FUTURE USE')\n",
    "if not os.path.exists(LIVEJOURNAL_FILENAME):\n",
    "    urllib.request.urlretrieve(LIVEJOURNAL_URL, LIVEJOURNAL_FILENAME)\n",
    "\n",
    "# Show a little bit of the file\n",
    "print('\\nFILE STATS:')\n",
    "!ls -lh $LIVEJOURNAL_FILENAME\n",
    "print('\\nSTARTING LINES')\n",
    "!zcat $LIVEJOURNAL_FILENAME | head -n 30"
   ]
  },
  {
   "cell_type": "code",
   "execution_count": 3,
   "metadata": {
    "collapsed": true
   },
   "outputs": [],
   "source": [
    "# Cleaning the data\n",
    "\n",
    "import numpy as np\n",
    "import gzip\n",
    "\n",
    "def row_generator():\n",
    "    \"\"\"This will generate all the edges in the graph.\"\"\"\n",
    "    with gzip.open(LIVEJOURNAL_FILENAME, 'rt') as f:\n",
    "        for line in f:\n",
    "            if line.startswith('#'):\n",
    "                continue\n",
    "            else:\n",
    "                (left_node, right_node) = line.split('\\t')\n",
    "                yield(int(left_node), int(right_node))\n",
    "\n",
    "def to_undirected(edge_iterable, num_edges, num_nodes, shuffle=True):\n",
    "    \"\"\"Takes an iterable of edges and produces the list of edges for the undirected graph.\n",
    "    \n",
    "    > to_undirected([[0,1],[1,2],[2,10]], 3, 11)\n",
    "    array([[ 0,  1],\n",
    "       [ 1,  0],\n",
    "       [ 1,  2],\n",
    "       [ 2,  1],\n",
    "       [ 2, 10],\n",
    "       [10,  2]])\n",
    "    \"\"\"\n",
    "    # need int64 to do gross bithacks\n",
    "    as_array = np.zeros((num_edges, 2), dtype=np.int64)\n",
    "    for (i, (n_0, n_1)) in enumerate(edge_iterable):\n",
    "            as_array[i,0] = n_0\n",
    "            as_array[i,1] = n_1\n",
    "    # The graph is directed, but we want to make it undirected,\n",
    "    # which means we will duplicate some rows.\n",
    "\n",
    "    left_nodes = as_array[:,0]\n",
    "    right_nodes = as_array[:,1]\n",
    "    \n",
    "    if shuffle:\n",
    "        the_shuffle = np.arange(num_nodes)\n",
    "        np.random.shuffle(the_shuffle)\n",
    "        left_nodes = the_shuffle.take(left_nodes)\n",
    "        right_nodes = the_shuffle.take(right_nodes)\n",
    "\n",
    "    \n",
    "    # numpy.unique will not unique whole rows, so this little bit-hacking\n",
    "    # is a quick way to get unique rows after making a flipped copy of\n",
    "    # each edge.\n",
    "    max_bits = int(np.ceil(np.log2(num_nodes + 1)))\n",
    "    \n",
    "    encoded_edges_forward = np.left_shift(left_nodes, max_bits) | right_nodes\n",
    "    \n",
    "    # Flip the columns and do it again:\n",
    "    encoded_edges_reverse = np.left_shift(right_nodes, max_bits) | left_nodes\n",
    "\n",
    "    unique_encoded_edges = np.unique(np.hstack((encoded_edges_forward, encoded_edges_reverse)))\n",
    "    \n",
    "    left_node_decoded = np.right_shift(unique_encoded_edges, max_bits)\n",
    "    \n",
    "    # Mask out the high order bits\n",
    "    right_node_decoded = (2 ** (max_bits) - 1) & unique_encoded_edges\n",
    "    \n",
    "    undirected_edges = np.vstack((left_node_decoded, right_node_decoded)).T.astype(np.int32)\n",
    "\n",
    "    # ascontiguousarray so that it's c-contiguous for cython code below\n",
    "    return np.ascontiguousarray(undirected_edges)\n",
    "\n",
    "\n",
    "def get_clean_data(shuffle=True):\n",
    "    if shuffle:\n",
    "        name = os.path.join(DATA_DIRECTORY, 'LJ-cleaned-shuffle.npy')\n",
    "    else:\n",
    "        name = os.path.join(DATA_DIRECTORY, 'LJ-cleane.npy')\n",
    "\n",
    "    if os.path.exists(name):\n",
    "        print('Loading from file {}'.format(name))\n",
    "        return np.load(name)\n",
    "    else:\n",
    "        print('Parsing from zip. Will write to file {}'.format(name), flush=True)\n",
    "        # Lets get the edges into one big array\n",
    "        edges = to_undirected(row_generator(), NUM_EDGES, NUM_NODES, shuffle=shuffle)\n",
    "        print('ORIGINAL DIST: {} MIN: {} MAX: {}'.format(np.abs(edges[:,0] - edges[:,1]).mean(), edges.min(), edges.max()))\n",
    "        np.save(name, edges)\n",
    "        return edges"
   ]
  },
  {
   "cell_type": "code",
   "execution_count": 4,
   "metadata": {},
   "outputs": [
    {
     "name": "stdout",
     "output_type": "stream",
     "text": [
      "Normalizing data (or loaded pre-computed)\n",
      "Loading from file /home/younes/LJ-cleaned-shuffle.npy\n",
      "CPU times: user 30.1 ms, sys: 535 ms, total: 565 ms\n",
      "Wall time: 11.6 s\n",
      "Loading from file /home/younes/LJ-cleane.npy\n",
      "CPU times: user 25.8 ms, sys: 645 ms, total: 670 ms\n",
      "Wall time: 12.1 s\n",
      "\n",
      "EDGES SHAPE: (86220856, 2)\n"
     ]
    }
   ],
   "source": [
    "print(\"Normalizing data (or loaded pre-computed)\")\n",
    "%time edges = get_clean_data(shuffle=True)\n",
    "%time unshuffled_edges = get_clean_data(shuffle=False)\n",
    "print('\\nEDGES SHAPE: {}'.format(edges.shape))"
   ]
  },
  {
   "cell_type": "code",
   "execution_count": 5,
   "metadata": {
    "collapsed": true
   },
   "outputs": [],
   "source": [
    "def score(assignment, edges):\n",
    "    \"\"\"Compute the score given an assignment of vertices.\n",
    "    \n",
    "    N nodes are assigned to clusters 0 to K-1.\n",
    "    \n",
    "    assignment: Vector where N[i] is the cluster node i is assigned to.\n",
    "    edges: The edges in the graph, assumed to have one in each direction\n",
    "    \n",
    "    Returns: (total wasted bin space, ratio of edges cut)\n",
    "    \"\"\"\n",
    "    balance = np.bincount(assignment) / len(assignment)\n",
    "    waste = (np.max(balance) - balance).sum()\n",
    "    \n",
    "    left_edge_assignment = assignment.take(edges[:,0])\n",
    "    right_edge_assignment = assignment.take(edges[:,1])\n",
    "    mismatch = (left_edge_assignment != right_edge_assignment).sum()\n",
    "    cut_ratio = mismatch / len(edges)\n",
    "    return (waste, cut_ratio)"
   ]
  },
  {
   "cell_type": "code",
   "execution_count": 6,
   "metadata": {},
   "outputs": [
    {
     "name": "stdout",
     "output_type": "stream",
     "text": [
      "Populating the interactive namespace from numpy and matplotlib\n"
     ]
    }
   ],
   "source": [
    "%load_ext cython\n",
    "%pylab inline\n",
    "\n"
   ]
  },
  {
   "cell_type": "code",
   "execution_count": 7,
   "metadata": {
    "collapsed": true
   },
   "outputs": [],
   "source": [
    "%%cython\n",
    "import numpy as np\n",
    "cimport cython\n",
    "\n",
    "cdef int UNMAPPED = -1\n",
    "\n",
    "def linear_deterministic_greedy(int[:,::] edges,\n",
    "                                int num_nodes,\n",
    "                                int num_partitions,\n",
    "                                int[::] partition):\n",
    "    \"\"\"\n",
    "    This algorithm favors a cluster if it has many neighbors of a node, but\n",
    "    penalizes the cluster if it is close to capacity.\n",
    "    \n",
    "    edges: An [:,2] array of edges.\n",
    "    num_nodes: The number of nodes in the graph.\n",
    "    num_partitions: How many partitions we are breaking the graph into.\n",
    "    partition: The partition from a previous run. Used for restreaming.\n",
    "\n",
    "    Returns: A new partition.\n",
    "    \"\"\"\n",
    "    # The output partition\n",
    "\n",
    "    if partition is None:\n",
    "        partition = np.repeat(np.int32(UNMAPPED), num_nodes)\n",
    "\n",
    "    cdef int[::] partition_sizes = np.zeros(num_partitions, dtype=np.int32)\n",
    "         \n",
    "    cdef int[::] partition_votes = np.zeros(num_partitions, dtype=np.int32)\n",
    "    \n",
    "    # Fine to be a little off, to stay integers\n",
    "    cdef int partition_capacity = num_nodes / num_partitions\n",
    "    \n",
    "    cdef int last_left = edges[0,0]\n",
    "    cdef int i = 0\n",
    "    cdef int left = 0\n",
    "    cdef int right = 0\n",
    "    cdef int arg = 0\n",
    "    cdef int max_arg = 0\n",
    "    cdef int max_val = 0\n",
    "    cdef int val = 0\n",
    "    cdef int len_edges = len(edges)\n",
    "    \n",
    "    for i in range(len_edges):\n",
    "        left = edges[i,0]\n",
    "        right = edges[i,1]\n",
    "    \n",
    "        if last_left != left:\n",
    "            # We have found a new node so assign last_left to a partition\n",
    "                \n",
    "            max_arg = 0\n",
    "            max_val = (partition_votes[0]) * (\n",
    "                       partition_capacity - partition_sizes[0])\n",
    "\n",
    "            for arg in range(1, num_partitions):\n",
    "                val = (partition_votes[arg]) * (\n",
    "                       partition_capacity - partition_sizes[arg])\n",
    "                if val > max_val:\n",
    "                    max_arg = arg\n",
    "                    max_val = val\n",
    "\n",
    "            if max_val == 0:\n",
    "                max_arg = arg\n",
    "                # No neighbors (or multiple maxed out) so \"randomly\" select\n",
    "                # the smallest partition\n",
    "                for arg in range(i % num_partitions, num_partitions):\n",
    "                    if partition_sizes[arg] < partition_capacity:\n",
    "                        max_arg = arg\n",
    "                        max_val = 1\n",
    "                        break\n",
    "                if max_val == 0:\n",
    "                    for arg in range(0, i % num_partitions):\n",
    "                        if partition_sizes[arg] < partition_capacity:\n",
    "                            max_arg = arg\n",
    "                            break\n",
    "\n",
    "\n",
    "            partition_sizes[max_arg] += 1\n",
    "            partition[last_left] = max_arg\n",
    "            partition_votes[:] = 0\n",
    "            last_left = left\n",
    "\n",
    "        if partition[right] != UNMAPPED:\n",
    "            partition_votes[partition[right]] += 1\n",
    "\n",
    "\n",
    "    # Clean up the last assignment\n",
    "    max_arg = 0\n",
    "    max_val = 0\n",
    "    for arg in range(0, num_partitions):\n",
    "        if partition_sizes[arg] < partition_capacity:\n",
    "            val = (partition_votes[arg]) * (\n",
    "                    1 - partition_sizes[arg] / partition_capacity)\n",
    "            if val > max_val:\n",
    "                max_arg = arg\n",
    "                max_val = val\n",
    "    partition[left] = max_arg\n",
    "\n",
    "    return np.asarray(partition)"
   ]
  },
  {
   "cell_type": "code",
   "execution_count": 8,
   "metadata": {},
   "outputs": [
    {
     "name": "stdout",
     "output_type": "stream",
     "text": [
      "CPU times: user 4.1 s, sys: 25.8 ms, total: 4.12 s\n",
      "Wall time: 4.11 s\n",
      "edge score:0.20469669194655177 waste: 2.0628888153240155e-07\n"
     ]
    }
   ],
   "source": [
    "assignments = None\n",
    "%time partition = linear_deterministic_greedy(edges, NUM_NODES, 2, assignments)\n",
    "(waste, edge_score) = score(partition, edges)\n",
    "print(\"edge score:\"+str(edge_score)+\" waste: \"+str(waste))"
   ]
  },
  {
   "cell_type": "code",
   "execution_count": 9,
   "metadata": {},
   "outputs": [
    {
     "name": "stdout",
     "output_type": "stream",
     "text": [
      "CPU times: user 4.06 s, sys: 27.9 ms, total: 4.09 s\n",
      "Wall time: 4.07 s\n",
      "edge score:0.31586594315417144 waste: 1.0314444078840523e-06\n"
     ]
    }
   ],
   "source": [
    "assignments = None\n",
    "%time partition = linear_deterministic_greedy(edges, NUM_NODES, 4, assignments)\n",
    "(waste, edge_score) = score(partition, edges)\n",
    "print(\"edge score:\"+str(edge_score)+\" waste: \"+str(waste))"
   ]
  },
  {
   "cell_type": "code",
   "execution_count": 10,
   "metadata": {},
   "outputs": [
    {
     "name": "stdout",
     "output_type": "stream",
     "text": [
      "CPU times: user 4.25 s, sys: 15 ms, total: 4.27 s\n",
      "Wall time: 4.25 s\n",
      "edge score:0.4101830536222002 waste: 2.6817554605595983e-06\n"
     ]
    }
   ],
   "source": [
    "assignments = None\n",
    "%time partition = linear_deterministic_greedy(edges, NUM_NODES, 8, assignments)\n",
    "(waste, edge_score) = score(partition, edges)\n",
    "print(\"edge score:\"+str(edge_score)+\" waste: \"+str(waste))"
   ]
  },
  {
   "cell_type": "code",
   "execution_count": 11,
   "metadata": {},
   "outputs": [
    {
     "name": "stdout",
     "output_type": "stream",
     "text": [
      "CPU times: user 4.54 s, sys: 43.1 ms, total: 4.59 s\n",
      "Wall time: 4.56 s\n",
      "edge score:0.49411077523980973 waste: 5.982377565952324e-06\n"
     ]
    }
   ],
   "source": [
    "assignments = None\n",
    "%time partition = linear_deterministic_greedy(edges, NUM_NODES, 16, assignments)\n",
    "(waste, edge_score) = score(partition, edges)\n",
    "print(\"edge score:\"+str(edge_score)+\" waste: \"+str(waste))"
   ]
  },
  {
   "cell_type": "code",
   "execution_count": 12,
   "metadata": {},
   "outputs": [
    {
     "name": "stdout",
     "output_type": "stream",
     "text": [
      "CPU times: user 4.89 s, sys: 9.45 ms, total: 4.9 s\n",
      "Wall time: 4.88 s\n",
      "edge score:0.5447075589228666 waste: 0.00011490290704350287\n"
     ]
    }
   ],
   "source": [
    "assignments = None\n",
    "%time partition = linear_deterministic_greedy(edges, NUM_NODES, 32, assignments)\n",
    "(waste, edge_score) = score(partition, edges)\n",
    "print(\"edge score:\"+str(edge_score)+\" waste: \"+str(waste))"
   ]
  },
  {
   "cell_type": "code",
   "execution_count": 13,
   "metadata": {},
   "outputs": [
    {
     "name": "stdout",
     "output_type": "stream",
     "text": [
      "CPU times: user 4.94 s, sys: 19.3 ms, total: 4.96 s\n",
      "Wall time: 4.93 s\n",
      "edge score:0.5491682662023212 waste: 8.02463749371568e-05\n"
     ]
    }
   ],
   "source": [
    "assignments = None\n",
    "%time partition = linear_deterministic_greedy(edges, NUM_NODES, 40, assignments)\n",
    "(waste, edge_score) = score(partition, edges)\n",
    "print(\"edge score:\"+str(edge_score)+\" waste: \"+str(waste))"
   ]
  },
  {
   "cell_type": "code",
   "execution_count": 19,
   "metadata": {
    "collapsed": true
   },
   "outputs": [],
   "source": [
    "def draw_figures(waste_values, edge_score_values, num_partitions):\n",
    "    fig, axes = plt.subplots(nrows=1, ncols=2)\n",
    "    \n",
    "    (waste_axes, score_axes) = axes\n",
    "    waste_axes.plot(waste_values, 'r')\n",
    "    waste_axes.set_xlabel('Round')\n",
    "    waste_axes.set_ylabel('Number of wasted bins')\n",
    "    waste_axes.set_ylim(bottom=0)\n",
    "    waste_axes.set_title('Wasted Bins: {} partitions'.format(num_partitions))\n",
    "    \n",
    "    score_axes.plot(edge_score_values, 'r')\n",
    "    score_axes.set_xlabel('Round')\n",
    "    score_axes.set_ylabel('ratio of edge cut')\n",
    "    score_axes.set_ylim(bottom=0)\n",
    "    score_axes.set_title('Score: {} partitions'.format(num_partitions))\n",
    "    \n",
    "    fig.tight_layout()"
   ]
  },
  {
   "cell_type": "code",
   "execution_count": 20,
   "metadata": {
    "collapsed": true
   },
   "outputs": [],
   "source": [
    "def run_restreaming_greedy(edges, num_nodes, num_partitions=10, num_iterations=10):\n",
    "    print('\\n{} PARTITIONS'.format(num_partitions))\n",
    "    assignments = None\n",
    "    print('ROUND\\tWASTE\\tSCORE')\n",
    "    waste_values = []\n",
    "    edge_score_values = []\n",
    "    flipped_edges = numpy.flipud(edges).copy()\n",
    "    for i in range(num_iterations):\n",
    "        assignments = linear_deterministic_greedy(edges, NUM_NODES, num_partitions, assignments)\n",
    "        (waste, edge_score) = score(assignments, edges)\n",
    "        waste_values.append(waste)\n",
    "        edge_score_values.append(edge_score)\n",
    "        print('{}\\t{:0.3f}\\t{:0.3f}'.format(i, waste, edge_score))\n",
    "    draw_figures(waste_values, edge_score_values, num_partitions)\n",
    "# Use the greedy method to break into 4 partitions"
   ]
  },
  {
   "cell_type": "code",
   "execution_count": 21,
   "metadata": {},
   "outputs": [
    {
     "name": "stdout",
     "output_type": "stream",
     "text": [
      "\n",
      "2 PARTITIONS\n",
      "ROUND\tWASTE\tSCORE\n",
      "0\t0.000\t0.205\n",
      "1\t0.000\t0.167\n",
      "2\t0.000\t0.145\n",
      "3\t0.000\t0.136\n",
      "4\t0.000\t0.131\n",
      "5\t0.000\t0.129\n",
      "6\t0.000\t0.127\n",
      "7\t0.000\t0.126\n",
      "8\t0.000\t0.124\n",
      "9\t0.000\t0.124\n",
      "10\t0.000\t0.123\n",
      "11\t0.000\t0.123\n",
      "12\t0.000\t0.122\n",
      "13\t0.000\t0.122\n",
      "14\t0.000\t0.121\n",
      "15\t0.000\t0.121\n",
      "16\t0.000\t0.120\n",
      "17\t0.000\t0.121\n",
      "18\t0.000\t0.120\n",
      "19\t0.000\t0.120\n",
      "CPU times: user 2min 44s, sys: 12.9 s, total: 2min 57s\n",
      "Wall time: 2min 57s\n"
     ]
    },
    {
     "data": {
      "image/png": "[encoded data removed]",
      "text/plain": [
       "<matplotlib.figure.Figure at 0x7fe5d549c5f8>"
      ]
     },
     "metadata": {},
     "output_type": "display_data"
    }
   ],
   "source": [
    "%time run_restreaming_greedy(edges, NUM_NODES, num_partitions=2, num_iterations=20)\n"
   ]
  },
  {
   "cell_type": "code",
   "execution_count": 22,
   "metadata": {},
   "outputs": [
    {
     "name": "stdout",
     "output_type": "stream",
     "text": [
      "\n",
      "4 PARTITIONS\n",
      "ROUND\tWASTE\tSCORE\n",
      "0\t0.000\t0.316\n",
      "1\t0.000\t0.227\n",
      "2\t0.000\t0.209\n",
      "3\t0.000\t0.200\n",
      "4\t0.000\t0.194\n",
      "5\t0.000\t0.190\n",
      "6\t0.000\t0.188\n",
      "7\t0.000\t0.186\n",
      "8\t0.000\t0.184\n",
      "9\t0.000\t0.183\n",
      "10\t0.000\t0.182\n",
      "11\t0.000\t0.181\n",
      "12\t0.000\t0.180\n",
      "13\t0.000\t0.180\n",
      "14\t0.000\t0.179\n",
      "15\t0.000\t0.179\n",
      "16\t0.000\t0.178\n",
      "17\t0.000\t0.178\n",
      "18\t0.000\t0.178\n",
      "19\t0.000\t0.178\n",
      "CPU times: user 2min 50s, sys: 13.2 s, total: 3min 3s\n",
      "Wall time: 3min 3s\n"
     ]
    },
    {
     "data": {
      "image/png": "[encoded data removed]",
      "text/plain": [
       "<matplotlib.figure.Figure at 0x7fe5d5471668>"
      ]
     },
     "metadata": {},
     "output_type": "display_data"
    }
   ],
   "source": [
    "%time run_restreaming_greedy(edges, NUM_NODES, num_partitions=4, num_iterations=20)\n"
   ]
  },
  {
   "cell_type": "code",
   "execution_count": 23,
   "metadata": {},
   "outputs": [
    {
     "name": "stdout",
     "output_type": "stream",
     "text": [
      "\n",
      "8 PARTITIONS\n",
      "ROUND\tWASTE\tSCORE\n",
      "0\t0.000\t0.410\n",
      "1\t0.000\t0.305\n",
      "2\t0.000\t0.279\n",
      "3\t0.000\t0.266\n",
      "4\t0.000\t0.259\n",
      "5\t0.000\t0.255\n",
      "6\t0.000\t0.252\n",
      "7\t0.000\t0.250\n",
      "8\t0.000\t0.248\n",
      "9\t0.000\t0.247\n",
      "10\t0.000\t0.246\n",
      "11\t0.000\t0.245\n",
      "12\t0.000\t0.244\n",
      "13\t0.000\t0.244\n",
      "14\t0.000\t0.243\n",
      "15\t0.000\t0.243\n",
      "16\t0.000\t0.242\n",
      "17\t0.000\t0.242\n",
      "18\t0.000\t0.241\n",
      "19\t0.000\t0.241\n",
      "CPU times: user 2min 54s, sys: 13.9 s, total: 3min 8s\n",
      "Wall time: 3min 8s\n"
     ]
    },
    {
     "data": {
      "image/png": "[encoded data removed]",
      "text/plain": [
       "<matplotlib.figure.Figure at 0x7fe5d5427eb8>"
      ]
     },
     "metadata": {},
     "output_type": "display_data"
    }
   ],
   "source": [
    "%time run_restreaming_greedy(edges, NUM_NODES, num_partitions=8, num_iterations=20)\n"
   ]
  },
  {
   "cell_type": "code",
   "execution_count": 24,
   "metadata": {},
   "outputs": [
    {
     "name": "stdout",
     "output_type": "stream",
     "text": [
      "\n",
      "16 PARTITIONS\n",
      "ROUND\tWASTE\tSCORE\n",
      "0\t0.000\t0.494\n",
      "1\t0.000\t0.400\n",
      "2\t0.000\t0.368\n",
      "3\t0.000\t0.357\n",
      "4\t0.000\t0.350\n",
      "5\t0.000\t0.346\n",
      "6\t0.000\t0.343\n",
      "7\t0.000\t0.341\n",
      "8\t0.000\t0.339\n",
      "9\t0.000\t0.337\n",
      "10\t0.000\t0.336\n",
      "11\t0.000\t0.335\n",
      "12\t0.000\t0.335\n",
      "13\t0.000\t0.334\n",
      "14\t0.000\t0.334\n",
      "15\t0.000\t0.333\n",
      "16\t0.000\t0.333\n",
      "17\t0.000\t0.333\n",
      "18\t0.000\t0.332\n",
      "19\t0.000\t0.332\n",
      "CPU times: user 2min 53s, sys: 12.8 s, total: 3min 6s\n",
      "Wall time: 3min 5s\n"
     ]
    },
    {
     "data": {
      "image/png": "[encoded data removed]",
      "text/plain": [
       "<matplotlib.figure.Figure at 0x7fe5a91dada0>"
      ]
     },
     "metadata": {},
     "output_type": "display_data"
    }
   ],
   "source": [
    "%time run_restreaming_greedy(edges, NUM_NODES, num_partitions=16, num_iterations=20)\n"
   ]
  },
  {
   "cell_type": "code",
   "execution_count": 25,
   "metadata": {},
   "outputs": [
    {
     "name": "stdout",
     "output_type": "stream",
     "text": [
      "\n",
      "32 PARTITIONS\n",
      "ROUND\tWASTE\tSCORE\n",
      "0\t0.000\t0.545\n",
      "1\t0.000\t0.447\n",
      "2\t0.000\t0.411\n",
      "3\t0.000\t0.397\n",
      "4\t0.000\t0.391\n",
      "5\t0.000\t0.386\n",
      "6\t0.000\t0.383\n",
      "7\t0.000\t0.381\n",
      "8\t0.000\t0.379\n",
      "9\t0.000\t0.378\n",
      "10\t0.000\t0.376\n",
      "11\t0.000\t0.374\n",
      "12\t0.000\t0.374\n",
      "13\t0.000\t0.373\n",
      "14\t0.000\t0.373\n",
      "15\t0.000\t0.371\n",
      "16\t0.000\t0.370\n",
      "17\t0.000\t0.369\n",
      "18\t0.000\t0.368\n",
      "19\t0.000\t0.368\n",
      "CPU times: user 2min 57s, sys: 13.6 s, total: 3min 11s\n",
      "Wall time: 3min 10s\n"
     ]
    },
    {
     "data": {
      "image/png": "[encoded data removed]",
      "text/plain": [
       "<matplotlib.figure.Figure at 0x7fe5d5938978>"
      ]
     },
     "metadata": {},
     "output_type": "display_data"
    }
   ],
   "source": [
    "%time run_restreaming_greedy(edges, NUM_NODES, num_partitions=32, num_iterations=20)\n"
   ]
  },
  {
   "cell_type": "code",
   "execution_count": 26,
   "metadata": {},
   "outputs": [
    {
     "name": "stdout",
     "output_type": "stream",
     "text": [
      "\n",
      "40 PARTITIONS\n",
      "ROUND\tWASTE\tSCORE\n",
      "0\t0.000\t0.549\n",
      "1\t0.000\t0.453\n",
      "2\t0.000\t0.413\n",
      "3\t0.000\t0.405\n",
      "4\t0.000\t0.395\n",
      "5\t0.000\t0.390\n",
      "6\t0.000\t0.387\n",
      "7\t0.000\t0.385\n",
      "8\t0.000\t0.383\n",
      "9\t0.000\t0.382\n",
      "10\t0.000\t0.380\n",
      "11\t0.000\t0.379\n",
      "12\t0.000\t0.378\n",
      "13\t0.000\t0.378\n",
      "14\t0.000\t0.377\n",
      "15\t0.000\t0.377\n",
      "16\t0.000\t0.377\n",
      "17\t0.000\t0.377\n",
      "18\t0.000\t0.377\n",
      "19\t0.000\t0.376\n",
      "CPU times: user 2min 58s, sys: 13 s, total: 3min 11s\n",
      "Wall time: 3min 10s\n"
     ]
    },
    {
     "data": {
      "image/png": "[encoded data removed]",
      "text/plain": [
       "<matplotlib.figure.Figure at 0x7fe5d4f84b70>"
      ]
     },
     "metadata": {},
     "output_type": "display_data"
    }
   ],
   "source": [
    "%time run_restreaming_greedy(edges, NUM_NODES, num_partitions=40, num_iterations=20)\n"
   ]
  },
  {
   "cell_type": "code",
   "execution_count": 27,
   "metadata": {
    "collapsed": true
   },
   "outputs": [],
   "source": [
    "%%cython\n",
    "import numpy as np\n",
    "\n",
    "cdef int UNMAPPED = -1\n",
    "\n",
    "def fennel(int[:,::] edges,\n",
    "           int num_nodes,\n",
    "           int num_partitions,\n",
    "           int[::] partition,\n",
    "           float alpha):\n",
    "    \"\"\"\n",
    "    This algorithm favors a cluster if it has many neighbors of a node, but\n",
    "    penalizes the cluster if it is close to capacity.\n",
    "    \n",
    "    partition: A previous partition of the nodes. Set to -1's if a node has not been assigned.\n",
    "    \"\"\"\n",
    "    \n",
    "    cdef int[::] partition_sizes = None\n",
    "    # The output partition\n",
    "    if partition is None:\n",
    "        partition = np.repeat(np.int32(UNMAPPED), num_nodes)\n",
    "        partition_sizes = np.zeros(num_partitions, dtype=np.int32)\n",
    "    else:\n",
    "        partition_sizes = np.bincount(partition).astype(np.int32)\n",
    "    \n",
    "    cdef int[::] partition_votes = np.zeros(num_partitions, dtype=np.int32)\n",
    "    \n",
    "    cdef float partition_capacity = num_nodes / num_partitions\n",
    "    \n",
    "    cdef int last_left = edges[0,0]\n",
    "    cdef int i = 0\n",
    "    cdef int left = 0\n",
    "    cdef int right = 0\n",
    "    cdef int arg = 0\n",
    "    cdef int max_arg = 0\n",
    "    cdef float max_val = 0\n",
    "    cdef float val = 0\n",
    "    cdef int len_edges = len(edges)\n",
    "    cdef int previous_assignment = 0\n",
    "\n",
    "    for i in range(len_edges):\n",
    "        left = edges[i,0]\n",
    "        right = edges[i,1]\n",
    "    \n",
    "        if last_left != left:\n",
    "            # New left node, so we have to assign last left\n",
    "\n",
    "            # Remember placement of last_left in the previous assignment\n",
    "            previous_assignment = partition[last_left]\n",
    "            \n",
    "            max_arg = 0\n",
    "            max_val = partition_votes[0] - alpha * partition_sizes[0]\n",
    "            if previous_assignment == 0:\n",
    "                # We remove the node from its current partition before\n",
    "                # deciding to re-add it, so subtract alpha to give\n",
    "                # result of 1 lower partition size.\n",
    "                max_val += alpha\n",
    "\n",
    "            for arg in range(1, num_partitions):\n",
    "                val = partition_votes[arg] - alpha * partition_sizes[arg]\n",
    "                if previous_assignment == arg:\n",
    "                    # See comment above\n",
    "                    val += alpha\n",
    "                if val > max_val:\n",
    "                    max_arg = arg\n",
    "                    max_val = val\n",
    "\n",
    "            if max_arg != previous_assignment:\n",
    "                partition[last_left] = max_arg\n",
    "                partition_sizes[max_arg] += 1\n",
    "                if previous_assignment != UNMAPPED:\n",
    "                    partition_sizes[previous_assignment] -= 1\n",
    "\n",
    "            partition_votes[:] = 0\n",
    "            last_left = left\n",
    "\n",
    "        if partition[right] != -1:\n",
    "            partition_votes[partition[right]] += 1\n",
    "    \n",
    "    # TODO: finish off this fencepost....\n",
    "    partition[left] = 0\n",
    "    \n",
    "    return np.asarray(partition)"
   ]
  },
  {
   "cell_type": "code",
   "execution_count": 23,
   "metadata": {},
   "outputs": [
    {
     "name": "stdout",
     "output_type": "stream",
     "text": [
      "CPU times: user 4.43 s, sys: 8.55 ms, total: 4.43 s\n",
      "Wall time: 4.42 s\n",
      "wast=1.0000002062888815 edge cut = 0.23604469897631264\n"
     ]
    }
   ],
   "source": [
    "assignment = None\n",
    "%time assignment = fennel(edges,NUM_NODES,2,assignment,5.)\n",
    "wast,edge_cut = score(assignment, edges)\n",
    "print('wast='+str(1+wast)+' edge cut = '+str(edge_cut))"
   ]
  },
  {
   "cell_type": "code",
   "execution_count": 24,
   "metadata": {},
   "outputs": [
    {
     "name": "stdout",
     "output_type": "stream",
     "text": [
      "CPU times: user 4.44 s, sys: 8.79 ms, total: 4.45 s\n",
      "Wall time: 4.43 s\n",
      "wast=1.0000002062888815 edge cut = 0.23770582839029109\n"
     ]
    }
   ],
   "source": [
    "assignment = None\n",
    "%time assignment = fennel(edges,NUM_NODES,2,assignment,1.)\n",
    "wast,edge_cut = score(assignment, edges)\n",
    "print('wast='+str(1+wast)+' edge cut = '+str(edge_cut))"
   ]
  },
  {
   "cell_type": "code",
   "execution_count": 25,
   "metadata": {},
   "outputs": [
    {
     "name": "stdout",
     "output_type": "stream",
     "text": [
      "CPU times: user 4.41 s, sys: 4.54 ms, total: 4.41 s\n",
      "Wall time: 4.4 s\n",
      "wast=1.0000002062888815 edge cut = 0.20999568828219473\n"
     ]
    }
   ],
   "source": [
    "assignment = None\n",
    "%time assignment = fennel(edges,NUM_NODES,2,assignment,2.000000125)\n",
    "wast,edge_cut = score(assignment, edges)\n",
    "print('wast='+str(1+wast)+' edge cut = '+str(edge_cut))"
   ]
  },
  {
   "cell_type": "code",
   "execution_count": 26,
   "metadata": {},
   "outputs": [
    {
     "name": "stdout",
     "output_type": "stream",
     "text": [
      "CPU times: user 4.4 s, sys: 15.9 ms, total: 4.42 s\n",
      "Wall time: 4.4 s\n",
      "wast=1.0000002062888815 edge cut = 0.20999568828219473\n"
     ]
    }
   ],
   "source": [
    "assignment = None\n",
    "%time assignment = fennel(edges,NUM_NODES,2,assignment,2.)\n",
    "wast,edge_cut = score(assignment, edges)\n",
    "print('wast='+str(1+wast)+' edge cut = '+str(edge_cut))"
   ]
  },
  {
   "cell_type": "code",
   "execution_count": 27,
   "metadata": {},
   "outputs": [
    {
     "name": "stdout",
     "output_type": "stream",
     "text": [
      "CPU times: user 4.36 s, sys: 23.9 ms, total: 4.38 s\n",
      "Wall time: 4.37 s\n",
      "wast=1.0000002062888815 edge cut = 0.3804908872628219\n"
     ]
    }
   ],
   "source": [
    "assignment = None\n",
    "%time assignment = fennel(edges,NUM_NODES,4,assignment,2.)\n",
    "wast,edge_cut = score(assignment, edges)\n",
    "print('wast='+str(1+wast)+' edge cut = '+str(edge_cut))"
   ]
  },
  {
   "cell_type": "code",
   "execution_count": 28,
   "metadata": {},
   "outputs": [
    {
     "name": "stdout",
     "output_type": "stream",
     "text": [
      "CPU times: user 4.62 s, sys: 19.7 ms, total: 4.64 s\n",
      "Wall time: 4.62 s\n",
      "wast=1.0000026817554606 edge cut = 0.4375627632367742\n"
     ]
    }
   ],
   "source": [
    "assignment = None\n",
    "%time assignment = fennel(edges,NUM_NODES,8,assignment,2.)\n",
    "wast,edge_cut = score(assignment, edges)\n",
    "print('wast='+str(1+wast)+' edge cut = '+str(edge_cut))"
   ]
  },
  {
   "cell_type": "code",
   "execution_count": 29,
   "metadata": {},
   "outputs": [
    {
     "name": "stdout",
     "output_type": "stream",
     "text": [
      "CPU times: user 4.84 s, sys: 8.49 ms, total: 4.85 s\n",
      "Wall time: 4.83 s\n",
      "wast=1.0000092829996714 edge cut = 0.49960230039933723\n"
     ]
    }
   ],
   "source": [
    "assignment = None\n",
    "%time assignment = fennel(edges,NUM_NODES,16,assignment,2.)\n",
    "wast,edge_cut = score(assignment, edges)\n",
    "print('wast='+str(1+wast)+' edge cut = '+str(edge_cut))"
   ]
  },
  {
   "cell_type": "code",
   "execution_count": 30,
   "metadata": {},
   "outputs": [
    {
     "name": "stdout",
     "output_type": "stream",
     "text": [
      "CPU times: user 4.89 s, sys: 30.6 ms, total: 4.92 s\n",
      "Wall time: 4.91 s\n",
      "wast=1.0000158842438822 edge cut = 0.5766571373404134\n"
     ]
    }
   ],
   "source": [
    "assignment = None\n",
    "%time assignment = fennel(edges,NUM_NODES,32,assignment,2.)\n",
    "wast,edge_cut = score(assignment, edges)\n",
    "print('wast='+str(1+wast)+' edge cut = '+str(edge_cut))"
   ]
  },
  {
   "cell_type": "code",
   "execution_count": 31,
   "metadata": {},
   "outputs": [
    {
     "name": "stdout",
     "output_type": "stream",
     "text": [
      "CPU times: user 5.23 s, sys: 23.1 ms, total: 5.25 s\n",
      "Wall time: 5.23 s\n",
      "wast=1.0000719948196737 edge cut = 0.5595745651145009\n"
     ]
    }
   ],
   "source": [
    "assignment = None\n",
    "%time assignment = fennel(edges,NUM_NODES,40,assignment,2.)\n",
    "wast,edge_cut = score(assignment, edges)\n",
    "print('wast='+str(1+wast)+' edge cut = '+str(edge_cut))"
   ]
  },
  {
   "cell_type": "code",
   "execution_count": 28,
   "metadata": {
    "collapsed": true
   },
   "outputs": [],
   "source": [
    "def run_fennel_restreaming(edges, num_nodes, num_partitions, num_iterations):\n",
    "    print('{} PARTITIONS'.format(num_partitions))\n",
    "    assignments = None\n",
    "    # We will explore this parameter in a future post. This is sub-optimal\n",
    "    alphas = np.linspace(1.251608191745264e-07, 7.588951557309824e-03, num_iterations)\n",
    "    waste_scores, edge_score_values = [], []\n",
    "    print('ROUND\\tALPHA\\tWASTE\\tSCORE')\n",
    "    for i in range(num_iterations):\n",
    "        alpha = alphas[i]\n",
    "        assignments = fennel(edges, NUM_NODES, num_partitions, assignments, alpha)\n",
    "        (waste, edge_score) = score(assignments, edges)\n",
    "        print('{}\\t{:.1e}\\t{:0.3f}\\t{:0.3f}'.format(i, alpha, waste, edge_score))\n",
    "        waste_scores.append(waste)\n",
    "        edge_score_values.append(edge_score)\n",
    "    draw_figures(waste_scores, edge_score_values, num_partitions)"
   ]
  },
  {
   "cell_type": "code",
   "execution_count": 29,
   "metadata": {},
   "outputs": [
    {
     "name": "stdout",
     "output_type": "stream",
     "text": [
      "2 PARTITIONS\n",
      "ROUND\tALPHA\tWASTE\tSCORE\n",
      "0\t1.3e-07\t0.000\t0.249\n",
      "1\t4.0e-04\t0.001\t0.159\n",
      "2\t8.0e-04\t0.000\t0.128\n",
      "3\t1.2e-03\t0.000\t0.114\n",
      "4\t1.6e-03\t0.000\t0.105\n",
      "5\t2.0e-03\t0.000\t0.099\n",
      "6\t2.4e-03\t0.000\t0.095\n",
      "7\t2.8e-03\t0.000\t0.092\n",
      "8\t3.2e-03\t0.000\t0.089\n",
      "9\t3.6e-03\t0.000\t0.086\n",
      "10\t4.0e-03\t0.000\t0.084\n",
      "11\t4.4e-03\t0.000\t0.083\n",
      "12\t4.8e-03\t0.000\t0.082\n",
      "13\t5.2e-03\t0.000\t0.081\n",
      "14\t5.6e-03\t0.000\t0.081\n",
      "15\t6.0e-03\t0.000\t0.080\n",
      "16\t6.4e-03\t0.000\t0.080\n",
      "17\t6.8e-03\t0.000\t0.080\n",
      "18\t7.2e-03\t0.000\t0.080\n",
      "19\t7.6e-03\t0.000\t0.079\n",
      "CPU times: user 2min 59s, sys: 13.8 s, total: 3min 13s\n",
      "Wall time: 3min 12s\n"
     ]
    },
    {
     "data": {
      "image/png": "[encoded data removed]",
      "text/plain": [
       "<matplotlib.figure.Figure at 0x7fe5d539bc18>"
      ]
     },
     "metadata": {},
     "output_type": "display_data"
    }
   ],
   "source": [
    "%time run_fennel_restreaming(edges, NUM_NODES, 2, 20)\n"
   ]
  },
  {
   "cell_type": "code",
   "execution_count": 30,
   "metadata": {},
   "outputs": [
    {
     "name": "stdout",
     "output_type": "stream",
     "text": [
      "4 PARTITIONS\n",
      "ROUND\tALPHA\tWASTE\tSCORE\n",
      "0\t1.3e-07\t0.002\t0.320\n",
      "1\t4.0e-04\t0.001\t0.220\n",
      "2\t8.0e-04\t0.001\t0.195\n",
      "3\t1.2e-03\t0.001\t0.183\n",
      "4\t1.6e-03\t0.000\t0.175\n",
      "5\t2.0e-03\t0.000\t0.170\n",
      "6\t2.4e-03\t0.000\t0.166\n",
      "7\t2.8e-03\t0.000\t0.164\n",
      "8\t3.2e-03\t0.000\t0.162\n",
      "9\t3.6e-03\t0.000\t0.160\n",
      "10\t4.0e-03\t0.000\t0.159\n",
      "11\t4.4e-03\t0.000\t0.158\n",
      "12\t4.8e-03\t0.000\t0.158\n",
      "13\t5.2e-03\t0.000\t0.157\n",
      "14\t5.6e-03\t0.000\t0.157\n",
      "15\t6.0e-03\t0.000\t0.156\n",
      "16\t6.4e-03\t0.000\t0.156\n",
      "17\t6.8e-03\t0.000\t0.156\n",
      "18\t7.2e-03\t0.000\t0.155\n",
      "19\t7.6e-03\t0.000\t0.155\n",
      "CPU times: user 3min 4s, sys: 13.8 s, total: 3min 17s\n",
      "Wall time: 3min 17s\n"
     ]
    },
    {
     "data": {
      "image/png": "[encoded data removed]",
      "text/plain": [
       "<matplotlib.figure.Figure at 0x7fe5d54febe0>"
      ]
     },
     "metadata": {},
     "output_type": "display_data"
    }
   ],
   "source": [
    "%time run_fennel_restreaming(edges, NUM_NODES, 4, 20)\n"
   ]
  },
  {
   "cell_type": "code",
   "execution_count": 31,
   "metadata": {},
   "outputs": [
    {
     "name": "stdout",
     "output_type": "stream",
     "text": [
      "8 PARTITIONS\n",
      "ROUND\tALPHA\tWASTE\tSCORE\n",
      "0\t1.3e-07\t0.025\t0.411\n",
      "1\t4.0e-04\t0.003\t0.282\n",
      "2\t8.0e-04\t0.001\t0.256\n",
      "3\t1.2e-03\t0.001\t0.245\n",
      "4\t1.6e-03\t0.001\t0.237\n",
      "5\t2.0e-03\t0.001\t0.232\n",
      "6\t2.4e-03\t0.001\t0.228\n",
      "7\t2.8e-03\t0.000\t0.224\n",
      "8\t3.2e-03\t0.000\t0.219\n",
      "9\t3.6e-03\t0.000\t0.217\n",
      "10\t4.0e-03\t0.000\t0.214\n",
      "11\t4.4e-03\t0.001\t0.212\n",
      "12\t4.8e-03\t0.001\t0.210\n",
      "13\t5.2e-03\t0.000\t0.209\n",
      "14\t5.6e-03\t0.000\t0.208\n",
      "15\t6.0e-03\t0.000\t0.207\n",
      "16\t6.4e-03\t0.000\t0.206\n",
      "17\t6.8e-03\t0.000\t0.206\n",
      "18\t7.2e-03\t0.000\t0.205\n",
      "19\t7.6e-03\t0.000\t0.205\n",
      "CPU times: user 3min 4s, sys: 13.6 s, total: 3min 18s\n",
      "Wall time: 3min 17s\n"
     ]
    },
    {
     "data": {
      "image/png": "[encoded data removed]",
      "text/plain": [
       "<matplotlib.figure.Figure at 0x7fe5d546ed68>"
      ]
     },
     "metadata": {},
     "output_type": "display_data"
    }
   ],
   "source": [
    "%time run_fennel_restreaming(edges, NUM_NODES, 8, 20)\n"
   ]
  },
  {
   "cell_type": "code",
   "execution_count": 32,
   "metadata": {},
   "outputs": [
    {
     "name": "stdout",
     "output_type": "stream",
     "text": [
      "16 PARTITIONS\n",
      "ROUND\tALPHA\tWASTE\tSCORE\n",
      "0\t1.3e-07\t0.362\t0.445\n",
      "1\t4.0e-04\t0.008\t0.343\n",
      "2\t8.0e-04\t0.004\t0.308\n",
      "3\t1.2e-03\t0.002\t0.294\n",
      "4\t1.6e-03\t0.002\t0.286\n",
      "5\t2.0e-03\t0.001\t0.281\n",
      "6\t2.4e-03\t0.002\t0.277\n",
      "7\t2.8e-03\t0.002\t0.274\n",
      "8\t3.2e-03\t0.002\t0.272\n",
      "9\t3.6e-03\t0.002\t0.270\n",
      "10\t4.0e-03\t0.001\t0.268\n",
      "11\t4.4e-03\t0.001\t0.267\n",
      "12\t4.8e-03\t0.001\t0.266\n",
      "13\t5.2e-03\t0.001\t0.265\n",
      "14\t5.6e-03\t0.001\t0.264\n",
      "15\t6.0e-03\t0.001\t0.263\n",
      "16\t6.4e-03\t0.001\t0.263\n",
      "17\t6.8e-03\t0.001\t0.262\n",
      "18\t7.2e-03\t0.001\t0.262\n",
      "19\t7.6e-03\t0.001\t0.261\n",
      "CPU times: user 3min 4s, sys: 13.4 s, total: 3min 17s\n",
      "Wall time: 3min 17s\n"
     ]
    },
    {
     "data": {
      "image/png": "[encoded data removed]",
      "text/plain": [
       "<matplotlib.figure.Figure at 0x7fe5d536c6a0>"
      ]
     },
     "metadata": {},
     "output_type": "display_data"
    }
   ],
   "source": [
    "%time run_fennel_restreaming(edges, NUM_NODES, 16, 20)\n"
   ]
  },
  {
   "cell_type": "code",
   "execution_count": 33,
   "metadata": {},
   "outputs": [
    {
     "name": "stdout",
     "output_type": "stream",
     "text": [
      "32 PARTITIONS\n",
      "ROUND\tALPHA\tWASTE\tSCORE\n",
      "0\t1.3e-07\t1.120\t0.476\n",
      "1\t4.0e-04\t0.015\t0.404\n",
      "2\t8.0e-04\t0.007\t0.362\n",
      "3\t1.2e-03\t0.010\t0.345\n",
      "4\t1.6e-03\t0.008\t0.334\n",
      "5\t2.0e-03\t0.027\t0.327\n",
      "6\t2.4e-03\t0.048\t0.321\n",
      "7\t2.8e-03\t0.043\t0.317\n",
      "8\t3.2e-03\t0.036\t0.315\n",
      "9\t3.6e-03\t0.031\t0.313\n",
      "10\t4.0e-03\t0.027\t0.311\n",
      "11\t4.4e-03\t0.023\t0.310\n",
      "12\t4.8e-03\t0.021\t0.309\n",
      "13\t5.2e-03\t0.018\t0.308\n",
      "14\t5.6e-03\t0.017\t0.308\n",
      "15\t6.0e-03\t0.015\t0.307\n",
      "16\t6.4e-03\t0.014\t0.307\n",
      "17\t6.8e-03\t0.013\t0.306\n",
      "18\t7.2e-03\t0.011\t0.306\n",
      "19\t7.6e-03\t0.011\t0.306\n",
      "CPU times: user 3min 10s, sys: 13.2 s, total: 3min 23s\n",
      "Wall time: 3min 22s\n"
     ]
    },
    {
     "data": {
      "image/png": "[encoded data removed]",
      "text/plain": [
       "<matplotlib.figure.Figure at 0x7fe5a918ef28>"
      ]
     },
     "metadata": {},
     "output_type": "display_data"
    }
   ],
   "source": [
    "%time run_fennel_restreaming(edges, NUM_NODES, 32, 20)\n"
   ]
  },
  {
   "cell_type": "code",
   "execution_count": 34,
   "metadata": {},
   "outputs": [
    {
     "name": "stdout",
     "output_type": "stream",
     "text": [
      "40 PARTITIONS\n",
      "ROUND\tALPHA\tWASTE\tSCORE\n",
      "0\t1.3e-07\t1.777\t0.465\n",
      "1\t4.0e-04\t0.017\t0.413\n",
      "2\t8.0e-04\t0.009\t0.369\n",
      "3\t1.2e-03\t0.050\t0.353\n",
      "4\t1.6e-03\t0.107\t0.343\n",
      "5\t2.0e-03\t0.085\t0.340\n",
      "6\t2.4e-03\t0.066\t0.338\n",
      "7\t2.8e-03\t0.052\t0.337\n",
      "8\t3.2e-03\t0.043\t0.336\n",
      "9\t3.6e-03\t0.036\t0.335\n",
      "10\t4.0e-03\t0.031\t0.334\n",
      "11\t4.4e-03\t0.027\t0.334\n",
      "12\t4.8e-03\t0.024\t0.333\n",
      "13\t5.2e-03\t0.022\t0.333\n",
      "14\t5.6e-03\t0.021\t0.332\n",
      "15\t6.0e-03\t0.020\t0.332\n",
      "16\t6.4e-03\t0.019\t0.331\n",
      "17\t6.8e-03\t0.018\t0.331\n",
      "18\t7.2e-03\t0.017\t0.331\n",
      "19\t7.6e-03\t0.017\t0.330\n",
      "CPU times: user 3min 12s, sys: 13.4 s, total: 3min 25s\n",
      "Wall time: 3min 25s\n"
     ]
    },
    {
     "data": {
      "image/png": "[encoded data removed]",
      "text/plain": [
       "<matplotlib.figure.Figure at 0x7fe5d546e240>"
      ]
     },
     "metadata": {},
     "output_type": "display_data"
    }
   ],
   "source": [
    "%time run_fennel_restreaming(edges, NUM_NODES, 40, 20)\n"
   ]
  },
  {
   "cell_type": "code",
   "execution_count": null,
   "metadata": {
    "collapsed": true
   },
   "outputs": [],
   "source": []
  }
 ],
 "metadata": {
  "kernelspec": {
   "display_name": "Python 3",
   "language": "python",
   "name": "python3"
  },
  "language_info": {
   "codemirror_mode": {
    "name": "ipython",
    "version": 3
   },
   "file_extension": ".py",
   "mimetype": "text/x-python",
   "name": "python",
   "nbconvert_exporter": "python",
   "pygments_lexer": "ipython3",
   "version": "3.6.1"
  }
 },
 "nbformat": 4,
 "nbformat_minor": 2
}
