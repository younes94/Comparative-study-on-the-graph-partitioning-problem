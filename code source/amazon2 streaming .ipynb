{
 "cells": [
  {
   "cell_type": "code",
   "execution_count": 1,
   "metadata": {
    "collapsed": true
   },
   "outputs": [],
   "source": [
    "import os\n",
    "\n",
    "DATA_DIRECTORY = '/home/younes'\n",
    "LIVEJOURNAL_FILENAME = os.path.join(DATA_DIRECTORY, 'amazon0505.txt.gz')\n",
    "LIVEJOURNAL_URL = 'http://snap.stanford.edu/data/amazon0505.txt.gz'\n",
    "\n",
    "# Just have these hardcoded, though we don't really need to\n",
    "NUM_EDGES = 3356824\n",
    "NUM_NODES = 410236"
   ]
  },
  {
   "cell_type": "code",
   "execution_count": 2,
   "metadata": {},
   "outputs": [
    {
     "name": "stdout",
     "output_type": "stream",
     "text": [
      "DOWNLOADING 250M FILE. WILL SAVE FOR FUTURE USE\n",
      "\n",
      "FILE STATS:\n",
      "-rw-rw-r-- 1 younes younes 12M ماي 19 16:17 /home/younes/amazon0505.txt.gz\n",
      "\n",
      "STARTING LINES\n",
      "# Directed graph (each unordered pair of nodes is saved once): Amazon0505.txt \n",
      "# Amazon product co-purchaisng network from May 05 2003\n",
      "# Nodes: 410236 Edges: 3356824\n",
      "# FromNodeId\tToNodeId\n",
      "0\t1\n",
      "0\t2\n",
      "0\t3\n",
      "0\t4\n",
      "0\t5\n",
      "0\t6\n",
      "0\t7\n",
      "0\t8\n",
      "0\t9\n",
      "0\t10\n",
      "1\t0\n",
      "1\t2\n",
      "1\t3\n",
      "1\t4\n",
      "1\t5\n",
      "1\t7\n",
      "1\t44\n",
      "1\t56\n",
      "1\t170\n",
      "1\t609\n",
      "2\t0\n",
      "2\t1\n",
      "2\t3\n",
      "2\t4\n",
      "2\t163\n",
      "2\t179\n",
      "\n",
      "gzip: stdout: Broken pipe\n"
     ]
    }
   ],
   "source": [
    "# Downloading the file\n",
    "\n",
    "import urllib.request\n",
    "\n",
    "assert os.path.exists(DATA_DIRECTORY)\n",
    "\n",
    "# Get your data. This file is ~250M so it will take a bit\n",
    "print('DOWNLOADING 250M FILE. WILL SAVE FOR FUTURE USE')\n",
    "if not os.path.exists(LIVEJOURNAL_FILENAME):\n",
    "    urllib.request.urlretrieve(LIVEJOURNAL_URL, LIVEJOURNAL_FILENAME)\n",
    "\n",
    "# Show a little bit of the file\n",
    "print('\\nFILE STATS:')\n",
    "!ls -lh $LIVEJOURNAL_FILENAME\n",
    "print('\\nSTARTING LINES')\n",
    "!zcat $LIVEJOURNAL_FILENAME | head -n 30"
   ]
  },
  {
   "cell_type": "code",
   "execution_count": 3,
   "metadata": {
    "collapsed": true
   },
   "outputs": [],
   "source": [
    "# Cleaning the data\n",
    "\n",
    "import numpy as np\n",
    "import gzip\n",
    "\n",
    "def row_generator():\n",
    "    \"\"\"This will generate all the edges in the graph.\"\"\"\n",
    "    with gzip.open(LIVEJOURNAL_FILENAME, 'rt') as f:\n",
    "        for line in f:\n",
    "            if line.startswith('#'):\n",
    "                continue\n",
    "            else:\n",
    "                (left_node, right_node) = line.split('\\t')\n",
    "                yield(int(left_node), int(right_node))\n",
    "\n",
    "def to_undirected(edge_iterable, num_edges, num_nodes, shuffle=True):\n",
    "    \"\"\"Takes an iterable of edges and produces the list of edges for the undirected graph.\n",
    "    \n",
    "    > to_undirected([[0,1],[1,2],[2,10]], 3, 11)\n",
    "    array([[ 0,  1],\n",
    "       [ 1,  0],\n",
    "       [ 1,  2],\n",
    "       [ 2,  1],\n",
    "       [ 2, 10],\n",
    "       [10,  2]])\n",
    "    \"\"\"\n",
    "    # need int64 to do gross bithacks\n",
    "    as_array = np.zeros((num_edges, 2), dtype=np.int64)\n",
    "    for (i, (n_0, n_1)) in enumerate(edge_iterable):\n",
    "            as_array[i,0] = n_0\n",
    "            as_array[i,1] = n_1\n",
    "    # The graph is directed, but we want to make it undirected,\n",
    "    # which means we will duplicate some rows.\n",
    "\n",
    "    left_nodes = as_array[:,0]\n",
    "    right_nodes = as_array[:,1]\n",
    "    \n",
    "    if shuffle:\n",
    "        the_shuffle = np.arange(num_nodes)\n",
    "        np.random.shuffle(the_shuffle)\n",
    "        left_nodes = the_shuffle.take(left_nodes)\n",
    "        right_nodes = the_shuffle.take(right_nodes)\n",
    "\n",
    "    \n",
    "    # numpy.unique will not unique whole rows, so this little bit-hacking\n",
    "    # is a quick way to get unique rows after making a flipped copy of\n",
    "    # each edge.\n",
    "    max_bits = int(np.ceil(np.log2(num_nodes + 1)))\n",
    "    \n",
    "    encoded_edges_forward = np.left_shift(left_nodes, max_bits) | right_nodes\n",
    "    \n",
    "    # Flip the columns and do it again:\n",
    "    encoded_edges_reverse = np.left_shift(right_nodes, max_bits) | left_nodes\n",
    "\n",
    "    unique_encoded_edges = np.unique(np.hstack((encoded_edges_forward, encoded_edges_reverse)))\n",
    "    \n",
    "    left_node_decoded = np.right_shift(unique_encoded_edges, max_bits)\n",
    "    \n",
    "    # Mask out the high order bits\n",
    "    right_node_decoded = (2 ** (max_bits) - 1) & unique_encoded_edges\n",
    "    \n",
    "    undirected_edges = np.vstack((left_node_decoded, right_node_decoded)).T.astype(np.int32)\n",
    "\n",
    "    # ascontiguousarray so that it's c-contiguous for cython code below\n",
    "    return np.ascontiguousarray(undirected_edges)\n",
    "\n",
    "\n",
    "def get_clean_data(shuffle=True):\n",
    "    if shuffle:\n",
    "        name = os.path.join(DATA_DIRECTORY, 'LJ-ak-shuffled.npy')\n",
    "    else:\n",
    "        name = os.path.join(DATA_DIRECTORY, 'LJ-ak.npy')\n",
    "\n",
    "    if os.path.exists(name):\n",
    "        print('Loading from file {}'.format(name))\n",
    "        return np.load(name)\n",
    "    else:\n",
    "        print('Parsing from zip. Will write to file {}'.format(name), flush=True)\n",
    "        # Lets get the edges into one big array\n",
    "        edges = to_undirected(row_generator(), NUM_EDGES, NUM_NODES, shuffle=shuffle)\n",
    "        print('ORIGINAL DIST: {} MIN: {} MAX: {}'.format(np.abs(edges[:,0] - edges[:,1]).mean(), edges.min(), edges.max()))\n",
    "        np.save(name, edges)\n",
    "        return edges"
   ]
  },
  {
   "cell_type": "code",
   "execution_count": 4,
   "metadata": {},
   "outputs": [
    {
     "name": "stdout",
     "output_type": "stream",
     "text": [
      "Normalizing data (or loaded pre-computed)\n",
      "Loading from file /home/younes/LJ-ak-shuffled.npy\n",
      "CPU times: user 145 µs, sys: 34.9 ms, total: 35 ms\n",
      "Wall time: 1.03 s\n",
      "Loading from file /home/younes/LJ-ak.npy\n",
      "CPU times: user 18.5 ms, sys: 23.4 ms, total: 41.9 ms\n",
      "Wall time: 624 ms\n",
      "\n",
      "EDGES SHAPE: (4878874, 2)\n"
     ]
    }
   ],
   "source": [
    "print(\"Normalizing data (or loaded pre-computed)\")\n",
    "%time edges = get_clean_data(shuffle=True)\n",
    "%time unshuffled_edges = get_clean_data(shuffle=False)\n",
    "print('\\nEDGES SHAPE: {}'.format(edges.shape))"
   ]
  },
  {
   "cell_type": "code",
   "execution_count": 5,
   "metadata": {},
   "outputs": [
    {
     "name": "stdout",
     "output_type": "stream",
     "text": [
      "Populating the interactive namespace from numpy and matplotlib\n"
     ]
    }
   ],
   "source": [
    "%load_ext cython\n",
    "%pylab inline"
   ]
  },
  {
   "cell_type": "code",
   "execution_count": 6,
   "metadata": {
    "collapsed": true
   },
   "outputs": [],
   "source": [
    "def score(assignment, edges):\n",
    "    \"\"\"Compute the score given an assignment of vertices.\n",
    "    \n",
    "    N nodes are assigned to clusters 0 to K-1.\n",
    "    \n",
    "    assignment: Vector where N[i] is the cluster node i is assigned to.\n",
    "    edges: The edges in the graph, assumed to have one in each direction\n",
    "    \n",
    "    Returns: (total wasted bin space, ratio of edges cut)\n",
    "    \"\"\"\n",
    "    balance = np.bincount(assignment) / len(assignment)\n",
    "    waste = (np.max(balance) - balance).sum()\n",
    "    \n",
    "    left_edge_assignment = assignment.take(edges[:,0])\n",
    "    right_edge_assignment = assignment.take(edges[:,1])\n",
    "    mismatch = (left_edge_assignment != right_edge_assignment).sum()\n",
    "    cut_ratio = mismatch / len(edges)\n",
    "    return (waste, cut_ratio)"
   ]
  },
  {
   "cell_type": "code",
   "execution_count": 34,
   "metadata": {
    "collapsed": true
   },
   "outputs": [],
   "source": [
    "%%cython\n",
    "import numpy as np\n",
    "cimport cython\n",
    "\n",
    "cdef int UNMAPPED = -1\n",
    "\n",
    "def linear_deterministic_greedy(int[:,::] edges,\n",
    "                                int num_nodes,\n",
    "                                int num_partitions,\n",
    "                                int[::] partition):\n",
    "    \"\"\"\n",
    "    This algorithm favors a cluster if it has many neighbors of a node, but\n",
    "    penalizes the cluster if it is close to capacity.\n",
    "    \n",
    "    edges: An [:,2] array of edges.\n",
    "    num_nodes: The number of nodes in the graph.\n",
    "    num_partitions: How many partitions we are breaking the graph into.\n",
    "    partition: The partition from a previous run. Used for restreaming.\n",
    "\n",
    "    Returns: A new partition.\n",
    "    \"\"\"\n",
    "    # The output partition\n",
    "\n",
    "    if partition is None:\n",
    "        partition = np.repeat(np.int32(UNMAPPED), num_nodes)\n",
    "\n",
    "    cdef int[::] partition_sizes = np.zeros(num_partitions, dtype=np.int32)\n",
    "         \n",
    "    cdef int[::] partition_votes = np.zeros(num_partitions, dtype=np.int32)\n",
    "    \n",
    "    # Fine to be a little off, to stay integers\n",
    "    cdef int partition_capacity = num_nodes / num_partitions\n",
    "    \n",
    "    cdef int last_left = edges[0,0]\n",
    "    cdef int i = 0\n",
    "    cdef int left = 0\n",
    "    cdef int right = 0\n",
    "    cdef int arg = 0\n",
    "    cdef int max_arg = 0\n",
    "    cdef int max_val = 0\n",
    "    cdef int val = 0\n",
    "    cdef int len_edges = len(edges)\n",
    "    \n",
    "    for i in range(len_edges):\n",
    "        left = edges[i,0]\n",
    "        right = edges[i,1]\n",
    "    \n",
    "        if last_left != left:\n",
    "            # We have found a new node so assign last_left to a partition\n",
    "                \n",
    "            max_arg = 0\n",
    "            max_val = (partition_votes[0]) * (\n",
    "                       partition_capacity - partition_sizes[0])\n",
    "\n",
    "            for arg in range(1, num_partitions):\n",
    "                val = (partition_votes[arg]) * (\n",
    "                       partition_capacity - partition_sizes[arg])\n",
    "                if val > max_val:\n",
    "                    max_arg = arg\n",
    "                    max_val = val\n",
    "\n",
    "            if max_val == 0:\n",
    "                max_arg = arg\n",
    "                # No neighbors (or multiple maxed out) so \"randomly\" select\n",
    "                # the smallest partition\n",
    "                for arg in range(i % num_partitions, num_partitions):\n",
    "                    if partition_sizes[arg] < partition_capacity:\n",
    "                        max_arg = arg\n",
    "                        max_val = 1\n",
    "                        break\n",
    "                if max_val == 0:\n",
    "                    for arg in range(0, i % num_partitions):\n",
    "                        if partition_sizes[arg] < partition_capacity:\n",
    "                            max_arg = arg\n",
    "                            break\n",
    "\n",
    "\n",
    "            partition_sizes[max_arg] += 1\n",
    "            partition[last_left] = max_arg\n",
    "            partition_votes[:] = 0\n",
    "            last_left = left\n",
    "\n",
    "        if partition[right] != UNMAPPED:\n",
    "            partition_votes[partition[right]] += 1\n",
    "\n",
    "\n",
    "    # Clean up the last assignment\n",
    "    max_arg = 0\n",
    "    max_val = 0\n",
    "    for arg in range(0, num_partitions):\n",
    "        if partition_sizes[arg] < partition_capacity:\n",
    "            val = (partition_votes[arg]) * (\n",
    "                    1 - partition_sizes[arg] / partition_capacity)\n",
    "            if val > max_val:\n",
    "                max_arg = arg\n",
    "                max_val = val\n",
    "    partition[left] = max_arg\n",
    "\n",
    "    return np.asarray(partition)"
   ]
  },
  {
   "cell_type": "code",
   "execution_count": 8,
   "metadata": {},
   "outputs": [
    {
     "name": "stdout",
     "output_type": "stream",
     "text": [
      "CPU times: user 77.9 ms, sys: 0 ns, total: 77.9 ms\n",
      "Wall time: 77.5 ms\n",
      "edge score:0.20448324756900876 waste: 0.0\n"
     ]
    }
   ],
   "source": [
    "assignments = None\n",
    "%time partition = linear_deterministic_greedy(edges, NUM_NODES, 2, assignments)\n",
    "(waste, edge_score) = score(partition, edges)\n",
    "print(\"edge score:\"+str(edge_score)+\" waste: \"+str(waste))"
   ]
  },
  {
   "cell_type": "code",
   "execution_count": 9,
   "metadata": {},
   "outputs": [
    {
     "name": "stdout",
     "output_type": "stream",
     "text": [
      "CPU times: user 82.7 ms, sys: 0 ns, total: 82.7 ms\n",
      "Wall time: 82.1 ms\n",
      "edge score:0.31869894569935603 waste: 0.0\n"
     ]
    }
   ],
   "source": [
    "assignments = None\n",
    "%time partition = linear_deterministic_greedy(edges, NUM_NODES, 4, assignments)\n",
    "(waste, edge_score) = score(partition, edges)\n",
    "print(\"edge score:\"+str(edge_score)+\" waste: \"+str(waste))"
   ]
  },
  {
   "cell_type": "code",
   "execution_count": 10,
   "metadata": {},
   "outputs": [
    {
     "name": "stdout",
     "output_type": "stream",
     "text": [
      "CPU times: user 81.2 ms, sys: 6.29 ms, total: 87.5 ms\n",
      "Wall time: 87.2 ms\n",
      "edge score:0.3832412970697747 waste: 4.8752425433146174e-05\n"
     ]
    }
   ],
   "source": [
    "assignments = None\n",
    "%time partition = linear_deterministic_greedy(edges, NUM_NODES, 8, assignments)\n",
    "(waste, edge_score) = score(partition, edges)\n",
    "print(\"edge score:\"+str(edge_score)+\" waste: \"+str(waste))"
   ]
  },
  {
   "cell_type": "code",
   "execution_count": 11,
   "metadata": {},
   "outputs": [
    {
     "name": "stdout",
     "output_type": "stream",
     "text": [
      "CPU times: user 86.4 ms, sys: 510 µs, total: 86.9 ms\n",
      "Wall time: 86.3 ms\n",
      "edge score:0.4193024865983422 waste: 0.00039976988855204565\n"
     ]
    }
   ],
   "source": [
    "assignments = None\n",
    "%time partition = linear_deterministic_greedy(edges, NUM_NODES, 16, assignments)\n",
    "(waste, edge_score) = score(partition, edges)\n",
    "print(\"edge score:\"+str(edge_score)+\" waste: \"+str(waste))"
   ]
  },
  {
   "cell_type": "code",
   "execution_count": 12,
   "metadata": {},
   "outputs": [
    {
     "name": "stdout",
     "output_type": "stream",
     "text": [
      "CPU times: user 110 ms, sys: 3.47 ms, total: 114 ms\n",
      "Wall time: 113 ms\n",
      "edge score:0.43545662380295125 waste: 0.0020378513831063247\n"
     ]
    }
   ],
   "source": [
    "assignments = None\n",
    "%time partition = linear_deterministic_greedy(edges, NUM_NODES, 32, assignments)\n",
    "(waste, edge_score) = score(partition, edges)\n",
    "print(\"edge score:\"+str(edge_score)+\" waste: \"+str(waste))"
   ]
  },
  {
   "cell_type": "code",
   "execution_count": 13,
   "metadata": {},
   "outputs": [
    {
     "name": "stdout",
     "output_type": "stream",
     "text": [
      "CPU times: user 111 ms, sys: 3.61 ms, total: 114 ms\n",
      "Wall time: 114 ms\n",
      "edge score:0.43883896161286395 waste: 0.0033249154145417875\n"
     ]
    }
   ],
   "source": [
    "assignments = None\n",
    "%time partition = linear_deterministic_greedy(edges, NUM_NODES, 40, assignments)\n",
    "(waste, edge_score) = score(partition, edges)\n",
    "print(\"edge score:\"+str(edge_score)+\" waste: \"+str(waste))"
   ]
  },
  {
   "cell_type": "code",
   "execution_count": 35,
   "metadata": {
    "collapsed": true
   },
   "outputs": [],
   "source": [
    "def draw_figures(waste_values, edge_score_values, num_partitions):\n",
    "    fig, axes = plt.subplots(nrows=1, ncols=2)\n",
    "    \n",
    "    (waste_axes, score_axes) = axes\n",
    "    waste_axes.plot(waste_values, 'r')\n",
    "    waste_axes.set_xlabel('Round')\n",
    "    waste_axes.set_ylabel('Number of wasted bins')\n",
    "    waste_axes.set_ylim(bottom=0)\n",
    "    waste_axes.set_title('Wasted Bins: {} partitions'.format(num_partitions))\n",
    "    \n",
    "    score_axes.plot(edge_score_values, 'r')\n",
    "    score_axes.set_xlabel('Round')\n",
    "    score_axes.set_ylabel('Edge Cut')\n",
    "    score_axes.set_ylim(bottom=0)\n",
    "    score_axes.set_title('Score: {} partitions'.format(num_partitions))\n",
    " \n",
    "    fig.tight_layout()"
   ]
  },
  {
   "cell_type": "code",
   "execution_count": 36,
   "metadata": {
    "collapsed": true
   },
   "outputs": [],
   "source": [
    "def run_restreaming_greedy(edges, num_nodes, num_partitions=10, num_iterations=10):\n",
    "    print('\\n{} PARTITIONS'.format(num_partitions))\n",
    "    assignments = None\n",
    "    print('ROUND\\tWASTE\\tSCORE')\n",
    "    waste_values = []\n",
    "    edge_score_values = []\n",
    "    flipped_edges = numpy.flipud(edges).copy()\n",
    "    for i in range(num_iterations):\n",
    "        assignments = linear_deterministic_greedy(edges, NUM_NODES, num_partitions, assignments)\n",
    "        (waste, edge_score) = score(assignments, edges)\n",
    "        waste_values.append(waste)\n",
    "        edge_score_values.append(edge_score)\n",
    "        print('{}\\t{:0.3f}\\t{:0.3f}'.format(i, waste, edge_score))\n",
    "    draw_figures(waste_values, edge_score_values, num_partitions)"
   ]
  },
  {
   "cell_type": "code",
   "execution_count": 18,
   "metadata": {},
   "outputs": [
    {
     "name": "stdout",
     "output_type": "stream",
     "text": [
      "\n",
      "2 PARTITIONS\n",
      "ROUND\tWASTE\tSCORE\n",
      "0\t0.000\t0.204\n",
      "1\t0.000\t0.146\n",
      "2\t0.000\t0.131\n",
      "3\t0.000\t0.125\n",
      "4\t0.000\t0.122\n",
      "5\t0.000\t0.120\n",
      "6\t0.000\t0.119\n",
      "7\t0.000\t0.118\n",
      "8\t0.000\t0.117\n",
      "9\t0.000\t0.117\n",
      "10\t0.000\t0.116\n",
      "11\t0.000\t0.116\n",
      "12\t0.000\t0.116\n",
      "13\t0.000\t0.116\n",
      "14\t0.000\t0.116\n",
      "15\t0.000\t0.116\n",
      "16\t0.000\t0.116\n",
      "17\t0.000\t0.116\n",
      "18\t0.000\t0.116\n",
      "19\t0.000\t0.116\n",
      "CPU times: user 2.23 s, sys: 714 ms, total: 2.95 s\n",
      "Wall time: 2.81 s\n"
     ]
    },
    {
     "data": {
      "image/png": "[encoded data removed]",
      "text/plain": [
       "<matplotlib.figure.Figure at 0x7f95ac38efd0>"
      ]
     },
     "metadata": {},
     "output_type": "display_data"
    }
   ],
   "source": [
    "%time run_restreaming_greedy(edges, NUM_NODES, num_partitions=2, num_iterations=20)\n"
   ]
  },
  {
   "cell_type": "code",
   "execution_count": 19,
   "metadata": {},
   "outputs": [
    {
     "name": "stdout",
     "output_type": "stream",
     "text": [
      "\n",
      "4 PARTITIONS\n",
      "ROUND\tWASTE\tSCORE\n",
      "0\t0.000\t0.319\n",
      "1\t0.000\t0.230\n",
      "2\t0.000\t0.208\n",
      "3\t0.000\t0.199\n",
      "4\t0.000\t0.195\n",
      "5\t0.000\t0.192\n",
      "6\t0.000\t0.190\n",
      "7\t0.000\t0.189\n",
      "8\t0.000\t0.188\n",
      "9\t0.000\t0.188\n",
      "10\t0.000\t0.187\n",
      "11\t0.000\t0.187\n",
      "12\t0.000\t0.187\n",
      "13\t0.000\t0.187\n",
      "14\t0.000\t0.187\n",
      "15\t0.000\t0.186\n",
      "16\t0.000\t0.186\n",
      "17\t0.000\t0.186\n",
      "18\t0.000\t0.186\n",
      "19\t0.000\t0.186\n",
      "CPU times: user 2.18 s, sys: 747 ms, total: 2.92 s\n",
      "Wall time: 2.75 s\n"
     ]
    },
    {
     "data": {
      "image/png": "[encoded data removed]",
      "text/plain": [
       "<matplotlib.figure.Figure at 0x7f957a1346d8>"
      ]
     },
     "metadata": {},
     "output_type": "display_data"
    }
   ],
   "source": [
    "%time run_restreaming_greedy(edges, NUM_NODES, num_partitions=4, num_iterations=20)\n"
   ]
  },
  {
   "cell_type": "code",
   "execution_count": 20,
   "metadata": {},
   "outputs": [
    {
     "name": "stdout",
     "output_type": "stream",
     "text": [
      "\n",
      "8 PARTITIONS\n",
      "ROUND\tWASTE\tSCORE\n",
      "0\t0.000\t0.383\n",
      "1\t0.000\t0.282\n",
      "2\t0.000\t0.257\n",
      "3\t0.000\t0.247\n",
      "4\t0.000\t0.240\n",
      "5\t0.000\t0.236\n",
      "6\t0.000\t0.234\n",
      "7\t0.000\t0.232\n",
      "8\t0.000\t0.230\n",
      "9\t0.000\t0.230\n",
      "10\t0.000\t0.229\n",
      "11\t0.000\t0.229\n",
      "12\t0.000\t0.228\n",
      "13\t0.000\t0.228\n",
      "14\t0.000\t0.228\n",
      "15\t0.000\t0.228\n",
      "16\t0.000\t0.228\n",
      "17\t0.000\t0.228\n",
      "18\t0.000\t0.228\n",
      "19\t0.000\t0.227\n",
      "CPU times: user 2.25 s, sys: 760 ms, total: 3.01 s\n",
      "Wall time: 2.87 s\n"
     ]
    },
    {
     "data": {
      "image/png": "[encoded data removed]",
      "text/plain": [
       "<matplotlib.figure.Figure at 0x7f957a143da0>"
      ]
     },
     "metadata": {},
     "output_type": "display_data"
    }
   ],
   "source": [
    "%time run_restreaming_greedy(edges, NUM_NODES, num_partitions=8, num_iterations=20)\n"
   ]
  },
  {
   "cell_type": "code",
   "execution_count": 21,
   "metadata": {},
   "outputs": [
    {
     "name": "stdout",
     "output_type": "stream",
     "text": [
      "\n",
      "16 PARTITIONS\n",
      "ROUND\tWASTE\tSCORE\n",
      "0\t0.000\t0.419\n",
      "1\t0.000\t0.311\n",
      "2\t0.000\t0.287\n",
      "3\t0.000\t0.276\n",
      "4\t0.000\t0.270\n",
      "5\t0.000\t0.266\n",
      "6\t0.000\t0.264\n",
      "7\t0.000\t0.262\n",
      "8\t0.000\t0.261\n",
      "9\t0.000\t0.260\n",
      "10\t0.000\t0.259\n",
      "11\t0.000\t0.259\n",
      "12\t0.000\t0.259\n",
      "13\t0.000\t0.258\n",
      "14\t0.000\t0.258\n",
      "15\t0.000\t0.258\n",
      "16\t0.000\t0.258\n",
      "17\t0.000\t0.258\n",
      "18\t0.000\t0.258\n",
      "19\t0.000\t0.258\n",
      "CPU times: user 2.66 s, sys: 759 ms, total: 3.42 s\n",
      "Wall time: 3.26 s\n"
     ]
    },
    {
     "data": {
      "image/png": "[encoded data removed]",
      "text/plain": [
       "<matplotlib.figure.Figure at 0x7f957a143278>"
      ]
     },
     "metadata": {},
     "output_type": "display_data"
    }
   ],
   "source": [
    "%time run_restreaming_greedy(edges, NUM_NODES, num_partitions=16, num_iterations=20)\n"
   ]
  },
  {
   "cell_type": "code",
   "execution_count": 22,
   "metadata": {},
   "outputs": [
    {
     "name": "stdout",
     "output_type": "stream",
     "text": [
      "\n",
      "32 PARTITIONS\n",
      "ROUND\tWASTE\tSCORE\n",
      "0\t0.002\t0.435\n",
      "1\t0.002\t0.323\n",
      "2\t0.002\t0.298\n",
      "3\t0.002\t0.287\n",
      "4\t0.002\t0.281\n",
      "5\t0.002\t0.278\n",
      "6\t0.002\t0.276\n",
      "7\t0.002\t0.274\n",
      "8\t0.002\t0.273\n",
      "9\t0.002\t0.273\n",
      "10\t0.002\t0.272\n",
      "11\t0.002\t0.272\n",
      "12\t0.002\t0.272\n",
      "13\t0.002\t0.271\n",
      "14\t0.002\t0.271\n",
      "15\t0.002\t0.271\n",
      "16\t0.002\t0.271\n",
      "17\t0.002\t0.271\n",
      "18\t0.002\t0.271\n",
      "19\t0.002\t0.271\n",
      "CPU times: user 2.87 s, sys: 755 ms, total: 3.62 s\n",
      "Wall time: 3.51 s\n"
     ]
    },
    {
     "data": {
      "image/png": "[encoded data removed]",
      "text/plain": [
       "<matplotlib.figure.Figure at 0x7f957e4c2b00>"
      ]
     },
     "metadata": {},
     "output_type": "display_data"
    }
   ],
   "source": [
    "%time run_restreaming_greedy(edges, NUM_NODES, num_partitions=32, num_iterations=20)\n"
   ]
  },
  {
   "cell_type": "code",
   "execution_count": 23,
   "metadata": {},
   "outputs": [
    {
     "name": "stdout",
     "output_type": "stream",
     "text": [
      "\n",
      "40 PARTITIONS\n",
      "ROUND\tWASTE\tSCORE\n",
      "0\t0.003\t0.439\n",
      "1\t0.003\t0.327\n",
      "2\t0.003\t0.304\n",
      "3\t0.003\t0.293\n",
      "4\t0.003\t0.287\n",
      "5\t0.003\t0.283\n",
      "6\t0.003\t0.281\n",
      "7\t0.003\t0.279\n",
      "8\t0.003\t0.278\n",
      "9\t0.003\t0.277\n",
      "10\t0.003\t0.277\n",
      "11\t0.003\t0.276\n",
      "12\t0.003\t0.276\n",
      "13\t0.003\t0.276\n",
      "14\t0.003\t0.275\n",
      "15\t0.003\t0.275\n",
      "16\t0.003\t0.275\n",
      "17\t0.003\t0.275\n",
      "18\t0.003\t0.275\n",
      "19\t0.003\t0.275\n",
      "CPU times: user 3.54 s, sys: 791 ms, total: 4.33 s\n",
      "Wall time: 4.18 s\n"
     ]
    },
    {
     "data": {
      "image/png": "[encoded data removed]",
      "text/plain": [
       "<matplotlib.figure.Figure at 0x7f957e391e48>"
      ]
     },
     "metadata": {},
     "output_type": "display_data"
    }
   ],
   "source": [
    "%time run_restreaming_greedy(edges, NUM_NODES, num_partitions=40, num_iterations=20)\n"
   ]
  },
  {
   "cell_type": "code",
   "execution_count": 24,
   "metadata": {
    "collapsed": true
   },
   "outputs": [],
   "source": [
    "%%cython\n",
    "import numpy as np\n",
    "\n",
    "cdef int UNMAPPED = -1\n",
    "\n",
    "def fennel(int[:,::] edges,\n",
    "           int num_nodes,\n",
    "           int num_partitions,\n",
    "           int[::] partition,\n",
    "           float alpha):\n",
    "    \"\"\"\n",
    "    This algorithm favors a cluster if it has many neighbors of a node, but\n",
    "    penalizes the cluster if it is close to capacity.\n",
    "    \n",
    "    partition: A previous partition of the nodes. Set to -1's if a node has not been assigned.\n",
    "    \"\"\"\n",
    "    \n",
    "    cdef int[::] partition_sizes = None\n",
    "    # The output partition\n",
    "    if partition is None:\n",
    "        partition = np.repeat(np.int32(UNMAPPED), num_nodes)\n",
    "        partition_sizes = np.zeros(num_partitions, dtype=np.int32)\n",
    "    else:\n",
    "        partition_sizes = np.bincount(partition).astype(np.int32)\n",
    "    \n",
    "    cdef int[::] partition_votes = np.zeros(num_partitions, dtype=np.int32)\n",
    "    \n",
    "    cdef float partition_capacity = num_nodes / num_partitions\n",
    "    \n",
    "    cdef int last_left = edges[0,0]\n",
    "    cdef int i = 0\n",
    "    cdef int left = 0\n",
    "    cdef int right = 0\n",
    "    cdef int arg = 0\n",
    "    cdef int max_arg = 0\n",
    "    cdef float max_val = 0\n",
    "    cdef float val = 0\n",
    "    cdef int len_edges = len(edges)\n",
    "    cdef int previous_assignment = 0\n",
    "\n",
    "    for i in range(len_edges):\n",
    "        left = edges[i,0]\n",
    "        right = edges[i,1]\n",
    "    \n",
    "        if last_left != left:\n",
    "            # New left node, so we have to assign last left\n",
    "\n",
    "            # Remember placement of last_left in the previous assignment\n",
    "            previous_assignment = partition[last_left]\n",
    "            \n",
    "            max_arg = 0\n",
    "            max_val = partition_votes[0] - alpha * partition_sizes[0]\n",
    "            if previous_assignment == 0:\n",
    "                # We remove the node from its current partition before\n",
    "                # deciding to re-add it, so subtract alpha to give\n",
    "                # result of 1 lower partition size.\n",
    "                max_val += alpha\n",
    "\n",
    "            for arg in range(1, num_partitions):\n",
    "                val = partition_votes[arg] - alpha * partition_sizes[arg]\n",
    "                if previous_assignment == arg:\n",
    "                    # See comment above\n",
    "                    val += alpha\n",
    "                if val > max_val:\n",
    "                    max_arg = arg\n",
    "                    max_val = val\n",
    "\n",
    "            if max_arg != previous_assignment:\n",
    "                partition[last_left] = max_arg\n",
    "                partition_sizes[max_arg] += 1\n",
    "                if previous_assignment != UNMAPPED:\n",
    "                    partition_sizes[previous_assignment] -= 1\n",
    "\n",
    "            partition_votes[:] = 0\n",
    "            last_left = left\n",
    "\n",
    "        if partition[right] != -1:\n",
    "            partition_votes[partition[right]] += 1\n",
    "    \n",
    "    # TODO: finish off this fencepost....\n",
    "    partition[left] = 0\n",
    "    \n",
    "    return np.asarray(partition)"
   ]
  },
  {
   "cell_type": "code",
   "execution_count": 24,
   "metadata": {},
   "outputs": [
    {
     "name": "stdout",
     "output_type": "stream",
     "text": [
      "CPU times: user 109 ms, sys: 467 µs, total: 109 ms\n",
      "Wall time: 109 ms\n",
      "CPU times: user 52.7 ms, sys: 36.2 ms, total: 89 ms\n",
      "Wall time: 87.8 ms\n",
      "wast=1.0000097504850867 edge cut = 0.24124008941407382\n"
     ]
    }
   ],
   "source": [
    "assignment = None\n",
    "%time assignment = fennel(edges,NUM_NODES,2,assignment,1.)\n",
    "%time wast,edge_cut = score(assignment, edges)\n",
    "print('wast='+str(1+wast)+' edge cut = '+str(edge_cut))"
   ]
  },
  {
   "cell_type": "code",
   "execution_count": 25,
   "metadata": {},
   "outputs": [
    {
     "name": "stdout",
     "output_type": "stream",
     "text": [
      "CPU times: user 141 ms, sys: 660 µs, total: 142 ms\n",
      "Wall time: 142 ms\n",
      "CPU times: user 59.7 ms, sys: 28.6 ms, total: 88.3 ms\n",
      "Wall time: 86.8 ms\n",
      "wast=1.0000097504850867 edge cut = 0.24118556863735363\n"
     ]
    }
   ],
   "source": [
    "assignment = None\n",
    "%time assignment = fennel(edges,NUM_NODES,2,assignment,1.00000015)\n",
    "%time wast,edge_cut = score(assignment, edges)\n",
    "print('wast='+str(1+wast)+' edge cut = '+str(edge_cut))"
   ]
  },
  {
   "cell_type": "code",
   "execution_count": 32,
   "metadata": {},
   "outputs": [
    {
     "name": "stdout",
     "output_type": "stream",
     "text": [
      "CPU times: user 100 ms, sys: 1.59 ms, total: 102 ms\n",
      "Wall time: 103 ms\n",
      "CPU times: user 59.8 ms, sys: 28.3 ms, total: 88.1 ms\n",
      "Wall time: 86.9 ms\n",
      "wast=1.0000195009701733 edge cut = 0.37612941018767854\n"
     ]
    }
   ],
   "source": [
    "assignment = None\n",
    "%time assignment = fennel(edges,NUM_NODES,4,assignment,1.)\n",
    "%time wast,edge_cut = score(assignment, edges)\n",
    "print('wast='+str(1+wast)+' edge cut = '+str(edge_cut))"
   ]
  },
  {
   "cell_type": "code",
   "execution_count": 33,
   "metadata": {},
   "outputs": [
    {
     "name": "stdout",
     "output_type": "stream",
     "text": [
      "CPU times: user 116 ms, sys: 145 µs, total: 116 ms\n",
      "Wall time: 116 ms\n",
      "CPU times: user 42.4 ms, sys: 43.3 ms, total: 85.7 ms\n",
      "Wall time: 84.1 ms\n",
      "wast=1.00002925145526 edge cut = 0.4500079321581168\n"
     ]
    }
   ],
   "source": [
    "assignment = None\n",
    "%time assignment = fennel(edges,NUM_NODES,8,assignment,1.)\n",
    "%time wast,edge_cut = score(assignment, edges)\n",
    "print('wast='+str(1+wast)+' edge cut = '+str(edge_cut))"
   ]
  },
  {
   "cell_type": "code",
   "execution_count": 34,
   "metadata": {},
   "outputs": [
    {
     "name": "stdout",
     "output_type": "stream",
     "text": [
      "CPU times: user 112 ms, sys: 0 ns, total: 112 ms\n",
      "Wall time: 112 ms\n",
      "CPU times: user 51.4 ms, sys: 39.1 ms, total: 90.5 ms\n",
      "Wall time: 89.3 ms\n",
      "wast=1.0000877543657798 edge cut = 0.49148184601610945\n"
     ]
    }
   ],
   "source": [
    "assignment = None\n",
    "%time assignment = fennel(edges,NUM_NODES,16,assignment,1.)\n",
    "%time wast,edge_cut = score(assignment, edges)\n",
    "print('wast='+str(1+wast)+' edge cut = '+str(edge_cut))"
   ]
  },
  {
   "cell_type": "code",
   "execution_count": 35,
   "metadata": {},
   "outputs": [
    {
     "name": "stdout",
     "output_type": "stream",
     "text": [
      "CPU times: user 136 ms, sys: 231 µs, total: 137 ms\n",
      "Wall time: 136 ms\n",
      "CPU times: user 47.5 ms, sys: 39.8 ms, total: 87.3 ms\n",
      "Wall time: 86 ms\n",
      "wast=1.0001657582464727 edge cut = 0.5135984245545181\n"
     ]
    }
   ],
   "source": [
    "assignment = None\n",
    "%time assignment = fennel(edges,NUM_NODES,32,assignment,1.)\n",
    "%time wast,edge_cut = score(assignment, edges)\n",
    "print('wast='+str(1+wast)+' edge cut = '+str(edge_cut))"
   ]
  },
  {
   "cell_type": "code",
   "execution_count": 36,
   "metadata": {},
   "outputs": [
    {
     "name": "stdout",
     "output_type": "stream",
     "text": [
      "CPU times: user 146 ms, sys: 0 ns, total: 146 ms\n",
      "Wall time: 146 ms\n",
      "CPU times: user 54.4 ms, sys: 34.7 ms, total: 89.1 ms\n",
      "Wall time: 87.3 ms\n",
      "wast=1.0002047601868194 edge cut = 0.5195083947648577\n"
     ]
    }
   ],
   "source": [
    "assignment = None\n",
    "%time assignment = fennel(edges,NUM_NODES,40,assignment,1.)\n",
    "%time wast,edge_cut = score(assignment, edges)\n",
    "print('wast='+str(1+wast)+' edge cut = '+str(edge_cut))"
   ]
  },
  {
   "cell_type": "code",
   "execution_count": 27,
   "metadata": {
    "collapsed": true
   },
   "outputs": [],
   "source": [
    "def run_fennel_restreaming(edges, num_nodes, num_partitions, num_iterations):\n",
    "    print('{} PARTITIONS'.format(num_partitions))\n",
    "    assignments = None\n",
    "    # We will explore this parameter in a future post. This is sub-optimal\n",
    "    alphas = np.linspace(1.251608191745264e-07, 7.588951557309824e-02, num_iterations)\n",
    "    waste_scores, edge_score_values = [], []\n",
    "    print('ROUND\\tALPHA\\tWASTE\\tSCORE')\n",
    "    for i in range(num_iterations):\n",
    "        alpha = alphas[i]\n",
    "        assignments = fennel(edges, NUM_NODES, num_partitions, assignments, 1.)\n",
    "        (waste, edge_score) = score(assignments, edges)\n",
    "        print('{}\\t{:.1e}\\t{:0.3f}\\t{:0.3f}'.format(i, alpha, waste, edge_score))\n",
    "        waste_scores.append(waste)\n",
    "        edge_score_values.append(edge_score)\n",
    "    draw_figures(waste_scores, edge_score_values, num_partitions)"
   ]
  },
  {
   "cell_type": "markdown",
   "metadata": {},
   "source": [
    "# K = 2"
   ]
  },
  {
   "cell_type": "code",
   "execution_count": 26,
   "metadata": {},
   "outputs": [
    {
     "name": "stdout",
     "output_type": "stream",
     "text": [
      "2 PARTITIONS\n",
      "ROUND\tALPHA\tWASTE\tSCORE\n",
      "0\t1.3e-07\t0.000\t0.241\n",
      "1\t4.1e-06\t0.000\t0.165\n",
      "2\t8.1e-06\t0.000\t0.145\n",
      "3\t1.2e-05\t0.000\t0.136\n",
      "4\t1.6e-05\t0.000\t0.130\n",
      "5\t2.0e-05\t0.000\t0.126\n",
      "6\t2.4e-05\t0.000\t0.124\n",
      "7\t2.8e-05\t0.000\t0.122\n",
      "8\t3.2e-05\t0.000\t0.121\n",
      "9\t3.6e-05\t0.000\t0.120\n",
      "10\t4.0e-05\t0.000\t0.119\n",
      "11\t4.4e-05\t0.000\t0.118\n",
      "12\t4.8e-05\t0.000\t0.118\n",
      "13\t5.2e-05\t0.000\t0.117\n",
      "14\t5.6e-05\t0.000\t0.117\n",
      "15\t6.0e-05\t0.000\t0.116\n",
      "16\t6.4e-05\t0.000\t0.116\n",
      "17\t6.8e-05\t0.000\t0.116\n",
      "18\t7.2e-05\t0.000\t0.115\n",
      "19\t7.6e-05\t0.000\t0.115\n",
      "CPU times: user 3.01 s, sys: 722 ms, total: 3.73 s\n",
      "Wall time: 3.61 s\n"
     ]
    },
    {
     "data": {
      "image/png": "[encoded data removed]",
      "text/plain": [
       "<matplotlib.figure.Figure at 0x7f957e26e898>"
      ]
     },
     "metadata": {},
     "output_type": "display_data"
    }
   ],
   "source": [
    "%time run_fennel_restreaming(edges, NUM_NODES, 2, 20)\n"
   ]
  },
  {
   "cell_type": "code",
   "execution_count": 28,
   "metadata": {},
   "outputs": [
    {
     "name": "stdout",
     "output_type": "stream",
     "text": [
      "2 PARTITIONS\n",
      "ROUND\tALPHA\tWASTE\tSCORE\n",
      "0\t1.3e-07\t0.000\t0.241\n",
      "1\t4.0e-03\t0.000\t0.165\n",
      "2\t8.0e-03\t0.000\t0.145\n",
      "3\t1.2e-02\t0.000\t0.136\n",
      "4\t1.6e-02\t0.000\t0.130\n",
      "5\t2.0e-02\t0.000\t0.126\n",
      "6\t2.4e-02\t0.000\t0.124\n",
      "7\t2.8e-02\t0.000\t0.122\n",
      "8\t3.2e-02\t0.000\t0.121\n",
      "9\t3.6e-02\t0.000\t0.120\n",
      "10\t4.0e-02\t0.000\t0.119\n",
      "11\t4.4e-02\t0.000\t0.118\n",
      "12\t4.8e-02\t0.000\t0.118\n",
      "13\t5.2e-02\t0.000\t0.117\n",
      "14\t5.6e-02\t0.000\t0.117\n",
      "15\t6.0e-02\t0.000\t0.116\n",
      "16\t6.4e-02\t0.000\t0.116\n",
      "17\t6.8e-02\t0.000\t0.116\n",
      "18\t7.2e-02\t0.000\t0.115\n",
      "19\t7.6e-02\t0.000\t0.115\n",
      "CPU times: user 3.61 s, sys: 848 ms, total: 4.46 s\n",
      "Wall time: 4.34 s\n"
     ]
    },
    {
     "data": {
      "image/png": "[encoded data removed]",
      "text/plain": [
       "<matplotlib.figure.Figure at 0x7f957e25dfd0>"
      ]
     },
     "metadata": {},
     "output_type": "display_data"
    }
   ],
   "source": [
    "%time run_fennel_restreaming(edges, NUM_NODES, 2, 20)\n"
   ]
  },
  {
   "cell_type": "markdown",
   "metadata": {},
   "source": [
    "# K=4"
   ]
  },
  {
   "cell_type": "code",
   "execution_count": 41,
   "metadata": {},
   "outputs": [
    {
     "name": "stdout",
     "output_type": "stream",
     "text": [
      "4 PARTITIONS\n",
      "ROUND\tALPHA\tWASTE\tSCORE\n",
      "0\t1.3e-07\t0.000\t0.376\n",
      "1\t2.7e-06\t0.000\t0.262\n",
      "2\t5.4e-06\t0.000\t0.231\n",
      "3\t8.0e-06\t0.000\t0.217\n",
      "4\t1.1e-05\t0.000\t0.209\n",
      "5\t1.3e-05\t0.000\t0.204\n",
      "6\t1.6e-05\t0.000\t0.200\n",
      "7\t1.8e-05\t0.000\t0.197\n",
      "8\t2.1e-05\t0.000\t0.195\n",
      "9\t2.4e-05\t0.000\t0.194\n",
      "10\t2.6e-05\t0.000\t0.192\n",
      "11\t2.9e-05\t0.000\t0.191\n",
      "12\t3.1e-05\t0.000\t0.190\n",
      "13\t3.4e-05\t0.000\t0.190\n",
      "14\t3.7e-05\t0.000\t0.189\n",
      "15\t3.9e-05\t0.000\t0.188\n",
      "16\t4.2e-05\t0.000\t0.188\n",
      "17\t4.5e-05\t0.000\t0.187\n",
      "18\t4.7e-05\t0.000\t0.187\n",
      "19\t5.0e-05\t0.000\t0.187\n",
      "20\t5.2e-05\t0.000\t0.186\n",
      "21\t5.5e-05\t0.000\t0.186\n",
      "22\t5.8e-05\t0.000\t0.186\n",
      "23\t6.0e-05\t0.000\t0.186\n",
      "24\t6.3e-05\t0.000\t0.186\n",
      "25\t6.5e-05\t0.000\t0.185\n",
      "26\t6.8e-05\t0.000\t0.185\n",
      "27\t7.1e-05\t0.000\t0.185\n",
      "28\t7.3e-05\t0.000\t0.185\n",
      "29\t7.6e-05\t0.000\t0.185\n",
      "CPU times: user 4.77 s, sys: 1.1 s, total: 5.86 s\n",
      "Wall time: 5.71 s\n"
     ]
    },
    {
     "data": {
      "image/png": "[encoded data removed]",
      "text/plain": [
       "<matplotlib.figure.Figure at 0x7fdad97aabe0>"
      ]
     },
     "metadata": {},
     "output_type": "display_data"
    }
   ],
   "source": [
    "%time run_fennel_restreaming(edges, NUM_NODES, 4, 20)\n"
   ]
  },
  {
   "cell_type": "code",
   "execution_count": 37,
   "metadata": {},
   "outputs": [
    {
     "name": "stdout",
     "output_type": "stream",
     "text": [
      "8 PARTITIONS\n",
      "ROUND\tALPHA\tWASTE\tSCORE\n",
      "0\t1.3e-07\t0.000\t0.450\n",
      "1\t4.0e-03\t0.000\t0.316\n",
      "2\t8.0e-03\t0.000\t0.280\n",
      "3\t1.2e-02\t0.000\t0.264\n",
      "4\t1.6e-02\t0.000\t0.255\n",
      "5\t2.0e-02\t0.000\t0.248\n",
      "6\t2.4e-02\t0.000\t0.243\n",
      "7\t2.8e-02\t0.000\t0.240\n",
      "8\t3.2e-02\t0.000\t0.237\n",
      "9\t3.6e-02\t0.000\t0.235\n",
      "10\t4.0e-02\t0.000\t0.233\n",
      "11\t4.4e-02\t0.000\t0.232\n",
      "12\t4.8e-02\t0.000\t0.230\n",
      "13\t5.2e-02\t0.000\t0.229\n",
      "14\t5.6e-02\t0.000\t0.228\n",
      "15\t6.0e-02\t0.000\t0.228\n",
      "16\t6.4e-02\t0.000\t0.227\n",
      "17\t6.8e-02\t0.000\t0.226\n",
      "18\t7.2e-02\t0.000\t0.226\n",
      "19\t7.6e-02\t0.000\t0.225\n",
      "CPU times: user 3.15 s, sys: 789 ms, total: 3.94 s\n",
      "Wall time: 3.82 s\n"
     ]
    },
    {
     "data": {
      "image/png": "[encoded data removed]",
      "text/plain": [
       "<matplotlib.figure.Figure at 0x7f957e2ed518>"
      ]
     },
     "metadata": {},
     "output_type": "display_data"
    }
   ],
   "source": [
    "%time run_fennel_restreaming(edges, NUM_NODES, 8, 20)\n"
   ]
  },
  {
   "cell_type": "code",
   "execution_count": 38,
   "metadata": {},
   "outputs": [
    {
     "name": "stdout",
     "output_type": "stream",
     "text": [
      "16 PARTITIONS\n",
      "ROUND\tALPHA\tWASTE\tSCORE\n",
      "0\t1.3e-07\t0.000\t0.491\n",
      "1\t4.0e-03\t0.000\t0.349\n",
      "2\t8.0e-03\t0.000\t0.313\n",
      "3\t1.2e-02\t0.000\t0.297\n",
      "4\t1.6e-02\t0.000\t0.288\n",
      "5\t2.0e-02\t0.000\t0.281\n",
      "6\t2.4e-02\t0.000\t0.277\n",
      "7\t2.8e-02\t0.000\t0.274\n",
      "8\t3.2e-02\t0.000\t0.271\n",
      "9\t3.6e-02\t0.000\t0.269\n",
      "10\t4.0e-02\t0.000\t0.267\n",
      "11\t4.4e-02\t0.000\t0.266\n",
      "12\t4.8e-02\t0.000\t0.264\n",
      "13\t5.2e-02\t0.000\t0.263\n",
      "14\t5.6e-02\t0.000\t0.262\n",
      "15\t6.0e-02\t0.000\t0.262\n",
      "16\t6.4e-02\t0.000\t0.261\n",
      "17\t6.8e-02\t0.000\t0.260\n",
      "18\t7.2e-02\t0.000\t0.260\n",
      "19\t7.6e-02\t0.000\t0.259\n",
      "CPU times: user 4.61 s, sys: 847 ms, total: 5.46 s\n",
      "Wall time: 5.31 s\n"
     ]
    },
    {
     "data": {
      "image/png": "[encoded data removed]",
      "text/plain": [
       "<matplotlib.figure.Figure at 0x7f957a109e80>"
      ]
     },
     "metadata": {},
     "output_type": "display_data"
    }
   ],
   "source": [
    "%time run_fennel_restreaming(edges, NUM_NODES, 16, 20)\n"
   ]
  },
  {
   "cell_type": "code",
   "execution_count": 39,
   "metadata": {},
   "outputs": [
    {
     "name": "stdout",
     "output_type": "stream",
     "text": [
      "32 PARTITIONS\n",
      "ROUND\tALPHA\tWASTE\tSCORE\n",
      "0\t1.3e-07\t0.000\t0.514\n",
      "1\t4.0e-03\t0.000\t0.366\n",
      "2\t8.0e-03\t0.000\t0.329\n",
      "3\t1.2e-02\t0.000\t0.313\n",
      "4\t1.6e-02\t0.000\t0.303\n",
      "5\t2.0e-02\t0.000\t0.296\n",
      "6\t2.4e-02\t0.000\t0.292\n",
      "7\t2.8e-02\t0.000\t0.288\n",
      "8\t3.2e-02\t0.000\t0.286\n",
      "9\t3.6e-02\t0.000\t0.284\n",
      "10\t4.0e-02\t0.000\t0.282\n",
      "11\t4.4e-02\t0.000\t0.281\n",
      "12\t4.8e-02\t0.000\t0.279\n",
      "13\t5.2e-02\t0.000\t0.278\n",
      "14\t5.6e-02\t0.000\t0.277\n",
      "15\t6.0e-02\t0.000\t0.276\n",
      "16\t6.4e-02\t0.000\t0.276\n",
      "17\t6.8e-02\t0.000\t0.275\n",
      "18\t7.2e-02\t0.000\t0.275\n",
      "19\t7.6e-02\t0.000\t0.274\n",
      "CPU times: user 4.25 s, sys: 754 ms, total: 5 s\n",
      "Wall time: 4.87 s\n"
     ]
    },
    {
     "data": {
      "image/png": "[encoded data removed]",
      "text/plain": [
       "<matplotlib.figure.Figure at 0x7f957e22a550>"
      ]
     },
     "metadata": {},
     "output_type": "display_data"
    }
   ],
   "source": [
    "%time run_fennel_restreaming(edges, NUM_NODES, 32, 20)\n"
   ]
  },
  {
   "cell_type": "code",
   "execution_count": 40,
   "metadata": {},
   "outputs": [
    {
     "name": "stdout",
     "output_type": "stream",
     "text": [
      "40 PARTITIONS\n",
      "ROUND\tALPHA\tWASTE\tSCORE\n",
      "0\t1.3e-07\t0.000\t0.520\n",
      "1\t4.0e-03\t0.000\t0.372\n",
      "2\t8.0e-03\t0.000\t0.336\n",
      "3\t1.2e-02\t0.000\t0.320\n",
      "4\t1.6e-02\t0.000\t0.310\n",
      "5\t2.0e-02\t0.000\t0.304\n",
      "6\t2.4e-02\t0.000\t0.299\n",
      "7\t2.8e-02\t0.000\t0.296\n",
      "8\t3.2e-02\t0.000\t0.294\n",
      "9\t3.6e-02\t0.000\t0.292\n",
      "10\t4.0e-02\t0.000\t0.290\n",
      "11\t4.4e-02\t0.000\t0.289\n",
      "12\t4.8e-02\t0.000\t0.288\n",
      "13\t5.2e-02\t0.000\t0.286\n",
      "14\t5.6e-02\t0.000\t0.286\n",
      "15\t6.0e-02\t0.000\t0.285\n",
      "16\t6.4e-02\t0.000\t0.284\n",
      "17\t6.8e-02\t0.000\t0.284\n",
      "18\t7.2e-02\t0.000\t0.283\n",
      "19\t7.6e-02\t0.000\t0.283\n",
      "CPU times: user 4.07 s, sys: 732 ms, total: 4.8 s\n",
      "Wall time: 4.71 s\n"
     ]
    },
    {
     "data": {
      "image/png": "[encoded data removed]",
      "text/plain": [
       "<matplotlib.figure.Figure at 0x7f957e5fd748>"
      ]
     },
     "metadata": {},
     "output_type": "display_data"
    }
   ],
   "source": [
    "%time run_fennel_restreaming(edges, NUM_NODES, 40, 20)\n"
   ]
  },
  {
   "cell_type": "code",
   "execution_count": null,
   "metadata": {
    "collapsed": true
   },
   "outputs": [],
   "source": []
  },
  {
   "cell_type": "code",
   "execution_count": null,
   "metadata": {
    "collapsed": true
   },
   "outputs": [],
   "source": []
  }
 ],
 "metadata": {
  "kernelspec": {
   "display_name": "Python 3",
   "language": "python",
   "name": "python3"
  },
  "language_info": {
   "codemirror_mode": {
    "name": "ipython",
    "version": 3
   },
   "file_extension": ".py",
   "mimetype": "text/x-python",
   "name": "python",
   "nbconvert_exporter": "python",
   "pygments_lexer": "ipython3",
   "version": "3.6.1"
  }
 },
 "nbformat": 4,
 "nbformat_minor": 2
}
