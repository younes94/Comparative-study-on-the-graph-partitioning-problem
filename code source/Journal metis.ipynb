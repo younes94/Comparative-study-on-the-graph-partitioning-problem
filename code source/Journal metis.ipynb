{
 "cells": [
  {
   "cell_type": "code",
   "execution_count": 1,
   "metadata": {},
   "outputs": [],
   "source": [
    "\n",
    "import numpy as np\n",
    "import networkx as nx\n",
    "import matplotlib.pyplot as plt\n",
    "import pylab\n",
    "%matplotlib inline\n",
    "import csv\n"
   ]
  },
  {
   "cell_type": "code",
   "execution_count": 13,
   "metadata": {},
   "outputs": [
    {
     "name": "stdout",
     "output_type": "stream",
     "text": [
      "2061852\n"
     ]
    }
   ],
   "source": [
    "limit = 8000000\n",
    "start = 40000000\n",
    "with open('soc-LiveJournal1.txt', 'r') as file:\n",
    "    reader = csv.reader(file, delimiter='\\t')\n",
    "    G = nx.Graph()\n",
    "    for number, row in enumerate(reader):\n",
    "        if number > start:\n",
    "            G.add_edge(int(row[0]), int(row[1]))\n",
    "            if number > start + limit:\n",
    "                print(G.number_of_nodes())\n",
    "                # nx.write_gpickle(G, 'data/stable/LIVEJ/graph.gpickle')\n",
    "                break"
   ]
  },
  {
   "cell_type": "code",
   "execution_count": 14,
   "metadata": {},
   "outputs": [
    {
     "data": {
      "text/plain": [
       "'Name: \\nType: Graph\\nNumber of nodes: 2061852\\nNumber of edges: 7230424\\nAverage degree:   7.0135'"
      ]
     },
     "execution_count": 14,
     "metadata": {},
     "output_type": "execute_result"
    }
   ],
   "source": [
    "nx.info(G)"
   ]
  },
  {
   "cell_type": "code",
   "execution_count": 15,
   "metadata": {},
   "outputs": [],
   "source": [
    "import metis"
   ]
  },
  {
   "cell_type": "code",
   "execution_count": 16,
   "metadata": {},
   "outputs": [
    {
     "name": "stdout",
     "output_type": "stream",
     "text": [
      "CPU times: user 1min 24s, sys: 40.5 s, total: 2min 5s\n",
      "Wall time: 40min 49s\n"
     ]
    }
   ],
   "source": [
    "%time cuts , parts = metis.part_graph(G,2, tpwgts=None, ubvec=None, recursive=True, ctype='shem', iptype='grow',rtype='greedy')"
   ]
  },
  {
   "cell_type": "code",
   "execution_count": 17,
   "metadata": {},
   "outputs": [
    {
     "name": "stdout",
     "output_type": "stream",
     "text": [
      "edge cut:0.04552499272518458\n"
     ]
    }
   ],
   "source": [
    "k = len(G.edges)\n",
    "print('edge cut:'+str(cuts/k))"
   ]
  },
  {
   "cell_type": "code",
   "execution_count": 18,
   "metadata": {},
   "outputs": [
    {
     "name": "stdout",
     "output_type": "stream",
     "text": [
      "CPU times: user 2min 6s, sys: 2min 5s, total: 4min 11s\n",
      "Wall time: 2h 3min 18s\n",
      "edge cut:0.0829634610639708\n"
     ]
    }
   ],
   "source": [
    "%time cuts , parts = metis.part_graph(G,4, tpwgts=None, ubvec=None, recursive=True, ctype='shem', iptype='grow',rtype='greedy')\n",
    "print('edge cut:'+str(cuts/k))"
   ]
  },
  {
   "cell_type": "code",
   "execution_count": 19,
   "metadata": {},
   "outputs": [
    {
     "name": "stdout",
     "output_type": "stream",
     "text": [
      "CPU times: user 2min 9s, sys: 1min 43s, total: 3min 52s\n",
      "Wall time: 1h 37min 59s\n",
      "edge cut:0.1114155960978222\n"
     ]
    }
   ],
   "source": [
    "%time cuts , parts = metis.part_graph(G,8, tpwgts=None, ubvec=None, recursive=True, ctype='shem', iptype='grow',rtype='greedy')\n",
    "print('edge cut:'+str(cuts/k))"
   ]
  },
  {
   "cell_type": "code",
   "execution_count": 20,
   "metadata": {},
   "outputs": [
    {
     "name": "stdout",
     "output_type": "stream",
     "text": [
      "CPU times: user 2min 48s, sys: 4min, total: 6min 48s\n",
      "Wall time: 4h 55min 1s\n",
      "edge cut:0.14860608451177967\n"
     ]
    }
   ],
   "source": [
    "%time cuts , parts = metis.part_graph(G,16, tpwgts=None, ubvec=None, recursive=True, ctype='shem', iptype='grow',rtype='greedy')\n",
    "print('edge cut:'+str(cuts/k))"
   ]
  },
  {
   "cell_type": "code",
   "execution_count": 21,
   "metadata": {},
   "outputs": [
    {
     "name": "stdout",
     "output_type": "stream",
     "text": [
      "CPU times: user 3min 26s, sys: 6min 52s, total: 10min 18s\n",
      "Wall time: 7h 11min 39s\n",
      "edge cut:0.1771528198069712\n"
     ]
    }
   ],
   "source": [
    "%time cuts , parts = metis.part_graph(G,32, tpwgts=None, ubvec=None, recursive=True, ctype='shem', iptype='grow',rtype='greedy')\n",
    "print('edge cut:'+str(cuts/k))"
   ]
  },
  {
   "cell_type": "code",
   "execution_count": null,
   "metadata": {},
   "outputs": [],
   "source": []
  }
 ],
 "metadata": {
  "kernelspec": {
   "display_name": "Python 3",
   "language": "python",
   "name": "python3"
  },
  "language_info": {
   "codemirror_mode": {
    "name": "ipython",
    "version": 3
   },
   "file_extension": ".py",
   "mimetype": "text/x-python",
   "name": "python",
   "nbconvert_exporter": "python",
   "pygments_lexer": "ipython3",
   "version": "3.6.4"
  }
 },
 "nbformat": 4,
 "nbformat_minor": 2
}
