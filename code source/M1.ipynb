{
 "cells": [
  {
   "cell_type": "code",
   "execution_count": 9,
   "metadata": {
    "collapsed": true
   },
   "outputs": [],
   "source": [
    "import networkx as nx\n",
    "import networkx as nx\n",
    "import networkit\n",
    "from scipy.sparse import csgraph\n",
    "import networkx as nx\n",
    "import metis"
   ]
  },
  {
   "cell_type": "code",
   "execution_count": 10,
   "metadata": {},
   "outputs": [
    {
     "name": "stdout",
     "output_type": "stream",
     "text": [
      "CPU times: user 416 ms, sys: 6.9 ms, total: 422 ms\n",
      "Wall time: 419 ms\n"
     ]
    }
   ],
   "source": [
    "%time facebook = nx.read_edgelist('facebook_combined.txt',create_using=nx.Graph())"
   ]
  },
  {
   "cell_type": "code",
   "execution_count": 11,
   "metadata": {},
   "outputs": [
    {
     "name": "stdout",
     "output_type": "stream",
     "text": [
      "Name: \n",
      "Type: Graph\n",
      "Number of nodes: 4039\n",
      "Number of edges: 88234\n",
      "Average degree:  43.6910\n"
     ]
    }
   ],
   "source": [
    "print(nx.info(facebook))"
   ]
  },
  {
   "cell_type": "code",
   "execution_count": 12,
   "metadata": {},
   "outputs": [
    {
     "name": "stdout",
     "output_type": "stream",
     "text": [
      "CPU times: user 360 ms, sys: 3.12 ms, total: 363 ms\n",
      "Wall time: 362 ms\n",
      "edge cut:0.01272752000362672\n"
     ]
    }
   ],
   "source": [
    "%time cuts , parts = metis.part_graph(facebook,2, ctype='rm', iptype='random')\n",
    "k = len(facebook.edges)\n",
    "print('edge cut:'+str(cuts/k))"
   ]
  },
  {
   "cell_type": "code",
   "execution_count": 13,
   "metadata": {},
   "outputs": [
    {
     "name": "stdout",
     "output_type": "stream",
     "text": [
      "CPU times: user 358 ms, sys: 3.39 ms, total: 361 ms\n",
      "Wall time: 361 ms\n",
      "edge cut:0.03441983815762631\n"
     ]
    }
   ],
   "source": [
    "%time cuts , parts = metis.part_graph(facebook,4,ctype='rm', iptype='random')\n",
    "print('edge cut:'+str(cuts/k))"
   ]
  },
  {
   "cell_type": "code",
   "execution_count": 14,
   "metadata": {},
   "outputs": [
    {
     "name": "stdout",
     "output_type": "stream",
     "text": [
      "CPU times: user 372 ms, sys: 3.63 ms, total: 375 ms\n",
      "Wall time: 375 ms\n",
      "edge cut:0.03947457896049142\n"
     ]
    }
   ],
   "source": [
    "%time cuts , parts = metis.part_graph(facebook,8, ctype='rm', iptype='random')\n",
    "k = len(facebook.edges)\n",
    "print('edge cut:'+str(cuts/k))"
   ]
  },
  {
   "cell_type": "code",
   "execution_count": 15,
   "metadata": {},
   "outputs": [
    {
     "name": "stdout",
     "output_type": "stream",
     "text": [
      "CPU times: user 568 ms, sys: 22.9 ms, total: 591 ms\n",
      "Wall time: 589 ms\n",
      "edge cut:0.12416982115737697\n"
     ]
    }
   ],
   "source": [
    "%time cuts , parts = metis.part_graph(facebook,16, ctype='rm', iptype='random')\n",
    "k = len(facebook.edges)\n",
    "print('edge cut:'+str(cuts/k))"
   ]
  },
  {
   "cell_type": "code",
   "execution_count": 16,
   "metadata": {},
   "outputs": [
    {
     "name": "stdout",
     "output_type": "stream",
     "text": [
      "CPU times: user 397 ms, sys: 3.42 ms, total: 400 ms\n",
      "Wall time: 399 ms\n",
      "edge cut:0.3622413128725888\n"
     ]
    }
   ],
   "source": [
    "%time cuts , parts = metis.part_graph(facebook,32,ctype='rm', iptype='random')\n",
    "k = len(facebook.edges)\n",
    "print('edge cut:'+str(cuts/k))"
   ]
  },
  {
   "cell_type": "code",
   "execution_count": 40,
   "metadata": {},
   "outputs": [
    {
     "name": "stdout",
     "output_type": "stream",
     "text": [
      "CPU times: user 1.84 s, sys: 48.3 ms, total: 1.88 s\n",
      "Wall time: 1.92 s\n",
      "Name: \n",
      "Type: Graph\n",
      "Number of nodes: 36692\n",
      "Number of edges: 183831\n",
      "Average degree:  10.0202\n"
     ]
    }
   ],
   "source": [
    "%time email = nx.read_edgelist('Email-Enron.txt',create_using=nx.Graph())\n",
    "print(nx.info(email))"
   ]
  },
  {
   "cell_type": "code",
   "execution_count": 85,
   "metadata": {},
   "outputs": [
    {
     "name": "stdout",
     "output_type": "stream",
     "text": [
      "CPU times: user 1.42 s, sys: 312 ms, total: 1.73 s\n",
      "Wall time: 14.5 s\n",
      "edge cut:0.0944454417372478\n"
     ]
    }
   ],
   "source": [
    "%time cuts , parts = metis.part_graph(email,2,ctype='rm', iptype='random')\n",
    "k = len(email.edges)\n",
    "print('edge cut:'+str(cuts/k))"
   ]
  },
  {
   "cell_type": "code",
   "execution_count": 86,
   "metadata": {},
   "outputs": [
    {
     "name": "stdout",
     "output_type": "stream",
     "text": [
      "CPU times: user 1.06 s, sys: 11.3 ms, total: 1.07 s\n",
      "Wall time: 1.26 s\n",
      "edge cut:0.2471237168921455\n"
     ]
    }
   ],
   "source": [
    "%time cuts , parts = metis.part_graph(email,4,ctype='rm', iptype='random')\n",
    "k = len(email.edges)\n",
    "print('edge cut:'+str(cuts/k))"
   ]
  },
  {
   "cell_type": "code",
   "execution_count": 87,
   "metadata": {},
   "outputs": [
    {
     "name": "stdout",
     "output_type": "stream",
     "text": [
      "CPU times: user 1.07 s, sys: 38.6 ms, total: 1.11 s\n",
      "Wall time: 1.97 s\n",
      "edge cut:0.2842012500611975\n"
     ]
    }
   ],
   "source": [
    "%time cuts , parts = metis.part_graph(email,8,ctype='rm', iptype='random')\n",
    "k = len(email.edges)\n",
    "print('edge cut:'+str(cuts/k))"
   ]
  },
  {
   "cell_type": "code",
   "execution_count": 49,
   "metadata": {},
   "outputs": [
    {
     "name": "stdout",
     "output_type": "stream",
     "text": [
      "CPU times: user 1.33 s, sys: 20.1 ms, total: 1.35 s\n",
      "Wall time: 1.35 s\n",
      "edge cut:0.3614406710511285\n"
     ]
    }
   ],
   "source": [
    "%time cuts , parts = metis.part_graph(email,16,ctype='rm', iptype='random')\n",
    "k = len(email.edges)\n",
    "print('edge cut:'+str(cuts/k))"
   ]
  },
  {
   "cell_type": "code",
   "execution_count": 46,
   "metadata": {},
   "outputs": [
    {
     "name": "stdout",
     "output_type": "stream",
     "text": [
      "CPU times: user 1.33 s, sys: 39.9 ms, total: 1.37 s\n",
      "Wall time: 1.36 s\n",
      "edge cut:0.43561205672601466\n"
     ]
    }
   ],
   "source": [
    "%time cuts , parts = metis.part_graph(email,32,ctype='rm', iptype='random')\n",
    "k = len(email.edges)\n",
    "print('edge cut:'+str(cuts/k))"
   ]
  },
  {
   "cell_type": "code",
   "execution_count": 50,
   "metadata": {},
   "outputs": [
    {
     "name": "stdout",
     "output_type": "stream",
     "text": [
      "CPU times: user 27.3 s, sys: 740 ms, total: 28 s\n",
      "Wall time: 28.2 s\n",
      "Name: \n",
      "Type: Graph\n",
      "Number of nodes: 875713\n",
      "Number of edges: 4322051\n",
      "Average degree:   9.8709\n"
     ]
    }
   ],
   "source": [
    "%time google = nx.read_edgelist('web-Google.txt',create_using=nx.Graph())\n",
    "print(nx.info(google))"
   ]
  },
  {
   "cell_type": "code",
   "execution_count": 88,
   "metadata": {},
   "outputs": [
    {
     "name": "stdout",
     "output_type": "stream",
     "text": [
      "CPU times: user 34.3 s, sys: 4.39 s, total: 38.7 s\n",
      "Wall time: 3min 13s\n",
      "edge cut:0.006329633778037325\n"
     ]
    }
   ],
   "source": [
    "%time cuts , parts = metis.part_graph(google,2,ctype='rm', iptype='random')\n",
    "k = len(google.edges)\n",
    "print('edge cut:'+str(cuts/k))"
   ]
  },
  {
   "cell_type": "code",
   "execution_count": 89,
   "metadata": {},
   "outputs": [
    {
     "name": "stdout",
     "output_type": "stream",
     "text": [
      "CPU times: user 25.3 s, sys: 535 ms, total: 25.9 s\n",
      "Wall time: 25.9 s\n",
      "edge cut:0.01000612903457178\n"
     ]
    }
   ],
   "source": [
    "%time cuts , parts = metis.part_graph(google,4,ctype='rm', iptype='random')\n",
    "print('edge cut:'+str(cuts/k))"
   ]
  },
  {
   "cell_type": "code",
   "execution_count": 90,
   "metadata": {},
   "outputs": [
    {
     "name": "stdout",
     "output_type": "stream",
     "text": [
      "CPU times: user 34.1 s, sys: 3.32 s, total: 37.4 s\n",
      "Wall time: 4min 10s\n",
      "edge cut:0.011927207707636953\n"
     ]
    }
   ],
   "source": [
    "%time cuts , parts = metis.part_graph(google,8,ctype='rm', iptype='random')\n",
    "print('edge cut:'+str(cuts/k))"
   ]
  },
  {
   "cell_type": "code",
   "execution_count": 60,
   "metadata": {},
   "outputs": [
    {
     "name": "stdout",
     "output_type": "stream",
     "text": [
      "CPU times: user 34.2 s, sys: 636 ms, total: 34.9 s\n",
      "Wall time: 34.9 s\n",
      "edge cut:0.013335104097568492\n"
     ]
    }
   ],
   "source": [
    "%time cuts , parts = metis.part_graph(google,16,ctype='rm', iptype='random')\n",
    "k = len(google.edges)\n",
    "print('edge cut:'+str(cuts/k))"
   ]
  },
  {
   "cell_type": "code",
   "execution_count": 63,
   "metadata": {},
   "outputs": [
    {
     "name": "stdout",
     "output_type": "stream",
     "text": [
      "CPU times: user 32.6 s, sys: 624 ms, total: 33.2 s\n",
      "Wall time: 33.2 s\n",
      "edge cut:0.015708745685786677\n"
     ]
    }
   ],
   "source": [
    "%time cuts , parts = metis.part_graph(google,32,ctype='rm', iptype='random')\n",
    "print('edge cut:'+str(cuts/k))"
   ]
  },
  {
   "cell_type": "code",
   "execution_count": 55,
   "metadata": {},
   "outputs": [
    {
     "name": "stdout",
     "output_type": "stream",
     "text": [
      "CPU times: user 10.9 s, sys: 296 ms, total: 11.2 s\n",
      "Wall time: 11.2 s\n",
      "Name: \n",
      "Type: Graph\n",
      "Number of nodes: 325729\n",
      "Number of edges: 1117563\n",
      "Average degree:   6.8619\n"
     ]
    }
   ],
   "source": [
    "%time web_nd = nx.read_edgelist('web-NotreDame.txt',create_using=nx.Graph())\n",
    "print(nx.info(web_nd))"
   ]
  },
  {
   "cell_type": "code",
   "execution_count": 91,
   "metadata": {},
   "outputs": [
    {
     "name": "stdout",
     "output_type": "stream",
     "text": [
      "CPU times: user 7.8 s, sys: 943 ms, total: 8.74 s\n",
      "Wall time: 35.1 s\n",
      "edge cut:0.002971644551582327\n"
     ]
    }
   ],
   "source": [
    "%time cuts , parts = metis.part_graph(web_nd,2,ctype='rm', iptype='random')\n",
    "k= len(web_nd.edges)\n",
    "print('edge cut:'+str(cuts/k))"
   ]
  },
  {
   "cell_type": "code",
   "execution_count": 92,
   "metadata": {},
   "outputs": [
    {
     "name": "stdout",
     "output_type": "stream",
     "text": [
      "CPU times: user 6.7 s, sys: 101 ms, total: 6.8 s\n",
      "Wall time: 6.8 s\n",
      "edge cut:0.014699842424990806\n"
     ]
    }
   ],
   "source": [
    "%time cuts , parts = metis.part_graph(web_nd,4,ctype='rm', iptype='random')\n",
    "print('edge cut:'+str(cuts/k))"
   ]
  },
  {
   "cell_type": "code",
   "execution_count": 93,
   "metadata": {},
   "outputs": [
    {
     "name": "stdout",
     "output_type": "stream",
     "text": [
      "CPU times: user 12.5 s, sys: 324 ms, total: 12.8 s\n",
      "Wall time: 12.8 s\n",
      "edge cut:0.022864035405610245\n"
     ]
    }
   ],
   "source": [
    "%time cuts , parts = metis.part_graph(web_nd,8,ctype='rm', iptype='random')\n",
    "print('edge cut:'+str(cuts/k))"
   ]
  },
  {
   "cell_type": "code",
   "execution_count": 65,
   "metadata": {},
   "outputs": [
    {
     "name": "stdout",
     "output_type": "stream",
     "text": [
      "CPU times: user 9.43 s, sys: 184 ms, total: 9.62 s\n",
      "Wall time: 9.62 s\n",
      "edge cut:0.028930807480204695\n"
     ]
    }
   ],
   "source": [
    "%time cuts , parts = metis.part_graph(web_nd,16,ctype='rm', iptype='random')\n",
    "k= len(web_nd.edges)\n",
    "print('edge cut:'+str(cuts/k))"
   ]
  },
  {
   "cell_type": "code",
   "execution_count": 70,
   "metadata": {},
   "outputs": [
    {
     "name": "stdout",
     "output_type": "stream",
     "text": [
      "CPU times: user 8.96 s, sys: 144 ms, total: 9.1 s\n",
      "Wall time: 9.13 s\n",
      "edge cut:0.036604647791668124\n"
     ]
    }
   ],
   "source": [
    "%time cuts , parts = metis.part_graph(web_nd,32,ctype='rm', iptype='random')\n",
    "print('edge cut:'+str(cuts/k))"
   ]
  },
  {
   "cell_type": "code",
   "execution_count": 71,
   "metadata": {},
   "outputs": [
    {
     "name": "stdout",
     "output_type": "stream",
     "text": [
      "CPU times: user 6.61 s, sys: 176 ms, total: 6.79 s\n",
      "Wall time: 6.86 s\n",
      "Name: \n",
      "Type: Graph\n",
      "Number of nodes: 262111\n",
      "Number of edges: 899792\n",
      "Average degree:   6.8657\n"
     ]
    }
   ],
   "source": [
    "%time amazon = nx.read_edgelist('Amazon0302.txt',create_using=nx.Graph())\n",
    "print(nx.info(amazon))"
   ]
  },
  {
   "cell_type": "code",
   "execution_count": 94,
   "metadata": {},
   "outputs": [
    {
     "name": "stdout",
     "output_type": "stream",
     "text": [
      "CPU times: user 6.77 s, sys: 606 ms, total: 7.38 s\n",
      "Wall time: 13.8 s\n",
      "edge cut:0.017009486636911642\n"
     ]
    }
   ],
   "source": [
    "%time cuts , parts = metis.part_graph(amazon,2,ctype='rm', iptype='random')\n",
    "k= len(amazon.edges)\n",
    "print('edge cut:'+str(cuts/k))"
   ]
  },
  {
   "cell_type": "code",
   "execution_count": 95,
   "metadata": {},
   "outputs": [
    {
     "name": "stdout",
     "output_type": "stream",
     "text": [
      "CPU times: user 6.38 s, sys: 69.4 ms, total: 6.45 s\n",
      "Wall time: 6.45 s\n",
      "edge cut:0.033586651137151695\n"
     ]
    }
   ],
   "source": [
    "%time cuts , parts = metis.part_graph(amazon,4,ctype='rm', iptype='random')\n",
    "print('edge cut:'+str(cuts/k))"
   ]
  },
  {
   "cell_type": "code",
   "execution_count": 96,
   "metadata": {},
   "outputs": [
    {
     "name": "stdout",
     "output_type": "stream",
     "text": [
      "CPU times: user 6.45 s, sys: 101 ms, total: 6.55 s\n",
      "Wall time: 6.56 s\n",
      "edge cut:0.05250546793036613\n"
     ]
    }
   ],
   "source": [
    "%time cuts , parts = metis.part_graph(amazon,8,ctype='rm', iptype='random')\n",
    "print('edge cut:'+str(cuts/k))"
   ]
  },
  {
   "cell_type": "code",
   "execution_count": 72,
   "metadata": {},
   "outputs": [
    {
     "name": "stdout",
     "output_type": "stream",
     "text": [
      "CPU times: user 8.57 s, sys: 140 ms, total: 8.71 s\n",
      "Wall time: 8.7 s\n",
      "edge cut:0.06984836495545638\n"
     ]
    }
   ],
   "source": [
    "%time cuts , parts = metis.part_graph(amazon,16,ctype='rm', iptype='random')\n",
    "k= len(amazon.edges)\n",
    "print('edge cut:'+str(cuts/k))"
   ]
  },
  {
   "cell_type": "code",
   "execution_count": 74,
   "metadata": {},
   "outputs": [
    {
     "name": "stdout",
     "output_type": "stream",
     "text": [
      "CPU times: user 9.84 s, sys: 136 ms, total: 9.98 s\n",
      "Wall time: 9.97 s\n",
      "edge cut:0.09094879705531946\n"
     ]
    }
   ],
   "source": [
    "%time cuts , parts = metis.part_graph(amazon,32,ctype='rm', iptype='random')\n",
    "print('edge cut:'+str(cuts/k))"
   ]
  },
  {
   "cell_type": "code",
   "execution_count": 2,
   "metadata": {},
   "outputs": [
    {
     "name": "stdout",
     "output_type": "stream",
     "text": [
      "CPU times: user 31.2 s, sys: 973 ms, total: 32.2 s\n",
      "Wall time: 32.3 s\n",
      "Name: \n",
      "Type: Graph\n",
      "Number of nodes: 2394385\n",
      "Number of edges: 4659565\n",
      "Average degree:   3.8921\n"
     ]
    }
   ],
   "source": [
    "%time wiki_talk = nx.read_edgelist('WikiTalk.txt',create_using=nx.Graph())\n",
    "print(nx.info(wiki_talk))"
   ]
  },
  {
   "cell_type": "code",
   "execution_count": 3,
   "metadata": {},
   "outputs": [
    {
     "name": "stdout",
     "output_type": "stream",
     "text": [
      "CPU times: user 51.5 s, sys: 1.1 s, total: 52.7 s\n",
      "Wall time: 52.7 s\n",
      "edge cut:0.1277784514219675\n"
     ]
    }
   ],
   "source": [
    "%time cuts , parts = metis.part_graph(wiki_talk,2,ctype='rm', iptype='random')\n",
    "k= len(wiki_talk.edges)\n",
    "print('edge cut:'+str(cuts/k))"
   ]
  },
  {
   "cell_type": "code",
   "execution_count": 4,
   "metadata": {},
   "outputs": [
    {
     "name": "stdout",
     "output_type": "stream",
     "text": [
      "CPU times: user 1min 1s, sys: 1.34 s, total: 1min 2s\n",
      "Wall time: 1min 2s\n",
      "edge cut:0.26457469742347195\n"
     ]
    }
   ],
   "source": [
    "%time cuts , parts = metis.part_graph(wiki_talk,4,ctype='rm', iptype='random')\n",
    "print('edge cut:'+str(cuts/k))"
   ]
  },
  {
   "cell_type": "code",
   "execution_count": 5,
   "metadata": {},
   "outputs": [
    {
     "name": "stdout",
     "output_type": "stream",
     "text": [
      "CPU times: user 1min 3s, sys: 1.09 s, total: 1min 4s\n",
      "Wall time: 1min 4s\n",
      "edge cut:0.3330759416383289\n"
     ]
    }
   ],
   "source": [
    "%time cuts , parts = metis.part_graph(wiki_talk,8,ctype='rm', iptype='random')\n",
    "print('edge cut:'+str(cuts/k))"
   ]
  },
  {
   "cell_type": "code",
   "execution_count": 76,
   "metadata": {},
   "outputs": [
    {
     "name": "stdout",
     "output_type": "stream",
     "text": [
      "CPU times: user 1min 9s, sys: 1.42 s, total: 1min 11s\n",
      "Wall time: 1min 11s\n",
      "edge cut:0.3945898383218176\n"
     ]
    }
   ],
   "source": [
    "%time cuts , parts = metis.part_graph(wiki_talk,16,ctype='rm', iptype='random')\n",
    "k= len(wiki_talk.edges)\n",
    "print('edge cut:'+str(cuts/k))"
   ]
  },
  {
   "cell_type": "code",
   "execution_count": 77,
   "metadata": {},
   "outputs": [
    {
     "name": "stdout",
     "output_type": "stream",
     "text": [
      "CPU times: user 1min 17s, sys: 5.44 s, total: 1min 22s\n",
      "Wall time: 7min 11s\n",
      "edge cut:0.42762017484464754\n"
     ]
    }
   ],
   "source": [
    "%time cuts , parts = metis.part_graph(wiki_talk,32,ctype='rm', iptype='random')\n",
    "print('edge cut:'+str(cuts/k))"
   ]
  },
  {
   "cell_type": "code",
   "execution_count": 6,
   "metadata": {},
   "outputs": [
    {
     "name": "stdout",
     "output_type": "stream",
     "text": [
      "CPU times: user 17.4 s, sys: 404 ms, total: 17.8 s\n",
      "Wall time: 17.8 s\n",
      "Name: \n",
      "Type: Graph\n",
      "Number of nodes: 410236\n",
      "Number of edges: 2439437\n",
      "Average degree:  11.8928\n"
     ]
    }
   ],
   "source": [
    "%time amazon2 = nx.read_edgelist('Amazon0505.txt',create_using=nx.Graph())\n",
    "print(nx.info(amazon2))"
   ]
  },
  {
   "cell_type": "code",
   "execution_count": 7,
   "metadata": {},
   "outputs": [
    {
     "name": "stdout",
     "output_type": "stream",
     "text": [
      "CPU times: user 17.1 s, sys: 384 ms, total: 17.5 s\n",
      "Wall time: 17.5 s\n",
      "edge cut:0.019595505028414343\n"
     ]
    }
   ],
   "source": [
    "%time cuts , parts = metis.part_graph(amazon2,2,ctype='rm', iptype='random')\n",
    "k= len(amazon2.edges)\n",
    "print('edge cut:'+str(cuts/k))"
   ]
  },
  {
   "cell_type": "code",
   "execution_count": 8,
   "metadata": {},
   "outputs": [
    {
     "name": "stdout",
     "output_type": "stream",
     "text": [
      "CPU times: user 25.5 s, sys: 512 ms, total: 26 s\n",
      "Wall time: 26 s\n",
      "edge cut:0.04219252229100403\n"
     ]
    }
   ],
   "source": [
    "%time cuts , parts = metis.part_graph(amazon2,4,ctype='rm', iptype='random')\n",
    "print('edge cut:'+str(cuts/k))"
   ]
  },
  {
   "cell_type": "code",
   "execution_count": 80,
   "metadata": {},
   "outputs": [
    {
     "name": "stdout",
     "output_type": "stream",
     "text": [
      "CPU times: user 16 s, sys: 487 ms, total: 16.4 s\n",
      "Wall time: 1min 1s\n",
      "edge cut:0.06440338487937995\n"
     ]
    }
   ],
   "source": [
    "%time cuts , parts = metis.part_graph(amazon2,8,ctype='rm', iptype='random')\n",
    "k= len(amazon2.edges)\n",
    "print('edge cut:'+str(cuts/k))"
   ]
  },
  {
   "cell_type": "code",
   "execution_count": 79,
   "metadata": {},
   "outputs": [
    {
     "name": "stdout",
     "output_type": "stream",
     "text": [
      "CPU times: user 16 s, sys: 304 ms, total: 16.3 s\n",
      "Wall time: 23.8 s\n",
      "edge cut:0.08917672397360539\n"
     ]
    }
   ],
   "source": [
    "%time cuts , parts = metis.part_graph(amazon2,16,ctype='rm', iptype='random')\n",
    "k= len(amazon2.edges)\n",
    "print('edge cut:'+str(cuts/k))"
   ]
  },
  {
   "cell_type": "code",
   "execution_count": 81,
   "metadata": {},
   "outputs": [
    {
     "name": "stdout",
     "output_type": "stream",
     "text": [
      "CPU times: user 41.6 s, sys: 28.1 s, total: 1min 9s\n",
      "Wall time: 41min 43s\n",
      "edge cut:0.11121992492530039\n"
     ]
    }
   ],
   "source": [
    "%time cuts , parts = metis.part_graph(amazon2,32,ctype='rm', iptype='random')\n",
    "print('edge cut:'+str(cuts/k))"
   ]
  },
  {
   "cell_type": "code",
   "execution_count": null,
   "metadata": {
    "collapsed": true
   },
   "outputs": [],
   "source": []
  }
 ],
 "metadata": {
  "kernelspec": {
   "display_name": "Python 3",
   "language": "python",
   "name": "python3"
  },
  "language_info": {
   "codemirror_mode": {
    "name": "ipython",
    "version": 3
   },
   "file_extension": ".py",
   "mimetype": "text/x-python",
   "name": "python",
   "nbconvert_exporter": "python",
   "pygments_lexer": "ipython3",
   "version": "3.6.1"
  }
 },
 "nbformat": 4,
 "nbformat_minor": 2
}
