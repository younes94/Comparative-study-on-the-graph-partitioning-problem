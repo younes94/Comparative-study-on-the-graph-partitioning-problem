{
 "cells": [
  {
   "cell_type": "code",
   "execution_count": 1,
   "metadata": {
    "collapsed": true
   },
   "outputs": [],
   "source": [
    "# Constants for you to change\n",
    "import os\n",
    "\n",
    "DATA_DIRECTORY = '/home/younes'\n",
    "LIVEJOURNAL_FILENAME = os.path.join(DATA_DIRECTORY, 'email-Enron.txt.gz')\n",
    "LIVEJOURNAL_URL = 'http://snap.stanford.edu/data/email-Enron.txt.gz'\n",
    "\n",
    "# Just have these hardcoded, though we don't really need to\n",
    "NUM_EDGES = 367662\n",
    "NUM_NODES = 36692"
   ]
  },
  {
   "cell_type": "code",
   "execution_count": 2,
   "metadata": {},
   "outputs": [
    {
     "name": "stdout",
     "output_type": "stream",
     "text": [
      "DOWNLOADING 250M FILE. WILL SAVE FOR FUTURE USE\n",
      "\n",
      "FILE STATS:\n",
      "-rw-rw-r-- 1 younes younes 1.1M ماي 14 02:07 /home/younes/email-Enron.txt.gz\n",
      "\n",
      "STARTING LINES\n",
      "# Directed graph (each unordered pair of nodes is saved once): Email-Enron.txt \n",
      "# Enron email network (edge indicated that email was exchanged, undirected edges)\n",
      "# Nodes: 36692 Edges: 367662\n",
      "# FromNodeId\tToNodeId\n",
      "0\t1\n",
      "1\t0\n",
      "1\t2\n",
      "1\t3\n",
      "1\t4\n",
      "1\t5\n",
      "1\t6\n",
      "1\t7\n",
      "1\t8\n",
      "1\t9\n",
      "1\t10\n",
      "1\t11\n",
      "1\t12\n",
      "1\t13\n",
      "1\t14\n",
      "1\t15\n",
      "1\t16\n",
      "1\t17\n",
      "1\t18\n",
      "1\t19\n",
      "1\t20\n",
      "1\t21\n",
      "1\t22\n",
      "1\t23\n",
      "1\t24\n",
      "1\t25\n",
      "\n",
      "gzip: stdout: Broken pipe\n"
     ]
    }
   ],
   "source": [
    "# Downloading the file\n",
    "\n",
    "import urllib.request\n",
    "\n",
    "assert os.path.exists(DATA_DIRECTORY)\n",
    "\n",
    "# Get your data. This file is ~250M so it will take a bit\n",
    "print('DOWNLOADING 250M FILE. WILL SAVE FOR FUTURE USE')\n",
    "if not os.path.exists(LIVEJOURNAL_FILENAME):\n",
    "    urllib.request.urlretrieve(LIVEJOURNAL_URL, LIVEJOURNAL_FILENAME)\n",
    "\n",
    "# Show a little bit of the file\n",
    "print('\\nFILE STATS:')\n",
    "!ls -lh $LIVEJOURNAL_FILENAME\n",
    "print('\\nSTARTING LINES')\n",
    "!zcat $LIVEJOURNAL_FILENAME | head -n 30"
   ]
  },
  {
   "cell_type": "code",
   "execution_count": 3,
   "metadata": {
    "collapsed": true
   },
   "outputs": [],
   "source": [
    "# Cleaning the data\n",
    "\n",
    "import numpy as np\n",
    "import gzip\n",
    "\n",
    "def row_generator():\n",
    "    \"\"\"This will generate all the edges in the graph.\"\"\"\n",
    "    with gzip.open(LIVEJOURNAL_FILENAME, 'rt') as f:\n",
    "        for line in f:\n",
    "            if line.startswith('#'):\n",
    "                continue\n",
    "            else:\n",
    "                (left_node, right_node) = line.split('\\t')\n",
    "                yield(int(left_node), int(right_node))\n",
    "\n",
    "def to_undirected(edge_iterable, num_edges, num_nodes, shuffle=True):\n",
    "    \"\"\"Takes an iterable of edges and produces the list of edges for the undirected graph.\n",
    "    \n",
    "    > to_undirected([[0,1],[1,2],[2,10]], 3, 11)\n",
    "    array([[ 0,  1],\n",
    "       [ 1,  0],\n",
    "       [ 1,  2],\n",
    "       [ 2,  1],\n",
    "       [ 2, 10],\n",
    "       [10,  2]])\n",
    "    \"\"\"\n",
    "    # need int64 to do gross bithacks\n",
    "    as_array = np.zeros((num_edges, 2), dtype=np.int64)\n",
    "    for (i, (n_0, n_1)) in enumerate(edge_iterable):\n",
    "            as_array[i,0] = n_0\n",
    "            as_array[i,1] = n_1\n",
    "    # The graph is directed, but we want to make it undirected,\n",
    "    # which means we will duplicate some rows.\n",
    "\n",
    "    left_nodes = as_array[:,0]\n",
    "    right_nodes = as_array[:,1]\n",
    "    \n",
    "    if shuffle:\n",
    "        the_shuffle = np.arange(num_nodes)\n",
    "        np.random.shuffle(the_shuffle)\n",
    "        left_nodes = the_shuffle.take(left_nodes)\n",
    "        right_nodes = the_shuffle.take(right_nodes)\n",
    "\n",
    "    \n",
    "    # numpy.unique will not unique whole rows, so this little bit-hacking\n",
    "    # is a quick way to get unique rows after making a flipped copy of\n",
    "    # each edge.\n",
    "    max_bits = int(np.ceil(np.log2(num_nodes + 1)))\n",
    "    \n",
    "    encoded_edges_forward = np.left_shift(left_nodes, max_bits) | right_nodes\n",
    "    \n",
    "    # Flip the columns and do it again:\n",
    "    encoded_edges_reverse = np.left_shift(right_nodes, max_bits) | left_nodes\n",
    "\n",
    "    unique_encoded_edges = np.unique(np.hstack((encoded_edges_forward, encoded_edges_reverse)))\n",
    "    \n",
    "    left_node_decoded = np.right_shift(unique_encoded_edges, max_bits)\n",
    "    \n",
    "    # Mask out the high order bits\n",
    "    right_node_decoded = (2 ** (max_bits) - 1) & unique_encoded_edges\n",
    "    \n",
    "    undirected_edges = np.vstack((left_node_decoded, right_node_decoded)).T.astype(np.int32)\n",
    "\n",
    "    # ascontiguousarray so that it's c-contiguous for cython code below\n",
    "    return np.ascontiguousarray(undirected_edges)\n",
    "\n",
    "\n",
    "def get_clean_data(shuffle=True):\n",
    "    if shuffle:\n",
    "        name = os.path.join(DATA_DIRECTORY, 'LJ-mal-shuffled.npy')\n",
    "    else:\n",
    "        name = os.path.join(DATA_DIRECTORY, 'LJ-mal.npy')\n",
    "\n",
    "    if os.path.exists(name):\n",
    "        print('Loading from file {}'.format(name))\n",
    "        return np.load(name)\n",
    "    else:\n",
    "        print('Parsing from zip. Will write to file {}'.format(name), flush=True)\n",
    "        # Lets get the edges into one big array\n",
    "        edges = to_undirected(row_generator(), NUM_EDGES, NUM_NODES, shuffle=shuffle)\n",
    "        print('ORIGINAL DIST: {} MIN: {} MAX: {}'.format(np.abs(edges[:,0] - edges[:,1]).mean(), edges.min(), edges.max()))\n",
    "        np.save(name, edges)\n",
    "        return edges"
   ]
  },
  {
   "cell_type": "code",
   "execution_count": 4,
   "metadata": {},
   "outputs": [
    {
     "name": "stdout",
     "output_type": "stream",
     "text": [
      "Normalizing data (or loaded pre-computed)\n",
      "Loading from file /home/younes/LJ-mal-shuffled.npy\n",
      "CPU times: user 3.63 ms, sys: 0 ns, total: 3.63 ms\n",
      "Wall time: 156 ms\n",
      "Loading from file /home/younes/LJ-mal.npy\n",
      "CPU times: user 2.25 ms, sys: 4.55 ms, total: 6.8 ms\n",
      "Wall time: 73.6 ms\n",
      "\n",
      "EDGES SHAPE: (367662, 2)\n"
     ]
    }
   ],
   "source": [
    "print(\"Normalizing data (or loaded pre-computed)\")\n",
    "%time edges = get_clean_data(shuffle=True)\n",
    "%time unshuffled_edges = get_clean_data(shuffle=False)\n",
    "print('\\nEDGES SHAPE: {}'.format(edges.shape))"
   ]
  },
  {
   "cell_type": "code",
   "execution_count": 5,
   "metadata": {
    "collapsed": true
   },
   "outputs": [],
   "source": [
    "def score(assignment, edges):\n",
    "    \"\"\"Compute the score given an assignment of vertices.\n",
    "    \n",
    "    N nodes are assigned to clusters 0 to K-1.\n",
    "    \n",
    "    assignment: Vector where N[i] is the cluster node i is assigned to.\n",
    "    edges: The edges in the graph, assumed to have one in each direction\n",
    "    \n",
    "    Returns: (total wasted bin space, ratio of edges cut)\n",
    "    \"\"\"\n",
    "    balance = np.bincount(assignment) / len(assignment)\n",
    "    waste = (np.max(balance) - balance).sum()\n",
    "    \n",
    "    left_edge_assignment = assignment.take(edges[:,0])\n",
    "    right_edge_assignment = assignment.take(edges[:,1])\n",
    "    mismatch = (left_edge_assignment != right_edge_assignment).sum()\n",
    "    cut_ratio = mismatch / len(edges)\n",
    "    return (waste, cut_ratio)"
   ]
  },
  {
   "cell_type": "code",
   "execution_count": 6,
   "metadata": {},
   "outputs": [
    {
     "name": "stdout",
     "output_type": "stream",
     "text": [
      "Populating the interactive namespace from numpy and matplotlib\n"
     ]
    }
   ],
   "source": [
    "%load_ext cython\n",
    "%pylab inline"
   ]
  },
  {
   "cell_type": "code",
   "execution_count": 7,
   "metadata": {
    "collapsed": true
   },
   "outputs": [],
   "source": [
    "%%cython\n",
    "import numpy as np\n",
    "cimport cython\n",
    "\n",
    "cdef int UNMAPPED = -1\n",
    "\n",
    "def linear_deterministic_greedy(int[:,::] edges,\n",
    "                                int num_nodes,\n",
    "                                int num_partitions,\n",
    "                                int[::] partition):\n",
    "    \"\"\"\n",
    "    This algorithm favors a cluster if it has many neighbors of a node, but\n",
    "    penalizes the cluster if it is close to capacity.\n",
    "    \n",
    "    edges: An [:,2] array of edges.\n",
    "    num_nodes: The number of nodes in the graph.\n",
    "    num_partitions: How many partitions we are breaking the graph into.\n",
    "    partition: The partition from a previous run. Used for restreaming.\n",
    "\n",
    "    Returns: A new partition.\n",
    "    \"\"\"\n",
    "    # The output partition\n",
    "\n",
    "    if partition is None:\n",
    "        partition = np.repeat(np.int32(UNMAPPED), num_nodes)\n",
    "\n",
    "    cdef int[::] partition_sizes = np.zeros(num_partitions, dtype=np.int32)\n",
    "         \n",
    "    cdef int[::] partition_votes = np.zeros(num_partitions, dtype=np.int32)\n",
    "    \n",
    "    # Fine to be a little off, to stay integers\n",
    "    cdef int partition_capacity = num_nodes / num_partitions\n",
    "    \n",
    "    cdef int last_left = edges[0,0]\n",
    "    cdef int i = 0\n",
    "    cdef int left = 0\n",
    "    cdef int right = 0\n",
    "    cdef int arg = 0\n",
    "    cdef int max_arg = 0\n",
    "    cdef int max_val = 0\n",
    "    cdef int val = 0\n",
    "    cdef int len_edges = len(edges)\n",
    "    \n",
    "    for i in range(len_edges):\n",
    "        left = edges[i,0]\n",
    "        right = edges[i,1]\n",
    "    \n",
    "        if last_left != left:\n",
    "            # We have found a new node so assign last_left to a partition\n",
    "                \n",
    "            max_arg = 0\n",
    "            max_val = (partition_votes[0]) * (\n",
    "                       partition_capacity - partition_sizes[0])\n",
    "\n",
    "            for arg in range(1, num_partitions):\n",
    "                val = (partition_votes[arg]) * (\n",
    "                       partition_capacity - partition_sizes[arg])\n",
    "                if val > max_val:\n",
    "                    max_arg = arg\n",
    "                    max_val = val\n",
    "\n",
    "            if max_val == 0:\n",
    "                max_arg = arg\n",
    "                # No neighbors (or multiple maxed out) so \"randomly\" select\n",
    "                # the smallest partition\n",
    "                for arg in range(i % num_partitions, num_partitions):\n",
    "                    if partition_sizes[arg] < partition_capacity:\n",
    "                        max_arg = arg\n",
    "                        max_val = 1\n",
    "                        break\n",
    "                if max_val == 0:\n",
    "                    for arg in range(0, i % num_partitions):\n",
    "                        if partition_sizes[arg] < partition_capacity:\n",
    "                            max_arg = arg\n",
    "                            break\n",
    "\n",
    "\n",
    "            partition_sizes[max_arg] += 1\n",
    "            partition[last_left] = max_arg\n",
    "            partition_votes[:] = 0\n",
    "            last_left = left\n",
    "\n",
    "        if partition[right] != UNMAPPED:\n",
    "            partition_votes[partition[right]] += 1\n",
    "\n",
    "\n",
    "    # Clean up the last assignment\n",
    "    max_arg = 0\n",
    "    max_val = 0\n",
    "    for arg in range(0, num_partitions):\n",
    "        if partition_sizes[arg] < partition_capacity:\n",
    "            val = (partition_votes[arg]) * (\n",
    "                    1 - partition_sizes[arg] / partition_capacity)\n",
    "            if val > max_val:\n",
    "                max_arg = arg\n",
    "                max_val = val\n",
    "    partition[left] = max_arg\n",
    "\n",
    "    return np.asarray(partition)"
   ]
  },
  {
   "cell_type": "code",
   "execution_count": 8,
   "metadata": {},
   "outputs": [
    {
     "name": "stdout",
     "output_type": "stream",
     "text": [
      "CPU times: user 2.83 ms, sys: 0 ns, total: 2.83 ms\n",
      "Wall time: 2.89 ms\n",
      "CPU times: user 4.46 ms, sys: 3.25 ms, total: 7.71 ms\n",
      "Wall time: 6.59 ms\n",
      "wast=1.0000545077946146 edge cut = 0.2684204513928554\n"
     ]
    }
   ],
   "source": [
    "partition = None\n",
    "%time partition = linear_deterministic_greedy(edges,NUM_NODES,2,partition)\n",
    "%time wast,edge_cut = score(partition, edges)\n",
    "print('wast='+str(1+wast)+' edge cut = '+str(edge_cut))"
   ]
  },
  {
   "cell_type": "code",
   "execution_count": 9,
   "metadata": {},
   "outputs": [
    {
     "name": "stdout",
     "output_type": "stream",
     "text": [
      "CPU times: user 3.72 ms, sys: 0 ns, total: 3.72 ms\n",
      "Wall time: 3.59 ms\n",
      "CPU times: user 7.33 ms, sys: 0 ns, total: 7.33 ms\n",
      "Wall time: 5.67 ms\n",
      "wast=1.0001090155892292 edge cut = 0.454042027731993\n"
     ]
    }
   ],
   "source": [
    "partition = None\n",
    "%time partition = linear_deterministic_greedy(edges,NUM_NODES,4,partition)\n",
    "%time wast,edge_cut = score(partition, edges)\n",
    "print('wast='+str(1+wast)+' edge cut = '+str(edge_cut))"
   ]
  },
  {
   "cell_type": "code",
   "execution_count": 10,
   "metadata": {},
   "outputs": [
    {
     "name": "stdout",
     "output_type": "stream",
     "text": [
      "CPU times: user 3.56 ms, sys: 0 ns, total: 3.56 ms\n",
      "Wall time: 3.61 ms\n",
      "CPU times: user 6.71 ms, sys: 0 ns, total: 6.71 ms\n",
      "Wall time: 6.63 ms\n",
      "wast=1.0005450779461462 edge cut = 0.5315751967840027\n"
     ]
    }
   ],
   "source": [
    "partition = None\n",
    "%time partition = linear_deterministic_greedy(edges,NUM_NODES,8,partition)\n",
    "%time wast,edge_cut = score(partition, edges)\n",
    "print('wast='+str(1+wast)+' edge cut = '+str(edge_cut))"
   ]
  },
  {
   "cell_type": "code",
   "execution_count": 11,
   "metadata": {},
   "outputs": [
    {
     "name": "stdout",
     "output_type": "stream",
     "text": [
      "CPU times: user 6.08 ms, sys: 0 ns, total: 6.08 ms\n",
      "Wall time: 6.19 ms\n",
      "CPU times: user 3.09 ms, sys: 3.88 ms, total: 6.97 ms\n",
      "Wall time: 6.99 ms\n",
      "wast=1.0011991714815218 edge cut = 0.6135091469882664\n"
     ]
    }
   ],
   "source": [
    "partition = None\n",
    "%time partition = linear_deterministic_greedy(edges,NUM_NODES,16,partition)\n",
    "%time wast,edge_cut = score(partition, edges)\n",
    "print('wast='+str(1+wast)+' edge cut = '+str(edge_cut))"
   ]
  },
  {
   "cell_type": "code",
   "execution_count": 12,
   "metadata": {},
   "outputs": [
    {
     "name": "stdout",
     "output_type": "stream",
     "text": [
      "CPU times: user 10.3 ms, sys: 0 ns, total: 10.3 ms\n",
      "Wall time: 15.7 ms\n",
      "CPU times: user 7.37 ms, sys: 0 ns, total: 7.37 ms\n",
      "Wall time: 10.6 ms\n",
      "wast=1.0160252916167012 edge cut = 0.6703711561162154\n"
     ]
    }
   ],
   "source": [
    "partition = None\n",
    "%time partition = linear_deterministic_greedy(edges,NUM_NODES,32,partition)\n",
    "%time wast,edge_cut = score(partition, edges)\n",
    "print('wast='+str(1+wast)+' edge cut = '+str(edge_cut))"
   ]
  },
  {
   "cell_type": "code",
   "execution_count": 13,
   "metadata": {},
   "outputs": [
    {
     "name": "stdout",
     "output_type": "stream",
     "text": [
      "CPU times: user 9.88 ms, sys: 0 ns, total: 9.88 ms\n",
      "Wall time: 9.89 ms\n",
      "CPU times: user 7.48 ms, sys: 0 ns, total: 7.48 ms\n",
      "Wall time: 7.78 ms\n",
      "wast=1.0116646680475307 edge cut = 0.6984240960447368\n"
     ]
    }
   ],
   "source": [
    "partition = None\n",
    "%time partition = linear_deterministic_greedy(edges,NUM_NODES,40,partition)\n",
    "%time wast,edge_cut = score(partition, edges)\n",
    "print('wast='+str(1+wast)+' edge cut = '+str(edge_cut))"
   ]
  },
  {
   "cell_type": "code",
   "execution_count": 16,
   "metadata": {
    "collapsed": true
   },
   "outputs": [],
   "source": [
    "def draw_figures(waste_values, edge_score_values, num_partitions):\n",
    "    fig, axes = plt.subplots(nrows=1, ncols=2)\n",
    "    \n",
    "    (waste_axes, score_axes) = axes\n",
    "    waste_axes.plot(waste_values, 'r')\n",
    "    waste_axes.set_xlabel('Round')\n",
    "    waste_axes.set_ylabel('Number of wasted bins')\n",
    "    waste_axes.set_ylim(bottom=0)\n",
    "    waste_axes.set_title('Wasted Bins: {} partitions'.format(num_partitions))\n",
    "    \n",
    "    score_axes.plot(edge_score_values, 'r')\n",
    "    score_axes.set_xlabel('Round')\n",
    "    score_axes.set_ylabel('Ratio of edges crossing partitions')\n",
    "    score_axes.set_ylim(bottom=0)\n",
    "    score_axes.set_title('Score: {} partitions'.format(num_partitions))\n",
    "    \n",
    "    fig.tight_layout()"
   ]
  },
  {
   "cell_type": "code",
   "execution_count": 15,
   "metadata": {
    "collapsed": true
   },
   "outputs": [],
   "source": [
    "def run_restreaming_greedy(edges, num_nodes, num_partitions=10, num_iterations=10):\n",
    "    print('\\n{} PARTITIONS'.format(num_partitions))\n",
    "    assignments = None\n",
    "    print('ROUND\\tWASTE\\tSCORE')\n",
    "    waste_values = []\n",
    "    edge_score_values = []\n",
    "    flipped_edges = numpy.flipud(edges).copy()\n",
    "    for i in range(num_iterations):\n",
    "        assignments = linear_deterministic_greedy(edges, NUM_NODES, num_partitions, assignments)\n",
    "        (waste, edge_score) = score(assignments, edges)\n",
    "        waste_values.append(waste)\n",
    "        edge_score_values.append(edge_score)\n",
    "        print('{}\\t{:0.3f}\\t{:0.3f}'.format(i, waste, edge_score))\n",
    "    draw_figures(waste_values, edge_score_values, num_partitions)"
   ]
  },
  {
   "cell_type": "code",
   "execution_count": 16,
   "metadata": {},
   "outputs": [
    {
     "name": "stdout",
     "output_type": "stream",
     "text": [
      "\n",
      "4 PARTITIONS\n",
      "ROUND\tWASTE\tSCORE\n",
      "0\t0.000\t0.454\n",
      "1\t0.000\t0.307\n",
      "2\t0.000\t0.283\n",
      "3\t0.000\t0.265\n",
      "4\t0.000\t0.259\n",
      "5\t0.000\t0.255\n",
      "6\t0.000\t0.254\n",
      "7\t0.000\t0.254\n",
      "8\t0.000\t0.253\n",
      "9\t0.000\t0.253\n",
      "10\t0.000\t0.253\n",
      "11\t0.000\t0.253\n",
      "12\t0.000\t0.253\n",
      "13\t0.000\t0.253\n",
      "14\t0.000\t0.253\n",
      "15\t0.000\t0.253\n",
      "16\t0.000\t0.253\n",
      "17\t0.000\t0.253\n",
      "18\t0.000\t0.253\n",
      "19\t0.000\t0.253\n",
      "CPU times: user 422 ms, sys: 107 ms, total: 529 ms\n",
      "Wall time: 517 ms\n"
     ]
    },
    {
     "data": {
      "image/png": "[encoded data removed]",
      "text/plain": [
       "<matplotlib.figure.Figure at 0x7f8c4087a0f0>"
      ]
     },
     "metadata": {},
     "output_type": "display_data"
    }
   ],
   "source": [
    "%time run_restreaming_greedy(edges, NUM_NODES, num_partitions=4, num_iterations=20)\n"
   ]
  },
  {
   "cell_type": "code",
   "execution_count": 17,
   "metadata": {},
   "outputs": [
    {
     "name": "stdout",
     "output_type": "stream",
     "text": [
      "\n",
      "2 PARTITIONS\n",
      "ROUND\tWASTE\tSCORE\n",
      "0\t0.000\t0.268\n",
      "1\t0.000\t0.190\n",
      "2\t0.000\t0.182\n",
      "3\t0.000\t0.181\n",
      "4\t0.000\t0.179\n",
      "5\t0.000\t0.179\n",
      "6\t0.000\t0.179\n",
      "7\t0.000\t0.179\n",
      "8\t0.000\t0.179\n",
      "9\t0.000\t0.179\n",
      "10\t0.000\t0.179\n",
      "11\t0.000\t0.179\n",
      "12\t0.000\t0.179\n",
      "13\t0.000\t0.179\n",
      "14\t0.000\t0.179\n",
      "15\t0.000\t0.179\n",
      "16\t0.000\t0.179\n",
      "17\t0.000\t0.179\n",
      "18\t0.000\t0.179\n",
      "19\t0.000\t0.179\n",
      "CPU times: user 486 ms, sys: 46.5 ms, total: 532 ms\n",
      "Wall time: 519 ms\n"
     ]
    },
    {
     "data": {
      "image/png": "[encoded data removed]",
      "text/plain": [
       "<matplotlib.figure.Figure at 0x7f8c3e2df128>"
      ]
     },
     "metadata": {},
     "output_type": "display_data"
    }
   ],
   "source": [
    "%time run_restreaming_greedy(edges, NUM_NODES, num_partitions=2, num_iterations=20)\n"
   ]
  },
  {
   "cell_type": "code",
   "execution_count": 18,
   "metadata": {},
   "outputs": [
    {
     "name": "stdout",
     "output_type": "stream",
     "text": [
      "\n",
      "8 PARTITIONS\n",
      "ROUND\tWASTE\tSCORE\n",
      "0\t0.001\t0.532\n",
      "1\t0.001\t0.378\n",
      "2\t0.001\t0.368\n",
      "3\t0.001\t0.345\n",
      "4\t0.001\t0.341\n",
      "5\t0.001\t0.339\n",
      "6\t0.001\t0.337\n",
      "7\t0.001\t0.336\n",
      "8\t0.001\t0.336\n",
      "9\t0.001\t0.335\n",
      "10\t0.001\t0.336\n",
      "11\t0.001\t0.335\n",
      "12\t0.001\t0.336\n",
      "13\t0.001\t0.335\n",
      "14\t0.001\t0.336\n",
      "15\t0.001\t0.335\n",
      "16\t0.001\t0.336\n",
      "17\t0.001\t0.335\n",
      "18\t0.001\t0.336\n",
      "19\t0.001\t0.335\n",
      "CPU times: user 498 ms, sys: 196 ms, total: 694 ms\n",
      "Wall time: 587 ms\n"
     ]
    },
    {
     "data": {
      "image/png": "[encoded data removed]",
      "text/plain": [
       "<matplotlib.figure.Figure at 0x7f8c3e1f9860>"
      ]
     },
     "metadata": {},
     "output_type": "display_data"
    }
   ],
   "source": [
    "%time run_restreaming_greedy(edges, NUM_NODES, num_partitions=8, num_iterations=20)\n"
   ]
  },
  {
   "cell_type": "code",
   "execution_count": 19,
   "metadata": {},
   "outputs": [
    {
     "name": "stdout",
     "output_type": "stream",
     "text": [
      "\n",
      "16 PARTITIONS\n",
      "ROUND\tWASTE\tSCORE\n",
      "0\t0.001\t0.614\n",
      "1\t0.001\t0.464\n",
      "2\t0.001\t0.458\n",
      "3\t0.001\t0.457\n",
      "4\t0.001\t0.451\n",
      "5\t0.001\t0.442\n",
      "6\t0.001\t0.444\n",
      "7\t0.001\t0.439\n",
      "8\t0.001\t0.442\n",
      "9\t0.001\t0.436\n",
      "10\t0.001\t0.441\n",
      "11\t0.001\t0.436\n",
      "12\t0.001\t0.441\n",
      "13\t0.001\t0.436\n",
      "14\t0.001\t0.441\n",
      "15\t0.001\t0.436\n",
      "16\t0.001\t0.441\n",
      "17\t0.001\t0.436\n",
      "18\t0.001\t0.441\n",
      "19\t0.001\t0.436\n",
      "CPU times: user 467 ms, sys: 155 ms, total: 622 ms\n",
      "Wall time: 559 ms\n"
     ]
    },
    {
     "data": {
      "image/png": "[encoded data removed]",
      "text/plain": [
       "<matplotlib.figure.Figure at 0x7f8c3e325cc0>"
      ]
     },
     "metadata": {},
     "output_type": "display_data"
    }
   ],
   "source": [
    "%time run_restreaming_greedy(edges, NUM_NODES, num_partitions=16, num_iterations=20)\n"
   ]
  },
  {
   "cell_type": "code",
   "execution_count": 20,
   "metadata": {},
   "outputs": [
    {
     "name": "stdout",
     "output_type": "stream",
     "text": [
      "\n",
      "32 PARTITIONS\n",
      "ROUND\tWASTE\tSCORE\n",
      "0\t0.016\t0.670\n",
      "1\t0.016\t0.540\n",
      "2\t0.016\t0.526\n",
      "3\t0.016\t0.503\n",
      "4\t0.016\t0.505\n",
      "5\t0.016\t0.522\n",
      "6\t0.016\t0.495\n",
      "7\t0.016\t0.508\n",
      "8\t0.016\t0.493\n",
      "9\t0.016\t0.501\n",
      "10\t0.016\t0.485\n",
      "11\t0.016\t0.499\n",
      "12\t0.016\t0.484\n",
      "13\t0.016\t0.499\n",
      "14\t0.016\t0.483\n",
      "15\t0.016\t0.499\n",
      "16\t0.016\t0.483\n",
      "17\t0.016\t0.498\n",
      "18\t0.016\t0.482\n",
      "19\t0.016\t0.498\n",
      "CPU times: user 521 ms, sys: 211 ms, total: 732 ms\n",
      "Wall time: 620 ms\n"
     ]
    },
    {
     "data": {
      "image/png": "[encoded data removed]",
      "text/plain": [
       "<matplotlib.figure.Figure at 0x7f8c3e129a90>"
      ]
     },
     "metadata": {},
     "output_type": "display_data"
    }
   ],
   "source": [
    "%time run_restreaming_greedy(edges, NUM_NODES, num_partitions=32, num_iterations=20)\n"
   ]
  },
  {
   "cell_type": "code",
   "execution_count": 21,
   "metadata": {},
   "outputs": [
    {
     "name": "stdout",
     "output_type": "stream",
     "text": [
      "\n",
      "40 PARTITIONS\n",
      "ROUND\tWASTE\tSCORE\n",
      "0\t0.012\t0.698\n",
      "1\t0.012\t0.569\n",
      "2\t0.012\t0.551\n",
      "3\t0.012\t0.534\n",
      "4\t0.012\t0.531\n",
      "5\t0.012\t0.518\n",
      "6\t0.012\t0.516\n",
      "7\t0.012\t0.511\n",
      "8\t0.012\t0.512\n",
      "9\t0.012\t0.508\n",
      "10\t0.012\t0.511\n",
      "11\t0.012\t0.507\n",
      "12\t0.012\t0.510\n",
      "13\t0.012\t0.506\n",
      "14\t0.012\t0.508\n",
      "15\t0.012\t0.505\n",
      "16\t0.012\t0.508\n",
      "17\t0.012\t0.505\n",
      "18\t0.012\t0.508\n",
      "19\t0.012\t0.505\n",
      "CPU times: user 542 ms, sys: 192 ms, total: 733 ms\n",
      "Wall time: 648 ms\n"
     ]
    },
    {
     "data": {
      "image/png": "[encoded data removed]",
      "text/plain": [
       "<matplotlib.figure.Figure at 0x7f8c3def30f0>"
      ]
     },
     "metadata": {},
     "output_type": "display_data"
    }
   ],
   "source": [
    "%time run_restreaming_greedy(edges, NUM_NODES, num_partitions=40, num_iterations=20)\n"
   ]
  },
  {
   "cell_type": "code",
   "execution_count": 13,
   "metadata": {
    "collapsed": true
   },
   "outputs": [],
   "source": [
    "%%cython\n",
    "import numpy as np\n",
    "\n",
    "cdef int UNMAPPED = -1\n",
    "\n",
    "def fennel(int[:,::] edges,\n",
    "           int num_nodes,\n",
    "           int num_partitions,\n",
    "           int[::] partition,\n",
    "           float alpha):\n",
    "    \"\"\"\n",
    "    This algorithm favors a cluster if it has many neighbors of a node, but\n",
    "    penalizes the cluster if it is close to capacity.\n",
    "    \n",
    "    partition: A previous partition of the nodes. Set to -1's if a node has not been assigned.\n",
    "    \"\"\"\n",
    "    \n",
    "    cdef int[::] partition_sizes = None\n",
    "    # The output partition\n",
    "    if partition is None:\n",
    "        partition = np.repeat(np.int32(UNMAPPED), num_nodes)\n",
    "        partition_sizes = np.zeros(num_partitions, dtype=np.int32)\n",
    "    else:\n",
    "        partition_sizes = np.bincount(partition).astype(np.int32)\n",
    "    \n",
    "    cdef int[::] partition_votes = np.zeros(num_partitions, dtype=np.int32)\n",
    "    \n",
    "    cdef float partition_capacity = num_nodes / num_partitions\n",
    "    \n",
    "    cdef int last_left = edges[0,0]\n",
    "    cdef int i = 0\n",
    "    cdef int left = 0\n",
    "    cdef int right = 0\n",
    "    cdef int arg = 0\n",
    "    cdef int max_arg = 0\n",
    "    cdef float max_val = 0\n",
    "    cdef float val = 0\n",
    "    cdef int len_edges = len(edges)\n",
    "    cdef int previous_assignment = 0\n",
    "\n",
    "    for i in range(len_edges):\n",
    "        left = edges[i,0]\n",
    "        right = edges[i,1]\n",
    "    \n",
    "        if last_left != left:\n",
    "            # New left node, so we have to assign last left\n",
    "\n",
    "            # Remember placement of last_left in the previous assignment\n",
    "            previous_assignment = partition[last_left]\n",
    "            \n",
    "            max_arg = 0\n",
    "            max_val = partition_votes[0] - alpha * partition_sizes[0]\n",
    "            if previous_assignment == 0:\n",
    "                # We remove the node from its current partition before\n",
    "                # deciding to re-add it, so subtract alpha to give\n",
    "                # result of 1 lower partition size.\n",
    "                max_val += alpha\n",
    "\n",
    "            for arg in range(1, num_partitions):\n",
    "                val = partition_votes[arg] - alpha * partition_sizes[arg]\n",
    "                if previous_assignment == arg:\n",
    "                    # See comment above\n",
    "                    val += alpha\n",
    "                if val > max_val:\n",
    "                    max_arg = arg\n",
    "                    max_val = val\n",
    "\n",
    "            if max_arg != previous_assignment:\n",
    "                partition[last_left] = max_arg\n",
    "                partition_sizes[max_arg] += 1\n",
    "                if previous_assignment != UNMAPPED:\n",
    "                    partition_sizes[previous_assignment] -= 1\n",
    "\n",
    "            partition_votes[:] = 0\n",
    "            last_left = left\n",
    "\n",
    "        if partition[right] != -1:\n",
    "            partition_votes[partition[right]] += 1\n",
    "    \n",
    "    # TODO: finish off this fencepost....\n",
    "    partition[left] = 0\n",
    "    \n",
    "    return np.asarray(partition)"
   ]
  },
  {
   "cell_type": "code",
   "execution_count": 23,
   "metadata": {},
   "outputs": [
    {
     "name": "stdout",
     "output_type": "stream",
     "text": [
      "CPU times: user 4.75 ms, sys: 331 µs, total: 5.09 ms\n",
      "Wall time: 6.79 ms\n",
      "CPU times: user 2.69 ms, sys: 3.43 ms, total: 6.11 ms\n",
      "Wall time: 6.13 ms\n",
      "wast=1.0000545077946146 edge cut = 0.22968378565095116\n"
     ]
    }
   ],
   "source": [
    "assignment = None\n",
    "%time assignment = fennel(edges,NUM_NODES,2,assignment,2.)\n",
    "%time wast,edge_cut = score(assignment, edges)\n",
    "print('wast='+str(1+wast)+' edge cut = '+str(edge_cut))"
   ]
  },
  {
   "cell_type": "code",
   "execution_count": 24,
   "metadata": {},
   "outputs": [
    {
     "name": "stdout",
     "output_type": "stream",
     "text": [
      "CPU times: user 2.23 ms, sys: 3.23 ms, total: 5.46 ms\n",
      "Wall time: 14.9 ms\n",
      "CPU times: user 4.82 ms, sys: 360 µs, total: 5.18 ms\n",
      "Wall time: 5.76 ms\n",
      "wast=1.0000545077946146 edge cut = 0.2266320696726885\n"
     ]
    }
   ],
   "source": [
    "assignment = None\n",
    "%time assignment = fennel(edges,NUM_NODES,2,assignment,3.)\n",
    "%time wast,edge_cut = score(assignment, edges)\n",
    "print('wast='+str(1+wast)+' edge cut = '+str(edge_cut))"
   ]
  },
  {
   "cell_type": "code",
   "execution_count": 25,
   "metadata": {},
   "outputs": [
    {
     "name": "stdout",
     "output_type": "stream",
     "text": [
      "CPU times: user 3.08 ms, sys: 1.87 ms, total: 4.95 ms\n",
      "Wall time: 8.77 ms\n",
      "CPU times: user 4.39 ms, sys: 175 µs, total: 4.57 ms\n",
      "Wall time: 4.61 ms\n",
      "wast=1.0000545077946146 edge cut = 0.222138812278669\n"
     ]
    }
   ],
   "source": [
    "assignment = None\n",
    "%time assignment = fennel(edges,NUM_NODES,2,assignment,3.50)\n",
    "%time wast,edge_cut = score(assignment, edges)\n",
    "print('wast='+str(1+wast)+' edge cut = '+str(edge_cut))"
   ]
  },
  {
   "cell_type": "code",
   "execution_count": 26,
   "metadata": {},
   "outputs": [
    {
     "name": "stdout",
     "output_type": "stream",
     "text": [
      "CPU times: user 4.84 ms, sys: 0 ns, total: 4.84 ms\n",
      "Wall time: 8.91 ms\n",
      "CPU times: user 4.53 ms, sys: 0 ns, total: 4.53 ms\n",
      "Wall time: 5.09 ms\n",
      "wast=1.0000545077946146 edge cut = 0.222138812278669\n"
     ]
    }
   ],
   "source": [
    "assignment = None\n",
    "%time assignment = fennel(edges,NUM_NODES,2,assignment,3.50)\n",
    "%time wast,edge_cut = score(assignment, edges)\n",
    "print('wast='+str(1+wast)+' edge cut = '+str(edge_cut))"
   ]
  },
  {
   "cell_type": "code",
   "execution_count": 27,
   "metadata": {},
   "outputs": [
    {
     "name": "stdout",
     "output_type": "stream",
     "text": [
      "CPU times: user 6.08 ms, sys: 0 ns, total: 6.08 ms\n",
      "Wall time: 12.3 ms\n",
      "CPU times: user 5.37 ms, sys: 0 ns, total: 5.37 ms\n",
      "Wall time: 5.78 ms\n",
      "wast=1.0001090155892292 edge cut = 0.37141178582502404\n"
     ]
    }
   ],
   "source": [
    "assignment = None\n",
    "%time assignment = fennel(edges,NUM_NODES,4,assignment,1.)\n",
    "%time wast,edge_cut = score(assignment, edges)\n",
    "print('wast='+str(1+wast)+' edge cut = '+str(edge_cut))"
   ]
  },
  {
   "cell_type": "code",
   "execution_count": 28,
   "metadata": {},
   "outputs": [
    {
     "name": "stdout",
     "output_type": "stream",
     "text": [
      "CPU times: user 5.82 ms, sys: 0 ns, total: 5.82 ms\n",
      "Wall time: 9.69 ms\n",
      "CPU times: user 5.31 ms, sys: 0 ns, total: 5.31 ms\n",
      "Wall time: 5.33 ms\n",
      "wast=1.0001090155892292 edge cut = 0.34639968231691065\n"
     ]
    }
   ],
   "source": [
    "assignment = None\n",
    "%time assignment = fennel(edges,NUM_NODES,4,assignment,2.)\n",
    "%time wast,edge_cut = score(assignment, edges)\n",
    "print('wast='+str(1+wast)+' edge cut = '+str(edge_cut))"
   ]
  },
  {
   "cell_type": "code",
   "execution_count": 29,
   "metadata": {},
   "outputs": [
    {
     "name": "stdout",
     "output_type": "stream",
     "text": [
      "CPU times: user 5.92 ms, sys: 0 ns, total: 5.92 ms\n",
      "Wall time: 5.93 ms\n",
      "CPU times: user 4.79 ms, sys: 0 ns, total: 4.79 ms\n",
      "Wall time: 4.81 ms\n",
      "wast=1.0001090155892292 edge cut = 0.3240421909253608\n"
     ]
    }
   ],
   "source": [
    "assignment = None\n",
    "%time assignment = fennel(edges,NUM_NODES,4,assignment,1.45)\n",
    "%time wast,edge_cut = score(assignment, edges)\n",
    "print('wast='+str(1+wast)+' edge cut = '+str(edge_cut))"
   ]
  },
  {
   "cell_type": "code",
   "execution_count": 30,
   "metadata": {},
   "outputs": [
    {
     "name": "stdout",
     "output_type": "stream",
     "text": [
      "CPU times: user 5.23 ms, sys: 0 ns, total: 5.23 ms\n",
      "Wall time: 8.35 ms\n",
      "CPU times: user 4.65 ms, sys: 0 ns, total: 4.65 ms\n",
      "Wall time: 5.13 ms\n",
      "wast=1.0001090155892292 edge cut = 0.3239333953468131\n"
     ]
    }
   ],
   "source": [
    "assignment = None\n",
    "%time assignment = fennel(edges,NUM_NODES,4,assignment,1.35)\n",
    "%time wast,edge_cut = score(assignment, edges)\n",
    "print('wast='+str(1+wast)+' edge cut = '+str(edge_cut))"
   ]
  },
  {
   "cell_type": "code",
   "execution_count": 31,
   "metadata": {},
   "outputs": [
    {
     "name": "stdout",
     "output_type": "stream",
     "text": [
      "CPU times: user 5.18 ms, sys: 0 ns, total: 5.18 ms\n",
      "Wall time: 7.87 ms\n",
      "CPU times: user 4.56 ms, sys: 0 ns, total: 4.56 ms\n",
      "Wall time: 7.77 ms\n",
      "wast=1.0001090155892292 edge cut = 0.3223014616685978\n"
     ]
    }
   ],
   "source": [
    "assignment = None\n",
    "%time assignment = fennel(edges,NUM_NODES,4,assignment,1.30)\n",
    "%time wast,edge_cut = score(assignment, edges)\n",
    "print('wast='+str(1+wast)+' edge cut = '+str(edge_cut))"
   ]
  },
  {
   "cell_type": "code",
   "execution_count": 32,
   "metadata": {},
   "outputs": [
    {
     "name": "stdout",
     "output_type": "stream",
     "text": [
      "CPU times: user 5.61 ms, sys: 0 ns, total: 5.61 ms\n",
      "Wall time: 12.5 ms\n",
      "CPU times: user 4.62 ms, sys: 0 ns, total: 4.62 ms\n",
      "Wall time: 5.32 ms\n",
      "wast=1.0001090155892292 edge cut = 0.3223014616685978\n"
     ]
    }
   ],
   "source": [
    "assignment = None\n",
    "%time assignment = fennel(edges,NUM_NODES,4,assignment,1.25)\n",
    "%time wast,edge_cut = score(assignment, edges)\n",
    "print('wast='+str(1+wast)+' edge cut = '+str(edge_cut))"
   ]
  },
  {
   "cell_type": "code",
   "execution_count": 33,
   "metadata": {},
   "outputs": [
    {
     "name": "stdout",
     "output_type": "stream",
     "text": [
      "CPU times: user 5.49 ms, sys: 633 µs, total: 6.12 ms\n",
      "Wall time: 8.36 ms\n",
      "CPU times: user 5.05 ms, sys: 0 ns, total: 5.05 ms\n",
      "Wall time: 5.43 ms\n",
      "wast=1.0001090155892292 edge cut = 0.3220512318379381\n"
     ]
    }
   ],
   "source": [
    "assignment = None\n",
    "%time assignment = fennel(edges,NUM_NODES,4,assignment,1.20)\n",
    "%time wast,edge_cut = score(assignment, edges)\n",
    "print('wast='+str(1+wast)+' edge cut = '+str(edge_cut))"
   ]
  },
  {
   "cell_type": "code",
   "execution_count": 34,
   "metadata": {},
   "outputs": [
    {
     "name": "stdout",
     "output_type": "stream",
     "text": [
      "CPU times: user 5.06 ms, sys: 447 µs, total: 5.5 ms\n",
      "Wall time: 5.52 ms\n",
      "CPU times: user 5.27 ms, sys: 0 ns, total: 5.27 ms\n",
      "Wall time: 7.84 ms\n",
      "wast=1.0001090155892292 edge cut = 0.32155077217661876\n"
     ]
    }
   ],
   "source": [
    "assignment = None\n",
    "%time assignment = fennel(edges,NUM_NODES,4,assignment,1.15)\n",
    "%time wast,edge_cut = score(assignment, edges)\n",
    "print('wast='+str(1+wast)+' edge cut = '+str(edge_cut))"
   ]
  },
  {
   "cell_type": "code",
   "execution_count": 35,
   "metadata": {},
   "outputs": [
    {
     "name": "stdout",
     "output_type": "stream",
     "text": [
      "CPU times: user 2.38 ms, sys: 3.32 ms, total: 5.7 ms\n",
      "Wall time: 13.3 ms\n",
      "CPU times: user 4.42 ms, sys: 178 µs, total: 4.6 ms\n",
      "Wall time: 4.65 ms\n",
      "wast=1.0001090155892292 edge cut = 0.32155077217661876\n"
     ]
    }
   ],
   "source": [
    "assignment = None\n",
    "%time assignment = fennel(edges,NUM_NODES,4,assignment,1.10)\n",
    "%time wast,edge_cut = score(assignment, edges)\n",
    "print('wast='+str(1+wast)+' edge cut = '+str(edge_cut))"
   ]
  },
  {
   "cell_type": "code",
   "execution_count": 36,
   "metadata": {},
   "outputs": [
    {
     "name": "stdout",
     "output_type": "stream",
     "text": [
      "CPU times: user 5.19 ms, sys: 501 µs, total: 5.69 ms\n",
      "Wall time: 11.3 ms\n",
      "CPU times: user 5.25 ms, sys: 0 ns, total: 5.25 ms\n",
      "Wall time: 5.69 ms\n",
      "wast=1.0001090155892292 edge cut = 0.32155077217661876\n"
     ]
    }
   ],
   "source": [
    "assignment = None\n",
    "%time assignment = fennel(edges,NUM_NODES,4,assignment,1.05)\n",
    "%time wast,edge_cut = score(assignment, edges)\n",
    "print('wast='+str(1+wast)+' edge cut = '+str(edge_cut))"
   ]
  },
  {
   "cell_type": "code",
   "execution_count": 37,
   "metadata": {},
   "outputs": [
    {
     "name": "stdout",
     "output_type": "stream",
     "text": [
      "CPU times: user 6.34 ms, sys: 0 ns, total: 6.34 ms\n",
      "Wall time: 6.31 ms\n",
      "CPU times: user 4.62 ms, sys: 0 ns, total: 4.62 ms\n",
      "Wall time: 4.96 ms\n",
      "wast=1.0001090155892292 edge cut = 0.4601944176988647\n"
     ]
    }
   ],
   "source": [
    "assignment = None\n",
    "%time assignment = fennel(edges,NUM_NODES,8,assignment,1.)\n",
    "%time wast,edge_cut = score(assignment, edges)\n",
    "print('wast='+str(1+wast)+' edge cut = '+str(edge_cut))"
   ]
  },
  {
   "cell_type": "code",
   "execution_count": 38,
   "metadata": {},
   "outputs": [
    {
     "name": "stdout",
     "output_type": "stream",
     "text": [
      "CPU times: user 6.46 ms, sys: 0 ns, total: 6.46 ms\n",
      "Wall time: 6.47 ms\n",
      "CPU times: user 2.89 ms, sys: 1.2 ms, total: 4.1 ms\n",
      "Wall time: 4.11 ms\n",
      "wast=1.0001090155892292 edge cut = 0.48191001517698323\n"
     ]
    }
   ],
   "source": [
    "assignment = None\n",
    "%time assignment = fennel(edges,NUM_NODES,8,assignment,1.254228456)\n",
    "%time wast,edge_cut = score(assignment, edges)\n",
    "print('wast='+str(1+wast)+' edge cut = '+str(edge_cut))"
   ]
  },
  {
   "cell_type": "code",
   "execution_count": 39,
   "metadata": {},
   "outputs": [
    {
     "name": "stdout",
     "output_type": "stream",
     "text": [
      "CPU times: user 8.59 ms, sys: 0 ns, total: 8.59 ms\n",
      "Wall time: 9.09 ms\n",
      "CPU times: user 5.04 ms, sys: 0 ns, total: 5.04 ms\n",
      "Wall time: 5.09 ms\n",
      "wast=1.0011991714815218 edge cut = 0.5045014170624106\n"
     ]
    }
   ],
   "source": [
    "assignment = None\n",
    "%time assignment = fennel(edges,NUM_NODES,16,assignment,1.)\n",
    "%time wast,edge_cut = score(assignment, edges)\n",
    "print('wast='+str(1+wast)+' edge cut = '+str(edge_cut))"
   ]
  },
  {
   "cell_type": "code",
   "execution_count": 40,
   "metadata": {},
   "outputs": [
    {
     "name": "stdout",
     "output_type": "stream",
     "text": [
      "CPU times: user 12.3 ms, sys: 0 ns, total: 12.3 ms\n",
      "Wall time: 12.3 ms\n",
      "CPU times: user 5.19 ms, sys: 0 ns, total: 5.19 ms\n",
      "Wall time: 5.2 ms\n",
      "wast=1.0073040444783603 edge cut = 0.569561173033928\n"
     ]
    }
   ],
   "source": [
    "assignment = None\n",
    "%time assignment = fennel(edges,NUM_NODES,32,assignment,1.)\n",
    "%time wast,edge_cut = score(assignment, edges)\n",
    "print('wast='+str(1+wast)+' edge cut = '+str(edge_cut))"
   ]
  },
  {
   "cell_type": "code",
   "execution_count": 41,
   "metadata": {},
   "outputs": [
    {
     "name": "stdout",
     "output_type": "stream",
     "text": [
      "CPU times: user 14.3 ms, sys: 72 µs, total: 14.4 ms\n",
      "Wall time: 16.9 ms\n",
      "CPU times: user 5.3 ms, sys: 0 ns, total: 5.3 ms\n",
      "Wall time: 5.32 ms\n",
      "wast=1.0062138885860679 edge cut = 0.5790807861568505\n"
     ]
    }
   ],
   "source": [
    "assignment = None\n",
    "%time assignment = fennel(edges,NUM_NODES,40,assignment,1.)\n",
    "%time wast,edge_cut = score(assignment, edges)\n",
    "print('wast='+str(1+wast)+' edge cut = '+str(edge_cut))"
   ]
  },
  {
   "cell_type": "code",
   "execution_count": 42,
   "metadata": {},
   "outputs": [
    {
     "name": "stdout",
     "output_type": "stream",
     "text": [
      "CPU times: user 17.5 ms, sys: 0 ns, total: 17.5 ms\n",
      "Wall time: 22 ms\n",
      "CPU times: user 5.63 ms, sys: 0 ns, total: 5.63 ms\n",
      "Wall time: 6.23 ms\n",
      "wast=1.00294342090919 edge cut = 0.6384342140335417\n"
     ]
    }
   ],
   "source": [
    "assignment = None\n",
    "%time assignment = fennel(edges,NUM_NODES,40,assignment,1.15)\n",
    "%time wast,edge_cut = score(assignment, edges)\n",
    "print('wast='+str(1+wast)+' edge cut = '+str(edge_cut))"
   ]
  },
  {
   "cell_type": "code",
   "execution_count": 58,
   "metadata": {
    "collapsed": true
   },
   "outputs": [],
   "source": [
    "def run_fennel_restreaming(edges, num_nodes, num_partitions, num_iterations):\n",
    "    print('{} PARTITIONS'.format(num_partitions))\n",
    "    assignments = None\n",
    "    # We will explore this parameter in a future post. This is sub-optimal\n",
    "    alphas = np.linspace(1.251608191745264e-05, 1.588951557309824e-03, num_iterations)\n",
    "    waste_scores, edge_score_values = [], []\n",
    "    print('ROUND\\tALPHA\\tWASTE\\tSCORE')\n",
    "    for i in range(num_iterations):\n",
    "        alpha = alphas[i]\n",
    "        assignments = fennel(edges, NUM_NODES, num_partitions, assignments, alpha)\n",
    "        (waste, edge_score) = score(assignments, edges)\n",
    "        print('{}\\t{:.1e}\\t{:0.3f}\\t{:0.3f}'.format(i, alpha, waste, edge_score))\n",
    "        waste_scores.append(waste)\n",
    "        edge_score_values.append(edge_score)\n",
    "    draw_figures(waste_scores, edge_score_values, num_partitions)"
   ]
  },
  {
   "cell_type": "markdown",
   "metadata": {},
   "source": [
    "# k = 2"
   ]
  },
  {
   "cell_type": "code",
   "execution_count": 44,
   "metadata": {},
   "outputs": [
    {
     "name": "stdout",
     "output_type": "stream",
     "text": [
      "2 PARTITIONS\n",
      "ROUND\tALPHA\tWASTE\tSCORE\n",
      "0\t1.3e+00\t0.000\t0.253\n",
      "1\t1.6e+00\t0.000\t0.182\n",
      "2\t1.9e+00\t0.000\t0.166\n",
      "3\t2.3e+00\t0.000\t0.154\n",
      "4\t2.6e+00\t0.000\t0.146\n",
      "5\t2.9e+00\t0.000\t0.144\n",
      "6\t3.3e+00\t0.000\t0.143\n",
      "7\t3.6e+00\t0.000\t0.142\n",
      "8\t3.9e+00\t0.000\t0.141\n",
      "9\t4.3e+00\t0.000\t0.141\n",
      "10\t4.6e+00\t0.000\t0.141\n",
      "11\t4.9e+00\t0.000\t0.140\n",
      "12\t5.3e+00\t0.000\t0.140\n",
      "13\t5.6e+00\t0.000\t0.140\n",
      "14\t5.9e+00\t0.000\t0.140\n",
      "15\t6.3e+00\t0.000\t0.140\n",
      "16\t6.6e+00\t0.000\t0.140\n",
      "17\t6.9e+00\t0.000\t0.140\n",
      "18\t7.3e+00\t0.000\t0.140\n",
      "19\t7.6e+00\t0.000\t0.140\n",
      "CPU times: user 370 ms, sys: 61.6 ms, total: 431 ms\n",
      "Wall time: 444 ms\n"
     ]
    },
    {
     "data": {
      "image/png": "[encoded data removed]",
      "text/plain": [
       "<matplotlib.figure.Figure at 0x7f8c3defe630>"
      ]
     },
     "metadata": {},
     "output_type": "display_data"
    }
   ],
   "source": [
    "%time run_fennel_restreaming(edges, NUM_NODES, 2, 20)\n"
   ]
  },
  {
   "cell_type": "code",
   "execution_count": 19,
   "metadata": {},
   "outputs": [
    {
     "name": "stdout",
     "output_type": "stream",
     "text": [
      "2 PARTITIONS\n",
      "ROUND\tALPHA\tWASTE\tSCORE\n",
      "0\t1.3e-07\t0.001\t0.228\n",
      "1\t4.1e-06\t0.001\t0.155\n",
      "2\t8.1e-06\t0.000\t0.145\n",
      "3\t1.2e-05\t0.000\t0.142\n",
      "4\t1.6e-05\t0.000\t0.141\n",
      "5\t2.0e-05\t0.000\t0.141\n",
      "6\t2.4e-05\t0.000\t0.140\n",
      "7\t2.8e-05\t0.000\t0.140\n",
      "8\t3.2e-05\t0.002\t0.137\n",
      "9\t3.6e-05\t0.003\t0.135\n",
      "10\t4.0e-05\t0.001\t0.134\n",
      "11\t4.4e-05\t0.001\t0.134\n",
      "12\t4.8e-05\t0.001\t0.134\n",
      "13\t5.2e-05\t0.002\t0.134\n",
      "14\t5.6e-05\t0.002\t0.134\n",
      "15\t6.0e-05\t0.002\t0.134\n",
      "16\t6.4e-05\t0.002\t0.134\n",
      "17\t6.8e-05\t0.002\t0.134\n",
      "18\t7.2e-05\t0.002\t0.134\n",
      "19\t7.6e-05\t0.002\t0.134\n",
      "CPU times: user 420 ms, sys: 99 ms, total: 519 ms\n",
      "Wall time: 412 ms\n"
     ]
    },
    {
     "data": {
      "image/png": "[encoded data removed]",
      "text/plain": [
       "<matplotlib.figure.Figure at 0x7fbcc9d62390>"
      ]
     },
     "metadata": {},
     "output_type": "display_data"
    }
   ],
   "source": [
    "%time run_fennel_restreaming(edges, NUM_NODES, 2, 20)\n"
   ]
  },
  {
   "cell_type": "markdown",
   "metadata": {},
   "source": [
    "# k = 4"
   ]
  },
  {
   "cell_type": "code",
   "execution_count": 45,
   "metadata": {},
   "outputs": [
    {
     "name": "stdout",
     "output_type": "stream",
     "text": [
      "4 PARTITIONS\n",
      "ROUND\tALPHA\tWASTE\tSCORE\n",
      "0\t1.3e+00\t0.000\t0.371\n",
      "1\t1.6e+00\t0.000\t0.227\n",
      "2\t1.9e+00\t0.000\t0.194\n",
      "3\t2.3e+00\t0.000\t0.183\n",
      "4\t2.6e+00\t0.000\t0.178\n",
      "5\t2.9e+00\t0.000\t0.175\n",
      "6\t3.3e+00\t0.000\t0.173\n",
      "7\t3.6e+00\t0.000\t0.172\n",
      "8\t3.9e+00\t0.000\t0.172\n",
      "9\t4.3e+00\t0.000\t0.171\n",
      "10\t4.6e+00\t0.000\t0.171\n",
      "11\t4.9e+00\t0.000\t0.170\n",
      "12\t5.3e+00\t0.000\t0.170\n",
      "13\t5.6e+00\t0.000\t0.170\n",
      "14\t5.9e+00\t0.000\t0.170\n",
      "15\t6.3e+00\t0.000\t0.170\n",
      "16\t6.6e+00\t0.000\t0.170\n",
      "17\t6.9e+00\t0.000\t0.170\n",
      "18\t7.3e+00\t0.000\t0.170\n",
      "19\t7.6e+00\t0.000\t0.170\n",
      "CPU times: user 501 ms, sys: 219 ms, total: 720 ms\n",
      "Wall time: 526 ms\n"
     ]
    },
    {
     "data": {
      "image/png": "[encoded data removed]",
      "text/plain": [
       "<matplotlib.figure.Figure at 0x7f8c3defec88>"
      ]
     },
     "metadata": {},
     "output_type": "display_data"
    }
   ],
   "source": [
    "%time run_fennel_restreaming(edges, NUM_NODES, 4, 20)\n"
   ]
  },
  {
   "cell_type": "code",
   "execution_count": 24,
   "metadata": {},
   "outputs": [
    {
     "name": "stdout",
     "output_type": "stream",
     "text": [
      "4 PARTITIONS\n",
      "ROUND\tALPHA\tWASTE\tSCORE\n",
      "0\t1.3e-07\t0.531\t0.250\n",
      "1\t4.1e-06\t1.339\t0.073\n",
      "2\t8.1e-06\t1.435\t0.054\n",
      "3\t1.2e-05\t1.457\t0.051\n",
      "4\t1.6e-05\t1.463\t0.049\n",
      "5\t2.0e-05\t1.464\t0.049\n",
      "6\t2.4e-05\t1.464\t0.049\n",
      "7\t2.8e-05\t1.464\t0.049\n",
      "8\t3.2e-05\t1.464\t0.049\n",
      "9\t3.6e-05\t1.464\t0.049\n",
      "10\t4.0e-05\t1.464\t0.049\n",
      "11\t4.4e-05\t1.464\t0.049\n",
      "12\t4.8e-05\t1.464\t0.049\n",
      "13\t5.2e-05\t1.464\t0.049\n",
      "14\t5.6e-05\t1.408\t0.052\n",
      "15\t6.0e-05\t1.342\t0.055\n",
      "16\t6.4e-05\t1.277\t0.058\n",
      "17\t6.8e-05\t1.204\t0.061\n",
      "18\t7.2e-05\t1.136\t0.065\n",
      "19\t7.6e-05\t1.077\t0.067\n",
      "CPU times: user 385 ms, sys: 137 ms, total: 522 ms\n",
      "Wall time: 391 ms\n"
     ]
    },
    {
     "data": {
      "image/png": "[encoded data removed]",
      "text/plain": [
       "<matplotlib.figure.Figure at 0x7fbcc9b87cc0>"
      ]
     },
     "metadata": {},
     "output_type": "display_data"
    }
   ],
   "source": [
    "%time run_fennel_restreaming(edges, NUM_NODES, 4, 20)\n"
   ]
  },
  {
   "cell_type": "markdown",
   "metadata": {},
   "source": [
    "# k= 8"
   ]
  },
  {
   "cell_type": "code",
   "execution_count": 46,
   "metadata": {},
   "outputs": [
    {
     "name": "stdout",
     "output_type": "stream",
     "text": [
      "8 PARTITIONS\n",
      "ROUND\tALPHA\tWASTE\tSCORE\n",
      "0\t1.3e+00\t0.000\t0.460\n",
      "1\t1.6e+00\t0.000\t0.340\n",
      "2\t1.9e+00\t0.000\t0.310\n",
      "3\t2.3e+00\t0.000\t0.294\n",
      "4\t2.6e+00\t0.000\t0.285\n",
      "5\t2.9e+00\t0.000\t0.279\n",
      "6\t3.3e+00\t0.000\t0.273\n",
      "7\t3.6e+00\t0.000\t0.269\n",
      "8\t3.9e+00\t0.000\t0.268\n",
      "9\t4.3e+00\t0.001\t0.267\n",
      "10\t4.6e+00\t0.001\t0.266\n",
      "11\t4.9e+00\t0.000\t0.265\n",
      "12\t5.3e+00\t0.000\t0.265\n",
      "13\t5.6e+00\t0.000\t0.264\n",
      "14\t5.9e+00\t0.000\t0.264\n",
      "15\t6.3e+00\t0.000\t0.263\n",
      "16\t6.6e+00\t0.000\t0.263\n",
      "17\t6.9e+00\t0.000\t0.263\n",
      "18\t7.3e+00\t0.000\t0.263\n",
      "19\t7.6e+00\t0.000\t0.263\n",
      "CPU times: user 394 ms, sys: 85 ms, total: 479 ms\n",
      "Wall time: 376 ms\n"
     ]
    },
    {
     "data": {
      "image/png": "[encoded data removed]",
      "text/plain": [
       "<matplotlib.figure.Figure at 0x7f8c3de61710>"
      ]
     },
     "metadata": {},
     "output_type": "display_data"
    }
   ],
   "source": [
    "%time run_fennel_restreaming(edges, NUM_NODES, 8, 20)\n"
   ]
  },
  {
   "cell_type": "code",
   "execution_count": 25,
   "metadata": {},
   "outputs": [
    {
     "name": "stdout",
     "output_type": "stream",
     "text": [
      "8 PARTITIONS\n",
      "ROUND\tALPHA\tWASTE\tSCORE\n",
      "0\t1.3e-07\t0.251\t0.422\n",
      "1\t4.1e-06\t0.843\t0.263\n",
      "2\t8.1e-06\t0.943\t0.236\n",
      "3\t1.2e-05\t1.015\t0.223\n",
      "4\t1.6e-05\t1.081\t0.210\n",
      "5\t2.0e-05\t1.115\t0.205\n",
      "6\t2.4e-05\t1.123\t0.203\n",
      "7\t2.8e-05\t1.126\t0.203\n",
      "8\t3.2e-05\t1.129\t0.203\n",
      "9\t3.6e-05\t1.130\t0.202\n",
      "10\t4.0e-05\t1.130\t0.202\n",
      "11\t4.4e-05\t1.130\t0.202\n",
      "12\t4.8e-05\t1.130\t0.202\n",
      "13\t5.2e-05\t1.130\t0.202\n",
      "14\t5.6e-05\t1.130\t0.202\n",
      "15\t6.0e-05\t1.130\t0.202\n",
      "16\t6.4e-05\t1.130\t0.202\n",
      "17\t6.8e-05\t1.130\t0.202\n",
      "18\t7.2e-05\t1.130\t0.202\n",
      "19\t7.6e-05\t1.130\t0.202\n",
      "CPU times: user 388 ms, sys: 120 ms, total: 508 ms\n",
      "Wall time: 379 ms\n"
     ]
    },
    {
     "data": {
      "image/png": "[encoded data removed]",
      "text/plain": [
       "<matplotlib.figure.Figure at 0x7fbcc99f34e0>"
      ]
     },
     "metadata": {},
     "output_type": "display_data"
    }
   ],
   "source": [
    "%time run_fennel_restreaming(edges, NUM_NODES, 8, 20)\n"
   ]
  },
  {
   "cell_type": "markdown",
   "metadata": {},
   "source": [
    "# k= 16"
   ]
  },
  {
   "cell_type": "code",
   "execution_count": 47,
   "metadata": {},
   "outputs": [
    {
     "name": "stdout",
     "output_type": "stream",
     "text": [
      "16 PARTITIONS\n",
      "ROUND\tALPHA\tWASTE\tSCORE\n",
      "0\t1.3e+00\t0.001\t0.505\n",
      "1\t1.6e+00\t0.003\t0.384\n",
      "2\t1.9e+00\t0.003\t0.365\n",
      "3\t2.3e+00\t0.003\t0.357\n",
      "4\t2.6e+00\t0.003\t0.353\n",
      "5\t2.9e+00\t0.003\t0.351\n",
      "6\t3.3e+00\t0.003\t0.350\n",
      "7\t3.6e+00\t0.003\t0.349\n",
      "8\t3.9e+00\t0.003\t0.348\n",
      "9\t4.3e+00\t0.003\t0.348\n",
      "10\t4.6e+00\t0.003\t0.348\n",
      "11\t4.9e+00\t0.003\t0.347\n",
      "12\t5.3e+00\t0.003\t0.347\n",
      "13\t5.6e+00\t0.003\t0.347\n",
      "14\t5.9e+00\t0.003\t0.347\n",
      "15\t6.3e+00\t0.003\t0.347\n",
      "16\t6.6e+00\t0.003\t0.347\n",
      "17\t6.9e+00\t0.003\t0.347\n",
      "18\t7.3e+00\t0.003\t0.347\n",
      "19\t7.6e+00\t0.003\t0.346\n",
      "CPU times: user 435 ms, sys: 88.1 ms, total: 523 ms\n",
      "Wall time: 407 ms\n"
     ]
    },
    {
     "data": {
      "image/png": "[encoded data removed]",
      "text/plain": [
       "<matplotlib.figure.Figure at 0x7f8c3ddd2588>"
      ]
     },
     "metadata": {},
     "output_type": "display_data"
    }
   ],
   "source": [
    "%time run_fennel_restreaming(edges, NUM_NODES, 16, 20)\n"
   ]
  },
  {
   "cell_type": "code",
   "execution_count": 42,
   "metadata": {},
   "outputs": [
    {
     "name": "stdout",
     "output_type": "stream",
     "text": [
      "16 PARTITIONS\n",
      "ROUND\tALPHA\tWASTE\tSCORE\n",
      "0\t1.3e-05\t1.071\t0.444\n",
      "1\t9.5e-05\t2.907\t0.279\n",
      "2\t1.8e-04\t2.163\t0.266\n",
      "3\t2.6e-04\t2.208\t0.251\n",
      "4\t3.4e-04\t2.257\t0.240\n",
      "5\t4.3e-04\t2.154\t0.226\n",
      "6\t5.1e-04\t2.344\t0.196\n",
      "7\t5.9e-04\t2.028\t0.202\n",
      "8\t6.8e-04\t1.995\t0.202\n",
      "9\t7.6e-04\t1.984\t0.201\n",
      "10\t8.4e-04\t1.907\t0.203\n",
      "11\t9.3e-04\t1.724\t0.208\n",
      "12\t1.0e-03\t1.589\t0.213\n",
      "13\t1.1e-03\t1.558\t0.214\n",
      "14\t1.2e-03\t1.550\t0.214\n",
      "15\t1.3e-03\t1.547\t0.214\n",
      "16\t1.3e-03\t1.486\t0.218\n",
      "17\t1.4e-03\t1.388\t0.223\n",
      "18\t1.5e-03\t1.326\t0.226\n",
      "19\t1.6e-03\t1.260\t0.230\n",
      "CPU times: user 374 ms, sys: 88.9 ms, total: 463 ms\n",
      "Wall time: 356 ms\n"
     ]
    },
    {
     "data": {
      "image/png": "[encoded data removed]",
      "text/plain": [
       "<matplotlib.figure.Figure at 0x7fbcc9a82be0>"
      ]
     },
     "metadata": {},
     "output_type": "display_data"
    }
   ],
   "source": [
    "%time run_fennel_restreaming(edges, NUM_NODES, 16, 20)\n"
   ]
  },
  {
   "cell_type": "markdown",
   "metadata": {},
   "source": [
    "# k=32"
   ]
  },
  {
   "cell_type": "code",
   "execution_count": 48,
   "metadata": {},
   "outputs": [
    {
     "name": "stdout",
     "output_type": "stream",
     "text": [
      "32 PARTITIONS\n",
      "ROUND\tALPHA\tWASTE\tSCORE\n",
      "0\t1.3e+00\t0.007\t0.570\n",
      "1\t1.6e+00\t0.011\t0.462\n",
      "2\t1.9e+00\t0.008\t0.437\n",
      "3\t2.3e+00\t0.007\t0.428\n",
      "4\t2.6e+00\t0.008\t0.423\n",
      "5\t2.9e+00\t0.008\t0.421\n",
      "6\t3.3e+00\t0.007\t0.420\n",
      "7\t3.6e+00\t0.008\t0.419\n",
      "8\t3.9e+00\t0.008\t0.418\n",
      "9\t4.3e+00\t0.008\t0.418\n",
      "10\t4.6e+00\t0.008\t0.417\n",
      "11\t4.9e+00\t0.008\t0.417\n",
      "12\t5.3e+00\t0.008\t0.417\n",
      "13\t5.6e+00\t0.009\t0.417\n",
      "14\t5.9e+00\t0.009\t0.417\n",
      "15\t6.3e+00\t0.009\t0.417\n",
      "16\t6.6e+00\t0.009\t0.417\n",
      "17\t6.9e+00\t0.009\t0.417\n",
      "18\t7.3e+00\t0.009\t0.417\n",
      "19\t7.6e+00\t0.009\t0.417\n",
      "CPU times: user 449 ms, sys: 81.1 ms, total: 530 ms\n",
      "Wall time: 418 ms\n"
     ]
    },
    {
     "data": {
      "image/png": "[encoded data removed]",
      "text/plain": [
       "<matplotlib.figure.Figure at 0x7f8c3deac320>"
      ]
     },
     "metadata": {},
     "output_type": "display_data"
    }
   ],
   "source": [
    "%time run_fennel_restreaming(edges, NUM_NODES, 32, 20)\n"
   ]
  },
  {
   "cell_type": "code",
   "execution_count": 43,
   "metadata": {},
   "outputs": [
    {
     "name": "stdout",
     "output_type": "stream",
     "text": [
      "32 PARTITIONS\n",
      "ROUND\tALPHA\tWASTE\tSCORE\n",
      "0\t1.3e-05\t6.006\t0.400\n",
      "1\t9.5e-05\t9.301\t0.177\n",
      "2\t1.8e-04\t8.917\t0.150\n",
      "3\t2.6e-04\t7.684\t0.155\n",
      "4\t3.4e-04\t7.240\t0.158\n",
      "5\t4.3e-04\t6.250\t0.175\n",
      "6\t5.1e-04\t6.126\t0.176\n",
      "7\t5.9e-04\t5.539\t0.189\n",
      "8\t6.8e-04\t4.929\t0.202\n",
      "9\t7.6e-04\t4.783\t0.205\n",
      "10\t8.4e-04\t4.754\t0.206\n",
      "11\t9.3e-04\t4.441\t0.214\n",
      "12\t1.0e-03\t4.098\t0.224\n",
      "13\t1.1e-03\t3.845\t0.231\n",
      "14\t1.2e-03\t3.798\t0.233\n",
      "15\t1.3e-03\t3.786\t0.233\n",
      "16\t1.3e-03\t3.716\t0.235\n",
      "17\t1.4e-03\t3.441\t0.244\n",
      "18\t1.5e-03\t3.293\t0.248\n",
      "19\t1.6e-03\t3.132\t0.253\n",
      "CPU times: user 439 ms, sys: 107 ms, total: 546 ms\n",
      "Wall time: 439 ms\n"
     ]
    },
    {
     "data": {
      "image/png": "[encoded data removed]",
      "text/plain": [
       "<matplotlib.figure.Figure at 0x7fbccc379d30>"
      ]
     },
     "metadata": {},
     "output_type": "display_data"
    }
   ],
   "source": [
    "%time run_fennel_restreaming(edges, NUM_NODES, 32, 20)\n"
   ]
  },
  {
   "cell_type": "code",
   "execution_count": 59,
   "metadata": {},
   "outputs": [
    {
     "name": "stdout",
     "output_type": "stream",
     "text": [
      "32 PARTITIONS\n",
      "ROUND\tALPHA\tWASTE\tSCORE\n",
      "0\t1.3e-05\t6.006\t0.400\n",
      "1\t6.7e-05\t12.535\t0.154\n",
      "2\t1.2e-04\t9.370\t0.143\n",
      "3\t1.8e-04\t9.562\t0.131\n",
      "4\t2.3e-04\t8.088\t0.146\n",
      "5\t2.8e-04\t7.996\t0.146\n",
      "6\t3.4e-04\t7.312\t0.157\n",
      "7\t3.9e-04\t6.390\t0.172\n",
      "8\t4.5e-04\t6.282\t0.173\n",
      "9\t5.0e-04\t6.224\t0.174\n",
      "10\t5.6e-04\t5.948\t0.180\n",
      "11\t6.1e-04\t5.404\t0.192\n",
      "12\t6.6e-04\t5.004\t0.200\n",
      "13\t7.2e-04\t4.852\t0.203\n",
      "14\t7.7e-04\t4.821\t0.204\n",
      "15\t8.3e-04\t4.814\t0.204\n",
      "16\t8.8e-04\t4.703\t0.207\n",
      "17\t9.4e-04\t4.371\t0.216\n",
      "18\t9.9e-04\t4.184\t0.221\n",
      "19\t1.0e-03\t3.978\t0.227\n",
      "20\t1.1e-03\t3.849\t0.230\n",
      "21\t1.2e-03\t3.818\t0.231\n",
      "22\t1.2e-03\t3.812\t0.231\n",
      "23\t1.3e-03\t3.809\t0.231\n",
      "24\t1.3e-03\t3.810\t0.231\n",
      "25\t1.4e-03\t3.563\t0.239\n",
      "26\t1.4e-03\t3.481\t0.241\n",
      "27\t1.5e-03\t3.353\t0.245\n",
      "28\t1.5e-03\t3.243\t0.248\n",
      "29\t1.6e-03\t3.140\t0.251\n",
      "CPU times: user 681 ms, sys: 130 ms, total: 811 ms\n",
      "Wall time: 681 ms\n"
     ]
    },
    {
     "data": {
      "image/png": "[encoded data removed]",
      "text/plain": [
       "<matplotlib.figure.Figure at 0x7fbcc9bcf6a0>"
      ]
     },
     "metadata": {},
     "output_type": "display_data"
    }
   ],
   "source": [
    "%time run_fennel_restreaming(edges, NUM_NODES, 32, 30)\n"
   ]
  },
  {
   "cell_type": "code",
   "execution_count": 120,
   "metadata": {},
   "outputs": [
    {
     "data": {
      "text/plain": [
       "array([1.25160819e-07])"
      ]
     },
     "execution_count": 120,
     "metadata": {},
     "output_type": "execute_result"
    }
   ],
   "source": [
    "alphas"
   ]
  },
  {
   "cell_type": "code",
   "execution_count": null,
   "metadata": {
    "collapsed": true
   },
   "outputs": [],
   "source": []
  }
 ],
 "metadata": {
  "kernelspec": {
   "display_name": "Python 3",
   "language": "python",
   "name": "python3"
  },
  "language_info": {
   "codemirror_mode": {
    "name": "ipython",
    "version": 3
   },
   "file_extension": ".py",
   "mimetype": "text/x-python",
   "name": "python",
   "nbconvert_exporter": "python",
   "pygments_lexer": "ipython3",
   "version": "3.6.1"
  }
 },
 "nbformat": 4,
 "nbformat_minor": 2
}
